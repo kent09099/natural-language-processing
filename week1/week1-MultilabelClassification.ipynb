{
 "cells": [
  {
   "cell_type": "markdown",
   "metadata": {},
   "source": [
    "# Predict tags on StackOverflow with linear models"
   ]
  },
  {
   "cell_type": "markdown",
   "metadata": {},
   "source": [
    "In this assignment you will learn how to predict tags for posts from [StackOverflow](https://stackoverflow.com). To solve this task you will use multilabel classification approach.\n",
    "\n",
    "### Libraries\n",
    "\n",
    "In this task you will need the following libraries:\n",
    "- [Numpy](http://www.numpy.org) — a package for scientific computing.\n",
    "- [Pandas](https://pandas.pydata.org) — a library providing high-performance, easy-to-use data structures and data analysis tools for the Python\n",
    "- [scikit-learn](http://scikit-learn.org/stable/index.html) — a tool for data mining and data analysis.\n",
    "- [NLTK](http://www.nltk.org) — a platform to work with natural language."
   ]
  },
  {
   "cell_type": "markdown",
   "metadata": {},
   "source": [
    "### Data\n",
    "\n",
    "The following cell will download all data required for this assignment into the folder `week1/data`."
   ]
  },
  {
   "cell_type": "code",
   "execution_count": 69,
   "metadata": {},
   "outputs": [
    {
     "name": "stdout",
     "output_type": "stream",
     "text": [
      "File data/train.tsv is already downloaded.\n",
      "File data/validation.tsv is already downloaded.\n",
      "File data/test.tsv is already downloaded.\n",
      "File data/text_prepare_tests.tsv is already downloaded.\n"
     ]
    }
   ],
   "source": [
    "try:\n",
    "    import google.colab\n",
    "    IN_COLAB = True\n",
    "except:\n",
    "    IN_COLAB = False\n",
    "\n",
    "if IN_COLAB:\n",
    "    ! wget https://raw.githubusercontent.com/hse-aml/natural-language-processing/master/setup_google_colab.py -O setup_google_colab.py\n",
    "    import setup_google_colab\n",
    "    setup_google_colab.setup_week1() \n",
    "    \n",
    "import sys\n",
    "sys.path.append(\"..\")\n",
    "from common.download_utils import download_week1_resources\n",
    "\n",
    "download_week1_resources()"
   ]
  },
  {
   "cell_type": "markdown",
   "metadata": {},
   "source": [
    "### Grading\n",
    "We will create a grader instance below and use it to collect your answers. Note that these outputs will be stored locally inside grader and will be uploaded to platform only after running submitting function in the last part of this assignment. If you want to make partial submission, you can run that cell any time you want."
   ]
  },
  {
   "cell_type": "code",
   "execution_count": 71,
   "metadata": {
    "collapsed": true
   },
   "outputs": [],
   "source": [
    "from grader import Grader"
   ]
  },
  {
   "cell_type": "code",
   "execution_count": 73,
   "metadata": {
    "collapsed": true
   },
   "outputs": [],
   "source": [
    "grader = Grader()"
   ]
  },
  {
   "cell_type": "markdown",
   "metadata": {},
   "source": [
    "### Text preprocessing"
   ]
  },
  {
   "cell_type": "markdown",
   "metadata": {},
   "source": [
    "For this and most of the following assignments you will need to use a list of stop words. It can be downloaded from *nltk*:"
   ]
  },
  {
   "cell_type": "code",
   "execution_count": 75,
   "metadata": {
    "collapsed": true
   },
   "outputs": [
    {
     "name": "stderr",
     "output_type": "stream",
     "text": [
      "[nltk_data] Downloading package stopwords to\n",
      "[nltk_data]     /Users/toshimakento/nltk_data...\n",
      "[nltk_data]   Package stopwords is already up-to-date!\n"
     ]
    }
   ],
   "source": [
    "import nltk\n",
    "nltk.download('stopwords')\n",
    "from nltk.corpus import stopwords"
   ]
  },
  {
   "cell_type": "markdown",
   "metadata": {},
   "source": [
    "In this task you will deal with a dataset of post titles from StackOverflow. You are provided a split to 3 sets: *train*, *validation* and *test*. All corpora (except for *test*) contain titles of the posts and corresponding tags (100 tags are available). The *test* set is provided for Coursera's grading and doesn't contain answers. Upload the corpora using *pandas* and look at the data:"
   ]
  },
  {
   "cell_type": "code",
   "execution_count": 77,
   "metadata": {
    "collapsed": true
   },
   "outputs": [],
   "source": [
    "from ast import literal_eval\n",
    "import pandas as pd\n",
    "import numpy as np"
   ]
  },
  {
   "cell_type": "code",
   "execution_count": 79,
   "metadata": {
    "collapsed": true
   },
   "outputs": [],
   "source": [
    "def read_data(filename):\n",
    "    data = pd.read_csv(filename, sep='\\t')\n",
    "    data['tags'] = data['tags'].apply(literal_eval)\n",
    "    return data"
   ]
  },
  {
   "cell_type": "code",
   "execution_count": 81,
   "metadata": {
    "collapsed": true
   },
   "outputs": [],
   "source": [
    "train = read_data('data/train.tsv')\n",
    "validation = read_data('data/validation.tsv')\n",
    "test = pd.read_csv('data/test.tsv', sep='\\t')"
   ]
  },
  {
   "cell_type": "code",
   "execution_count": 83,
   "metadata": {
    "collapsed": true
   },
   "outputs": [
    {
     "data": {
      "text/html": [
       "<div>\n",
       "<style scoped>\n",
       "    .dataframe tbody tr th:only-of-type {\n",
       "        vertical-align: middle;\n",
       "    }\n",
       "\n",
       "    .dataframe tbody tr th {\n",
       "        vertical-align: top;\n",
       "    }\n",
       "\n",
       "    .dataframe thead th {\n",
       "        text-align: right;\n",
       "    }\n",
       "</style>\n",
       "<table border=\"1\" class=\"dataframe\">\n",
       "  <thead>\n",
       "    <tr style=\"text-align: right;\">\n",
       "      <th></th>\n",
       "      <th>title</th>\n",
       "      <th>tags</th>\n",
       "    </tr>\n",
       "  </thead>\n",
       "  <tbody>\n",
       "    <tr>\n",
       "      <th>0</th>\n",
       "      <td>How to draw a stacked dotplot in R?</td>\n",
       "      <td>[r]</td>\n",
       "    </tr>\n",
       "    <tr>\n",
       "      <th>1</th>\n",
       "      <td>mysql select all records where a datetime fiel...</td>\n",
       "      <td>[php, mysql]</td>\n",
       "    </tr>\n",
       "    <tr>\n",
       "      <th>2</th>\n",
       "      <td>How to terminate windows phone 8.1 app</td>\n",
       "      <td>[c#]</td>\n",
       "    </tr>\n",
       "    <tr>\n",
       "      <th>3</th>\n",
       "      <td>get current time in a specific country via jquery</td>\n",
       "      <td>[javascript, jquery]</td>\n",
       "    </tr>\n",
       "    <tr>\n",
       "      <th>4</th>\n",
       "      <td>Configuring Tomcat to Use SSL</td>\n",
       "      <td>[java]</td>\n",
       "    </tr>\n",
       "  </tbody>\n",
       "</table>\n",
       "</div>"
      ],
      "text/plain": [
       "                                               title                  tags\n",
       "0                How to draw a stacked dotplot in R?                   [r]\n",
       "1  mysql select all records where a datetime fiel...          [php, mysql]\n",
       "2             How to terminate windows phone 8.1 app                  [c#]\n",
       "3  get current time in a specific country via jquery  [javascript, jquery]\n",
       "4                      Configuring Tomcat to Use SSL                [java]"
      ]
     },
     "execution_count": 83,
     "metadata": {},
     "output_type": "execute_result"
    }
   ],
   "source": [
    "train.head()"
   ]
  },
  {
   "cell_type": "markdown",
   "metadata": {},
   "source": [
    "As you can see, *title* column contains titles of the posts and *tags* column contains the tags. It could be noticed that a number of tags for a post is not fixed and could be as many as necessary."
   ]
  },
  {
   "cell_type": "markdown",
   "metadata": {},
   "source": [
    "For a more comfortable usage, initialize *X_train*, *X_val*, *X_test*, *y_train*, *y_val*."
   ]
  },
  {
   "cell_type": "code",
   "execution_count": 121,
   "metadata": {
    "collapsed": true
   },
   "outputs": [],
   "source": [
    "X_train, y_train = train['title'].values, train['tags'].values\n",
    "X_val, y_val = validation['title'].values, validation['tags'].values\n",
    "X_test = test['title'].values"
   ]
  },
  {
   "cell_type": "markdown",
   "metadata": {},
   "source": [
    "One of the most known difficulties when working with natural data is that it's unstructured. For example, if you use it \"as is\" and extract tokens just by splitting the titles by whitespaces, you will see that there are many \"weird\" tokens like *3.5?*, *\"Flip*, etc. To prevent the problems, it's usually useful to prepare the data somehow. In this task you'll write a function, which will be also used in the other assignments. \n",
    "\n",
    "**Task 1 (TextPrepare).** Implement the function *text_prepare* following the instructions. After that, run the function *test_text_prepare* to test it on tiny cases and submit it to Coursera."
   ]
  },
  {
   "cell_type": "code",
   "execution_count": 122,
   "metadata": {
    "collapsed": true
   },
   "outputs": [],
   "source": [
    "import re"
   ]
  },
  {
   "cell_type": "code",
   "execution_count": 123,
   "metadata": {
    "collapsed": true
   },
   "outputs": [],
   "source": [
    "REPLACE_BY_SPACE_RE = re.compile('[/(){}\\[\\]\\|@,;]')\n",
    "BAD_SYMBOLS_RE = re.compile('[^0-9a-z #+_]')\n",
    "STOPWORDS = set(stopwords.words('english'))\n",
    "\n",
    "def text_prepare(text):\n",
    "    \"\"\"\n",
    "        text: a string\n",
    "        \n",
    "        return: modified initial string\n",
    "    \"\"\"\n",
    "    text = text.lower() # lowercase text\n",
    "    text = REPLACE_BY_SPACE_RE.sub(' ', text) # replace REPLACE_BY_SPACE_RE symbols by space in text\n",
    "    text = BAD_SYMBOLS_RE.sub('', text)# delete symbols which are in BAD_SYMBOLS_RE from text\n",
    "\n",
    "    word_list = text.split()\n",
    "    # print(word_list)\n",
    "    # for word in word_list:\n",
    "    #     print(word)\n",
    "    #     if word in STOPWORDS:\n",
    "    #         word_list.remove(word)\n",
    "    #     print(word_list)\n",
    "    stp_words_in_txt = list(set(word_list) & STOPWORDS)\n",
    "    for word in stp_words_in_txt:\n",
    "        word_list.remove(word)\n",
    "    text = ' '.join(word_list)# delete stopwords from text\n",
    "    return text"
   ]
  },
  {
   "cell_type": "code",
   "execution_count": 124,
   "metadata": {},
   "outputs": [
    {
     "data": {
      "text/plain": [
       "'free c++ memory vectorint arr'"
      ]
     },
     "execution_count": 124,
     "metadata": {},
     "output_type": "execute_result"
    }
   ],
   "source": [
    "examples = \"How to free c++ memory vector<int> * arr?\"\n",
    "text_prepare(examples)"
   ]
  },
  {
   "cell_type": "code",
   "execution_count": 125,
   "metadata": {
    "collapsed": true
   },
   "outputs": [],
   "source": [
    "def test_text_prepare():\n",
    "    examples = [\"SQL Server - any equivalent of Excel's CHOOSE function?\",\n",
    "                \"How to free c++ memory vector<int> * arr?\"]\n",
    "    answers = [\"sql server equivalent excels choose function\", \n",
    "               \"free c++ memory vectorint arr\"]\n",
    "    for ex, ans in zip(examples, answers):\n",
    "        if text_prepare(ex) != ans:\n",
    "            return \"Wrong answer for the case: '%s'\" % ex\n",
    "    return 'Basic tests are passed.'"
   ]
  },
  {
   "cell_type": "code",
   "execution_count": 126,
   "metadata": {
    "collapsed": true
   },
   "outputs": [
    {
     "name": "stdout",
     "output_type": "stream",
     "text": [
      "Basic tests are passed.\n"
     ]
    }
   ],
   "source": [
    "print(test_text_prepare())"
   ]
  },
  {
   "cell_type": "markdown",
   "metadata": {},
   "source": [
    "Run your implementation for questions from file *text_prepare_tests.tsv* to earn the points."
   ]
  },
  {
   "cell_type": "code",
   "execution_count": 127,
   "metadata": {
    "collapsed": true
   },
   "outputs": [
    {
     "name": "stdout",
     "output_type": "stream",
     "text": [
      "Current answer for task TextPrepare is:\n",
      " sqlite php readonly\n",
      "creating multiple textboxes dynamically\n",
      "self one prefer javascript\n",
      "save php date...\n"
     ]
    }
   ],
   "source": [
    "prepared_questions = []\n",
    "for line in open('data/text_prepare_tests.tsv', encoding='utf-8'):\n",
    "    line = text_prepare(line.strip())\n",
    "    prepared_questions.append(line)\n",
    "text_prepare_results = '\\n'.join(prepared_questions)\n",
    "\n",
    "grader.submit_tag('TextPrepare', text_prepare_results)"
   ]
  },
  {
   "cell_type": "markdown",
   "metadata": {},
   "source": [
    "Now we can preprocess the titles using function *text_prepare* and  making sure that the headers don't have bad symbols:"
   ]
  },
  {
   "cell_type": "code",
   "execution_count": 128,
   "metadata": {
    "collapsed": true
   },
   "outputs": [],
   "source": [
    "X_train = [text_prepare(x) for x in X_train]\n",
    "X_val = [text_prepare(x) for x in X_val]\n",
    "X_test = [text_prepare(x) for x in X_test]"
   ]
  },
  {
   "cell_type": "code",
   "execution_count": 129,
   "metadata": {
    "collapsed": true
   },
   "outputs": [
    {
     "data": {
      "text/plain": [
       "array([list(['r']), list(['php', 'mysql']), list(['c#'])], dtype=object)"
      ]
     },
     "execution_count": 129,
     "metadata": {},
     "output_type": "execute_result"
    }
   ],
   "source": [
    "y_train[:3]"
   ]
  },
  {
   "cell_type": "markdown",
   "metadata": {},
   "source": [
    "For each tag and for each word calculate how many times they occur in the train corpus. \n",
    "\n",
    "**Task 2 (WordsTagsCount).** Find 3 most popular tags and 3 most popular words in the train data and submit the results to earn the points."
   ]
  },
  {
   "cell_type": "code",
   "execution_count": 130,
   "metadata": {
    "collapsed": true,
    "tags": []
   },
   "outputs": [],
   "source": [
    "# Dictionary of all tags from train corpus with their counts.\n",
    "tags_counts = {}\n",
    "for tags in y_train:\n",
    "    for tag in tags:\n",
    "        #print(tag)\n",
    "        if tag in tags_counts:\n",
    "            tags_counts[tag] += 1\n",
    "        else:\n",
    "            tags_counts[tag] = 1\n",
    "\n",
    "# Dictionary of all words from train corpus with their counts.\n",
    "words_counts = {}\n",
    "#print(X_train[:5])\n",
    "for text in X_train:\n",
    "    words = text.split()\n",
    "    for word in words:\n",
    "        if word in words_counts:\n",
    "            words_counts[word] += 1\n",
    "        else:\n",
    "            words_counts[word] = 1\n",
    "\n",
    "\n",
    "tags_counts_sorted = sorted(tags_counts.items(), key=lambda x: x[1], reverse=True)\n",
    "words_count_sorted = sorted(words_counts.items(), key=lambda x: x[1], reverse=True)\n",
    "\n",
    "######################################\n",
    "######### YOUR CODE HERE #############\n",
    "######################################"
   ]
  },
  {
   "cell_type": "code",
   "execution_count": 132,
   "metadata": {},
   "outputs": [
    {
     "name": "stdout",
     "output_type": "stream",
     "text": [
      "[('javascript', 19078), ('c#', 19077), ('java', 18661), ('php', 13907), ('python', 8940)]\n",
      "[('using', 8278), ('php', 5614), ('java', 5501), ('file', 5055), ('javascript', 4746)]\n"
     ]
    }
   ],
   "source": [
    "\n",
    "print(tags_counts_sorted[:5])\n",
    "print(words_count_sorted[:5])"
   ]
  },
  {
   "cell_type": "markdown",
   "metadata": {},
   "source": [
    "We are assuming that *tags_counts* and *words_counts* are dictionaries like `{'some_word_or_tag': frequency}`. After applying the sorting procedure, results will be look like this: `[('most_popular_word_or_tag', frequency), ('less_popular_word_or_tag', frequency), ...]`. The grader gets the results in the following format (two comma-separated strings with line break):\n",
    "\n",
    "    tag1,tag2,tag3\n",
    "    word1,word2,word3\n",
    "\n",
    "Pay attention that in this assignment you should not submit frequencies or some additional information."
   ]
  },
  {
   "cell_type": "code",
   "execution_count": 133,
   "metadata": {
    "collapsed": true
   },
   "outputs": [
    {
     "name": "stdout",
     "output_type": "stream",
     "text": [
      "Current answer for task WordsTagsCount is:\n",
      " javascript,c#,java\n",
      "using,php,java...\n"
     ]
    }
   ],
   "source": [
    "most_common_tags = sorted(tags_counts.items(), key=lambda x: x[1], reverse=True)[:3]\n",
    "most_common_words = sorted(words_counts.items(), key=lambda x: x[1], reverse=True)[:3]\n",
    "\n",
    "grader.submit_tag('WordsTagsCount', '%s\\n%s' % (','.join(tag for tag, _ in most_common_tags), \n",
    "                                                ','.join(word for word, _ in most_common_words)))\n",
    "                                    "
   ]
  },
  {
   "cell_type": "code",
   "execution_count": 61,
   "metadata": {},
   "outputs": [
    {
     "name": "stdout",
     "output_type": "stream",
     "text": [
      "[('using', 8278), ('php', 5614), ('java', 5501)]\n",
      "[('javascript', 19078), ('c#', 19077), ('java', 18661)]\n"
     ]
    }
   ],
   "source": [
    "print(most_common_words)\n",
    "print(most_common_tags)"
   ]
  },
  {
   "cell_type": "markdown",
   "metadata": {},
   "source": [
    "### Transforming text to a vector\n",
    "\n",
    "Machine Learning algorithms work with numeric data and we cannot use the provided text data \"as is\". There are many ways to transform text data to numeric vectors. In this task you will try to use two of them.\n",
    "\n",
    "#### Bag of words\n",
    "\n",
    "One of the well-known approaches is a *bag-of-words* representation. To create this transformation, follow the steps:\n",
    "1. Find *N* most popular words in train corpus and numerate them. Now we have a dictionary of the most popular words.\n",
    "2. For each title in the corpora create a zero vector with the dimension equals to *N*.\n",
    "3. For each text in the corpora iterate over words which are in the dictionary and increase by 1 the corresponding coordinate.\n",
    "\n",
    "Let's try to do it for a toy example. Imagine that we have *N* = 4 and the list of the most popular words is \n",
    "\n",
    "    ['hi', 'you', 'me', 'are']\n",
    "\n",
    "Then we need to numerate them, for example, like this: \n",
    "\n",
    "    {'hi': 0, 'you': 1, 'me': 2, 'are': 3}\n",
    "\n",
    "And we have the text, which we want to transform to the vector:\n",
    "\n",
    "    'hi how are you'\n",
    "\n",
    "For this text we create a corresponding zero vector \n",
    "\n",
    "    [0, 0, 0, 0]\n",
    "    \n",
    "And iterate over all words, and if the word is in the dictionary, we increase the value of the corresponding position in the vector:\n",
    "\n",
    "    'hi':  [1, 0, 0, 0]\n",
    "    'how': [1, 0, 0, 0] # word 'how' is not in our dictionary\n",
    "    'are': [1, 0, 0, 1]\n",
    "    'you': [1, 1, 0, 1]\n",
    "\n",
    "The resulting vector will be \n",
    "\n",
    "    [1, 1, 0, 1]\n",
    "   \n",
    "Implement the described encoding in the function *my_bag_of_words* with the size of the dictionary equals to 5000. To find the most common words use train data. You can test your code using the function *test_my_bag_of_words*."
   ]
  },
  {
   "cell_type": "code",
   "execution_count": 62,
   "metadata": {
    "collapsed": true
   },
   "outputs": [],
   "source": [
    "DICT_SIZE = 5000\n",
    "WORDS_TO_INDEX = {} ####### YOUR CODE HERE #######\n",
    "for index, word in enumerate(words_count_sorted):\n",
    "    WORDS_TO_INDEX[word[0]] = index\n",
    "INDEX_TO_WORDS = {} ####### YOUR CODE HERE #######\n",
    "for index, word in enumerate(words_count_sorted):\n",
    "    INDEX_TO_WORDS[index] = word[0]\n",
    "\n",
    "ALL_WORDS = WORDS_TO_INDEX.keys()\n",
    "\n",
    "def my_bag_of_words(text, words_to_index, dict_size):\n",
    "    \"\"\"\n",
    "        text: a string\n",
    "        dict_size: size of the dictionary\n",
    "        \n",
    "        return a vector which is a bag-of-words representation of 'text'\n",
    "    \"\"\"\n",
    "    result_vector = np.zeros(dict_size)\n",
    "    ######################################\n",
    "    ######### YOUR CODE HERE #############\n",
    "    ######################################\n",
    "    word_list = text.split()\n",
    "    for word in word_list:\n",
    "        if word in words_to_index:\n",
    "            if words_to_index[word] < dict_size:\n",
    "                result_vector[words_to_index[word]] += 1\n",
    "    return result_vector"
   ]
  },
  {
   "cell_type": "code",
   "execution_count": 63,
   "metadata": {},
   "outputs": [],
   "source": [
    "# WORDS_TO_INDEX"
   ]
  },
  {
   "cell_type": "code",
   "execution_count": 64,
   "metadata": {
    "collapsed": true
   },
   "outputs": [],
   "source": [
    "def test_my_bag_of_words():\n",
    "    words_to_index = {'hi': 0, 'you': 1, 'me': 2, 'are': 3}\n",
    "    examples = ['hi how are you']\n",
    "    answers = [[1, 1, 0, 1]]\n",
    "    for ex, ans in zip(examples, answers):\n",
    "        if (my_bag_of_words(ex, words_to_index, 4) != ans).any():\n",
    "            return \"Wrong answer for the case: '%s'\" % ex\n",
    "    return 'Basic tests are passed.'"
   ]
  },
  {
   "cell_type": "code",
   "execution_count": 65,
   "metadata": {},
   "outputs": [
    {
     "data": {
      "text/plain": [
       "array([1., 1., 0., 1.])"
      ]
     },
     "execution_count": 65,
     "metadata": {},
     "output_type": "execute_result"
    }
   ],
   "source": [
    "my_bag_of_words('hi how are you', {'hi': 0, 'you': 1, 'me': 2, 'are': 3}, 4)"
   ]
  },
  {
   "cell_type": "code",
   "execution_count": 66,
   "metadata": {
    "collapsed": true
   },
   "outputs": [
    {
     "name": "stdout",
     "output_type": "stream",
     "text": [
      "Basic tests are passed.\n"
     ]
    }
   ],
   "source": [
    "print(test_my_bag_of_words())"
   ]
  },
  {
   "cell_type": "markdown",
   "metadata": {},
   "source": [
    "Now apply the implemented function to all samples (this might take up to a minute):"
   ]
  },
  {
   "cell_type": "code",
   "execution_count": 67,
   "metadata": {
    "collapsed": true
   },
   "outputs": [],
   "source": [
    "from scipy import sparse as sp_sparse"
   ]
  },
  {
   "cell_type": "code",
   "execution_count": 68,
   "metadata": {
    "collapsed": true
   },
   "outputs": [
    {
     "name": "stdout",
     "output_type": "stream",
     "text": [
      "X_train shape  (100000, 5000)\n",
      "X_val shape  (30000, 5000)\n",
      "X_test shape  (20000, 5000)\n"
     ]
    }
   ],
   "source": [
    "X_train_mybag = sp_sparse.vstack([sp_sparse.csr_matrix(my_bag_of_words(text, WORDS_TO_INDEX, DICT_SIZE)) for text in X_train])\n",
    "X_val_mybag = sp_sparse.vstack([sp_sparse.csr_matrix(my_bag_of_words(text, WORDS_TO_INDEX, DICT_SIZE)) for text in X_val])\n",
    "X_test_mybag = sp_sparse.vstack([sp_sparse.csr_matrix(my_bag_of_words(text, WORDS_TO_INDEX, DICT_SIZE)) for text in X_test])\n",
    "print('X_train shape ', X_train_mybag.shape)\n",
    "print('X_val shape ', X_val_mybag.shape)\n",
    "print('X_test shape ', X_test_mybag.shape)"
   ]
  },
  {
   "cell_type": "code",
   "execution_count": 70,
   "metadata": {},
   "outputs": [
    {
     "data": {
      "text/plain": [
       "3"
      ]
     },
     "execution_count": 70,
     "metadata": {},
     "output_type": "execute_result"
    }
   ],
   "source": [
    "np.count_nonzero(X_train_mybag[8].toarray())"
   ]
  },
  {
   "cell_type": "markdown",
   "metadata": {},
   "source": [
    "As you might notice, we transform the data to sparse representation, to store the useful information efficiently. There are many [types](https://docs.scipy.org/doc/scipy/reference/sparse.html) of such representations, however sklearn algorithms can work only with [csr](https://docs.scipy.org/doc/scipy/reference/generated/scipy.sparse.csr_matrix.html#scipy.sparse.csr_matrix) matrix, so we will use this one."
   ]
  },
  {
   "cell_type": "markdown",
   "metadata": {},
   "source": [
    "**Task 3 (BagOfWords).** For the 11th row in *X_train_mybag* find how many non-zero elements it has. In this task the answer (variable *non_zero_elements_count*) should be an integer number, e.g. 20."
   ]
  },
  {
   "cell_type": "code",
   "execution_count": 114,
   "metadata": {},
   "outputs": [
    {
     "data": {
      "text/plain": [
       "array([[0., 0., 0., ..., 0., 0., 0.]])"
      ]
     },
     "execution_count": 114,
     "metadata": {},
     "output_type": "execute_result"
    }
   ],
   "source": [
    "X_train_mybag[10].toarray()"
   ]
  },
  {
   "cell_type": "code",
   "execution_count": 115,
   "metadata": {
    "collapsed": true
   },
   "outputs": [
    {
     "name": "stdout",
     "output_type": "stream",
     "text": [
      "6\n",
      "Current answer for task BagOfWords is:\n",
      " 6...\n"
     ]
    }
   ],
   "source": [
    "row = X_train_mybag[11].toarray()[0]\n",
    "non_zero_elements_count = np.count_nonzero(row)\n",
    "print(non_zero_elements_count)\n",
    "grader.submit_tag('BagOfWords', str(non_zero_elements_count))"
   ]
  },
  {
   "cell_type": "markdown",
   "metadata": {},
   "source": [
    "#### TF-IDF\n",
    "\n",
    "The second approach extends the bag-of-words framework by taking into account total frequencies of words in the corpora. It helps to penalize too frequent words and provide better features space. \n",
    "\n",
    "Implement function *tfidf_features* using class [TfidfVectorizer](http://scikit-learn.org/stable/modules/generated/sklearn.feature_extraction.text.TfidfVectorizer.html) from *scikit-learn*. Use *train* corpus to train a vectorizer. Don't forget to take a look into the arguments that you can pass to it. We suggest that you filter out too rare words (occur less than in 5 titles) and too frequent words (occur more than in 90% of the titles). Also, use bigrams along with unigrams in your vocabulary. "
   ]
  },
  {
   "cell_type": "code",
   "execution_count": 74,
   "metadata": {
    "collapsed": true
   },
   "outputs": [],
   "source": [
    "from sklearn.feature_extraction.text import TfidfVectorizer"
   ]
  },
  {
   "cell_type": "code",
   "execution_count": 76,
   "metadata": {
    "collapsed": true
   },
   "outputs": [],
   "source": [
    "def tfidf_features(X_train, X_val, X_test):\n",
    "    \"\"\"\n",
    "        X_train, X_val, X_test — samples        \n",
    "        return TF-IDF vectorized representation of each sample and vocabulary\n",
    "    \"\"\"\n",
    "    # Create TF-IDF vectorizer with a proper parameters choice\n",
    "    # Fit the vectorizer on the train set\n",
    "    # Transform the train, test, and val sets and return the result\n",
    "    \n",
    "    \n",
    "    tfidf_vectorizer = TfidfVectorizer(min_df=5, max_df=0.9, ngram_range=(1, 2), token_pattern=\"\\S+\")####### YOUR CODE HERE #######\n",
    "    X_train = tfidf_vectorizer.fit_transform(X_train)\n",
    "    X_val = tfidf_vectorizer.transform(X_val)\n",
    "    X_test = tfidf_vectorizer.transform(X_test)\n",
    "    \n",
    "    return X_train, X_val, X_test, tfidf_vectorizer.vocabulary_"
   ]
  },
  {
   "cell_type": "markdown",
   "metadata": {},
   "source": [
    "Once you have done text preprocessing, always have a look at the results. Be very careful at this step, because the performance of future models will drastically depend on it. \n",
    "\n",
    "In this case, check whether you have c++ or c# in your vocabulary, as they are obviously important tokens in our tags prediction task:"
   ]
  },
  {
   "cell_type": "code",
   "execution_count": 78,
   "metadata": {
    "collapsed": true
   },
   "outputs": [
    {
     "name": "stdout",
     "output_type": "stream",
     "text": [
      "(100000, 19005)\n"
     ]
    }
   ],
   "source": [
    "X_train_tfidf, X_val_tfidf, X_test_tfidf, tfidf_vocab = tfidf_features(X_train, X_val, X_test)\n",
    "tfidf_reversed_vocab = {i:word for word,i in tfidf_vocab.items()}\n",
    "print(X_train_tfidf.shape)"
   ]
  },
  {
   "cell_type": "code",
   "execution_count": 137,
   "metadata": {},
   "outputs": [],
   "source": [
    "#tfidf_vocab"
   ]
  },
  {
   "cell_type": "code",
   "execution_count": 82,
   "metadata": {
    "collapsed": true
   },
   "outputs": [
    {
     "data": {
      "text/plain": [
       "2192"
      ]
     },
     "execution_count": 82,
     "metadata": {},
     "output_type": "execute_result"
    }
   ],
   "source": [
    "######### YOUR CODE HERE #############\n",
    "tfidf_vocab[\"c++\"]"
   ]
  },
  {
   "cell_type": "markdown",
   "metadata": {},
   "source": [
    "If you can't find it, we need to understand how did it happen that we lost them? It happened during the built-in tokenization of TfidfVectorizer. Luckily, we can influence on this process. Get back to the function above and use '(\\S+)' regexp as a *token_pattern* in the constructor of the vectorizer.  "
   ]
  },
  {
   "cell_type": "markdown",
   "metadata": {},
   "source": [
    "Now, use this transormation for the data and check again."
   ]
  },
  {
   "cell_type": "code",
   "execution_count": 84,
   "metadata": {
    "collapsed": true
   },
   "outputs": [],
   "source": [
    "######### YOUR CODE HERE #############"
   ]
  },
  {
   "cell_type": "markdown",
   "metadata": {},
   "source": [
    "### MultiLabel classifier\n",
    "\n",
    "As we have noticed before, in this task each example can have multiple tags. To deal with such kind of prediction, we need to transform labels in a binary form and the prediction will be a mask of 0s and 1s. For this purpose it is convenient to use [MultiLabelBinarizer](http://scikit-learn.org/stable/modules/generated/sklearn.preprocessing.MultiLabelBinarizer.html) from *sklearn*."
   ]
  },
  {
   "cell_type": "code",
   "execution_count": 86,
   "metadata": {
    "collapsed": true
   },
   "outputs": [],
   "source": [
    "from sklearn.preprocessing import MultiLabelBinarizer"
   ]
  },
  {
   "cell_type": "code",
   "execution_count": 153,
   "metadata": {},
   "outputs": [
    {
     "data": {
      "text/plain": [
       "9"
      ]
     },
     "execution_count": 153,
     "metadata": {},
     "output_type": "execute_result"
    }
   ],
   "source": [
    "mlb.classes.index(\"c\")"
   ]
  },
  {
   "cell_type": "code",
   "execution_count": 140,
   "metadata": {
    "collapsed": true
   },
   "outputs": [],
   "source": [
    "mlb = MultiLabelBinarizer(classes=sorted(tags_counts.keys()))\n",
    "y_train = mlb.fit_transform(y_train)\n",
    "y_val = mlb.fit_transform(y_val)"
   ]
  },
  {
   "cell_type": "code",
   "execution_count": 142,
   "metadata": {},
   "outputs": [
    {
     "data": {
      "text/plain": [
       "(100,)"
      ]
     },
     "execution_count": 142,
     "metadata": {},
     "output_type": "execute_result"
    }
   ],
   "source": [
    "y_train[0].shape"
   ]
  },
  {
   "cell_type": "markdown",
   "metadata": {},
   "source": [
    "Implement the function *train_classifier* for training a classifier. In this task we suggest to use One-vs-Rest approach, which is implemented in [OneVsRestClassifier](http://scikit-learn.org/stable/modules/generated/sklearn.multiclass.OneVsRestClassifier.html) class. In this approach *k* classifiers (= number of tags) are trained. As a basic classifier, use [LogisticRegression](http://scikit-learn.org/stable/modules/generated/sklearn.linear_model.LogisticRegression.html). It is one of the simplest methods, but often it performs good enough in text classification tasks. It might take some time, because a number of classifiers to train is large."
   ]
  },
  {
   "cell_type": "code",
   "execution_count": 92,
   "metadata": {
    "collapsed": true
   },
   "outputs": [],
   "source": [
    "from sklearn.multiclass import OneVsRestClassifier\n",
    "from sklearn.linear_model import LogisticRegression, RidgeClassifier"
   ]
  },
  {
   "cell_type": "code",
   "execution_count": 99,
   "metadata": {
    "collapsed": true
   },
   "outputs": [],
   "source": [
    "def train_classifier(X_train, y_train):\n",
    "    \"\"\"\n",
    "      X_train, y_train — training data\n",
    "      \n",
    "      return: trained classifier\n",
    "    \"\"\"\n",
    "    \n",
    "    # Create and fit LogisticRegression wraped into OneVsRestClassifier.\n",
    "    clf = OneVsRestClassifier(LogisticRegression(C = 1, penalty=\"l1\", solver=\"saga\", max_iter=1000)).fit(X_train, y_train)\n",
    "\n",
    "    return clf"
   ]
  },
  {
   "cell_type": "code",
   "execution_count": 102,
   "metadata": {},
   "outputs": [
    {
     "name": "stdout",
     "output_type": "stream",
     "text": [
      "(100000, 5000)\n",
      "(100000, 19005)\n",
      "(100000, 100)\n"
     ]
    }
   ],
   "source": [
    "print(X_train_mybag.shape)\n",
    "print(X_train_tfidf.shape)\n",
    "print(y_train.shape)"
   ]
  },
  {
   "cell_type": "markdown",
   "metadata": {},
   "source": [
    "Train the classifiers for different data transformations: *bag-of-words* and *tf-idf*.\n",
    "\n",
    "If you receive a convergence warning, please set parameter *max_iter* in LogisticRegression to a larger value (the default is 100)."
   ]
  },
  {
   "cell_type": "code",
   "execution_count": 135,
   "metadata": {
    "collapsed": true
   },
   "outputs": [],
   "source": [
    "# classifier_mybag = train_classifier(X_train_mybag, y_train)\n",
    "# classifier_tfidf = train_classifier(X_train_tfidf, y_train)"
   ]
  },
  {
   "cell_type": "markdown",
   "metadata": {},
   "source": [
    "Now you can create predictions for the data. You will need two types of predictions: labels and scores."
   ]
  },
  {
   "cell_type": "code",
   "execution_count": 75,
   "metadata": {
    "collapsed": true
   },
   "outputs": [],
   "source": [
    "y_val_predicted_labels_mybag = classifier_mybag.predict(X_val_mybag)\n",
    "y_val_predicted_scores_mybag = classifier_mybag.decision_function(X_val_mybag)\n",
    "\n",
    "y_val_predicted_labels_tfidf = classifier_tfidf.predict(X_val_tfidf)\n",
    "y_val_predicted_scores_tfidf = classifier_tfidf.decision_function(X_val_tfidf)"
   ]
  },
  {
   "cell_type": "code",
   "execution_count": 76,
   "metadata": {},
   "outputs": [
    {
     "data": {
      "text/plain": [
       "array([[-3.52809156, -5.17844848, -5.76820853, ..., -6.25707349,\n",
       "        -4.3658708 , -5.54813668],\n",
       "       [-2.86778681, -5.41012308, -6.12309107, ..., -5.69030311,\n",
       "        -5.03185358, -4.994846  ],\n",
       "       [-4.97867139, -3.78242004, -6.27340533, ..., -6.41388975,\n",
       "        -5.83710559, -5.36569078],\n",
       "       ...,\n",
       "       [-2.87188139, -4.2578204 , -6.06180574, ..., -5.99740439,\n",
       "        -5.1524859 , -5.60023364],\n",
       "       [-3.53656166, -5.29248898, -5.87367176, ..., -6.26567541,\n",
       "        -5.21225294, -5.61442681],\n",
       "       [-3.22263374, -4.6840875 , -6.01021844, ..., -6.21006265,\n",
       "        -4.44288251, -5.10507589]])"
      ]
     },
     "execution_count": 76,
     "metadata": {},
     "output_type": "execute_result"
    }
   ],
   "source": [
    "y_val_pred_inversed = mlb.inverse_transform(y_val_predicted_labels_tfidf)\n",
    "y_val_predicted_scores_tfidf"
   ]
  },
  {
   "cell_type": "markdown",
   "metadata": {},
   "source": [
    "Now take a look at how classifier, which uses TF-IDF, works for a few examples:"
   ]
  },
  {
   "cell_type": "code",
   "execution_count": 77,
   "metadata": {
    "collapsed": true
   },
   "outputs": [
    {
     "name": "stdout",
     "output_type": "stream",
     "text": [
      "Title:\todbc_exec always fail\n",
      "True labels:\tphp,sql\n",
      "Predicted labels:\t\n",
      "\n",
      "\n",
      "Title:\taccess base classes variable within a child class\n",
      "True labels:\tjavascript\n",
      "Predicted labels:\t\n",
      "\n",
      "\n",
      "Title:\tcontenttype application json required rails\n",
      "True labels:\truby,ruby-on-rails\n",
      "Predicted labels:\tjson,ruby-on-rails\n",
      "\n",
      "\n",
      "Title:\tsessions sinatra used pass variable\n",
      "True labels:\truby,session\n",
      "Predicted labels:\t\n",
      "\n",
      "\n",
      "Title:\tgetting error type json exist postgresql rake db migrate\n",
      "True labels:\tjson,ruby,ruby-on-rails\n",
      "Predicted labels:\truby-on-rails\n",
      "\n",
      "\n",
      "Title:\tlibrary found\n",
      "True labels:\tc++,ios,iphone,xcode\n",
      "Predicted labels:\t\n",
      "\n",
      "\n",
      "Title:\tcsproj file programmatic adding deleting files\n",
      "True labels:\tc#\n",
      "Predicted labels:\t\n",
      "\n",
      "\n",
      "Title:\ttypeerror makedirs got unexpected keyword argument exists_ok\n",
      "True labels:\tdjango,python\n",
      "Predicted labels:\tpython\n",
      "\n",
      "\n",
      "Title:\tpan div using jquery\n",
      "True labels:\thtml,javascript,jquery\n",
      "Predicted labels:\tjavascript,jquery\n",
      "\n",
      "\n",
      "Title:\thibernate intermediate advanced tutorials\n",
      "True labels:\thibernate,java\n",
      "Predicted labels:\thibernate,java\n",
      "\n",
      "\n"
     ]
    }
   ],
   "source": [
    "y_val_pred_inversed = mlb.inverse_transform(y_val_predicted_labels_tfidf)\n",
    "y_val_inversed = mlb.inverse_transform(y_val)\n",
    "for i in range(10):\n",
    "    print('Title:\\t{}\\nTrue labels:\\t{}\\nPredicted labels:\\t{}\\n\\n'.format(\n",
    "        X_val[i],\n",
    "        ','.join(y_val_inversed[i]),\n",
    "        ','.join(y_val_pred_inversed[i])\n",
    "    ))"
   ]
  },
  {
   "cell_type": "markdown",
   "metadata": {},
   "source": [
    "Now, we would need to compare the results of different predictions, e.g. to see whether TF-IDF transformation helps or to try different regularization techniques in logistic regression. For all these experiments, we need to setup evaluation procedure. "
   ]
  },
  {
   "cell_type": "markdown",
   "metadata": {},
   "source": [
    "### Evaluation\n",
    "\n",
    "To evaluate the results we will use several classification metrics:\n",
    " - [Accuracy](http://scikit-learn.org/stable/modules/generated/sklearn.metrics.accuracy_score.html)\n",
    " - [F1-score](http://scikit-learn.org/stable/modules/generated/sklearn.metrics.f1_score.html)\n",
    " - [Area under ROC-curve](http://scikit-learn.org/stable/modules/generated/sklearn.metrics.roc_auc_score.html)\n",
    " - [Area under precision-recall curve](http://scikit-learn.org/stable/modules/generated/sklearn.metrics.average_precision_score.html#sklearn.metrics.average_precision_score) \n",
    " \n",
    "Make sure you are familiar with all of them. How would you expect the things work for the multi-label scenario? Read about micro/macro/weighted averaging following the sklearn links provided above."
   ]
  },
  {
   "cell_type": "code",
   "execution_count": 108,
   "metadata": {
    "collapsed": true
   },
   "outputs": [],
   "source": [
    "from sklearn.metrics import accuracy_score\n",
    "from sklearn.metrics import f1_score\n",
    "from sklearn.metrics import roc_auc_score \n",
    "from sklearn.metrics import average_precision_score\n",
    "from sklearn.metrics import recall_score"
   ]
  },
  {
   "cell_type": "markdown",
   "metadata": {},
   "source": [
    "Implement the function *print_evaluation_scores* which calculates and prints to stdout:\n",
    " - *accuracy*\n",
    " - *F1-score macro/micro/weighted*\n",
    " - *Precision macro/micro/weighted*"
   ]
  },
  {
   "cell_type": "code",
   "execution_count": 107,
   "metadata": {
    "collapsed": true
   },
   "outputs": [],
   "source": [
    "def print_evaluation_scores(y_val, predicted):\n",
    "    \n",
    "    ######################################\n",
    "    ######### YOUR CODE HERE #############\n",
    "    ######################################\n",
    "    print(accuracy_score(y_pred=predicted, y_true=y_val))\n",
    "\n",
    "    print(f1_score(y_pred=predicted, y_true=y_val, average=\"macro\"))\n",
    "    print(f1_score(y_pred=predicted, y_true=y_val, average=\"micro\"))\n",
    "    print(f1_score(y_pred=predicted, y_true=y_val, average=\"weighted\"))\n",
    "\n",
    "    print(average_precision_score(y_true=y_val, y_score=predicted, average=\"macro\"))\n",
    "    print(average_precision_score(y_true=y_val, y_score=predicted, average=\"micro\"))\n",
    "    print(average_precision_score(y_true=y_val, y_score=predicted, average=\"weighted\"))"
   ]
  },
  {
   "cell_type": "code",
   "execution_count": 83,
   "metadata": {
    "collapsed": true
   },
   "outputs": [
    {
     "name": "stdout",
     "output_type": "stream",
     "text": [
      "Bag-of-words\n",
      "0.3577666666666667\n",
      "0.504528636319966\n",
      "0.6711430323566402\n",
      "0.6488361167862992\n",
      "0.3441628321378727\n",
      "0.4812850136794803\n",
      "0.5109169386714147\n",
      "Tfidf\n",
      "0.3318\n",
      "0.44212806025663254\n",
      "0.6393163893246164\n",
      "0.6117844245273627\n",
      "0.2986128988191072\n",
      "0.45427323987211876\n",
      "0.4825910238958345\n"
     ]
    }
   ],
   "source": [
    "print('Bag-of-words')\n",
    "print_evaluation_scores(y_val, y_val_predicted_labels_mybag)\n",
    "print('Tfidf')\n",
    "print_evaluation_scores(y_val, y_val_predicted_labels_tfidf)"
   ]
  },
  {
   "cell_type": "markdown",
   "metadata": {},
   "source": [
    "You might also want to plot some generalization of the [ROC curve](http://scikit-learn.org/stable/modules/model_evaluation.html#receiver-operating-characteristic-roc) for the case of multi-label classification. Provided function *roc_auc* can make it for you. The input parameters of this function are:\n",
    " - true labels\n",
    " - decision functions scores\n",
    " - number of classes"
   ]
  },
  {
   "cell_type": "code",
   "execution_count": 84,
   "metadata": {
    "collapsed": true
   },
   "outputs": [],
   "source": [
    "from metrics import roc_auc\n",
    "%matplotlib inline"
   ]
  },
  {
   "cell_type": "code",
   "execution_count": 85,
   "metadata": {
    "collapsed": true
   },
   "outputs": [
    {
     "data": {
      "image/png": "[encoded data removed]",
      "image/svg+xml": "<?xml version=\"1.0\" encoding=\"utf-8\" standalone=\"no\"?>\n<!DOCTYPE svg PUBLIC \"-//W3C//DTD SVG 1.1//EN\"\n  \"http://www.w3.org/Graphics/SVG/1.1/DTD/svg11.dtd\">\n<!-- Created with matplotlib (https://matplotlib.org/) -->\n<svg height=\"277.314375pt\" version=\"1.1\" viewBox=\"0 0 393.732813 277.314375\" width=\"393.732813pt\" xmlns=\"http://www.w3.org/2000/svg\" xmlns:xlink=\"http://www.w3.org/1999/xlink\">\n <metadata>\n  <rdf:RDF xmlns:cc=\"http://creativecommons.org/ns#\" xmlns:dc=\"http://purl.org/dc/elements/1.1/\" xmlns:rdf=\"http://www.w3.org/1999/02/22-rdf-syntax-ns#\">\n   <cc:Work>\n    <dc:type rdf:resource=\"http://purl.org/dc/dcmitype/StillImage\"/>\n    <dc:date>2021-03-10T15:28:46.599139</dc:date>\n    <dc:format>image/svg+xml</dc:format>\n    <dc:creator>\n     <cc:Agent>\n      <dc:title>Matplotlib v3.3.2, https://matplotlib.org/</dc:title>\n     </cc:Agent>\n    </dc:creator>\n   </cc:Work>\n  </rdf:RDF>\n </metadata>\n <defs>\n  <style type=\"text/css\">*{stroke-linecap:butt;stroke-linejoin:round;}</style>\n </defs>\n <g id=\"figure_1\">\n  <g id=\"patch_1\">\n   <path d=\"M 0 277.314375 \nL 393.732813 277.314375 \nL 393.732813 0 \nL 0 0 \nz\n\" style=\"fill:none;\"/>\n  </g>\n  <g id=\"axes_1\">\n   <g id=\"patch_2\">\n    <path d=\"M 43.78125 239.758125 \nL 378.58125 239.758125 \nL 378.58125 22.318125 \nL 43.78125 22.318125 \nz\n\" style=\"fill:#ffffff;\"/>\n   </g>\n   <g id=\"matplotlib.axis_1\">\n    <g id=\"xtick_1\">\n     <g id=\"line2d_1\">\n      <defs>\n       <path d=\"M 0 0 \nL 0 3.5 \n\" id=\"me0e05810df\" style=\"stroke:#000000;stroke-width:0.8;\"/>\n      </defs>\n      <g>\n       <use style=\"stroke:#000000;stroke-width:0.8;\" x=\"43.78125\" xlink:href=\"#me0e05810df\" y=\"239.758125\"/>\n      </g>\n     </g>\n     <g id=\"text_1\">\n      <!-- 0.0 -->\n      <g transform=\"translate(35.829688 254.356562)scale(0.1 -0.1)\">\n       <defs>\n        <path d=\"M 31.78125 66.40625 \nQ 24.171875 66.40625 20.328125 58.90625 \nQ 16.5 51.421875 16.5 36.375 \nQ 16.5 21.390625 20.328125 13.890625 \nQ 24.171875 6.390625 31.78125 6.390625 \nQ 39.453125 6.390625 43.28125 13.890625 \nQ 47.125 21.390625 47.125 36.375 \nQ 47.125 51.421875 43.28125 58.90625 \nQ 39.453125 66.40625 31.78125 66.40625 \nz\nM 31.78125 74.21875 \nQ 44.046875 74.21875 50.515625 64.515625 \nQ 56.984375 54.828125 56.984375 36.375 \nQ 56.984375 17.96875 50.515625 8.265625 \nQ 44.046875 -1.421875 31.78125 -1.421875 \nQ 19.53125 -1.421875 13.0625 8.265625 \nQ 6.59375 17.96875 6.59375 36.375 \nQ 6.59375 54.828125 13.0625 64.515625 \nQ 19.53125 74.21875 31.78125 74.21875 \nz\n\" id=\"DejaVuSans-48\"/>\n        <path d=\"M 10.6875 12.40625 \nL 21 12.40625 \nL 21 0 \nL 10.6875 0 \nz\n\" id=\"DejaVuSans-46\"/>\n       </defs>\n       <use xlink:href=\"#DejaVuSans-48\"/>\n       <use x=\"63.623047\" xlink:href=\"#DejaVuSans-46\"/>\n       <use x=\"95.410156\" xlink:href=\"#DejaVuSans-48\"/>\n      </g>\n     </g>\n    </g>\n    <g id=\"xtick_2\">\n     <g id=\"line2d_2\">\n      <g>\n       <use style=\"stroke:#000000;stroke-width:0.8;\" x=\"110.74125\" xlink:href=\"#me0e05810df\" y=\"239.758125\"/>\n      </g>\n     </g>\n     <g id=\"text_2\">\n      <!-- 0.2 -->\n      <g transform=\"translate(102.789688 254.356562)scale(0.1 -0.1)\">\n       <defs>\n        <path d=\"M 19.1875 8.296875 \nL 53.609375 8.296875 \nL 53.609375 0 \nL 7.328125 0 \nL 7.328125 8.296875 \nQ 12.9375 14.109375 22.625 23.890625 \nQ 32.328125 33.6875 34.8125 36.53125 \nQ 39.546875 41.84375 41.421875 45.53125 \nQ 43.3125 49.21875 43.3125 52.78125 \nQ 43.3125 58.59375 39.234375 62.25 \nQ 35.15625 65.921875 28.609375 65.921875 \nQ 23.96875 65.921875 18.8125 64.3125 \nQ 13.671875 62.703125 7.8125 59.421875 \nL 7.8125 69.390625 \nQ 13.765625 71.78125 18.9375 73 \nQ 24.125 74.21875 28.421875 74.21875 \nQ 39.75 74.21875 46.484375 68.546875 \nQ 53.21875 62.890625 53.21875 53.421875 \nQ 53.21875 48.921875 51.53125 44.890625 \nQ 49.859375 40.875 45.40625 35.40625 \nQ 44.1875 33.984375 37.640625 27.21875 \nQ 31.109375 20.453125 19.1875 8.296875 \nz\n\" id=\"DejaVuSans-50\"/>\n       </defs>\n       <use xlink:href=\"#DejaVuSans-48\"/>\n       <use x=\"63.623047\" xlink:href=\"#DejaVuSans-46\"/>\n       <use x=\"95.410156\" xlink:href=\"#DejaVuSans-50\"/>\n      </g>\n     </g>\n    </g>\n    <g id=\"xtick_3\">\n     <g id=\"line2d_3\">\n      <g>\n       <use style=\"stroke:#000000;stroke-width:0.8;\" x=\"177.70125\" xlink:href=\"#me0e05810df\" y=\"239.758125\"/>\n      </g>\n     </g>\n     <g id=\"text_3\">\n      <!-- 0.4 -->\n      <g transform=\"translate(169.749688 254.356562)scale(0.1 -0.1)\">\n       <defs>\n        <path d=\"M 37.796875 64.3125 \nL 12.890625 25.390625 \nL 37.796875 25.390625 \nz\nM 35.203125 72.90625 \nL 47.609375 72.90625 \nL 47.609375 25.390625 \nL 58.015625 25.390625 \nL 58.015625 17.1875 \nL 47.609375 17.1875 \nL 47.609375 0 \nL 37.796875 0 \nL 37.796875 17.1875 \nL 4.890625 17.1875 \nL 4.890625 26.703125 \nz\n\" id=\"DejaVuSans-52\"/>\n       </defs>\n       <use xlink:href=\"#DejaVuSans-48\"/>\n       <use x=\"63.623047\" xlink:href=\"#DejaVuSans-46\"/>\n       <use x=\"95.410156\" xlink:href=\"#DejaVuSans-52\"/>\n      </g>\n     </g>\n    </g>\n    <g id=\"xtick_4\">\n     <g id=\"line2d_4\">\n      <g>\n       <use style=\"stroke:#000000;stroke-width:0.8;\" x=\"244.66125\" xlink:href=\"#me0e05810df\" y=\"239.758125\"/>\n      </g>\n     </g>\n     <g id=\"text_4\">\n      <!-- 0.6 -->\n      <g transform=\"translate(236.709688 254.356562)scale(0.1 -0.1)\">\n       <defs>\n        <path d=\"M 33.015625 40.375 \nQ 26.375 40.375 22.484375 35.828125 \nQ 18.609375 31.296875 18.609375 23.390625 \nQ 18.609375 15.53125 22.484375 10.953125 \nQ 26.375 6.390625 33.015625 6.390625 \nQ 39.65625 6.390625 43.53125 10.953125 \nQ 47.40625 15.53125 47.40625 23.390625 \nQ 47.40625 31.296875 43.53125 35.828125 \nQ 39.65625 40.375 33.015625 40.375 \nz\nM 52.59375 71.296875 \nL 52.59375 62.3125 \nQ 48.875 64.0625 45.09375 64.984375 \nQ 41.3125 65.921875 37.59375 65.921875 \nQ 27.828125 65.921875 22.671875 59.328125 \nQ 17.53125 52.734375 16.796875 39.40625 \nQ 19.671875 43.65625 24.015625 45.921875 \nQ 28.375 48.1875 33.59375 48.1875 \nQ 44.578125 48.1875 50.953125 41.515625 \nQ 57.328125 34.859375 57.328125 23.390625 \nQ 57.328125 12.15625 50.6875 5.359375 \nQ 44.046875 -1.421875 33.015625 -1.421875 \nQ 20.359375 -1.421875 13.671875 8.265625 \nQ 6.984375 17.96875 6.984375 36.375 \nQ 6.984375 53.65625 15.1875 63.9375 \nQ 23.390625 74.21875 37.203125 74.21875 \nQ 40.921875 74.21875 44.703125 73.484375 \nQ 48.484375 72.75 52.59375 71.296875 \nz\n\" id=\"DejaVuSans-54\"/>\n       </defs>\n       <use xlink:href=\"#DejaVuSans-48\"/>\n       <use x=\"63.623047\" xlink:href=\"#DejaVuSans-46\"/>\n       <use x=\"95.410156\" xlink:href=\"#DejaVuSans-54\"/>\n      </g>\n     </g>\n    </g>\n    <g id=\"xtick_5\">\n     <g id=\"line2d_5\">\n      <g>\n       <use style=\"stroke:#000000;stroke-width:0.8;\" x=\"311.62125\" xlink:href=\"#me0e05810df\" y=\"239.758125\"/>\n      </g>\n     </g>\n     <g id=\"text_5\">\n      <!-- 0.8 -->\n      <g transform=\"translate(303.669688 254.356562)scale(0.1 -0.1)\">\n       <defs>\n        <path d=\"M 31.78125 34.625 \nQ 24.75 34.625 20.71875 30.859375 \nQ 16.703125 27.09375 16.703125 20.515625 \nQ 16.703125 13.921875 20.71875 10.15625 \nQ 24.75 6.390625 31.78125 6.390625 \nQ 38.8125 6.390625 42.859375 10.171875 \nQ 46.921875 13.96875 46.921875 20.515625 \nQ 46.921875 27.09375 42.890625 30.859375 \nQ 38.875 34.625 31.78125 34.625 \nz\nM 21.921875 38.8125 \nQ 15.578125 40.375 12.03125 44.71875 \nQ 8.5 49.078125 8.5 55.328125 \nQ 8.5 64.0625 14.71875 69.140625 \nQ 20.953125 74.21875 31.78125 74.21875 \nQ 42.671875 74.21875 48.875 69.140625 \nQ 55.078125 64.0625 55.078125 55.328125 \nQ 55.078125 49.078125 51.53125 44.71875 \nQ 48 40.375 41.703125 38.8125 \nQ 48.828125 37.15625 52.796875 32.3125 \nQ 56.78125 27.484375 56.78125 20.515625 \nQ 56.78125 9.90625 50.3125 4.234375 \nQ 43.84375 -1.421875 31.78125 -1.421875 \nQ 19.734375 -1.421875 13.25 4.234375 \nQ 6.78125 9.90625 6.78125 20.515625 \nQ 6.78125 27.484375 10.78125 32.3125 \nQ 14.796875 37.15625 21.921875 38.8125 \nz\nM 18.3125 54.390625 \nQ 18.3125 48.734375 21.84375 45.5625 \nQ 25.390625 42.390625 31.78125 42.390625 \nQ 38.140625 42.390625 41.71875 45.5625 \nQ 45.3125 48.734375 45.3125 54.390625 \nQ 45.3125 60.0625 41.71875 63.234375 \nQ 38.140625 66.40625 31.78125 66.40625 \nQ 25.390625 66.40625 21.84375 63.234375 \nQ 18.3125 60.0625 18.3125 54.390625 \nz\n\" id=\"DejaVuSans-56\"/>\n       </defs>\n       <use xlink:href=\"#DejaVuSans-48\"/>\n       <use x=\"63.623047\" xlink:href=\"#DejaVuSans-46\"/>\n       <use x=\"95.410156\" xlink:href=\"#DejaVuSans-56\"/>\n      </g>\n     </g>\n    </g>\n    <g id=\"xtick_6\">\n     <g id=\"line2d_6\">\n      <g>\n       <use style=\"stroke:#000000;stroke-width:0.8;\" x=\"378.58125\" xlink:href=\"#me0e05810df\" y=\"239.758125\"/>\n      </g>\n     </g>\n     <g id=\"text_6\">\n      <!-- 1.0 -->\n      <g transform=\"translate(370.629687 254.356562)scale(0.1 -0.1)\">\n       <defs>\n        <path d=\"M 12.40625 8.296875 \nL 28.515625 8.296875 \nL 28.515625 63.921875 \nL 10.984375 60.40625 \nL 10.984375 69.390625 \nL 28.421875 72.90625 \nL 38.28125 72.90625 \nL 38.28125 8.296875 \nL 54.390625 8.296875 \nL 54.390625 0 \nL 12.40625 0 \nz\n\" id=\"DejaVuSans-49\"/>\n       </defs>\n       <use xlink:href=\"#DejaVuSans-49\"/>\n       <use x=\"63.623047\" xlink:href=\"#DejaVuSans-46\"/>\n       <use x=\"95.410156\" xlink:href=\"#DejaVuSans-48\"/>\n      </g>\n     </g>\n    </g>\n    <g id=\"text_7\">\n     <!-- False Positive Rate -->\n     <g transform=\"translate(164.714844 268.034687)scale(0.1 -0.1)\">\n      <defs>\n       <path d=\"M 9.8125 72.90625 \nL 51.703125 72.90625 \nL 51.703125 64.59375 \nL 19.671875 64.59375 \nL 19.671875 43.109375 \nL 48.578125 43.109375 \nL 48.578125 34.8125 \nL 19.671875 34.8125 \nL 19.671875 0 \nL 9.8125 0 \nz\n\" id=\"DejaVuSans-70\"/>\n       <path d=\"M 34.28125 27.484375 \nQ 23.390625 27.484375 19.1875 25 \nQ 14.984375 22.515625 14.984375 16.5 \nQ 14.984375 11.71875 18.140625 8.90625 \nQ 21.296875 6.109375 26.703125 6.109375 \nQ 34.1875 6.109375 38.703125 11.40625 \nQ 43.21875 16.703125 43.21875 25.484375 \nL 43.21875 27.484375 \nz\nM 52.203125 31.203125 \nL 52.203125 0 \nL 43.21875 0 \nL 43.21875 8.296875 \nQ 40.140625 3.328125 35.546875 0.953125 \nQ 30.953125 -1.421875 24.3125 -1.421875 \nQ 15.921875 -1.421875 10.953125 3.296875 \nQ 6 8.015625 6 15.921875 \nQ 6 25.140625 12.171875 29.828125 \nQ 18.359375 34.515625 30.609375 34.515625 \nL 43.21875 34.515625 \nL 43.21875 35.40625 \nQ 43.21875 41.609375 39.140625 45 \nQ 35.0625 48.390625 27.6875 48.390625 \nQ 23 48.390625 18.546875 47.265625 \nQ 14.109375 46.140625 10.015625 43.890625 \nL 10.015625 52.203125 \nQ 14.9375 54.109375 19.578125 55.046875 \nQ 24.21875 56 28.609375 56 \nQ 40.484375 56 46.34375 49.84375 \nQ 52.203125 43.703125 52.203125 31.203125 \nz\n\" id=\"DejaVuSans-97\"/>\n       <path d=\"M 9.421875 75.984375 \nL 18.40625 75.984375 \nL 18.40625 0 \nL 9.421875 0 \nz\n\" id=\"DejaVuSans-108\"/>\n       <path d=\"M 44.28125 53.078125 \nL 44.28125 44.578125 \nQ 40.484375 46.53125 36.375 47.5 \nQ 32.28125 48.484375 27.875 48.484375 \nQ 21.1875 48.484375 17.84375 46.4375 \nQ 14.5 44.390625 14.5 40.28125 \nQ 14.5 37.15625 16.890625 35.375 \nQ 19.28125 33.59375 26.515625 31.984375 \nL 29.59375 31.296875 \nQ 39.15625 29.25 43.1875 25.515625 \nQ 47.21875 21.78125 47.21875 15.09375 \nQ 47.21875 7.46875 41.1875 3.015625 \nQ 35.15625 -1.421875 24.609375 -1.421875 \nQ 20.21875 -1.421875 15.453125 -0.5625 \nQ 10.6875 0.296875 5.421875 2 \nL 5.421875 11.28125 \nQ 10.40625 8.6875 15.234375 7.390625 \nQ 20.0625 6.109375 24.8125 6.109375 \nQ 31.15625 6.109375 34.5625 8.28125 \nQ 37.984375 10.453125 37.984375 14.40625 \nQ 37.984375 18.0625 35.515625 20.015625 \nQ 33.0625 21.96875 24.703125 23.78125 \nL 21.578125 24.515625 \nQ 13.234375 26.265625 9.515625 29.90625 \nQ 5.8125 33.546875 5.8125 39.890625 \nQ 5.8125 47.609375 11.28125 51.796875 \nQ 16.75 56 26.8125 56 \nQ 31.78125 56 36.171875 55.265625 \nQ 40.578125 54.546875 44.28125 53.078125 \nz\n\" id=\"DejaVuSans-115\"/>\n       <path d=\"M 56.203125 29.59375 \nL 56.203125 25.203125 \nL 14.890625 25.203125 \nQ 15.484375 15.921875 20.484375 11.0625 \nQ 25.484375 6.203125 34.421875 6.203125 \nQ 39.59375 6.203125 44.453125 7.46875 \nQ 49.3125 8.734375 54.109375 11.28125 \nL 54.109375 2.78125 \nQ 49.265625 0.734375 44.1875 -0.34375 \nQ 39.109375 -1.421875 33.890625 -1.421875 \nQ 20.796875 -1.421875 13.15625 6.1875 \nQ 5.515625 13.8125 5.515625 26.8125 \nQ 5.515625 40.234375 12.765625 48.109375 \nQ 20.015625 56 32.328125 56 \nQ 43.359375 56 49.78125 48.890625 \nQ 56.203125 41.796875 56.203125 29.59375 \nz\nM 47.21875 32.234375 \nQ 47.125 39.59375 43.09375 43.984375 \nQ 39.0625 48.390625 32.421875 48.390625 \nQ 24.90625 48.390625 20.390625 44.140625 \nQ 15.875 39.890625 15.1875 32.171875 \nz\n\" id=\"DejaVuSans-101\"/>\n       <path id=\"DejaVuSans-32\"/>\n       <path d=\"M 19.671875 64.796875 \nL 19.671875 37.40625 \nL 32.078125 37.40625 \nQ 38.96875 37.40625 42.71875 40.96875 \nQ 46.484375 44.53125 46.484375 51.125 \nQ 46.484375 57.671875 42.71875 61.234375 \nQ 38.96875 64.796875 32.078125 64.796875 \nz\nM 9.8125 72.90625 \nL 32.078125 72.90625 \nQ 44.34375 72.90625 50.609375 67.359375 \nQ 56.890625 61.8125 56.890625 51.125 \nQ 56.890625 40.328125 50.609375 34.8125 \nQ 44.34375 29.296875 32.078125 29.296875 \nL 19.671875 29.296875 \nL 19.671875 0 \nL 9.8125 0 \nz\n\" id=\"DejaVuSans-80\"/>\n       <path d=\"M 30.609375 48.390625 \nQ 23.390625 48.390625 19.1875 42.75 \nQ 14.984375 37.109375 14.984375 27.296875 \nQ 14.984375 17.484375 19.15625 11.84375 \nQ 23.34375 6.203125 30.609375 6.203125 \nQ 37.796875 6.203125 41.984375 11.859375 \nQ 46.1875 17.53125 46.1875 27.296875 \nQ 46.1875 37.015625 41.984375 42.703125 \nQ 37.796875 48.390625 30.609375 48.390625 \nz\nM 30.609375 56 \nQ 42.328125 56 49.015625 48.375 \nQ 55.71875 40.765625 55.71875 27.296875 \nQ 55.71875 13.875 49.015625 6.21875 \nQ 42.328125 -1.421875 30.609375 -1.421875 \nQ 18.84375 -1.421875 12.171875 6.21875 \nQ 5.515625 13.875 5.515625 27.296875 \nQ 5.515625 40.765625 12.171875 48.375 \nQ 18.84375 56 30.609375 56 \nz\n\" id=\"DejaVuSans-111\"/>\n       <path d=\"M 9.421875 54.6875 \nL 18.40625 54.6875 \nL 18.40625 0 \nL 9.421875 0 \nz\nM 9.421875 75.984375 \nL 18.40625 75.984375 \nL 18.40625 64.59375 \nL 9.421875 64.59375 \nz\n\" id=\"DejaVuSans-105\"/>\n       <path d=\"M 18.3125 70.21875 \nL 18.3125 54.6875 \nL 36.8125 54.6875 \nL 36.8125 47.703125 \nL 18.3125 47.703125 \nL 18.3125 18.015625 \nQ 18.3125 11.328125 20.140625 9.421875 \nQ 21.96875 7.515625 27.59375 7.515625 \nL 36.8125 7.515625 \nL 36.8125 0 \nL 27.59375 0 \nQ 17.1875 0 13.234375 3.875 \nQ 9.28125 7.765625 9.28125 18.015625 \nL 9.28125 47.703125 \nL 2.6875 47.703125 \nL 2.6875 54.6875 \nL 9.28125 54.6875 \nL 9.28125 70.21875 \nz\n\" id=\"DejaVuSans-116\"/>\n       <path d=\"M 2.984375 54.6875 \nL 12.5 54.6875 \nL 29.59375 8.796875 \nL 46.6875 54.6875 \nL 56.203125 54.6875 \nL 35.6875 0 \nL 23.484375 0 \nz\n\" id=\"DejaVuSans-118\"/>\n       <path d=\"M 44.390625 34.1875 \nQ 47.5625 33.109375 50.5625 29.59375 \nQ 53.5625 26.078125 56.59375 19.921875 \nL 66.609375 0 \nL 56 0 \nL 46.6875 18.703125 \nQ 43.0625 26.03125 39.671875 28.421875 \nQ 36.28125 30.8125 30.421875 30.8125 \nL 19.671875 30.8125 \nL 19.671875 0 \nL 9.8125 0 \nL 9.8125 72.90625 \nL 32.078125 72.90625 \nQ 44.578125 72.90625 50.734375 67.671875 \nQ 56.890625 62.453125 56.890625 51.90625 \nQ 56.890625 45.015625 53.6875 40.46875 \nQ 50.484375 35.9375 44.390625 34.1875 \nz\nM 19.671875 64.796875 \nL 19.671875 38.921875 \nL 32.078125 38.921875 \nQ 39.203125 38.921875 42.84375 42.21875 \nQ 46.484375 45.515625 46.484375 51.90625 \nQ 46.484375 58.296875 42.84375 61.546875 \nQ 39.203125 64.796875 32.078125 64.796875 \nz\n\" id=\"DejaVuSans-82\"/>\n      </defs>\n      <use xlink:href=\"#DejaVuSans-70\"/>\n      <use x=\"48.394531\" xlink:href=\"#DejaVuSans-97\"/>\n      <use x=\"109.673828\" xlink:href=\"#DejaVuSans-108\"/>\n      <use x=\"137.457031\" xlink:href=\"#DejaVuSans-115\"/>\n      <use x=\"189.556641\" xlink:href=\"#DejaVuSans-101\"/>\n      <use x=\"251.080078\" xlink:href=\"#DejaVuSans-32\"/>\n      <use x=\"282.867188\" xlink:href=\"#DejaVuSans-80\"/>\n      <use x=\"339.544922\" xlink:href=\"#DejaVuSans-111\"/>\n      <use x=\"400.726562\" xlink:href=\"#DejaVuSans-115\"/>\n      <use x=\"452.826172\" xlink:href=\"#DejaVuSans-105\"/>\n      <use x=\"480.609375\" xlink:href=\"#DejaVuSans-116\"/>\n      <use x=\"519.818359\" xlink:href=\"#DejaVuSans-105\"/>\n      <use x=\"547.601562\" xlink:href=\"#DejaVuSans-118\"/>\n      <use x=\"606.78125\" xlink:href=\"#DejaVuSans-101\"/>\n      <use x=\"668.304688\" xlink:href=\"#DejaVuSans-32\"/>\n      <use x=\"700.091797\" xlink:href=\"#DejaVuSans-82\"/>\n      <use x=\"767.324219\" xlink:href=\"#DejaVuSans-97\"/>\n      <use x=\"828.603516\" xlink:href=\"#DejaVuSans-116\"/>\n      <use x=\"867.8125\" xlink:href=\"#DejaVuSans-101\"/>\n     </g>\n    </g>\n   </g>\n   <g id=\"matplotlib.axis_2\">\n    <g id=\"ytick_1\">\n     <g id=\"line2d_7\">\n      <defs>\n       <path d=\"M 0 0 \nL -3.5 0 \n\" id=\"mf876b04c59\" style=\"stroke:#000000;stroke-width:0.8;\"/>\n      </defs>\n      <g>\n       <use style=\"stroke:#000000;stroke-width:0.8;\" x=\"43.78125\" xlink:href=\"#mf876b04c59\" y=\"239.758125\"/>\n      </g>\n     </g>\n     <g id=\"text_8\">\n      <!-- 0.0 -->\n      <g transform=\"translate(20.878125 243.557344)scale(0.1 -0.1)\">\n       <use xlink:href=\"#DejaVuSans-48\"/>\n       <use x=\"63.623047\" xlink:href=\"#DejaVuSans-46\"/>\n       <use x=\"95.410156\" xlink:href=\"#DejaVuSans-48\"/>\n      </g>\n     </g>\n    </g>\n    <g id=\"ytick_2\">\n     <g id=\"line2d_8\">\n      <g>\n       <use style=\"stroke:#000000;stroke-width:0.8;\" x=\"43.78125\" xlink:href=\"#mf876b04c59\" y=\"198.340982\"/>\n      </g>\n     </g>\n     <g id=\"text_9\">\n      <!-- 0.2 -->\n      <g transform=\"translate(20.878125 202.140201)scale(0.1 -0.1)\">\n       <use xlink:href=\"#DejaVuSans-48\"/>\n       <use x=\"63.623047\" xlink:href=\"#DejaVuSans-46\"/>\n       <use x=\"95.410156\" xlink:href=\"#DejaVuSans-50\"/>\n      </g>\n     </g>\n    </g>\n    <g id=\"ytick_3\">\n     <g id=\"line2d_9\">\n      <g>\n       <use style=\"stroke:#000000;stroke-width:0.8;\" x=\"43.78125\" xlink:href=\"#mf876b04c59\" y=\"156.923839\"/>\n      </g>\n     </g>\n     <g id=\"text_10\">\n      <!-- 0.4 -->\n      <g transform=\"translate(20.878125 160.723058)scale(0.1 -0.1)\">\n       <use xlink:href=\"#DejaVuSans-48\"/>\n       <use x=\"63.623047\" xlink:href=\"#DejaVuSans-46\"/>\n       <use x=\"95.410156\" xlink:href=\"#DejaVuSans-52\"/>\n      </g>\n     </g>\n    </g>\n    <g id=\"ytick_4\">\n     <g id=\"line2d_10\">\n      <g>\n       <use style=\"stroke:#000000;stroke-width:0.8;\" x=\"43.78125\" xlink:href=\"#mf876b04c59\" y=\"115.506696\"/>\n      </g>\n     </g>\n     <g id=\"text_11\">\n      <!-- 0.6 -->\n      <g transform=\"translate(20.878125 119.305915)scale(0.1 -0.1)\">\n       <use xlink:href=\"#DejaVuSans-48\"/>\n       <use x=\"63.623047\" xlink:href=\"#DejaVuSans-46\"/>\n       <use x=\"95.410156\" xlink:href=\"#DejaVuSans-54\"/>\n      </g>\n     </g>\n    </g>\n    <g id=\"ytick_5\">\n     <g id=\"line2d_11\">\n      <g>\n       <use style=\"stroke:#000000;stroke-width:0.8;\" x=\"43.78125\" xlink:href=\"#mf876b04c59\" y=\"74.089554\"/>\n      </g>\n     </g>\n     <g id=\"text_12\">\n      <!-- 0.8 -->\n      <g transform=\"translate(20.878125 77.888772)scale(0.1 -0.1)\">\n       <use xlink:href=\"#DejaVuSans-48\"/>\n       <use x=\"63.623047\" xlink:href=\"#DejaVuSans-46\"/>\n       <use x=\"95.410156\" xlink:href=\"#DejaVuSans-56\"/>\n      </g>\n     </g>\n    </g>\n    <g id=\"ytick_6\">\n     <g id=\"line2d_12\">\n      <g>\n       <use style=\"stroke:#000000;stroke-width:0.8;\" x=\"43.78125\" xlink:href=\"#mf876b04c59\" y=\"32.672411\"/>\n      </g>\n     </g>\n     <g id=\"text_13\">\n      <!-- 1.0 -->\n      <g transform=\"translate(20.878125 36.471629)scale(0.1 -0.1)\">\n       <use xlink:href=\"#DejaVuSans-49\"/>\n       <use x=\"63.623047\" xlink:href=\"#DejaVuSans-46\"/>\n       <use x=\"95.410156\" xlink:href=\"#DejaVuSans-48\"/>\n      </g>\n     </g>\n    </g>\n    <g id=\"text_14\">\n     <!-- True Positive Rate -->\n     <g transform=\"translate(14.798438 175.567812)rotate(-90)scale(0.1 -0.1)\">\n      <defs>\n       <path d=\"M -0.296875 72.90625 \nL 61.375 72.90625 \nL 61.375 64.59375 \nL 35.5 64.59375 \nL 35.5 0 \nL 25.59375 0 \nL 25.59375 64.59375 \nL -0.296875 64.59375 \nz\n\" id=\"DejaVuSans-84\"/>\n       <path d=\"M 41.109375 46.296875 \nQ 39.59375 47.171875 37.8125 47.578125 \nQ 36.03125 48 33.890625 48 \nQ 26.265625 48 22.1875 43.046875 \nQ 18.109375 38.09375 18.109375 28.8125 \nL 18.109375 0 \nL 9.078125 0 \nL 9.078125 54.6875 \nL 18.109375 54.6875 \nL 18.109375 46.1875 \nQ 20.953125 51.171875 25.484375 53.578125 \nQ 30.03125 56 36.53125 56 \nQ 37.453125 56 38.578125 55.875 \nQ 39.703125 55.765625 41.0625 55.515625 \nz\n\" id=\"DejaVuSans-114\"/>\n       <path d=\"M 8.5 21.578125 \nL 8.5 54.6875 \nL 17.484375 54.6875 \nL 17.484375 21.921875 \nQ 17.484375 14.15625 20.5 10.265625 \nQ 23.53125 6.390625 29.59375 6.390625 \nQ 36.859375 6.390625 41.078125 11.03125 \nQ 45.3125 15.671875 45.3125 23.6875 \nL 45.3125 54.6875 \nL 54.296875 54.6875 \nL 54.296875 0 \nL 45.3125 0 \nL 45.3125 8.40625 \nQ 42.046875 3.421875 37.71875 1 \nQ 33.40625 -1.421875 27.6875 -1.421875 \nQ 18.265625 -1.421875 13.375 4.4375 \nQ 8.5 10.296875 8.5 21.578125 \nz\nM 31.109375 56 \nz\n\" id=\"DejaVuSans-117\"/>\n      </defs>\n      <use xlink:href=\"#DejaVuSans-84\"/>\n      <use x=\"46.333984\" xlink:href=\"#DejaVuSans-114\"/>\n      <use x=\"87.447266\" xlink:href=\"#DejaVuSans-117\"/>\n      <use x=\"150.826172\" xlink:href=\"#DejaVuSans-101\"/>\n      <use x=\"212.349609\" xlink:href=\"#DejaVuSans-32\"/>\n      <use x=\"244.136719\" xlink:href=\"#DejaVuSans-80\"/>\n      <use x=\"300.814453\" xlink:href=\"#DejaVuSans-111\"/>\n      <use x=\"361.996094\" xlink:href=\"#DejaVuSans-115\"/>\n      <use x=\"414.095703\" xlink:href=\"#DejaVuSans-105\"/>\n      <use x=\"441.878906\" xlink:href=\"#DejaVuSans-116\"/>\n      <use x=\"481.087891\" xlink:href=\"#DejaVuSans-105\"/>\n      <use x=\"508.871094\" xlink:href=\"#DejaVuSans-118\"/>\n      <use x=\"568.050781\" xlink:href=\"#DejaVuSans-101\"/>\n      <use x=\"629.574219\" xlink:href=\"#DejaVuSans-32\"/>\n      <use x=\"661.361328\" xlink:href=\"#DejaVuSans-82\"/>\n      <use x=\"728.59375\" xlink:href=\"#DejaVuSans-97\"/>\n      <use x=\"789.873047\" xlink:href=\"#DejaVuSans-116\"/>\n      <use x=\"829.082031\" xlink:href=\"#DejaVuSans-101\"/>\n     </g>\n    </g>\n   </g>\n   <g id=\"line2d_13\">\n    <path clip-path=\"url(#pa787e2d3c4)\" d=\"M 43.78125 239.758125 \nL 43.892338 168.681466 \nL 43.892793 168.585904 \nL 44.003882 150.008005 \nL 44.005134 149.898286 \nL 44.116222 139.499758 \nL 44.117474 139.397118 \nL 44.228334 132.902463 \nL 44.230383 132.799822 \nL 44.341358 127.667806 \nL 44.344772 127.565166 \nL 44.455633 123.466631 \nL 44.460186 123.356912 \nL 44.571274 120.150287 \nL 44.57503 120.044107 \nL 44.68589 117.421469 \nL 44.691354 117.311751 \nL 44.801873 114.986416 \nL 44.80745 114.876697 \nL 44.918424 112.852205 \nL 44.923319 112.746025 \nL 45.034407 110.802938 \nL 45.040439 110.696758 \nL 45.151527 108.980187 \nL 45.158812 108.870468 \nL 45.269445 107.238841 \nL 45.279119 107.129122 \nL 45.390094 105.568281 \nL 45.401134 105.462101 \nL 45.512223 104.064069 \nL 45.523149 103.961429 \nL 45.634237 102.736824 \nL 45.642091 102.627105 \nL 45.752838 101.314016 \nL 45.76422 101.204297 \nL 45.875194 100.025703 \nL 45.887714 99.915984 \nL 45.998802 98.811716 \nL 46.010412 98.701997 \nL 46.117403 97.721605 \nL 46.118086 97.721605 \nL 46.678535 93.262059 \nL 46.693217 93.15234 \nL 46.804192 92.3206 \nL 46.819671 92.210881 \nL 46.930532 91.375601 \nL 46.944532 91.265882 \nL 47.055506 90.504928 \nL 47.071327 90.398748 \nL 47.181505 89.729816 \nL 47.203358 89.623637 \nL 47.314332 89.036109 \nL 47.327991 88.92639 \nL 47.437372 88.331784 \nL 47.457176 88.225605 \nL 47.457176 88.222065 \nL 47.590687 87.52128 \nL 47.605939 87.411561 \nL 47.714182 86.802797 \nL 47.736604 86.693078 \nL 47.847579 86.056 \nL 47.874326 85.946281 \nL 47.985301 85.369372 \nL 48.00704 85.259653 \nL 48.117673 84.672126 \nL 48.141803 84.562407 \nL 48.252891 84.042126 \nL 48.271558 83.932407 \nL 48.380711 83.422745 \nL 48.410418 83.313026 \nL 48.518433 82.813982 \nL 48.550075 82.704263 \nL 48.660594 82.233533 \nL 48.686317 82.123814 \nL 48.812202 81.589376 \nL 48.84373 81.479657 \nL 48.954135 81.005388 \nL 48.982135 80.895669 \nL 49.092882 80.407243 \nL 49.116898 80.297524 \nL 49.227986 79.84803 \nL 49.263156 79.738311 \nL 49.373903 79.295896 \nL 49.402813 79.186177 \nL 49.513332 78.718986 \nL 49.546568 78.609267 \nL 49.657428 78.209324 \nL 49.682696 78.099605 \nL 49.791963 77.650111 \nL 49.816548 77.540392 \nL 49.927637 77.211235 \nL 49.96349 77.101516 \nL 50.071619 76.694494 \nL 50.107244 76.584775 \nL 50.217422 76.24854 \nL 50.246788 76.138821 \nL 50.353551 75.816743 \nL 50.354916 75.816743 \nL 50.574247 75.165507 \nL 50.682604 74.779721 \nL 50.725628 74.670002 \nL 50.833529 74.379778 \nL 50.869382 74.270059 \nL 50.979332 73.969217 \nL 51.019738 73.859498 \nL 51.127526 73.526801 \nL 51.130485 73.526801 \nL 51.167818 73.420622 \nL 51.277882 73.190566 \nL 51.313052 73.080847 \nL 51.421636 72.765847 \nL 51.476156 72.656128 \nL 51.586106 72.394218 \nL 51.649048 72.284499 \nL 51.759681 71.990736 \nL 51.807372 71.881017 \nL 51.915956 71.594332 \nL 51.974687 71.484613 \nL 52.085547 71.2404 \nL 52.131872 71.130681 \nL 52.241936 70.879389 \nL 52.317399 70.76967 \nL 52.428145 70.504221 \nL 52.479364 70.394502 \nL 52.58829 70.14321 \nL 52.588859 70.14321 \nL 52.633932 70.033491 \nL 52.743882 69.739727 \nL 52.814222 69.630008 \nL 52.92531 69.403492 \nL 52.987001 69.293773 \nL 53.096154 69.095571 \nL 53.169682 68.985852 \nL 53.273485 68.738099 \nL 53.3502 68.62838 \nL 53.459695 68.405403 \nL 53.526621 68.295684 \nL 53.633498 68.065628 \nL 53.633611 68.065628 \nL 54.139768 67.110011 \nL 54.247897 66.90827 \nL 54.310498 66.798551 \nL 54.419879 66.628663 \nL 54.490447 66.518944 \nL 54.596072 66.313664 \nL 54.669372 66.203945 \nL 54.780347 66.041136 \nL 54.844313 65.931417 \nL 54.952898 65.747372 \nL 54.953808 65.747372 \nL 55.050896 65.637653 \nL 55.160846 65.414676 \nL 55.231756 65.308496 \nL 55.342389 65.106755 \nL 55.411592 64.997036 \nL 55.5212 64.788216 \nL 55.619541 64.678497 \nL 55.730515 64.50507 \nL 55.797669 64.395351 \nL 55.900448 64.236082 \nL 55.908529 64.236082 \nL 56.073454 63.963554 \nL 56.143567 63.853835 \nL 56.253745 63.691026 \nL 56.327045 63.581307 \nL 56.610342 63.209679 \nL 56.708797 63.09996 \nL 56.812828 62.937151 \nL 56.928241 62.827432 \nL 57.034663 62.696477 \nL 57.140743 62.586758 \nL 57.249896 62.445185 \nL 57.341407 62.335466 \nL 57.451244 62.190354 \nL 57.530576 62.084174 \nL 57.635859 61.921365 \nL 57.746492 61.811646 \nL 57.853028 61.677152 \nL 57.855873 61.677152 \nL 57.940328 61.567433 \nL 58.04618 61.432939 \nL 58.153854 61.326759 \nL 58.600028 60.848951 \nL 58.704742 60.739232 \nL 58.813781 60.572884 \nL 58.946951 60.463165 \nL 59.056901 60.318053 \nL 59.160135 60.208334 \nL 59.269402 60.087997 \nL 59.271223 60.087997 \nL 59.384133 59.978278 \nL 59.491465 59.872098 \nL 59.606195 59.762379 \nL 59.713527 59.649121 \nL 59.716828 59.649121 \nL 59.803673 59.539402 \nL 59.913395 59.450919 \nL 60.038483 59.3412 \nL 60.144791 59.266874 \nL 60.149457 59.266874 \nL 60.282285 59.157155 \nL 60.391552 59.054515 \nL 60.500023 58.944796 \nL 60.610542 58.796144 \nL 60.727093 58.686425 \nL 60.835677 58.583785 \nL 60.966115 58.474066 \nL 61.076406 58.35019 \nL 61.076634 58.35019 \nL 61.212535 58.240471 \nL 61.320436 58.166145 \nL 61.419459 58.056426 \nL 61.528613 57.971482 \nL 61.635831 57.861763 \nL 61.745895 57.741427 \nL 61.854365 57.631708 \nL 61.964088 57.553842 \nL 62.131517 57.444123 \nL 62.24158 57.323787 \nL 62.409806 57.214068 \nL 62.514179 57.111427 \nL 62.622649 57.001708 \nL 62.730892 56.891989 \nL 62.732827 56.891989 \nL 62.847102 56.78227 \nL 62.954889 56.672551 \nL 63.089994 56.566372 \nL 63.195505 56.467271 \nL 63.321162 56.357552 \nL 63.426559 56.254911 \nL 63.430998 56.254911 \nL 63.566216 56.145192 \nL 63.67093 56.063788 \nL 63.673548 56.063788 \nL 63.820148 55.954069 \nL 63.925545 55.883283 \nL 64.053934 55.773564 \nL 64.164681 55.68862 \nL 64.36876 55.578901 \nL 64.47336 55.518732 \nL 64.476092 55.518732 \nL 64.624627 55.412553 \nL 64.731276 55.334688 \nL 64.905762 55.224969 \nL 65.013322 55.129407 \nL 65.241986 55.019688 \nL 65.350798 54.963059 \nL 65.486699 54.85334 \nL 65.59221 54.796711 \nL 65.593689 54.796711 \nL 65.829296 54.686992 \nL 65.93845 54.594969 \nL 66.100643 54.485251 \nL 66.199097 54.425082 \nL 66.204219 54.425082 \nL 66.410802 54.315363 \nL 66.515858 54.241037 \nL 66.70901 54.131318 \nL 66.807123 54.053453 \nL 67.014047 53.943734 \nL 67.122973 53.865869 \nL 67.272191 53.75615 \nL 67.36871 53.70306 \nL 67.376564 53.70306 \nL 67.556171 53.60042 \nL 67.789616 53.490701 \nL 67.89968 53.434072 \nL 67.900021 53.434072 \nL 68.126978 53.324353 \nL 68.233741 53.264185 \nL 68.465706 53.154466 \nL 68.566323 53.108454 \nL 68.770402 52.998735 \nL 68.878303 52.938567 \nL 69.065081 52.828848 \nL 69.17617 52.775758 \nL 69.348493 52.666039 \nL 69.449906 52.605871 \nL 69.713855 52.496152 \nL 69.824032 52.432444 \nL 70.068404 52.322725 \nL 70.17198 52.234242 \nL 70.179036 52.234242 \nL 70.352498 52.124523 \nL 70.458237 52.050197 \nL 70.759632 51.940478 \nL 70.85433 51.883849 \nL 70.865826 51.883849 \nL 71.109628 51.77413 \nL 71.220602 51.742276 \nL 71.421608 51.632557 \nL 71.524501 51.568849 \nL 71.528257 51.568849 \nL 71.705247 51.45913 \nL 71.81349 51.413119 \nL 72.113633 51.3034 \nL 72.215843 51.246771 \nL 72.443938 51.137052 \nL 72.551839 51.083962 \nL 72.842307 50.974243 \nL 72.938258 50.924693 \nL 73.260026 50.814974 \nL 73.37009 50.758345 \nL 73.659762 50.648626 \nL 73.764476 50.606154 \nL 74.069513 50.496435 \nL 74.174341 50.461042 \nL 74.178667 50.461042 \nL 74.43442 50.351323 \nL 74.530825 50.287615 \nL 74.746286 50.177896 \nL 74.843261 50.146042 \nL 74.856691 50.146042 \nL 75.103453 50.036323 \nL 75.199403 49.979694 \nL 75.213517 49.979694 \nL 75.444002 49.869975 \nL 75.553611 49.823964 \nL 75.880615 49.714245 \nL 75.985785 49.650537 \nL 76.291277 49.540818 \nL 76.400999 49.508964 \nL 76.697955 49.399245 \nL 76.79732 49.339077 \nL 77.107935 49.229358 \nL 77.218909 49.190425 \nL 77.471134 49.080706 \nL 77.573458 49.038234 \nL 77.822837 48.928515 \nL 77.912641 48.882504 \nL 77.914804 48.882504 \nL 78.340945 48.772785 \nL 78.442359 48.730313 \nL 78.451237 48.730313 \nL 78.846305 48.620594 \nL 78.955573 48.578123 \nL 79.206887 48.468404 \nL 79.310804 48.422392 \nL 79.316951 48.422392 \nL 79.775531 48.312673 \nL 79.875806 48.238348 \nL 80.222729 48.128629 \nL 80.33063 48.075539 \nL 80.331882 48.075539 \nL 80.719894 47.96582 \nL 80.828251 47.923348 \nL 81.13454 47.813629 \nL 81.239141 47.771157 \nL 81.548731 47.661438 \nL 81.659363 47.615427 \nL 81.935377 47.505708 \nL 82.036676 47.473854 \nL 82.436981 47.364135 \nL 82.534866 47.318124 \nL 82.542947 47.318124 \nL 82.987869 47.208405 \nL 83.079722 47.18363 \nL 83.529652 47.073911 \nL 83.629016 47.02436 \nL 83.633455 47.02436 \nL 83.971842 46.914641 \nL 84.08054 46.882787 \nL 84.501104 46.773068 \nL 84.598192 46.730597 \nL 85.07874 46.620878 \nL 85.177308 46.603181 \nL 85.536637 46.493462 \nL 85.63953 46.45099 \nL 86.049282 46.341271 \nL 86.159004 46.320035 \nL 86.63056 46.210316 \nL 86.717746 46.164305 \nL 86.735843 46.164305 \nL 87.103823 46.054586 \nL 87.21309 46.008575 \nL 87.611004 45.898856 \nL 87.713442 45.856384 \nL 88.434719 45.746665 \nL 88.518604 45.714811 \nL 88.54023 45.714811 \nL 89.010989 45.605092 \nL 89.116727 45.56616 \nL 89.64064 45.456441 \nL 89.721794 45.435205 \nL 89.734314 45.435205 \nL 90.190504 45.325486 \nL 90.300454 45.300711 \nL 90.719425 45.190992 \nL 90.823001 45.155598 \nL 90.823342 45.155598 \nL 91.308557 45.045879 \nL 91.408035 45.021104 \nL 91.866046 44.911385 \nL 91.974858 44.879531 \nL 92.371976 44.769812 \nL 92.477487 44.741498 \nL 92.480673 44.741498 \nL 92.965774 44.631779 \nL 93.055464 44.603464 \nL 93.066846 44.603464 \nL 93.632189 44.493745 \nL 94.715299 44.217678 \nL 95.235797 44.107959 \nL 95.297146 44.097341 \nL 95.346772 44.097341 \nL 95.897091 43.987622 \nL 96.011252 43.94869 \nL 96.648302 43.838971 \nL 96.754496 43.810656 \nL 97.321774 43.700937 \nL 97.419887 43.662005 \nL 97.431496 43.662005 \nL 98.070253 43.552286 \nL 98.173488 43.523971 \nL 98.704344 43.414252 \nL 98.812814 43.396556 \nL 99.438482 43.286837 \nL 99.540009 43.262061 \nL 100.130962 43.152342 \nL 100.165791 43.145264 \nL 100.219286 43.145264 \nL 100.837328 43.035545 \nL 100.935896 43.024927 \nL 100.946937 43.024927 \nL 101.467549 42.915208 \nL 101.565661 42.886893 \nL 101.566458 42.886893 \nL 102.228776 42.777174 \nL 102.310726 42.759478 \nL 102.329734 42.759478 \nL 103.013678 42.656837 \nL 103.194651 42.617905 \nL 103.714353 42.508186 \nL 103.794254 42.483411 \nL 104.391695 42.373692 \nL 104.49436 42.363074 \nL 104.500393 42.363074 \nL 105.281083 42.253355 \nL 105.392285 42.228579 \nL 106.208829 42.11886 \nL 106.290666 42.094085 \nL 106.30956 42.094085 \nL 106.990772 41.984366 \nL 107.075567 41.970209 \nL 107.099811 41.970209 \nL 108.041898 41.86049 \nL 108.086515 41.842793 \nL 108.126694 41.842793 \nL 109.244405 41.733074 \nL 109.343997 41.711838 \nL 110.002673 41.602119 \nL 110.091566 41.584423 \nL 110.113647 41.584423 \nL 111.009182 41.474704 \nL 111.009182 41.471165 \nL 111.117538 41.471165 \nL 111.832896 41.361446 \nL 111.896749 41.343749 \nL 111.934651 41.343749 \nL 112.920673 41.23403 \nL 113.023566 41.219873 \nL 113.755769 41.110154 \nL 113.791053 41.095996 \nL 113.864581 41.095996 \nL 114.980243 40.986277 \nL 115.078242 40.968581 \nL 116.000638 40.858862 \nL 116.083385 40.841165 \nL 116.109905 40.841165 \nL 117.220104 40.731446 \nL 117.320494 40.71021 \nL 117.321404 40.71021 \nL 118.05816 40.600491 \nL 118.141818 40.586334 \nL 118.154338 40.586334 \nL 118.929451 40.476615 \nL 119.037239 40.444761 \nL 119.96248 40.335042 \nL 120.051146 40.317346 \nL 120.057065 40.317346 \nL 120.875657 40.207627 \nL 120.92847 40.200548 \nL 120.975477 40.200548 \nL 121.936003 40.090829 \nL 122.020116 40.069593 \nL 122.025807 40.069593 \nL 122.819473 39.959874 \nL 122.904269 39.942178 \nL 122.917244 39.942178 \nL 124.22401 39.832459 \nL 124.284448 39.804144 \nL 124.309489 39.804144 \nL 125.133203 39.694425 \nL 125.133203 39.690886 \nL 125.240763 39.690886 \nL 126.454993 39.581167 \nL 126.563236 39.56347 \nL 126.565512 39.56347 \nL 127.698589 39.453751 \nL 127.794767 39.443133 \nL 129.047468 39.333414 \nL 129.122476 39.312178 \nL 129.149337 39.312178 \nL 130.179179 39.202459 \nL 130.269666 39.177684 \nL 130.278202 39.177684 \nL 131.741926 39.067965 \nL 131.820006 39.050268 \nL 131.837421 39.050268 \nL 133.255844 38.940549 \nL 133.362493 38.933471 \nL 134.360921 38.823752 \nL 134.448107 38.816673 \nL 134.465522 38.816673 \nL 135.483299 38.706954 \nL 135.523363 38.699876 \nL 135.593476 38.699876 \nL 137.401505 38.590157 \nL 137.511114 38.579539 \nL 138.62541 38.46982 \nL 138.723409 38.452123 \nL 138.729783 38.452123 \nL 140.167897 38.342404 \nL 140.208417 38.335325 \nL 140.275684 38.335325 \nL 141.823407 38.225607 \nL 141.841846 38.214989 \nL 141.896252 38.214989 \nL 143.17331 38.10527 \nL 143.220432 38.094652 \nL 143.264025 38.094652 \nL 145.283645 37.984933 \nL 145.35592 37.974315 \nL 145.390977 37.974315 \nL 147.341166 37.864596 \nL 147.415149 37.850438 \nL 147.448499 37.850438 \nL 149.739237 37.740719 \nL 149.739237 37.73718 \nL 149.829724 37.73718 \nL 152.12604 37.627461 \nL 152.181925 37.616843 \nL 152.216299 37.616843 \nL 153.979824 37.507124 \nL 154.084993 37.489428 \nL 155.596749 37.383248 \nL 155.75917 37.358473 \nL 157.257039 37.248754 \nL 157.346502 37.238136 \nL 157.362892 37.238136 \nL 159.192432 37.128417 \nL 159.212578 37.117799 \nL 159.260838 37.117799 \nL 161.300604 37.00808 \nL 161.370603 37.001001 \nL 161.381188 37.001001 \nL 163.092584 36.891282 \nL 163.13299 36.884204 \nL 163.199575 36.884204 \nL 165.09957 36.774485 \nL 165.154545 36.767406 \nL 165.182772 36.767406 \nL 168.175893 36.657687 \nL 168.266835 36.650608 \nL 170.223057 36.540889 \nL 170.312406 36.526732 \nL 172.117703 36.417013 \nL 172.218547 36.402856 \nL 174.206183 36.293137 \nL 174.256378 36.282519 \nL 174.315564 36.282519 \nL 176.789098 36.1728 \nL 176.789098 36.169261 \nL 176.896202 36.169261 \nL 180.165792 36.059542 \nL 180.277221 36.048924 \nL 182.449246 35.939205 \nL 182.546676 35.925047 \nL 182.549749 35.925047 \nL 184.769578 35.815328 \nL 184.769578 35.811789 \nL 184.879186 35.811789 \nL 187.651155 35.70207 \nL 187.690423 35.694991 \nL 187.751317 35.694991 \nL 190.652244 35.585272 \nL 190.704601 35.578194 \nL 190.704828 35.578194 \nL 194.414218 35.468475 \nL 194.488997 35.461396 \nL 194.521436 35.461396 \nL 197.790912 35.351677 \nL 197.790912 35.348138 \nL 197.890049 35.348138 \nL 200.971266 35.238419 \nL 201.042859 35.23134 \nL 201.078485 35.23134 \nL 203.903608 35.121621 \nL 203.903608 35.118082 \nL 203.938095 35.118082 \nL 208.321867 35.008363 \nL 208.403249 34.997745 \nL 208.416224 34.997745 \nL 212.163743 34.888026 \nL 212.172735 34.880947 \nL 212.272555 34.880947 \nL 215.590518 34.771228 \nL 215.66359 34.76415 \nL 215.693866 34.76415 \nL 220.349213 34.654431 \nL 220.398155 34.647352 \nL 220.449374 34.647352 \nL 224.770432 34.537633 \nL 224.827569 34.530555 \nL 228.426212 34.420836 \nL 228.426212 34.417296 \nL 228.511121 34.417296 \nL 232.590084 34.307577 \nL 232.695367 34.296959 \nL 232.696619 34.296959 \nL 237.59076 34.18724 \nL 237.622743 34.173083 \nL 237.697978 34.173083 \nL 243.201283 34.063364 \nL 243.201283 34.059825 \nL 243.295867 34.059825 \nL 248.467273 33.950106 \nL 248.541369 33.943027 \nL 248.566751 33.943027 \nL 255.746622 33.833308 \nL 255.746622 33.829769 \nL 255.802508 33.829769 \nL 261.57363 33.72005 \nL 261.631337 33.712971 \nL 261.666735 33.712971 \nL 267.976112 33.603252 \nL 267.990339 33.596174 \nL 268.07411 33.596174 \nL 276.355075 33.486455 \nL 276.355075 33.482915 \nL 276.438732 33.482915 \nL 284.374026 33.373196 \nL 284.374026 33.369657 \nL 284.471228 33.369657 \nL 296.459533 33.259938 \nL 296.482183 33.252859 \nL 296.560719 33.252859 \nL 307.927454 33.143141 \nL 307.927454 33.139601 \nL 307.950218 33.139601 \nL 319.149068 33.029882 \nL 319.149068 33.026343 \nL 319.24536 33.026343 \nL 332.397246 32.916624 \nL 332.397246 32.913085 \nL 332.478285 32.913085 \nL 347.129634 32.803366 \nL 347.138398 32.796287 \nL 347.220007 32.796287 \nL 370.23666 32.686568 \nL 370.23666 32.683029 \nL 370.247587 32.683029 \nL 378.58125 32.672411 \nL 378.58125 32.672411 \n\" style=\"fill:none;stroke:#ff1493;stroke-dasharray:4,6.6;stroke-dashoffset:0;stroke-width:4;\"/>\n   </g>\n   <g id=\"line2d_14\">\n    <path clip-path=\"url(#pa787e2d3c4)\" d=\"M 43.78125 226.078009 \nL 43.792453 225.985981 \nL 43.901999 187.109835 \nL 43.904627 186.53951 \nL 44.024118 170.458844 \nL 44.027946 169.708025 \nL 44.164355 158.674474 \nL 44.196537 156.637385 \nL 44.358257 149.090207 \nL 44.382307 148.313072 \nL 44.499585 144.243079 \nL 44.626491 139.711112 \nL 45.648316 123.125846 \nL 46.844154 111.861268 \nL 47.506822 107.807138 \nL 47.53403 107.691888 \nL 47.664574 106.924144 \nL 47.761492 106.382008 \nL 47.901554 105.500922 \nL 48.41008 103.251513 \nL 48.440919 103.131176 \nL 50.775218 94.700196 \nL 50.887771 94.484169 \nL 51.116212 93.858549 \nL 51.187079 93.743839 \nL 51.397139 93.149587 \nL 51.585812 92.728744 \nL 51.755085 92.285344 \nL 52.211022 91.274913 \nL 52.323444 91.039009 \nL 52.394148 90.857905 \nL 52.51536 90.543245 \nL 53.417586 88.382203 \nL 53.466249 88.2732 \nL 53.597254 88.039141 \nL 53.663199 87.923935 \nL 53.97638 87.330592 \nL 54.139932 87.078116 \nL 54.306821 86.782271 \nL 54.492681 86.510661 \nL 55.021013 85.479917 \nL 55.083331 85.363499 \nL 55.260819 85.060187 \nL 56.291281 83.559998 \nL 56.408467 83.314705 \nL 56.499007 83.199366 \nL 56.670784 82.957034 \nL 56.786373 82.810347 \nL 56.942409 82.60268 \nL 57.055457 82.436504 \nL 57.178982 82.328637 \nL 57.340553 81.99827 \nL 57.387496 81.887523 \nL 57.580634 81.681605 \nL 57.767761 81.425434 \nL 57.901908 81.262925 \nL 58.078679 81.054759 \nL 58.191545 80.946793 \nL 58.428394 80.619172 \nL 58.507808 80.506081 \nL 58.778982 80.193285 \nL 58.910729 80.083626 \nL 59.510415 79.353197 \nL 59.592216 79.2455 \nL 59.714428 79.106431 \nL 59.941068 78.86493 \nL 60.070253 78.738709 \nL 60.181983 78.615181 \nL 60.309579 78.492048 \nL 60.470033 78.270692 \nL 60.596349 78.1615 \nL 60.729585 78.026195 \nL 60.855657 77.899234 \nL 60.969581 77.793317 \nL 61.424469 77.200151 \nL 61.652426 77.004391 \nL 61.811493 76.89314 \nL 61.972099 76.771962 \nL 62.144478 76.636786 \nL 62.379367 76.525873 \nL 62.56308 76.368034 \nL 62.662073 76.263035 \nL 62.859628 76.106025 \nL 63.011213 75.996577 \nL 63.169898 75.857911 \nL 63.328914 75.749211 \nL 63.466442 75.647571 \nL 63.668566 75.494132 \nL 64.329138 74.781465 \nL 64.468935 74.675106 \nL 64.625206 74.51325 \nL 64.754167 74.404756 \nL 64.940591 74.241316 \nL 65.192482 74.085001 \nL 65.309835 73.959804 \nL 65.558501 73.78031 \nL 65.687931 73.688478 \nL 65.787678 73.581847 \nL 65.902417 73.4036 \nL 66.009986 73.300574 \nL 66.182766 73.16434 \nL 66.363351 73.063298 \nL 66.47518 72.962316 \nL 66.725681 72.806262 \nL 66.84617 72.705151 \nL 67.014283 72.599157 \nL 67.190965 72.43525 \nL 67.360773 72.269335 \nL 67.516778 72.086583 \nL 71.912785 68.83464 \nL 72.053494 68.726887 \nL 72.235894 68.650174 \nL 72.416272 68.540235 \nL 72.550668 68.379783 \nL 72.927627 68.148331 \nL 73.182851 68.037819 \nL 73.373293 67.88105 \nL 73.482913 67.768105 \nL 74.205183 67.200957 \nL 74.331159 67.093623 \nL 74.595813 66.990879 \nL 74.721605 66.895267 \nL 74.96443 66.787533 \nL 75.150636 66.670433 \nL 75.340098 66.567169 \nL 75.468661 66.520491 \nL 75.674847 66.411733 \nL 75.79133 66.318461 \nL 76.024934 66.205992 \nL 76.179357 66.084487 \nL 76.352978 65.97504 \nL 76.495269 65.860281 \nL 77.008337 65.599525 \nL 77.134449 65.477202 \nL 77.496872 65.334045 \nL 77.610929 65.240614 \nL 77.874503 65.134266 \nL 78.15707 64.957548 \nL 78.356584 64.856207 \nL 78.460285 64.830979 \nL 78.692043 64.721023 \nL 78.810967 64.593352 \nL 79.150372 64.475598 \nL 79.255483 64.44293 \nL 79.43099 64.346901 \nL 79.53812 64.266216 \nL 79.736618 64.153891 \nL 79.996565 64.045073 \nL 80.307606 63.935483 \nL 80.676702 63.719104 \nL 81.039078 63.608731 \nL 81.169459 63.541311 \nL 81.503913 63.425122 \nL 81.917137 63.241236 \nL 82.185997 63.130541 \nL 82.314655 63.095623 \nL 82.56878 62.99698 \nL 82.691924 62.950897 \nL 83.479254 62.572802 \nL 83.5906 62.499335 \nL 83.910348 62.389147 \nL 84.696892 61.924571 \nL 85.132168 61.729609 \nL 85.234649 61.66884 \nL 85.53616 61.556362 \nL 85.693134 61.502473 \nL 85.972178 61.395489 \nL 86.116915 61.329079 \nL 86.415857 61.217123 \nL 86.723367 61.039846 \nL 87.79547 60.648553 \nL 87.910842 60.587928 \nL 88.038239 60.502139 \nL 88.227501 60.390533 \nL 88.347716 60.296776 \nL 88.54547 60.2123 \nL 88.663367 60.137735 \nL 89.024493 60.027826 \nL 89.157375 59.974443 \nL 89.373384 59.864744 \nL 89.50437 59.832214 \nL 89.753855 59.761019 \nL 89.918022 59.656126 \nL 90.037818 59.623732 \nL 90.814609 59.31775 \nL 90.919116 59.280929 \nL 91.142049 59.175219 \nL 91.274829 59.087861 \nL 91.434608 59.00996 \nL 91.771453 58.89911 \nL 92.418316 58.677072 \nL 92.734521 58.565561 \nL 92.858502 58.537754 \nL 93.077585 58.431262 \nL 93.18615 58.34604 \nL 93.526551 58.222312 \nL 93.649153 58.151979 \nL 94.082799 58.028913 \nL 94.206708 57.982465 \nL 94.557456 57.870499 \nL 94.706195 57.7884 \nL 95.063235 57.664157 \nL 95.943175 57.293229 \nL 96.436072 57.097538 \nL 96.601571 57.029221 \nL 98.336305 56.305346 \nL 98.789231 56.197689 \nL 98.91512 56.142565 \nL 99.398135 56.028875 \nL 99.547411 55.960549 \nL 99.96176 55.851477 \nL 100.496004 55.720715 \nL 100.608244 55.68013 \nL 100.787561 55.620779 \nL 101.017738 55.509792 \nL 102.24676 55.105585 \nL 102.36592 55.034547 \nL 102.93545 54.924778 \nL 105.223327 54.352207 \nL 105.342412 54.278206 \nL 105.776676 54.168108 \nL 106.074579 54.075386 \nL 106.538026 53.953679 \nL 106.652418 53.898115 \nL 107.163698 53.791873 \nL 107.288141 53.760781 \nL 107.653449 53.650742 \nL 108.084856 53.522149 \nL 108.44307 53.409544 \nL 108.590332 53.339591 \nL 108.986291 53.220636 \nL 109.210011 53.187175 \nL 109.677217 53.079038 \nL 109.797035 53.025236 \nL 110.32586 52.908051 \nL 111.093282 52.682221 \nL 111.198698 52.656714 \nL 111.836784 52.547202 \nL 112.104695 52.430453 \nL 112.387531 52.320556 \nL 112.589202 52.223478 \nL 113.114556 52.114289 \nL 113.297199 52.058054 \nL 114.433805 51.807226 \nL 114.769847 51.692951 \nL 115.266757 51.587719 \nL 115.40623 51.537145 \nL 115.949175 51.419814 \nL 116.052251 51.390706 \nL 116.826037 51.259525 \nL 116.962627 51.20471 \nL 117.567302 51.094167 \nL 118.268422 50.947124 \nL 118.378003 50.929335 \nL 119.606596 50.70148 \nL 119.718626 50.669521 \nL 120.315687 50.559439 \nL 120.435172 50.529979 \nL 120.912245 50.418975 \nL 121.038403 50.39752 \nL 121.64484 50.287523 \nL 123.280819 49.890887 \nL 124.037763 49.754251 \nL 124.285136 49.703605 \nL 124.892708 49.566258 \nL 125.003308 49.542451 \nL 125.809643 49.193715 \nL 126.06631 49.120786 \nL 128.28363 48.708185 \nL 128.40184 48.686294 \nL 128.700728 48.578108 \nL 128.80911 48.507325 \nL 129.507925 48.389431 \nL 129.624599 48.382603 \nL 130.120273 48.272461 \nL 130.255788 48.253426 \nL 131.046223 48.14687 \nL 131.15105 48.116933 \nL 131.895991 48.007483 \nL 132.02034 47.993404 \nL 132.437004 47.894846 \nL 132.606658 47.83899 \nL 133.793266 47.736446 \nL 133.962457 47.698026 \nL 134.442985 47.593279 \nL 134.572219 47.575003 \nL 134.862663 47.465577 \nL 138.314731 46.868716 \nL 138.425733 46.833653 \nL 139.209018 46.723048 \nL 139.796911 46.649958 \nL 140.766874 46.550844 \nL 140.89376 46.527574 \nL 141.460198 46.416522 \nL 145.470479 45.766311 \nL 145.573903 45.757982 \nL 146.576147 45.647137 \nL 147.59663 45.444134 \nL 147.703296 45.426912 \nL 148.321396 45.316888 \nL 149.333789 45.125958 \nL 149.450018 45.112866 \nL 150.308013 45.01278 \nL 150.436544 44.983444 \nL 153.287906 44.624068 \nL 153.985969 44.513061 \nL 155.11121 44.423016 \nL 155.852657 44.330345 \nL 155.998383 44.279084 \nL 157.272775 44.103668 \nL 157.419264 44.062339 \nL 158.239564 43.956899 \nL 158.359692 43.935573 \nL 158.751028 43.834021 \nL 158.862699 43.805078 \nL 160.090727 43.694252 \nL 160.20368 43.675581 \nL 161.365713 43.567953 \nL 161.481836 43.554307 \nL 162.2712 43.454361 \nL 162.382844 43.433031 \nL 178.668011 41.751456 \nL 178.794072 41.731929 \nL 179.759727 41.657994 \nL 181.000905 41.553818 \nL 181.116136 41.496774 \nL 182.196309 41.387381 \nL 182.503546 41.336324 \nL 184.594091 41.152981 \nL 184.918455 41.098968 \nL 185.652315 40.988367 \nL 186.136008 40.941345 \nL 187.84793 40.832439 \nL 188.171825 40.805702 \nL 189.54238 40.695057 \nL 189.690633 40.671934 \nL 190.899007 40.561602 \nL 191.124436 40.532369 \nL 192.921806 40.427647 \nL 193.028903 40.410186 \nL 194.582753 40.299441 \nL 194.69884 40.276698 \nL 195.684196 40.172374 \nL 195.880436 40.151456 \nL 197.250878 40.05195 \nL 197.366359 40.034098 \nL 197.59257 40.004423 \nL 198.709852 39.898709 \nL 198.839194 39.877948 \nL 199.651706 39.767778 \nL 199.744751 39.753594 \nL 200.584746 39.652129 \nL 200.686201 39.617544 \nL 200.913443 39.584143 \nL 202.426949 39.474596 \nL 203.375731 39.400809 \nL 204.744532 39.295982 \nL 204.865766 39.277219 \nL 207.130617 39.088521 \nL 207.226827 39.064043 \nL 207.812137 38.963846 \nL 207.91428 38.927833 \nL 210.124082 38.818863 \nL 210.85032 38.765131 \nL 212.763247 38.655109 \nL 214.124387 38.457135 \nL 216.077101 38.346825 \nL 216.201229 38.332162 \nL 218.451601 38.233257 \nL 218.605911 38.188844 \nL 220.014281 38.079618 \nL 220.146404 38.070114 \nL 221.376182 37.95966 \nL 221.970396 37.928806 \nL 223.619692 37.820782 \nL 223.72979 37.817168 \nL 225.735071 37.707186 \nL 244.293707 36.512297 \nL 245.568183 36.401472 \nL 246.207499 36.360985 \nL 248.343848 36.264661 \nL 250.658203 36.169618 \nL 252.052499 36.064603 \nL 252.79012 36.056191 \nL 255.216753 35.946133 \nL 255.59867 35.925935 \nL 258.073874 35.816004 \nL 258.314923 35.794188 \nL 260.112681 35.684482 \nL 264.652356 35.518122 \nL 267.90577 35.414324 \nL 268.027115 35.40248 \nL 269.698061 35.299371 \nL 269.812255 35.275903 \nL 271.940336 35.174379 \nL 272.633028 35.13248 \nL 274.82274 35.034741 \nL 275.069783 35.001651 \nL 278.606094 34.901386 \nL 279.470659 34.861567 \nL 282.848832 34.755666 \nL 283.184211 34.734088 \nL 287.243679 34.632845 \nL 287.353898 34.621829 \nL 289.92764 34.520462 \nL 291.089726 34.477821 \nL 294.335853 34.381116 \nL 295.392218 34.326049 \nL 297.553929 34.225168 \nL 297.745487 34.213789 \nL 300.760503 34.103523 \nL 300.915668 34.099266 \nL 304.169096 33.998221 \nL 304.300756 33.980675 \nL 309.855676 33.872375 \nL 310.011138 33.857893 \nL 315.752977 33.75249 \nL 315.839687 33.731572 \nL 320.945933 33.628726 \nL 321.01317 33.612548 \nL 326.325281 33.504133 \nL 326.373781 33.486281 \nL 330.477867 33.386035 \nL 332.54611 33.275323 \nL 341.246589 33.168331 \nL 341.944754 33.119098 \nL 349.275864 33.008866 \nL 349.84854 32.981444 \nL 355.808792 32.870694 \nL 357.172362 32.869277 \nL 369.282186 32.738652 \nL 378.58125 32.672411 \nL 378.58125 32.672411 \n\" style=\"fill:none;stroke:#000080;stroke-dasharray:4,6.6;stroke-dashoffset:0;stroke-width:4;\"/>\n   </g>\n   <g id=\"line2d_15\">\n    <path clip-path=\"url(#pa787e2d3c4)\" d=\"M 43.78125 239.758125 \nL 43.885676 237.406933 \nL 43.897278 237.406933 \nL 43.990101 235.055742 \nL 44.013307 235.055742 \nL 44.10613 233.427994 \nL 44.129335 233.427994 \nL 44.198952 230.353359 \nL 44.280172 230.353359 \nL 44.372995 228.002167 \nL 44.396201 228.002167 \nL 44.442612 227.278724 \nL 44.570243 227.278724 \nL 44.663066 225.289254 \nL 44.709477 225.289254 \nL 44.8023 223.118924 \nL 44.825506 223.118924 \nL 44.918328 221.852897 \nL 44.96474 221.852897 \nL 45.034357 221.310315 \nL 45.138782 221.310315 \nL 45.196797 220.767732 \nL 45.266414 220.767732 \nL 45.289619 219.320845 \nL 45.452059 219.320845 \nL 45.510073 218.597401 \nL 45.591293 218.597401 \nL 45.672513 218.23568 \nL 45.776939 218.23568 \nL 45.881364 217.150514 \nL 45.939379 217.150514 \nL 46.043804 216.065349 \nL 46.090216 216.065349 \nL 46.194641 214.980184 \nL 46.22945 214.980184 \nL 46.31067 214.075879 \nL 46.391889 214.075879 \nL 46.461506 213.171575 \nL 46.531124 213.171575 \nL 46.612343 212.809853 \nL 46.705166 212.809853 \nL 46.809592 211.905549 \nL 46.8444 211.905549 \nL 46.948826 211.362966 \nL 46.972031 211.362966 \nL 47.041649 210.820383 \nL 47.08806 210.820383 \nL 47.146074 209.735218 \nL 47.215691 209.735218 \nL 47.308514 209.011774 \nL 47.354925 209.011774 \nL 47.447748 208.469192 \nL 47.552174 208.469192 \nL 47.552174 208.288331 \nL 47.691408 208.288331 \nL 47.691408 208.10747 \nL 47.807436 208.10747 \nL 47.911862 207.022305 \nL 47.935067 207.022305 \nL 48.02789 206.298861 \nL 48.120713 206.298861 \nL 48.155521 205.756278 \nL 48.259947 205.756278 \nL 48.317961 205.032835 \nL 48.387578 205.032835 \nL 48.492004 203.94767 \nL 48.526812 203.94767 \nL 48.550018 203.585948 \nL 48.666046 203.585948 \nL 48.770472 202.862504 \nL 48.793678 202.862504 \nL 48.816883 202.500783 \nL 48.956117 202.500783 \nL 49.04894 201.777339 \nL 49.188174 201.777339 \nL 49.269394 201.053895 \nL 49.397025 201.053895 \nL 49.501451 200.511313 \nL 49.524657 200.511313 \nL 49.571068 200.149591 \nL 49.652288 200.149591 \nL 49.721905 199.245287 \nL 49.768316 199.245287 \nL 49.768316 199.064426 \nL 49.884345 199.064426 \nL 49.942359 198.702704 \nL 50.035182 198.702704 \nL 50.035182 198.521843 \nL 50.278841 198.521843 \nL 50.348458 198.160121 \nL 50.406473 198.160121 \nL 50.487693 197.436678 \nL 50.615324 197.436678 \nL 50.696544 197.074956 \nL 50.777764 197.074956 \nL 50.870586 196.351512 \nL 50.893792 196.351512 \nL 50.998218 195.80893 \nL 51.067835 195.80893 \nL 51.125849 195.266347 \nL 51.25348 195.266347 \nL 51.311494 194.723764 \nL 51.601565 194.723764 \nL 51.682785 194.000321 \nL 51.764005 194.000321 \nL 51.856828 193.457738 \nL 51.880034 193.457738 \nL 51.880034 193.276877 \nL 52.007665 193.276877 \nL 52.077282 192.915156 \nL 52.135296 192.915156 \nL 52.239722 192.372573 \nL 52.460176 192.372573 \nL 52.494984 192.010851 \nL 52.611013 192.010851 \nL 52.715438 191.649129 \nL 52.785055 191.649129 \nL 52.866275 190.925686 \nL 52.912686 190.925686 \nL 53.017112 190.383103 \nL 53.109935 190.383103 \nL 53.191155 189.840521 \nL 53.353594 189.840521 \nL 53.365197 189.478799 \nL 53.516034 189.478799 \nL 53.597254 189.117077 \nL 53.632063 189.117077 \nL 53.70168 188.574494 \nL 53.852517 188.574494 \nL 53.875722 188.212773 \nL 54.003354 188.212773 \nL 54.072971 187.851051 \nL 54.200602 187.851051 \nL 54.281822 187.489329 \nL 54.339836 187.489329 \nL 54.351439 187.127607 \nL 54.525482 187.127607 \nL 54.606701 186.585025 \nL 54.64151 186.585025 \nL 54.64151 186.404164 \nL 54.757538 186.404164 \nL 54.861964 185.318998 \nL 54.88517 185.318998 \nL 54.977992 184.595555 \nL 55.012801 184.595555 \nL 55.105624 183.872111 \nL 55.175241 183.872111 \nL 55.175241 183.69125 \nL 55.4189 183.69125 \nL 55.4189 183.51039 \nL 55.732177 183.51039 \nL 55.825 182.786946 \nL 55.90622 182.786946 \nL 55.98744 182.063502 \nL 56.045454 182.063502 \nL 56.126674 181.701781 \nL 56.173085 181.701781 \nL 56.173085 181.52092 \nL 56.335525 181.52092 \nL 56.335525 181.340059 \nL 56.463156 181.340059 \nL 56.463156 181.159198 \nL 56.76483 181.159198 \nL 56.857653 180.616615 \nL 57.124518 180.616615 \nL 57.124518 180.435754 \nL 57.588632 180.435754 \nL 57.681454 179.893172 \nL 57.901908 179.893172 \nL 57.983128 179.53145 \nL 58.133965 179.53145 \nL 58.157171 179.169728 \nL 58.296405 179.169728 \nL 58.400831 178.627146 \nL 58.493653 178.627146 \nL 58.56327 178.265424 \nL 58.656093 178.265424 \nL 58.748916 177.903702 \nL 59.073795 177.903702 \nL 59.178221 177.54198 \nL 59.189824 177.54198 \nL 59.271044 177.180258 \nL 59.317455 177.180258 \nL 59.363867 176.637676 \nL 59.445086 176.637676 \nL 59.549512 175.914232 \nL 59.619129 175.914232 \nL 59.688746 175.552511 \nL 59.758363 175.552511 \nL 59.769966 175.190789 \nL 59.978817 175.190789 \nL 60.060037 174.648206 \nL 60.094846 174.648206 \nL 60.164463 174.286484 \nL 60.245683 174.286484 \nL 60.338505 173.924763 \nL 60.547356 173.924763 \nL 60.640179 173.563041 \nL 60.733002 173.563041 \nL 60.779413 173.201319 \nL 60.918647 173.201319 \nL 60.999867 172.658736 \nL 61.057881 172.658736 \nL 61.162307 172.116154 \nL 61.220321 172.116154 \nL 61.324747 171.754432 \nL 61.382761 171.754432 \nL 61.394364 171.39271 \nL 61.556804 171.39271 \nL 61.614818 170.669267 \nL 61.858478 170.669267 \nL 61.893286 169.945823 \nL 62.067329 169.945823 \nL 62.11374 169.584101 \nL 62.206563 169.584101 \nL 62.252974 169.22238 \nL 62.519839 169.22238 \nL 62.624265 168.318075 \nL 62.763499 168.318075 \nL 62.856322 167.775492 \nL 62.949145 167.775492 \nL 62.949145 167.594632 \nL 63.13479 167.594632 \nL 63.169599 167.052049 \nL 63.355244 167.052049 \nL 63.424861 166.509466 \nL 63.552492 166.509466 \nL 63.633712 165.966884 \nL 63.714932 165.966884 \nL 63.714932 165.786023 \nL 64.028209 165.786023 \nL 64.121032 165.24344 \nL 64.15584 165.24344 \nL 64.248663 164.519996 \nL 64.271869 164.519996 \nL 64.364691 163.615692 \nL 64.503925 163.615692 \nL 64.608351 163.25397 \nL 64.677968 163.25397 \nL 64.782394 162.892249 \nL 64.910025 162.892249 \nL 65.002848 162.530527 \nL 65.049259 162.530527 \nL 65.049259 162.349666 \nL 65.17689 162.349666 \nL 65.234904 161.807083 \nL 65.33933 161.807083 \nL 65.33933 161.626222 \nL 65.478564 161.626222 \nL 65.571387 161.264501 \nL 65.757032 161.264501 \nL 65.791841 160.721918 \nL 65.896266 160.721918 \nL 65.942678 160.360196 \nL 66.11672 160.360196 \nL 66.163132 159.817613 \nL 66.244352 159.817613 \nL 66.313969 159.455892 \nL 66.708465 159.455892 \nL 66.789685 159.09417 \nL 66.963728 159.09417 \nL 67.033345 158.551587 \nL 67.149373 158.551587 \nL 67.21899 158.189865 \nL 67.311813 158.189865 \nL 67.358225 157.828144 \nL 67.46265 157.828144 \nL 67.520664 157.466422 \nL 67.659898 157.466422 \nL 67.659898 157.285561 \nL 67.78753 157.285561 \nL 67.880352 156.923839 \nL 68.065998 156.923839 \nL 68.065998 156.742978 \nL 68.286452 156.742978 \nL 68.286452 156.562118 \nL 68.437289 156.562118 \nL 68.506906 155.838674 \nL 68.692551 155.838674 \nL 68.773771 155.296091 \nL 68.901402 155.296091 \nL 68.901402 155.11523 \nL 69.017431 155.11523 \nL 69.017431 154.93437 \nL 69.145062 154.93437 \nL 69.249488 154.030065 \nL 69.272693 154.030065 \nL 69.330708 153.668343 \nL 69.771616 153.668343 \nL 69.771616 153.487482 \nL 70.212524 153.487482 \nL 70.247332 153.125761 \nL 70.537403 153.125761 \nL 70.618623 152.764039 \nL 70.68824 152.764039 \nL 70.68824 152.583178 \nL 70.815871 152.583178 \nL 70.815871 152.040595 \nL 70.966708 152.040595 \nL 71.01312 151.678874 \nL 71.105942 151.678874 \nL 71.140751 151.317152 \nL 71.256779 151.317152 \nL 71.256779 151.136291 \nL 71.372808 151.136291 \nL 71.477233 150.051126 \nL 71.674482 150.051126 \nL 71.697687 149.689404 \nL 71.79051 149.689404 \nL 71.87173 149.327682 \nL 72.022567 149.327682 \nL 72.022567 149.146821 \nL 72.243021 149.146821 \nL 72.243021 148.96596 \nL 72.359049 148.96596 \nL 72.370652 148.604239 \nL 72.475078 148.604239 \nL 72.556298 147.699934 \nL 72.625915 147.699934 \nL 72.672326 147.338212 \nL 72.753546 147.338212 \nL 72.939191 146.433908 \nL 73.182851 146.433908 \nL 73.264071 146.072186 \nL 73.29888 146.072186 \nL 73.333688 145.710464 \nL 73.554142 145.710464 \nL 73.565745 145.348743 \nL 73.716582 145.348743 \nL 73.797802 144.444438 \nL 73.960242 144.444438 \nL 73.983447 143.540134 \nL 74.134284 143.540134 \nL 74.180696 142.81669 \nL 74.250313 142.81669 \nL 74.285121 142.274108 \nL 74.424355 142.274108 \nL 74.482369 141.369803 \nL 74.644809 141.369803 \nL 74.668015 141.008081 \nL 74.842057 141.008081 \nL 74.842057 140.82722 \nL 74.981292 140.82722 \nL 75.085717 140.103777 \nL 75.201746 140.103777 \nL 75.201746 139.922916 \nL 75.317774 139.922916 \nL 75.387391 139.561194 \nL 75.538228 139.561194 \nL 75.642654 138.837751 \nL 75.665859 138.837751 \nL 75.747079 138.295168 \nL 75.816696 138.295168 \nL 75.851505 137.933446 \nL 76.025547 137.933446 \nL 76.11837 137.210003 \nL 76.211193 137.210003 \nL 76.315618 136.305698 \nL 76.420044 136.305698 \nL 76.489661 135.763116 \nL 76.652101 135.763116 \nL 76.744924 135.220533 \nL 76.791335 135.220533 \nL 76.872555 134.858811 \nL 77.104612 134.858811 \nL 77.185832 134.316229 \nL 77.255449 134.316229 \nL 77.348271 133.773646 \nL 77.54552 133.773646 \nL 77.591931 133.231063 \nL 77.696357 133.231063 \nL 77.696357 133.050202 \nL 77.858796 133.050202 \nL 77.963222 132.688481 \nL 77.99803 132.688481 \nL 78.07925 132.145898 \nL 78.137265 132.145898 \nL 78.137265 131.965037 \nL 78.299704 131.965037 \nL 78.299704 131.784176 \nL 78.48535 131.784176 \nL 78.48535 131.603315 \nL 78.601378 131.603315 \nL 78.601378 131.422454 \nL 78.64779 131.422454 \nL 78.833435 131.422454 \nL 78.845038 131.241593 \nL 79.18152 131.241593 \nL 79.18152 131.060733 \nL 79.309152 131.060733 \nL 79.320754 130.51815 \nL 79.518003 130.51815 \nL 79.599223 129.975567 \nL 79.738457 129.975567 \nL 79.808074 129.613846 \nL 80.132953 129.613846 \nL 80.132953 129.432985 \nL 80.295393 129.432985 \nL 80.318599 129.071263 \nL 80.52745 129.071263 \nL 80.631876 128.166958 \nL 80.759507 128.166958 \nL 80.829124 127.805237 \nL 80.910344 127.805237 \nL 81.003166 127.443515 \nL 81.374457 127.443515 \nL 81.374457 127.262654 \nL 81.571706 127.262654 \nL 81.676131 126.720071 \nL 81.908188 126.720071 \nL 82.012614 126.177489 \nL 82.082231 126.177489 \nL 82.186656 125.634906 \nL 82.302685 125.634906 \nL 82.302685 125.454045 \nL 82.453522 125.454045 \nL 82.557947 124.911462 \nL 82.697181 124.911462 \nL 82.720387 124.549741 \nL 82.89443 124.549741 \nL 82.97565 123.826297 \nL 82.998855 123.826297 \nL 83.103281 123.464575 \nL 83.103281 123.102854 \nL 83.242515 123.102854 \nL 83.265721 122.741132 \nL 83.439763 122.741132 \nL 83.439763 122.560271 \nL 83.5906 122.560271 \nL 83.695026 122.017688 \nL 83.927083 122.017688 \nL 83.927083 121.836827 \nL 84.159139 121.836827 \nL 84.228756 121.294245 \nL 84.240359 121.294245 \nL 84.309976 121.294245 \nL 84.379593 120.570801 \nL 84.716076 120.570801 \nL 84.716076 120.38994 \nL 85.052558 120.38994 \nL 85.052558 120.209079 \nL 85.214998 120.209079 \nL 85.273012 119.847358 \nL 85.342629 119.847358 \nL 85.342629 119.666497 \nL 85.621098 119.666497 \nL 85.690715 119.304775 \nL 85.864757 119.304775 \nL 85.945977 118.581331 \nL 86.050403 118.581331 \nL 86.085211 118.21961 \nL 86.224445 118.21961 \nL 86.224445 118.038749 \nL 86.363679 118.038749 \nL 86.410091 117.677027 \nL 86.491311 117.677027 \nL 86.595736 117.134444 \nL 86.607339 117.134444 \nL 86.607339 116.953584 \nL 86.723367 116.953584 \nL 86.723367 116.772723 \nL 86.89741 116.772723 \nL 86.990233 116.23014 \nL 87.071453 116.23014 \nL 87.071453 116.049279 \nL 87.396332 116.049279 \nL 87.477552 115.506696 \nL 87.767623 115.506696 \nL 87.860446 114.964114 \nL 88.046091 114.964114 \nL 88.046091 114.783253 \nL 88.185326 114.783253 \nL 88.289751 114.059809 \nL 88.301354 114.059809 \nL 88.301354 113.878948 \nL 88.417382 113.878948 \nL 88.475397 113.517227 \nL 88.591425 113.517227 \nL 88.591425 113.336366 \nL 89.275993 113.336366 \nL 89.275993 113.155505 \nL 89.403624 113.155505 \nL 89.403624 112.974644 \nL 89.705298 112.974644 \nL 89.705298 112.793783 \nL 90.181014 112.793783 \nL 90.28544 112.2512 \nL 90.343454 112.2512 \nL 90.343454 112.07034 \nL 90.703142 112.07034 \nL 90.830773 111.889479 \nL 91.283284 111.889479 \nL 91.283284 111.708618 \nL 91.410916 111.708618 \nL 91.410916 111.346896 \nL 91.515341 111.346896 \nL 91.759001 111.346896 \nL 91.851824 110.804313 \nL 92.002661 110.804313 \nL 92.08388 110.261731 \nL 92.199909 110.261731 \nL 92.199909 110.08087 \nL 92.362349 110.08087 \nL 92.431966 109.538287 \nL 92.48998 109.538287 \nL 92.48998 109.357426 \nL 92.65242 109.357426 \nL 92.65242 109.176565 \nL 92.780051 109.176565 \nL 92.780051 108.995705 \nL 93.128136 108.995705 \nL 93.128136 108.814844 \nL 93.18615 108.814844 \nL 93.522633 108.814844 \nL 93.522633 108.633983 \nL 93.603853 108.633983 \nL 93.685073 108.633983 \nL 93.685073 108.453122 \nL 93.975144 108.453122 \nL 93.975144 108.272261 \nL 94.091172 108.272261 \nL 94.091172 108.0914 \nL 94.183995 108.0914 \nL 94.253612 108.0914 \nL 94.265215 107.729678 \nL 94.404449 107.729678 \nL 94.404449 107.548817 \nL 94.520477 107.548817 \nL 94.6133 107.006235 \nL 94.659711 107.006235 \nL 94.740931 106.644513 \nL 94.891768 106.644513 \nL 94.891768 106.463652 \nL 95.123825 106.463652 \nL 95.123825 106.282791 \nL 95.321073 106.282791 \nL 95.425499 105.921069 \nL 95.611144 105.921069 \nL 95.703967 105.378487 \nL 95.738776 105.378487 \nL 95.808393 104.655043 \nL 95.854804 104.655043 \nL 95.854804 104.474182 \nL 95.889613 104.474182 \nL 96.052052 104.474182 \nL 96.121669 104.112461 \nL 96.214492 104.112461 \nL 96.272506 103.750739 \nL 96.353726 103.750739 \nL 96.41174 102.846434 \nL 96.608989 102.846434 \nL 96.608989 102.484713 \nL 96.794634 102.484713 \nL 96.794634 102.303852 \nL 97.084705 102.303852 \nL 97.177528 101.94213 \nL 97.572025 101.94213 \nL 97.572025 101.761269 \nL 97.722862 101.761269 \nL 97.722862 101.580408 \nL 97.83889 101.580408 \nL 97.885301 101.037826 \nL 98.047741 101.037826 \nL 98.047741 100.856965 \nL 98.233387 100.856965 \nL 98.233387 100.676104 \nL 98.372621 100.676104 \nL 98.395826 100.314382 \nL 98.477046 100.314382 \nL 98.767117 100.314382 \nL 98.767117 99.95266 \nL 99.057188 99.95266 \nL 99.057188 99.771799 \nL 99.161614 99.771799 \nL 99.324054 99.771799 \nL 99.324054 99.590938 \nL 99.509699 99.590938 \nL 99.590919 99.229217 \nL 100.04343 99.229217 \nL 100.04343 99.048356 \nL 100.101444 99.048356 \nL 100.182664 99.048356 \nL 100.229075 98.686634 \nL 100.495941 98.686634 \nL 100.495941 98.505773 \nL 100.786012 98.505773 \nL 100.855629 98.144051 \nL 100.98326 98.144051 \nL 100.98326 97.963191 \nL 101.192111 97.963191 \nL 101.192111 97.78233 \nL 101.424168 97.78233 \nL 101.424168 97.601469 \nL 101.656225 97.601469 \nL 101.656225 97.420608 \nL 101.957899 97.420608 \nL 101.957899 97.239747 \nL 102.155147 97.239747 \nL 102.155147 96.878025 \nL 102.514835 96.878025 \nL 102.514835 96.697164 \nL 102.654069 96.697164 \nL 102.654069 96.516303 \nL 102.839715 96.516303 \nL 102.839715 96.335443 \nL 103.280623 96.335443 \nL 103.303828 95.973721 \nL 103.663517 95.973721 \nL 103.767942 95.611999 \nL 103.779545 95.611999 \nL 103.779545 95.431138 \nL 104.011602 95.431138 \nL 104.011602 95.250277 \nL 104.394496 95.250277 \nL 104.394496 95.069416 \nL 105.137077 95.069416 \nL 105.241503 94.165112 \nL 105.450354 94.165112 \nL 105.508368 93.80339 \nL 105.577985 93.80339 \nL 105.601191 93.441668 \nL 105.879659 93.441668 \nL 105.972482 92.899086 \nL 106.007291 92.899086 \nL 106.41339 91.994781 \nL 106.645447 91.994781 \nL 106.645447 91.81392 \nL 106.807887 91.81392 \nL 106.807887 91.633059 \nL 107.6781 91.633059 \nL 107.6781 91.452199 \nL 107.805731 91.452199 \nL 107.805731 91.271338 \nL 107.852142 91.271338 \nL 109.047235 90.547894 \nL 109.047235 90.367033 \nL 109.244483 90.367033 \nL 109.348909 90.005312 \nL 109.360512 90.005312 \nL 109.360512 89.824451 \nL 109.441732 89.824451 \nL 109.63898 89.824451 \nL 109.650583 89.462729 \nL 109.824625 89.462729 \nL 109.824625 89.281868 \nL 110.010271 89.281868 \nL 110.103094 88.920146 \nL 110.451179 88.920146 \nL 110.451179 88.739285 \nL 110.82247 88.739285 \nL 110.845676 88.377564 \nL 110.98491 88.377564 \nL 110.98491 88.015842 \nL 111.216967 88.015842 \nL 111.240172 87.65412 \nL 111.68108 87.65412 \nL 111.68108 87.473259 \nL 111.901534 87.473259 \nL 111.901534 87.292398 \nL 112.098782 87.292398 \nL 112.098782 87.111537 \nL 112.226414 87.111537 \nL 112.226414 86.930676 \nL 112.354045 86.930676 \nL 112.388854 86.568955 \nL 112.516485 86.568955 \nL 112.516485 86.388094 \nL 112.655719 86.388094 \nL 112.655719 86.207233 \nL 112.794953 86.207233 \nL 112.794953 86.026372 \nL 113.259067 86.026372 \nL 113.282272 85.66465 \nL 113.398301 85.66465 \nL 113.456315 85.122068 \nL 113.479521 85.122068 \nL 113.630358 85.122068 \nL 113.711577 84.760346 \nL 113.746386 84.760346 \nL 113.8044 84.217763 \nL 113.816003 84.217763 \nL 114.001649 84.217763 \nL 114.106074 83.856041 \nL 114.280117 83.856041 \nL 114.280117 83.49432 \nL 114.813847 83.49432 \nL 114.860259 82.770876 \nL 114.976287 82.770876 \nL 114.976287 82.590015 \nL 115.092316 82.590015 \nL 115.092316 82.409154 \nL 115.219947 82.409154 \nL 115.219947 82.228293 \nL 115.428798 82.228293 \nL 115.510018 81.866572 \nL 115.811692 81.866572 \nL 115.811692 81.685711 \nL 115.904515 81.685711 \nL 115.985734 81.685711 \nL 116.032146 81.323989 \nL 116.705111 81.323989 \nL 116.705111 81.143128 \nL 117.099607 81.143128 \nL 117.099607 80.962267 \nL 117.238841 80.962267 \nL 117.331664 80.600545 \nL 117.378076 80.600545 \nL 117.378076 80.419685 \nL 117.772572 80.419685 \nL 117.853792 80.057963 \nL 117.981423 80.057963 \nL 117.981423 79.877102 \nL 118.225083 79.877102 \nL 118.225083 79.696241 \nL 118.341111 79.696241 \nL 118.422331 79.153658 \nL 118.480345 79.153658 \nL 118.480345 78.972797 \nL 118.689197 78.972797 \nL 118.689197 78.791937 \nL 118.816828 78.791937 \nL 118.874842 78.430215 \nL 118.944459 78.430215 \nL 118.944459 78.249354 \nL 119.060488 78.249354 \nL 119.141707 77.706771 \nL 119.211325 77.706771 \nL 119.211325 77.52591 \nL 119.64063 77.52591 \nL 119.64063 77.34505 \nL 119.988715 77.34505 \nL 119.988715 76.802467 \nL 120.325197 76.802467 \nL 120.325197 76.621606 \nL 120.7429 76.621606 \nL 120.777708 76.259884 \nL 121.427467 76.259884 \nL 121.427467 76.079023 \nL 121.798758 76.079023 \nL 121.798758 75.717302 \nL 122.088829 75.717302 \nL 122.088829 75.536441 \nL 122.564546 75.536441 \nL 122.564546 75.35558 \nL 122.634163 75.35558 \nL 123.144688 75.35558 \nL 123.144688 75.174719 \nL 123.423156 75.174719 \nL 123.423156 74.993858 \nL 123.80605 74.993858 \nL 123.80605 74.632136 \nL 124.130929 74.632136 \nL 124.130929 74.451275 \nL 124.757483 74.451275 \nL 124.757483 74.270414 \nL 125.128774 74.270414 \nL 125.140377 73.727832 \nL 125.256405 73.727832 \nL 125.326022 73.004388 \nL 125.662505 73.004388 \nL 125.662505 72.823527 \nL 125.859753 72.823527 \nL 125.964178 72.280945 \nL 126.161427 72.280945 \nL 126.161427 72.100084 \nL 126.231044 72.100084 \nL 126.393484 72.100084 \nL 126.393484 71.919223 \nL 126.486306 71.919223 \nL 127.437739 71.919223 \nL 127.437739 71.557501 \nL 127.623385 71.557501 \nL 127.623385 71.37664 \nL 127.785825 71.37664 \nL 127.785825 71.195779 \nL 128.354364 71.195779 \nL 128.354364 71.014919 \nL 128.493598 71.014919 \nL 128.493598 70.834058 \nL 128.656038 70.834058 \nL 128.656038 70.653197 \nL 128.99252 70.653197 \nL 129.050534 70.291475 \nL 129.329003 70.291475 \nL 129.329003 70.110614 \nL 129.503045 70.110614 \nL 129.503045 69.929753 \nL 129.85113 69.929753 \nL 129.85113 69.748892 \nL 130.048379 69.748892 \nL 130.071584 69.387171 \nL 130.187613 69.387171 \nL 130.187613 69.20631 \nL 130.33845 69.20631 \nL 130.373258 68.844588 \nL 130.814166 68.844588 \nL 130.837372 68.482866 \nL 131.046223 68.482866 \nL 131.104237 68.121144 \nL 131.97445 68.121144 \nL 131.97445 67.940283 \nL 132.368947 67.940283 \nL 132.368947 67.759423 \nL 132.775047 67.759423 \nL 132.775047 67.578562 \nL 133.529231 67.578562 \nL 133.529231 67.397701 \nL 133.888919 67.397701 \nL 133.888919 67.21684 \nL 134.237005 67.21684 \nL 134.26021 66.855118 \nL 134.875161 66.855118 \nL 134.909969 66.493396 \nL 135.234849 66.493396 \nL 135.234849 66.312535 \nL 135.896211 66.312535 \nL 135.896211 66.131675 \nL 136.139871 66.131675 \nL 136.139871 65.950814 \nL 136.267502 65.950814 \nL 136.337119 65.589092 \nL 136.78963 65.589092 \nL 136.78963 65.408231 \nL 137.149318 65.408231 \nL 137.218935 65.046509 \nL 137.97312 65.046509 \nL 137.996325 64.684788 \nL 138.251588 64.684788 \nL 138.332808 64.323066 \nL 138.715702 64.323066 \nL 138.796921 63.961344 \nL 138.936156 63.961344 \nL 138.936156 63.780483 \nL 139.214624 63.780483 \nL 139.319049 63.2379 \nL 139.435078 63.2379 \nL 139.516298 62.695318 \nL 139.632326 62.695318 \nL 139.713546 62.333596 \nL 140.827419 62.333596 \nL 140.827419 62.152735 \nL 140.931844 62.152735 \nL 141.013064 61.791013 \nL 141.152298 61.791013 \nL 141.187107 61.429292 \nL 141.616412 61.429292 \nL 141.662823 61.06757 \nL 142.184951 61.06757 \nL 142.21976 60.705848 \nL 142.417008 60.705848 \nL 142.417008 60.524987 \nL 142.683873 60.524987 \nL 142.776696 60.163265 \nL 142.846313 60.163265 \nL 142.857916 59.801544 \nL 143.333633 59.801544 \nL 143.333633 59.439822 \nL 143.635306 59.439822 \nL 143.635306 59.258961 \nL 143.751335 59.258961 \nL 143.751335 59.0781 \nL 144.145832 59.0781 \nL 144.145832 58.897239 \nL 144.714371 58.897239 \nL 144.714371 58.716378 \nL 146.14152 58.716378 \nL 146.14152 58.535517 \nL 146.54762 58.535517 \nL 146.54762 58.354657 \nL 147.208982 58.354657 \nL 147.208982 58.173796 \nL 147.510656 58.173796 \nL 147.510656 57.992935 \nL 147.974769 57.992935 \nL 147.974769 57.812074 \nL 148.392472 57.812074 \nL 148.392472 57.631213 \nL 148.543309 57.631213 \nL 148.543309 57.450352 \nL 148.67094 57.450352 \nL 148.775365 57.08863 \nL 149.69199 57.08863 \nL 149.69199 56.907769 \nL 149.842827 56.907769 \nL 149.842827 56.726909 \nL 150.411366 56.726909 \nL 150.411366 56.546048 \nL 150.562203 56.546048 \nL 150.562203 56.365187 \nL 150.9567 56.365187 \nL 150.9567 56.184326 \nL 151.687679 56.184326 \nL 151.687679 56.003465 \nL 151.780501 56.003465 \nL 151.919736 56.003465 \nL 151.919736 55.822604 \nL 152.581098 55.822604 \nL 152.581098 55.641743 \nL 152.940786 55.641743 \nL 152.940786 55.460882 \nL 153.068417 55.460882 \nL 153.068417 55.280021 \nL 153.741382 55.280021 \nL 153.741382 55.099161 \nL 154.031453 55.099161 \nL 154.077864 54.737439 \nL 154.26351 54.737439 \nL 154.26351 54.375717 \nL 154.553581 54.375717 \nL 154.553581 54.194856 \nL 155.516616 54.194856 \nL 155.551425 53.833134 \nL 157.152617 53.833134 \nL 157.152617 53.652273 \nL 157.210631 53.652273 \nL 157.268646 53.652273 \nL 157.268646 53.471413 \nL 157.535511 53.471413 \nL 157.535511 53.290552 \nL 157.837185 53.290552 \nL 157.860391 52.92883 \nL 159.055483 52.92883 \nL 159.055483 52.747969 \nL 159.554405 52.747969 \nL 159.554405 52.567108 \nL 159.740051 52.567108 \nL 159.844476 52.205386 \nL 159.925696 52.205386 \nL 159.925696 52.024525 \nL 160.737895 52.024525 \nL 160.737895 51.843665 \nL 161.782151 51.843665 \nL 161.782151 51.662804 \nL 162.083825 51.662804 \nL 162.188251 51.301082 \nL 162.362293 51.301082 \nL 162.362293 51.120221 \nL 162.501527 51.120221 \nL 162.501527 50.93936 \nL 162.710378 50.93936 \nL 162.710378 50.758499 \nL 163.69662 50.758499 \nL 163.69662 50.577638 \nL 163.870663 50.577638 \nL 163.870663 50.396778 \nL 164.381188 50.396778 \nL 164.381188 50.215917 \nL 164.578436 50.215917 \nL 164.578436 50.035056 \nL 164.926521 50.035056 \nL 164.926521 49.854195 \nL 165.146975 49.854195 \nL 165.146975 49.673334 \nL 165.402238 49.673334 \nL 165.402238 49.492473 \nL 166.59733 49.492473 \nL 166.59733 49.311612 \nL 168.082494 49.311612 \nL 168.082494 49.130751 \nL 168.291345 49.130751 \nL 168.291345 48.94989 \nL 168.80187 48.94989 \nL 168.80187 48.76903 \nL 170.275431 48.76903 \nL 170.275431 48.588169 \nL 171.052822 48.588169 \nL 171.08763 48.226447 \nL 171.424113 48.226447 \nL 171.424113 48.045586 \nL 171.981049 48.045586 \nL 171.981049 47.864725 \nL 173.094922 47.864725 \nL 173.094922 47.683864 \nL 173.45461 47.683864 \nL 173.524227 47.141282 \nL 173.756284 47.141282 \nL 173.756284 46.960421 \nL 174.011546 46.960421 \nL 174.011546 46.77956 \nL 174.452454 46.77956 \nL 174.452454 46.598699 \nL 175.369079 46.598699 \nL 175.369079 46.417838 \nL 175.763575 46.417838 \nL 175.763575 46.236977 \nL 175.82159 46.236977 \nL 176.250895 46.236977 \nL 176.250895 46.056116 \nL 177.70125 46.056116 \nL 177.70125 45.875255 \nL 178.188569 45.875255 \nL 178.188569 45.694394 \nL 178.316201 45.694394 \nL 178.316201 45.513534 \nL 178.80352 45.513534 \nL 178.80352 45.332673 \nL 179.395265 45.332673 \nL 179.395265 45.151812 \nL 180.543946 45.151812 \nL 180.543946 44.970951 \nL 183.166188 44.970951 \nL 183.166188 44.79009 \nL 185.614388 44.79009 \nL 185.614388 44.609229 \nL 186.19453 44.609229 \nL 186.19453 44.428368 \nL 187.029935 44.428368 \nL 187.029935 44.247507 \nL 187.772517 44.247507 \nL 187.772517 44.066647 \nL 188.932801 44.066647 \nL 188.932801 43.885786 \nL 190.68483 43.885786 \nL 190.68483 43.704925 \nL 192.158391 43.704925 \nL 192.158391 43.524064 \nL 192.309228 43.524064 \nL 192.309228 43.343203 \nL 193.643555 43.343203 \nL 193.643555 43.162342 \nL 196.138166 43.162342 \nL 196.219386 42.80062 \nL 196.300605 42.80062 \nL 196.300605 42.619759 \nL 199.433373 42.619759 \nL 199.433373 42.438899 \nL 200.44282 42.438899 \nL 200.44282 42.258038 \nL 203.517573 42.258038 \nL 203.517573 42.077177 \nL 205.107162 42.077177 \nL 205.107162 41.896316 \nL 206.97522 41.896316 \nL 206.97522 41.534594 \nL 207.114454 41.534594 \nL 207.114454 41.353733 \nL 207.288497 41.353733 \nL 207.369716 40.992011 \nL 207.555362 40.992011 \nL 207.555362 40.63029 \nL 208.042681 40.63029 \nL 208.042681 40.449429 \nL 208.69244 40.449429 \nL 208.69244 40.268568 \nL 211.732385 40.268568 \nL 211.732385 40.087707 \nL 211.767194 40.087707 \nL 211.894825 40.087707 \nL 211.894825 39.906846 \nL 212.788244 39.906846 \nL 212.788244 39.725985 \nL 212.869463 39.725985 \nL 214.865152 39.725985 \nL 214.865152 39.545124 \nL 220.805807 39.545124 \nL 220.805807 39.364263 \nL 222.975539 39.364263 \nL 222.975539 39.183403 \nL 223.416447 39.183403 \nL 223.416447 39.002542 \nL 224.019794 39.002542 \nL 224.019794 38.821681 \nL 226.816079 38.821681 \nL 226.816079 38.64082 \nL 226.932108 38.64082 \nL 226.932108 38.459959 \nL 228.440477 38.459959 \nL 228.440477 38.279098 \nL 228.927797 38.279098 \nL 228.927797 38.098237 \nL 231.898124 38.098237 \nL 231.898124 37.917376 \nL 233.55733 37.917376 \nL 233.55733 37.736516 \nL 234.891657 37.736516 \nL 234.891657 37.555655 \nL 237.200623 37.555655 \nL 237.200623 37.374794 \nL 238.314496 37.374794 \nL 238.314496 37.193933 \nL 238.790212 37.193933 \nL 238.790212 37.013072 \nL 238.917843 37.013072 \nL 238.964255 36.65135 \nL 239.822865 36.65135 \nL 239.822865 36.470489 \nL 242.445107 36.470489 \nL 242.445107 36.289628 \nL 246.598925 36.289628 \nL 246.598925 36.108768 \nL 246.86579 36.108768 \nL 246.94701 35.747046 \nL 250.056571 35.747046 \nL 250.056571 35.566185 \nL 250.1726 35.566185 \nL 250.1726 35.385324 \nL 251.43731 35.385324 \nL 251.43731 35.204463 \nL 251.657764 35.204463 \nL 251.657764 35.023602 \nL 253.47941 35.023602 \nL 253.47941 34.842741 \nL 254.372829 34.842741 \nL 254.372829 34.66188 \nL 260.824009 34.66188 \nL 260.824009 34.48102 \nL 261.380945 34.48102 \nL 261.380945 34.300159 \nL 262.587641 34.300159 \nL 262.587641 34.119298 \nL 267.611671 34.119298 \nL 267.611671 33.938437 \nL 268.58631 33.938437 \nL 268.58631 33.757576 \nL 268.934395 33.757576 \nL 268.934395 33.576715 \nL 274.399334 33.576715 \nL 274.399334 33.395854 \nL 286.396672 33.395854 \nL 286.396672 33.214993 \nL 309.033816 33.214993 \nL 309.033816 33.034132 \nL 322.876007 33.034132 \nL 322.876007 32.853272 \nL 343.413037 32.853272 \nL 343.413037 32.672411 \nL 378.58125 32.672411 \nL 378.58125 32.672411 \n\" style=\"fill:none;stroke:#00ffff;stroke-linecap:square;stroke-width:2;\"/>\n   </g>\n   <g id=\"line2d_16\">\n    <path clip-path=\"url(#pa787e2d3c4)\" d=\"M 43.78125 239.758125 \nL 43.883646 217.350945 \nL 43.895023 217.350945 \nL 43.997419 209.038604 \nL 44.008796 209.038604 \nL 44.111192 193.859546 \nL 44.133947 193.859546 \nL 44.20221 178.680489 \nL 44.24772 178.680489 \nL 44.350115 156.634714 \nL 44.361493 156.634714 \nL 44.463888 141.455657 \nL 44.634548 133.143316 \nL 44.736944 129.167848 \nL 44.816585 129.167848 \nL 44.918981 125.192381 \nL 44.998622 125.192381 \nL 45.055508 123.746756 \nL 45.157904 123.746756 \nL 45.226168 122.301132 \nL 45.317186 122.301132 \nL 45.396828 120.855507 \nL 45.430959 120.855507 \nL 45.430959 120.132695 \nL 45.567487 120.132695 \nL 45.669883 119.048477 \nL 45.942938 119.048477 \nL 45.988447 117.964258 \nL 46.307012 117.964258 \nL 46.409408 117.241446 \nL 46.489049 117.241446 \nL 46.534558 116.157227 \nL 46.602822 116.157227 \nL 46.671086 115.434415 \nL 46.716595 115.434415 \nL 46.73935 114.350197 \nL 47.16031 114.350197 \nL 47.228574 113.627385 \nL 47.45612 113.627385 \nL 47.524384 112.18176 \nL 47.831571 112.18176 \nL 47.831571 111.820354 \nL 48.207022 111.820354 \nL 48.207022 111.458948 \nL 48.332173 111.458948 \nL 48.332173 111.097542 \nL 48.548341 111.097542 \nL 48.650737 110.374729 \nL 48.901038 110.374729 \nL 48.957924 109.651917 \nL 49.037566 109.651917 \nL 49.128584 108.567699 \nL 49.310621 108.567699 \nL 49.310621 108.206293 \nL 49.674695 108.206293 \nL 49.697449 107.48348 \nL 50.061523 107.48348 \nL 50.084278 106.399262 \nL 50.209428 106.399262 \nL 50.209428 106.037856 \nL 50.380088 106.037856 \nL 50.380088 105.67645 \nL 50.493861 105.67645 \nL 50.493861 105.315043 \nL 50.66452 105.315043 \nL 50.755539 104.592231 \nL 51.278895 104.592231 \nL 51.347159 102.785201 \nL 51.790874 102.785201 \nL 51.825006 102.062388 \nL 51.904647 102.062388 \nL 51.904647 101.339576 \nL 52.098061 101.339576 \nL 52.154948 100.255358 \nL 52.575908 100.255358 \nL 52.575908 99.893951 \nL 52.848963 99.893951 \nL 52.848963 99.532545 \nL 52.985491 99.532545 \nL 53.019623 98.809733 \nL 53.315433 98.809733 \nL 53.315433 98.448327 \nL 53.759148 98.448327 \nL 53.759148 98.086921 \nL 53.895676 98.086921 \nL 53.975317 97.002702 \nL 54.475918 97.002702 \nL 54.475918 96.641296 \nL 55.295084 96.641296 \nL 55.295084 96.27989 \nL 55.499876 96.27989 \nL 55.499876 95.918484 \nL 55.625026 95.918484 \nL 55.625026 95.557078 \nL 56.148382 95.557078 \nL 56.148382 95.195672 \nL 56.330419 95.195672 \nL 56.330419 94.834266 \nL 56.444192 94.834266 \nL 56.444192 94.472859 \nL 56.762757 94.472859 \nL 56.819643 93.750047 \nL 56.910662 93.750047 \nL 56.910662 93.027235 \nL 57.047189 93.027235 \nL 57.047189 92.665829 \nL 57.263358 92.665829 \nL 57.263358 92.304423 \nL 57.5933 92.304423 \nL 57.638809 91.58161 \nL 58.253184 91.58161 \nL 58.298693 90.858798 \nL 58.867558 90.858798 \nL 58.913068 90.135986 \nL 59.026841 90.135986 \nL 59.106482 89.413174 \nL 59.220255 89.413174 \nL 59.220255 89.051767 \nL 59.402292 89.051767 \nL 59.402292 88.690361 \nL 59.584329 88.690361 \nL 59.595706 87.967549 \nL 59.880139 87.967549 \nL 59.937025 87.244737 \nL 60.392118 87.244737 \nL 60.392118 86.883331 \nL 60.596909 86.883331 \nL 60.619664 86.160518 \nL 60.790323 86.160518 \nL 60.790323 85.799112 \nL 60.892719 85.799112 \nL 61.040624 85.799112 \nL 61.097511 85.0763 \nL 61.802904 85.0763 \nL 61.802904 84.714894 \nL 61.973563 84.714894 \nL 61.973563 84.353488 \nL 62.178355 84.353488 \nL 62.178355 83.992082 \nL 62.383146 83.992082 \nL 62.383146 83.630675 \nL 62.906502 83.630675 \nL 62.986143 82.907863 \nL 63.793932 82.907863 \nL 63.873573 81.462239 \nL 64.032856 81.462239 \nL 64.032856 81.100833 \nL 64.658608 81.100833 \nL 64.658608 80.739426 \nL 65.068191 80.739426 \nL 65.068191 80.37802 \nL 66.046639 80.37802 \nL 66.046639 80.016614 \nL 66.501731 80.016614 \nL 66.501731 79.655208 \nL 66.672391 79.655208 \nL 66.672391 79.293802 \nL 67.423293 79.293802 \nL 67.423293 78.932396 \nL 69.97181 78.932396 \nL 69.97181 78.57099 \nL 70.506543 78.57099 \nL 70.506543 78.209583 \nL 70.768221 78.209583 \nL 70.768221 77.848177 \nL 70.938881 77.848177 \nL 70.938881 77.486771 \nL 71.041277 77.486771 \nL 71.951461 77.486771 \nL 71.951461 77.125365 \nL 72.873023 77.125365 \nL 72.975419 76.402553 \nL 73.64668 76.402553 \nL 73.680812 75.679741 \nL 73.885603 75.679741 \nL 73.885603 75.318334 \nL 76.752684 75.318334 \nL 76.764062 74.595522 \nL 77.173645 74.595522 \nL 77.219154 73.87271 \nL 77.91317 73.87271 \nL 77.91317 73.511304 \nL 78.368262 73.511304 \nL 78.368262 73.149898 \nL 78.527544 73.149898 \nL 78.527544 72.788491 \nL 78.948505 72.788491 \nL 78.948505 72.427085 \nL 79.062278 72.427085 \nL 79.062278 72.065679 \nL 80.245518 72.065679 \nL 80.245518 71.704273 \nL 81.622172 71.704273 \nL 81.622172 71.342867 \nL 81.815586 71.342867 \nL 81.815586 70.981461 \nL 83.089844 70.981461 \nL 83.089844 70.620055 \nL 83.544936 70.620055 \nL 83.544936 70.258649 \nL 85.012609 70.258649 \nL 85.012609 69.897242 \nL 85.604229 69.897242 \nL 85.604229 69.535836 \nL 85.661115 69.535836 \nL 88.141368 69.535836 \nL 88.141368 69.17443 \nL 88.505442 69.17443 \nL 88.505442 68.813024 \nL 88.64197 68.813024 \nL 88.744366 68.090212 \nL 90.906054 68.090212 \nL 90.906054 67.728806 \nL 91.156354 67.728806 \nL 91.156354 67.367399 \nL 92.646782 67.367399 \nL 92.646782 67.005993 \nL 93.534212 67.005993 \nL 93.534212 66.644587 \nL 93.830022 66.644587 \nL 93.830022 66.283181 \nL 94.853979 66.283181 \nL 94.853979 65.921775 \nL 94.876734 65.921775 \nL 95.912069 65.921775 \nL 95.912069 65.560369 \nL 97.277345 65.560369 \nL 97.277345 65.198963 \nL 98.642622 65.198963 \nL 98.642622 64.837557 \nL 98.836036 64.837557 \nL 98.870168 64.114744 \nL 99.382147 64.114744 \nL 99.382147 63.753338 \nL 99.427656 63.753338 \nL 100.610896 63.753338 \nL 100.610896 63.391932 \nL 104.831877 63.391932 \nL 104.831877 63.030526 \nL 105.639666 63.030526 \nL 105.639666 62.66912 \nL 106.652246 62.66912 \nL 106.652246 62.307714 \nL 107.243866 62.307714 \nL 107.243866 61.946307 \nL 108.666029 61.946307 \nL 108.666029 61.584901 \nL 109.80376 61.584901 \nL 109.849269 60.862089 \nL 110.52053 60.862089 \nL 110.52053 60.500683 \nL 111.464847 60.500683 \nL 111.464847 60.139277 \nL 111.555865 60.139277 \nL 111.840298 60.139277 \nL 111.840298 59.777871 \nL 112.602577 59.777871 \nL 112.602577 59.416465 \nL 112.727728 59.416465 \nL 112.727728 59.055058 \nL 113.114556 59.055058 \nL 113.148688 58.693652 \nL 114.297796 58.693652 \nL 114.297796 58.332246 \nL 115.162471 58.332246 \nL 115.162471 57.97084 \nL 116.539125 57.97084 \nL 116.539125 57.609434 \nL 117.802006 57.609434 \nL 117.802006 57.248028 \nL 118.587041 57.248028 \nL 118.587041 56.886622 \nL 121.988855 56.886622 \nL 122.079874 56.163809 \nL 122.478079 56.163809 \nL 122.478079 55.802403 \nL 123.877488 55.802403 \nL 124.03677 55.440997 \nL 125.151746 55.440997 \nL 125.151746 55.079591 \nL 127.347567 55.079591 \nL 127.347567 54.718185 \nL 127.427208 54.718185 \nL 128.360147 54.718185 \nL 128.360147 54.356779 \nL 128.496675 54.356779 \nL 128.496675 53.995373 \nL 129.133804 53.995373 \nL 129.133804 53.633966 \nL 131.614057 53.633966 \nL 131.614057 53.27256 \nL 134.014668 53.27256 \nL 134.014668 52.911154 \nL 134.196705 52.911154 \nL 134.196705 52.549748 \nL 135.971565 52.549748 \nL 135.971565 52.188342 \nL 136.767976 52.188342 \nL 136.767976 51.826936 \nL 137.154805 51.826936 \nL 137.154805 51.46553 \nL 137.826066 51.46553 \nL 137.826066 51.104124 \nL 139.123079 51.104124 \nL 139.123079 50.742717 \nL 140.203923 50.742717 \nL 140.203923 50.381311 \nL 141.205126 50.381311 \nL 141.205126 50.019905 \nL 144.23149 50.019905 \nL 144.23149 49.658499 \nL 146.370423 49.658499 \nL 146.370423 49.297093 \nL 146.871025 49.297093 \nL 146.871025 48.935687 \nL 146.97342 48.935687 \nL 147.576418 48.935687 \nL 147.576418 48.574281 \nL 150.215953 48.574281 \nL 150.215953 48.212874 \nL 155.153704 48.212874 \nL 155.153704 47.851468 \nL 157.633957 47.851468 \nL 157.633957 47.490062 \nL 160.296246 47.490062 \nL 160.296246 47.128656 \nL 160.603434 47.128656 \nL 160.603434 46.76725 \nL 161.320204 46.76725 \nL 161.320204 46.405844 \nL 161.365713 46.405844 \nL 162.594462 46.405844 \nL 162.594462 46.044438 \nL 164.995074 46.044438 \nL 164.995074 45.683032 \nL 168.77234 45.683032 \nL 168.77234 45.321625 \nL 169.807675 45.321625 \nL 169.807675 44.960219 \nL 172.333437 44.960219 \nL 172.333437 44.598813 \nL 173.072962 44.598813 \nL 173.072962 44.237407 \nL 175.974175 44.237407 \nL 175.974175 43.876001 \nL 176.281362 43.876001 \nL 176.281362 43.514595 \nL 182.664031 43.514595 \nL 182.664031 43.153189 \nL 183.028105 43.153189 \nL 183.028105 42.791782 \nL 186.350278 42.791782 \nL 186.350278 42.430376 \nL 190.673655 42.430376 \nL 190.673655 42.06897 \nL 191.845518 42.06897 \nL 191.845518 41.707564 \nL 198.330582 41.707564 \nL 198.330582 41.346158 \nL 200.594666 41.346158 \nL 200.594666 40.984752 \nL 201.937188 40.984752 \nL 201.982698 40.26194 \nL 206.453979 40.26194 \nL 206.453979 39.900533 \nL 210.174358 39.900533 \nL 210.174358 39.539127 \nL 212.119878 39.539127 \nL 212.119878 39.177721 \nL 213.075572 39.177721 \nL 213.075572 38.816315 \nL 219.367222 38.816315 \nL 219.367222 38.454909 \nL 223.622335 38.454909 \nL 223.622335 38.093503 \nL 227.308582 38.093503 \nL 227.308582 37.732097 \nL 233.224781 37.732097 \nL 233.224781 37.37069 \nL 233.793647 37.37069 \nL 233.793647 37.009284 \nL 236.706237 37.009284 \nL 236.706237 36.647878 \nL 238.651757 36.647878 \nL 238.651757 36.286472 \nL 242.030817 36.286472 \nL 242.030817 35.925066 \nL 243.976336 35.925066 \nL 243.976336 35.56366 \nL 245.637423 35.56366 \nL 245.637423 35.202254 \nL 250.859607 35.202254 \nL 250.859607 34.840848 \nL 284.946017 34.840848 \nL 284.980149 33.756629 \nL 311.398255 33.756629 \nL 311.398255 33.395223 \nL 326.325281 33.395223 \nL 326.325281 33.033817 \nL 350.229002 33.033817 \nL 350.229002 32.672411 \nL 378.58125 32.672411 \nL 378.58125 32.672411 \n\" style=\"fill:none;stroke:#ff8c00;stroke-linecap:square;stroke-width:2;\"/>\n   </g>\n   <g id=\"line2d_17\">\n    <path clip-path=\"url(#pa787e2d3c4)\" d=\"M 43.78125 239.758125 \nL 43.882181 209.971824 \nL 43.893396 209.971824 \nL 43.971898 194.369475 \nL 44.016756 194.369475 \nL 44.106473 183.022313 \nL 44.140116 183.022313 \nL 44.207404 177.348732 \nL 44.285906 177.348732 \nL 44.308335 174.511941 \nL 44.465339 174.511941 \nL 44.532627 167.419965 \nL 44.913922 167.419965 \nL 44.913922 166.001569 \nL 45.026068 166.001569 \nL 45.048497 163.164779 \nL 45.295218 163.164779 \nL 45.295218 161.746383 \nL 45.598012 161.746383 \nL 45.598012 160.327988 \nL 45.732587 160.327988 \nL 45.732587 158.909593 \nL 45.878376 158.909593 \nL 45.979307 156.072802 \nL 46.125097 156.072802 \nL 46.15874 153.236011 \nL 46.461534 153.236011 \nL 46.551251 150.399221 \nL 46.640967 150.399221 \nL 46.708255 144.72564 \nL 47.145623 144.72564 \nL 47.145623 143.307244 \nL 47.50449 143.307244 \nL 47.571777 140.470454 \nL 47.672708 140.470454 \nL 47.77364 129.123291 \nL 48.076433 129.123291 \nL 48.16615 124.868105 \nL 48.222223 124.868105 \nL 48.222223 123.44971 \nL 48.536231 123.44971 \nL 48.536231 122.031315 \nL 49.444612 122.031315 \nL 49.444612 120.61292 \nL 49.691332 120.61292 \nL 49.691332 119.194524 \nL 49.915624 119.194524 \nL 49.960482 116.357734 \nL 50.184774 116.357734 \nL 50.184774 114.939338 \nL 50.465138 114.939338 \nL 50.566069 112.102548 \nL 51.530523 112.102548 \nL 51.530523 110.684152 \nL 51.653883 110.684152 \nL 51.653883 109.265757 \nL 52.999633 109.265757 \nL 53.055706 106.428966 \nL 53.111779 106.428966 \nL 53.111779 105.010571 \nL 53.60522 105.010571 \nL 53.60522 103.592176 \nL 53.908014 103.592176 \nL 53.964086 100.755385 \nL 53.99773 100.755385 \nL 55.264977 100.755385 \nL 55.264977 97.918595 \nL 56.655585 97.918595 \nL 56.655585 96.500199 \nL 56.79016 96.500199 \nL 56.79016 95.081804 \nL 57.115383 95.081804 \nL 57.115383 93.663409 \nL 57.373318 93.663409 \nL 57.373318 92.245013 \nL 58.034978 92.245013 \nL 58.034978 90.826618 \nL 58.674209 90.826618 \nL 58.674209 87.989828 \nL 59.021861 87.989828 \nL 59.021861 86.571432 \nL 60.524614 86.571432 \nL 60.524614 85.153037 \nL 64.909514 85.153037 \nL 64.909514 83.734642 \nL 65.997328 83.734642 \nL 66.064616 80.897851 \nL 67.343078 80.897851 \nL 67.343078 79.479456 \nL 67.903806 79.479456 \nL 67.903806 78.06106 \nL 67.926236 78.06106 \nL 68.273888 78.06106 \nL 68.374819 75.22427 \nL 70.774738 75.22427 \nL 70.774738 73.805875 \nL 70.864455 73.805875 \nL 71.223321 73.805875 \nL 71.223321 72.387479 \nL 71.301823 72.387479 \nL 71.941054 72.387479 \nL 71.941054 70.969084 \nL 75.058707 70.969084 \nL 75.058707 69.550689 \nL 79.600611 69.550689 \nL 79.600611 68.132293 \nL 79.824902 68.132293 \nL 79.824902 66.713898 \nL 81.383729 66.713898 \nL 81.383729 65.295503 \nL 84.378021 65.295503 \nL 84.378021 63.877107 \nL 85.824701 63.877107 \nL 85.824701 62.458712 \nL 86.26207 62.458712 \nL 86.26207 61.040317 \nL 87.260167 61.040317 \nL 87.260167 59.621921 \nL 88.583488 59.621921 \nL 89.547941 58.203526 \nL 90.344176 58.203526 \nL 90.344176 56.785131 \nL 99.495272 56.785131 \nL 99.495272 55.366736 \nL 102.164341 55.366736 \nL 102.164341 53.94834 \nL 102.680212 53.94834 \nL 102.680212 52.529945 \nL 107.37912 52.529945 \nL 107.37912 51.11155 \nL 108.489363 51.11155 \nL 108.489363 49.693154 \nL 115.509688 49.693154 \nL 115.509688 48.274759 \nL 142.256456 48.274759 \nL 142.256456 46.856364 \nL 145.172246 46.856364 \nL 145.172246 45.437968 \nL 151.272976 45.437968 \nL 151.272976 44.019573 \nL 172.513386 44.019573 \nL 172.513386 42.601178 \nL 199.652664 42.601178 \nL 199.652664 41.182783 \nL 207.839306 41.182783 \nL 207.839306 39.764387 \nL 231.457206 39.764387 \nL 231.457206 38.345992 \nL 233.722551 38.345992 \nL 233.722551 36.927597 \nL 240.92231 36.927597 \nL 240.92231 35.509201 \nL 260.323529 35.509201 \nL 260.323529 34.090806 \nL 312.202165 34.090806 \nL 312.202165 32.672411 \nL 378.58125 32.672411 \nL 378.58125 32.672411 \n\" style=\"fill:none;stroke:#6495ed;stroke-linecap:square;stroke-width:2;\"/>\n   </g>\n   <g id=\"line2d_18\">\n    <path clip-path=\"url(#pa787e2d3c4)\" d=\"M 43.78125 239.758125 \nL 378.58125 32.672411 \n\" style=\"fill:none;stroke:#000000;stroke-dasharray:7.4,3.2;stroke-dashoffset:0;stroke-width:2;\"/>\n   </g>\n   <g id=\"patch_3\">\n    <path d=\"M 43.78125 239.758125 \nL 43.78125 22.318125 \n\" style=\"fill:none;stroke:#000000;stroke-linecap:square;stroke-linejoin:miter;stroke-width:0.8;\"/>\n   </g>\n   <g id=\"patch_4\">\n    <path d=\"M 378.58125 239.758125 \nL 378.58125 22.318125 \n\" style=\"fill:none;stroke:#000000;stroke-linecap:square;stroke-linejoin:miter;stroke-width:0.8;\"/>\n   </g>\n   <g id=\"patch_5\">\n    <path d=\"M 43.78125 239.758125 \nL 378.58125 239.758125 \n\" style=\"fill:none;stroke:#000000;stroke-linecap:square;stroke-linejoin:miter;stroke-width:0.8;\"/>\n   </g>\n   <g id=\"patch_6\">\n    <path d=\"M 43.78125 22.318125 \nL 378.58125 22.318125 \n\" style=\"fill:none;stroke:#000000;stroke-linecap:square;stroke-linejoin:miter;stroke-width:0.8;\"/>\n   </g>\n   <g id=\"text_15\">\n    <!-- Some extension of ROC to multi-class -->\n    <g transform=\"translate(98.099063 16.318125)scale(0.12 -0.12)\">\n     <defs>\n      <path d=\"M 53.515625 70.515625 \nL 53.515625 60.890625 \nQ 47.90625 63.578125 42.921875 64.890625 \nQ 37.9375 66.21875 33.296875 66.21875 \nQ 25.25 66.21875 20.875 63.09375 \nQ 16.5 59.96875 16.5 54.203125 \nQ 16.5 49.359375 19.40625 46.890625 \nQ 22.3125 44.4375 30.421875 42.921875 \nL 36.375 41.703125 \nQ 47.40625 39.59375 52.65625 34.296875 \nQ 57.90625 29 57.90625 20.125 \nQ 57.90625 9.515625 50.796875 4.046875 \nQ 43.703125 -1.421875 29.984375 -1.421875 \nQ 24.8125 -1.421875 18.96875 -0.25 \nQ 13.140625 0.921875 6.890625 3.21875 \nL 6.890625 13.375 \nQ 12.890625 10.015625 18.65625 8.296875 \nQ 24.421875 6.59375 29.984375 6.59375 \nQ 38.421875 6.59375 43.015625 9.90625 \nQ 47.609375 13.234375 47.609375 19.390625 \nQ 47.609375 24.75 44.3125 27.78125 \nQ 41.015625 30.8125 33.5 32.328125 \nL 27.484375 33.5 \nQ 16.453125 35.6875 11.515625 40.375 \nQ 6.59375 45.0625 6.59375 53.421875 \nQ 6.59375 63.09375 13.40625 68.65625 \nQ 20.21875 74.21875 32.171875 74.21875 \nQ 37.3125 74.21875 42.625 73.28125 \nQ 47.953125 72.359375 53.515625 70.515625 \nz\n\" id=\"DejaVuSans-83\"/>\n      <path d=\"M 52 44.1875 \nQ 55.375 50.25 60.0625 53.125 \nQ 64.75 56 71.09375 56 \nQ 79.640625 56 84.28125 50.015625 \nQ 88.921875 44.046875 88.921875 33.015625 \nL 88.921875 0 \nL 79.890625 0 \nL 79.890625 32.71875 \nQ 79.890625 40.578125 77.09375 44.375 \nQ 74.3125 48.1875 68.609375 48.1875 \nQ 61.625 48.1875 57.5625 43.546875 \nQ 53.515625 38.921875 53.515625 30.90625 \nL 53.515625 0 \nL 44.484375 0 \nL 44.484375 32.71875 \nQ 44.484375 40.625 41.703125 44.40625 \nQ 38.921875 48.1875 33.109375 48.1875 \nQ 26.21875 48.1875 22.15625 43.53125 \nQ 18.109375 38.875 18.109375 30.90625 \nL 18.109375 0 \nL 9.078125 0 \nL 9.078125 54.6875 \nL 18.109375 54.6875 \nL 18.109375 46.1875 \nQ 21.1875 51.21875 25.484375 53.609375 \nQ 29.78125 56 35.6875 56 \nQ 41.65625 56 45.828125 52.96875 \nQ 50 49.953125 52 44.1875 \nz\n\" id=\"DejaVuSans-109\"/>\n      <path d=\"M 54.890625 54.6875 \nL 35.109375 28.078125 \nL 55.90625 0 \nL 45.3125 0 \nL 29.390625 21.484375 \nL 13.484375 0 \nL 2.875 0 \nL 24.125 28.609375 \nL 4.6875 54.6875 \nL 15.28125 54.6875 \nL 29.78125 35.203125 \nL 44.28125 54.6875 \nz\n\" id=\"DejaVuSans-120\"/>\n      <path d=\"M 54.890625 33.015625 \nL 54.890625 0 \nL 45.90625 0 \nL 45.90625 32.71875 \nQ 45.90625 40.484375 42.875 44.328125 \nQ 39.84375 48.1875 33.796875 48.1875 \nQ 26.515625 48.1875 22.3125 43.546875 \nQ 18.109375 38.921875 18.109375 30.90625 \nL 18.109375 0 \nL 9.078125 0 \nL 9.078125 54.6875 \nL 18.109375 54.6875 \nL 18.109375 46.1875 \nQ 21.34375 51.125 25.703125 53.5625 \nQ 30.078125 56 35.796875 56 \nQ 45.21875 56 50.046875 50.171875 \nQ 54.890625 44.34375 54.890625 33.015625 \nz\n\" id=\"DejaVuSans-110\"/>\n      <path d=\"M 37.109375 75.984375 \nL 37.109375 68.5 \nL 28.515625 68.5 \nQ 23.6875 68.5 21.796875 66.546875 \nQ 19.921875 64.59375 19.921875 59.515625 \nL 19.921875 54.6875 \nL 34.71875 54.6875 \nL 34.71875 47.703125 \nL 19.921875 47.703125 \nL 19.921875 0 \nL 10.890625 0 \nL 10.890625 47.703125 \nL 2.296875 47.703125 \nL 2.296875 54.6875 \nL 10.890625 54.6875 \nL 10.890625 58.5 \nQ 10.890625 67.625 15.140625 71.796875 \nQ 19.390625 75.984375 28.609375 75.984375 \nz\n\" id=\"DejaVuSans-102\"/>\n      <path d=\"M 39.40625 66.21875 \nQ 28.65625 66.21875 22.328125 58.203125 \nQ 16.015625 50.203125 16.015625 36.375 \nQ 16.015625 22.609375 22.328125 14.59375 \nQ 28.65625 6.59375 39.40625 6.59375 \nQ 50.140625 6.59375 56.421875 14.59375 \nQ 62.703125 22.609375 62.703125 36.375 \nQ 62.703125 50.203125 56.421875 58.203125 \nQ 50.140625 66.21875 39.40625 66.21875 \nz\nM 39.40625 74.21875 \nQ 54.734375 74.21875 63.90625 63.9375 \nQ 73.09375 53.65625 73.09375 36.375 \nQ 73.09375 19.140625 63.90625 8.859375 \nQ 54.734375 -1.421875 39.40625 -1.421875 \nQ 24.03125 -1.421875 14.8125 8.828125 \nQ 5.609375 19.09375 5.609375 36.375 \nQ 5.609375 53.65625 14.8125 63.9375 \nQ 24.03125 74.21875 39.40625 74.21875 \nz\n\" id=\"DejaVuSans-79\"/>\n      <path d=\"M 64.40625 67.28125 \nL 64.40625 56.890625 \nQ 59.421875 61.53125 53.78125 63.8125 \nQ 48.140625 66.109375 41.796875 66.109375 \nQ 29.296875 66.109375 22.65625 58.46875 \nQ 16.015625 50.828125 16.015625 36.375 \nQ 16.015625 21.96875 22.65625 14.328125 \nQ 29.296875 6.6875 41.796875 6.6875 \nQ 48.140625 6.6875 53.78125 8.984375 \nQ 59.421875 11.28125 64.40625 15.921875 \nL 64.40625 5.609375 \nQ 59.234375 2.09375 53.4375 0.328125 \nQ 47.65625 -1.421875 41.21875 -1.421875 \nQ 24.65625 -1.421875 15.125 8.703125 \nQ 5.609375 18.84375 5.609375 36.375 \nQ 5.609375 53.953125 15.125 64.078125 \nQ 24.65625 74.21875 41.21875 74.21875 \nQ 47.75 74.21875 53.53125 72.484375 \nQ 59.328125 70.75 64.40625 67.28125 \nz\n\" id=\"DejaVuSans-67\"/>\n      <path d=\"M 4.890625 31.390625 \nL 31.203125 31.390625 \nL 31.203125 23.390625 \nL 4.890625 23.390625 \nz\n\" id=\"DejaVuSans-45\"/>\n      <path d=\"M 48.78125 52.59375 \nL 48.78125 44.1875 \nQ 44.96875 46.296875 41.140625 47.34375 \nQ 37.3125 48.390625 33.40625 48.390625 \nQ 24.65625 48.390625 19.8125 42.84375 \nQ 14.984375 37.3125 14.984375 27.296875 \nQ 14.984375 17.28125 19.8125 11.734375 \nQ 24.65625 6.203125 33.40625 6.203125 \nQ 37.3125 6.203125 41.140625 7.25 \nQ 44.96875 8.296875 48.78125 10.40625 \nL 48.78125 2.09375 \nQ 45.015625 0.34375 40.984375 -0.53125 \nQ 36.96875 -1.421875 32.421875 -1.421875 \nQ 20.0625 -1.421875 12.78125 6.34375 \nQ 5.515625 14.109375 5.515625 27.296875 \nQ 5.515625 40.671875 12.859375 48.328125 \nQ 20.21875 56 33.015625 56 \nQ 37.15625 56 41.109375 55.140625 \nQ 45.0625 54.296875 48.78125 52.59375 \nz\n\" id=\"DejaVuSans-99\"/>\n     </defs>\n     <use xlink:href=\"#DejaVuSans-83\"/>\n     <use x=\"63.476562\" xlink:href=\"#DejaVuSans-111\"/>\n     <use x=\"124.658203\" xlink:href=\"#DejaVuSans-109\"/>\n     <use x=\"222.070312\" xlink:href=\"#DejaVuSans-101\"/>\n     <use x=\"283.59375\" xlink:href=\"#DejaVuSans-32\"/>\n     <use x=\"315.380859\" xlink:href=\"#DejaVuSans-101\"/>\n     <use x=\"375.154297\" xlink:href=\"#DejaVuSans-120\"/>\n     <use x=\"434.333984\" xlink:href=\"#DejaVuSans-116\"/>\n     <use x=\"473.542969\" xlink:href=\"#DejaVuSans-101\"/>\n     <use x=\"535.066406\" xlink:href=\"#DejaVuSans-110\"/>\n     <use x=\"598.445312\" xlink:href=\"#DejaVuSans-115\"/>\n     <use x=\"650.544922\" xlink:href=\"#DejaVuSans-105\"/>\n     <use x=\"678.328125\" xlink:href=\"#DejaVuSans-111\"/>\n     <use x=\"739.509766\" xlink:href=\"#DejaVuSans-110\"/>\n     <use x=\"802.888672\" xlink:href=\"#DejaVuSans-32\"/>\n     <use x=\"834.675781\" xlink:href=\"#DejaVuSans-111\"/>\n     <use x=\"895.857422\" xlink:href=\"#DejaVuSans-102\"/>\n     <use x=\"931.0625\" xlink:href=\"#DejaVuSans-32\"/>\n     <use x=\"962.849609\" xlink:href=\"#DejaVuSans-82\"/>\n     <use x=\"1032.332031\" xlink:href=\"#DejaVuSans-79\"/>\n     <use x=\"1111.042969\" xlink:href=\"#DejaVuSans-67\"/>\n     <use x=\"1180.867188\" xlink:href=\"#DejaVuSans-32\"/>\n     <use x=\"1212.654297\" xlink:href=\"#DejaVuSans-116\"/>\n     <use x=\"1251.863281\" xlink:href=\"#DejaVuSans-111\"/>\n     <use x=\"1313.044922\" xlink:href=\"#DejaVuSans-32\"/>\n     <use x=\"1344.832031\" xlink:href=\"#DejaVuSans-109\"/>\n     <use x=\"1442.244141\" xlink:href=\"#DejaVuSans-117\"/>\n     <use x=\"1505.623047\" xlink:href=\"#DejaVuSans-108\"/>\n     <use x=\"1533.40625\" xlink:href=\"#DejaVuSans-116\"/>\n     <use x=\"1572.615234\" xlink:href=\"#DejaVuSans-105\"/>\n     <use x=\"1600.398438\" xlink:href=\"#DejaVuSans-45\"/>\n     <use x=\"1636.482422\" xlink:href=\"#DejaVuSans-99\"/>\n     <use x=\"1691.462891\" xlink:href=\"#DejaVuSans-108\"/>\n     <use x=\"1719.246094\" xlink:href=\"#DejaVuSans-97\"/>\n     <use x=\"1780.525391\" xlink:href=\"#DejaVuSans-115\"/>\n     <use x=\"1832.625\" xlink:href=\"#DejaVuSans-115\"/>\n    </g>\n   </g>\n   <g id=\"legend_1\">\n    <g id=\"patch_7\">\n     <path d=\"M 137.017188 234.758125 \nL 371.58125 234.758125 \nQ 373.58125 234.758125 373.58125 232.758125 \nL 373.58125 160.3675 \nQ 373.58125 158.3675 371.58125 158.3675 \nL 137.017188 158.3675 \nQ 135.017188 158.3675 135.017188 160.3675 \nL 135.017188 232.758125 \nQ 135.017188 234.758125 137.017188 234.758125 \nz\n\" style=\"fill:#ffffff;opacity:0.8;stroke:#cccccc;stroke-linejoin:miter;\"/>\n    </g>\n    <g id=\"line2d_19\">\n     <path d=\"M 139.017188 166.465937 \nL 159.017188 166.465937 \n\" style=\"fill:none;stroke:#ff1493;stroke-dasharray:4,6.6;stroke-dashoffset:0;stroke-width:4;\"/>\n    </g>\n    <g id=\"line2d_20\"/>\n    <g id=\"text_16\">\n     <!-- micro-average ROC curve (area = 0.97) -->\n     <g transform=\"translate(167.017188 169.965937)scale(0.1 -0.1)\">\n      <defs>\n       <path d=\"M 45.40625 27.984375 \nQ 45.40625 37.75 41.375 43.109375 \nQ 37.359375 48.484375 30.078125 48.484375 \nQ 22.859375 48.484375 18.828125 43.109375 \nQ 14.796875 37.75 14.796875 27.984375 \nQ 14.796875 18.265625 18.828125 12.890625 \nQ 22.859375 7.515625 30.078125 7.515625 \nQ 37.359375 7.515625 41.375 12.890625 \nQ 45.40625 18.265625 45.40625 27.984375 \nz\nM 54.390625 6.78125 \nQ 54.390625 -7.171875 48.1875 -13.984375 \nQ 42 -20.796875 29.203125 -20.796875 \nQ 24.46875 -20.796875 20.265625 -20.09375 \nQ 16.0625 -19.390625 12.109375 -17.921875 \nL 12.109375 -9.1875 \nQ 16.0625 -11.328125 19.921875 -12.34375 \nQ 23.78125 -13.375 27.78125 -13.375 \nQ 36.625 -13.375 41.015625 -8.765625 \nQ 45.40625 -4.15625 45.40625 5.171875 \nL 45.40625 9.625 \nQ 42.625 4.78125 38.28125 2.390625 \nQ 33.9375 0 27.875 0 \nQ 17.828125 0 11.671875 7.65625 \nQ 5.515625 15.328125 5.515625 27.984375 \nQ 5.515625 40.671875 11.671875 48.328125 \nQ 17.828125 56 27.875 56 \nQ 33.9375 56 38.28125 53.609375 \nQ 42.625 51.21875 45.40625 46.390625 \nL 45.40625 54.6875 \nL 54.390625 54.6875 \nz\n\" id=\"DejaVuSans-103\"/>\n       <path d=\"M 31 75.875 \nQ 24.46875 64.65625 21.28125 53.65625 \nQ 18.109375 42.671875 18.109375 31.390625 \nQ 18.109375 20.125 21.3125 9.0625 \nQ 24.515625 -2 31 -13.1875 \nL 23.1875 -13.1875 \nQ 15.875 -1.703125 12.234375 9.375 \nQ 8.59375 20.453125 8.59375 31.390625 \nQ 8.59375 42.28125 12.203125 53.3125 \nQ 15.828125 64.359375 23.1875 75.875 \nz\n\" id=\"DejaVuSans-40\"/>\n       <path d=\"M 10.59375 45.40625 \nL 73.1875 45.40625 \nL 73.1875 37.203125 \nL 10.59375 37.203125 \nz\nM 10.59375 25.484375 \nL 73.1875 25.484375 \nL 73.1875 17.1875 \nL 10.59375 17.1875 \nz\n\" id=\"DejaVuSans-61\"/>\n       <path d=\"M 10.984375 1.515625 \nL 10.984375 10.5 \nQ 14.703125 8.734375 18.5 7.8125 \nQ 22.3125 6.890625 25.984375 6.890625 \nQ 35.75 6.890625 40.890625 13.453125 \nQ 46.046875 20.015625 46.78125 33.40625 \nQ 43.953125 29.203125 39.59375 26.953125 \nQ 35.25 24.703125 29.984375 24.703125 \nQ 19.046875 24.703125 12.671875 31.3125 \nQ 6.296875 37.9375 6.296875 49.421875 \nQ 6.296875 60.640625 12.9375 67.421875 \nQ 19.578125 74.21875 30.609375 74.21875 \nQ 43.265625 74.21875 49.921875 64.515625 \nQ 56.59375 54.828125 56.59375 36.375 \nQ 56.59375 19.140625 48.40625 8.859375 \nQ 40.234375 -1.421875 26.421875 -1.421875 \nQ 22.703125 -1.421875 18.890625 -0.6875 \nQ 15.09375 0.046875 10.984375 1.515625 \nz\nM 30.609375 32.421875 \nQ 37.25 32.421875 41.125 36.953125 \nQ 45.015625 41.5 45.015625 49.421875 \nQ 45.015625 57.28125 41.125 61.84375 \nQ 37.25 66.40625 30.609375 66.40625 \nQ 23.96875 66.40625 20.09375 61.84375 \nQ 16.21875 57.28125 16.21875 49.421875 \nQ 16.21875 41.5 20.09375 36.953125 \nQ 23.96875 32.421875 30.609375 32.421875 \nz\n\" id=\"DejaVuSans-57\"/>\n       <path d=\"M 8.203125 72.90625 \nL 55.078125 72.90625 \nL 55.078125 68.703125 \nL 28.609375 0 \nL 18.3125 0 \nL 43.21875 64.59375 \nL 8.203125 64.59375 \nz\n\" id=\"DejaVuSans-55\"/>\n       <path d=\"M 8.015625 75.875 \nL 15.828125 75.875 \nQ 23.140625 64.359375 26.78125 53.3125 \nQ 30.421875 42.28125 30.421875 31.390625 \nQ 30.421875 20.453125 26.78125 9.375 \nQ 23.140625 -1.703125 15.828125 -13.1875 \nL 8.015625 -13.1875 \nQ 14.5 -2 17.703125 9.0625 \nQ 20.90625 20.125 20.90625 31.390625 \nQ 20.90625 42.671875 17.703125 53.65625 \nQ 14.5 64.65625 8.015625 75.875 \nz\n\" id=\"DejaVuSans-41\"/>\n      </defs>\n      <use xlink:href=\"#DejaVuSans-109\"/>\n      <use x=\"97.412109\" xlink:href=\"#DejaVuSans-105\"/>\n      <use x=\"125.195312\" xlink:href=\"#DejaVuSans-99\"/>\n      <use x=\"180.175781\" xlink:href=\"#DejaVuSans-114\"/>\n      <use x=\"219.039062\" xlink:href=\"#DejaVuSans-111\"/>\n      <use x=\"282.095703\" xlink:href=\"#DejaVuSans-45\"/>\n      <use x=\"318.179688\" xlink:href=\"#DejaVuSans-97\"/>\n      <use x=\"379.458984\" xlink:href=\"#DejaVuSans-118\"/>\n      <use x=\"438.638672\" xlink:href=\"#DejaVuSans-101\"/>\n      <use x=\"500.162109\" xlink:href=\"#DejaVuSans-114\"/>\n      <use x=\"541.275391\" xlink:href=\"#DejaVuSans-97\"/>\n      <use x=\"602.554688\" xlink:href=\"#DejaVuSans-103\"/>\n      <use x=\"666.03125\" xlink:href=\"#DejaVuSans-101\"/>\n      <use x=\"727.554688\" xlink:href=\"#DejaVuSans-32\"/>\n      <use x=\"759.341797\" xlink:href=\"#DejaVuSans-82\"/>\n      <use x=\"828.824219\" xlink:href=\"#DejaVuSans-79\"/>\n      <use x=\"907.535156\" xlink:href=\"#DejaVuSans-67\"/>\n      <use x=\"977.359375\" xlink:href=\"#DejaVuSans-32\"/>\n      <use x=\"1009.146484\" xlink:href=\"#DejaVuSans-99\"/>\n      <use x=\"1064.126953\" xlink:href=\"#DejaVuSans-117\"/>\n      <use x=\"1127.505859\" xlink:href=\"#DejaVuSans-114\"/>\n      <use x=\"1168.619141\" xlink:href=\"#DejaVuSans-118\"/>\n      <use x=\"1227.798828\" xlink:href=\"#DejaVuSans-101\"/>\n      <use x=\"1289.322266\" xlink:href=\"#DejaVuSans-32\"/>\n      <use x=\"1321.109375\" xlink:href=\"#DejaVuSans-40\"/>\n      <use x=\"1360.123047\" xlink:href=\"#DejaVuSans-97\"/>\n      <use x=\"1421.402344\" xlink:href=\"#DejaVuSans-114\"/>\n      <use x=\"1460.265625\" xlink:href=\"#DejaVuSans-101\"/>\n      <use x=\"1521.789062\" xlink:href=\"#DejaVuSans-97\"/>\n      <use x=\"1583.068359\" xlink:href=\"#DejaVuSans-32\"/>\n      <use x=\"1614.855469\" xlink:href=\"#DejaVuSans-61\"/>\n      <use x=\"1698.644531\" xlink:href=\"#DejaVuSans-32\"/>\n      <use x=\"1730.431641\" xlink:href=\"#DejaVuSans-48\"/>\n      <use x=\"1794.054688\" xlink:href=\"#DejaVuSans-46\"/>\n      <use x=\"1825.841797\" xlink:href=\"#DejaVuSans-57\"/>\n      <use x=\"1889.464844\" xlink:href=\"#DejaVuSans-55\"/>\n      <use x=\"1953.087891\" xlink:href=\"#DejaVuSans-41\"/>\n     </g>\n    </g>\n    <g id=\"line2d_21\">\n     <path d=\"M 139.017188 181.144062 \nL 159.017188 181.144062 \n\" style=\"fill:none;stroke:#000080;stroke-dasharray:4,6.6;stroke-dashoffset:0;stroke-width:4;\"/>\n    </g>\n    <g id=\"line2d_22\"/>\n    <g id=\"text_17\">\n     <!-- macro-average ROC curve (area = 0.94) -->\n     <g transform=\"translate(167.017188 184.644062)scale(0.1 -0.1)\">\n      <use xlink:href=\"#DejaVuSans-109\"/>\n      <use x=\"97.412109\" xlink:href=\"#DejaVuSans-97\"/>\n      <use x=\"158.691406\" xlink:href=\"#DejaVuSans-99\"/>\n      <use x=\"213.671875\" xlink:href=\"#DejaVuSans-114\"/>\n      <use x=\"252.535156\" xlink:href=\"#DejaVuSans-111\"/>\n      <use x=\"315.591797\" xlink:href=\"#DejaVuSans-45\"/>\n      <use x=\"351.675781\" xlink:href=\"#DejaVuSans-97\"/>\n      <use x=\"412.955078\" xlink:href=\"#DejaVuSans-118\"/>\n      <use x=\"472.134766\" xlink:href=\"#DejaVuSans-101\"/>\n      <use x=\"533.658203\" xlink:href=\"#DejaVuSans-114\"/>\n      <use x=\"574.771484\" xlink:href=\"#DejaVuSans-97\"/>\n      <use x=\"636.050781\" xlink:href=\"#DejaVuSans-103\"/>\n      <use x=\"699.527344\" xlink:href=\"#DejaVuSans-101\"/>\n      <use x=\"761.050781\" xlink:href=\"#DejaVuSans-32\"/>\n      <use x=\"792.837891\" xlink:href=\"#DejaVuSans-82\"/>\n      <use x=\"862.320312\" xlink:href=\"#DejaVuSans-79\"/>\n      <use x=\"941.03125\" xlink:href=\"#DejaVuSans-67\"/>\n      <use x=\"1010.855469\" xlink:href=\"#DejaVuSans-32\"/>\n      <use x=\"1042.642578\" xlink:href=\"#DejaVuSans-99\"/>\n      <use x=\"1097.623047\" xlink:href=\"#DejaVuSans-117\"/>\n      <use x=\"1161.001953\" xlink:href=\"#DejaVuSans-114\"/>\n      <use x=\"1202.115234\" xlink:href=\"#DejaVuSans-118\"/>\n      <use x=\"1261.294922\" xlink:href=\"#DejaVuSans-101\"/>\n      <use x=\"1322.818359\" xlink:href=\"#DejaVuSans-32\"/>\n      <use x=\"1354.605469\" xlink:href=\"#DejaVuSans-40\"/>\n      <use x=\"1393.619141\" xlink:href=\"#DejaVuSans-97\"/>\n      <use x=\"1454.898438\" xlink:href=\"#DejaVuSans-114\"/>\n      <use x=\"1493.761719\" xlink:href=\"#DejaVuSans-101\"/>\n      <use x=\"1555.285156\" xlink:href=\"#DejaVuSans-97\"/>\n      <use x=\"1616.564453\" xlink:href=\"#DejaVuSans-32\"/>\n      <use x=\"1648.351562\" xlink:href=\"#DejaVuSans-61\"/>\n      <use x=\"1732.140625\" xlink:href=\"#DejaVuSans-32\"/>\n      <use x=\"1763.927734\" xlink:href=\"#DejaVuSans-48\"/>\n      <use x=\"1827.550781\" xlink:href=\"#DejaVuSans-46\"/>\n      <use x=\"1859.337891\" xlink:href=\"#DejaVuSans-57\"/>\n      <use x=\"1922.960938\" xlink:href=\"#DejaVuSans-52\"/>\n      <use x=\"1986.583984\" xlink:href=\"#DejaVuSans-41\"/>\n     </g>\n    </g>\n    <g id=\"line2d_23\">\n     <path d=\"M 139.017188 195.822187 \nL 159.017188 195.822187 \n\" style=\"fill:none;stroke:#00ffff;stroke-linecap:square;stroke-width:2;\"/>\n    </g>\n    <g id=\"line2d_24\"/>\n    <g id=\"text_18\">\n     <!-- ROC curve of class 0 (area = 0.86) -->\n     <g transform=\"translate(167.017188 199.322187)scale(0.1 -0.1)\">\n      <use xlink:href=\"#DejaVuSans-82\"/>\n      <use x=\"69.482422\" xlink:href=\"#DejaVuSans-79\"/>\n      <use x=\"148.193359\" xlink:href=\"#DejaVuSans-67\"/>\n      <use x=\"218.017578\" xlink:href=\"#DejaVuSans-32\"/>\n      <use x=\"249.804688\" xlink:href=\"#DejaVuSans-99\"/>\n      <use x=\"304.785156\" xlink:href=\"#DejaVuSans-117\"/>\n      <use x=\"368.164062\" xlink:href=\"#DejaVuSans-114\"/>\n      <use x=\"409.277344\" xlink:href=\"#DejaVuSans-118\"/>\n      <use x=\"468.457031\" xlink:href=\"#DejaVuSans-101\"/>\n      <use x=\"529.980469\" xlink:href=\"#DejaVuSans-32\"/>\n      <use x=\"561.767578\" xlink:href=\"#DejaVuSans-111\"/>\n      <use x=\"622.949219\" xlink:href=\"#DejaVuSans-102\"/>\n      <use x=\"658.154297\" xlink:href=\"#DejaVuSans-32\"/>\n      <use x=\"689.941406\" xlink:href=\"#DejaVuSans-99\"/>\n      <use x=\"744.921875\" xlink:href=\"#DejaVuSans-108\"/>\n      <use x=\"772.705078\" xlink:href=\"#DejaVuSans-97\"/>\n      <use x=\"833.984375\" xlink:href=\"#DejaVuSans-115\"/>\n      <use x=\"886.083984\" xlink:href=\"#DejaVuSans-115\"/>\n      <use x=\"938.183594\" xlink:href=\"#DejaVuSans-32\"/>\n      <use x=\"969.970703\" xlink:href=\"#DejaVuSans-48\"/>\n      <use x=\"1033.59375\" xlink:href=\"#DejaVuSans-32\"/>\n      <use x=\"1065.380859\" xlink:href=\"#DejaVuSans-40\"/>\n      <use x=\"1104.394531\" xlink:href=\"#DejaVuSans-97\"/>\n      <use x=\"1165.673828\" xlink:href=\"#DejaVuSans-114\"/>\n      <use x=\"1204.537109\" xlink:href=\"#DejaVuSans-101\"/>\n      <use x=\"1266.060547\" xlink:href=\"#DejaVuSans-97\"/>\n      <use x=\"1327.339844\" xlink:href=\"#DejaVuSans-32\"/>\n      <use x=\"1359.126953\" xlink:href=\"#DejaVuSans-61\"/>\n      <use x=\"1442.916016\" xlink:href=\"#DejaVuSans-32\"/>\n      <use x=\"1474.703125\" xlink:href=\"#DejaVuSans-48\"/>\n      <use x=\"1538.326172\" xlink:href=\"#DejaVuSans-46\"/>\n      <use x=\"1570.113281\" xlink:href=\"#DejaVuSans-56\"/>\n      <use x=\"1633.736328\" xlink:href=\"#DejaVuSans-54\"/>\n      <use x=\"1697.359375\" xlink:href=\"#DejaVuSans-41\"/>\n     </g>\n    </g>\n    <g id=\"line2d_25\">\n     <path d=\"M 139.017188 210.500312 \nL 159.017188 210.500312 \n\" style=\"fill:none;stroke:#ff8c00;stroke-linecap:square;stroke-width:2;\"/>\n    </g>\n    <g id=\"line2d_26\"/>\n    <g id=\"text_19\">\n     <!-- ROC curve of class 1 (area = 0.93) -->\n     <g transform=\"translate(167.017188 214.000312)scale(0.1 -0.1)\">\n      <defs>\n       <path d=\"M 40.578125 39.3125 \nQ 47.65625 37.796875 51.625 33 \nQ 55.609375 28.21875 55.609375 21.1875 \nQ 55.609375 10.40625 48.1875 4.484375 \nQ 40.765625 -1.421875 27.09375 -1.421875 \nQ 22.515625 -1.421875 17.65625 -0.515625 \nQ 12.796875 0.390625 7.625 2.203125 \nL 7.625 11.71875 \nQ 11.71875 9.328125 16.59375 8.109375 \nQ 21.484375 6.890625 26.8125 6.890625 \nQ 36.078125 6.890625 40.9375 10.546875 \nQ 45.796875 14.203125 45.796875 21.1875 \nQ 45.796875 27.640625 41.28125 31.265625 \nQ 36.765625 34.90625 28.71875 34.90625 \nL 20.21875 34.90625 \nL 20.21875 43.015625 \nL 29.109375 43.015625 \nQ 36.375 43.015625 40.234375 45.921875 \nQ 44.09375 48.828125 44.09375 54.296875 \nQ 44.09375 59.90625 40.109375 62.90625 \nQ 36.140625 65.921875 28.71875 65.921875 \nQ 24.65625 65.921875 20.015625 65.03125 \nQ 15.375 64.15625 9.8125 62.3125 \nL 9.8125 71.09375 \nQ 15.4375 72.65625 20.34375 73.4375 \nQ 25.25 74.21875 29.59375 74.21875 \nQ 40.828125 74.21875 47.359375 69.109375 \nQ 53.90625 64.015625 53.90625 55.328125 \nQ 53.90625 49.265625 50.4375 45.09375 \nQ 46.96875 40.921875 40.578125 39.3125 \nz\n\" id=\"DejaVuSans-51\"/>\n      </defs>\n      <use xlink:href=\"#DejaVuSans-82\"/>\n      <use x=\"69.482422\" xlink:href=\"#DejaVuSans-79\"/>\n      <use x=\"148.193359\" xlink:href=\"#DejaVuSans-67\"/>\n      <use x=\"218.017578\" xlink:href=\"#DejaVuSans-32\"/>\n      <use x=\"249.804688\" xlink:href=\"#DejaVuSans-99\"/>\n      <use x=\"304.785156\" xlink:href=\"#DejaVuSans-117\"/>\n      <use x=\"368.164062\" xlink:href=\"#DejaVuSans-114\"/>\n      <use x=\"409.277344\" xlink:href=\"#DejaVuSans-118\"/>\n      <use x=\"468.457031\" xlink:href=\"#DejaVuSans-101\"/>\n      <use x=\"529.980469\" xlink:href=\"#DejaVuSans-32\"/>\n      <use x=\"561.767578\" xlink:href=\"#DejaVuSans-111\"/>\n      <use x=\"622.949219\" xlink:href=\"#DejaVuSans-102\"/>\n      <use x=\"658.154297\" xlink:href=\"#DejaVuSans-32\"/>\n      <use x=\"689.941406\" xlink:href=\"#DejaVuSans-99\"/>\n      <use x=\"744.921875\" xlink:href=\"#DejaVuSans-108\"/>\n      <use x=\"772.705078\" xlink:href=\"#DejaVuSans-97\"/>\n      <use x=\"833.984375\" xlink:href=\"#DejaVuSans-115\"/>\n      <use x=\"886.083984\" xlink:href=\"#DejaVuSans-115\"/>\n      <use x=\"938.183594\" xlink:href=\"#DejaVuSans-32\"/>\n      <use x=\"969.970703\" xlink:href=\"#DejaVuSans-49\"/>\n      <use x=\"1033.59375\" xlink:href=\"#DejaVuSans-32\"/>\n      <use x=\"1065.380859\" xlink:href=\"#DejaVuSans-40\"/>\n      <use x=\"1104.394531\" xlink:href=\"#DejaVuSans-97\"/>\n      <use x=\"1165.673828\" xlink:href=\"#DejaVuSans-114\"/>\n      <use x=\"1204.537109\" xlink:href=\"#DejaVuSans-101\"/>\n      <use x=\"1266.060547\" xlink:href=\"#DejaVuSans-97\"/>\n      <use x=\"1327.339844\" xlink:href=\"#DejaVuSans-32\"/>\n      <use x=\"1359.126953\" xlink:href=\"#DejaVuSans-61\"/>\n      <use x=\"1442.916016\" xlink:href=\"#DejaVuSans-32\"/>\n      <use x=\"1474.703125\" xlink:href=\"#DejaVuSans-48\"/>\n      <use x=\"1538.326172\" xlink:href=\"#DejaVuSans-46\"/>\n      <use x=\"1570.113281\" xlink:href=\"#DejaVuSans-57\"/>\n      <use x=\"1633.736328\" xlink:href=\"#DejaVuSans-51\"/>\n      <use x=\"1697.359375\" xlink:href=\"#DejaVuSans-41\"/>\n     </g>\n    </g>\n    <g id=\"line2d_27\">\n     <path d=\"M 139.017188 225.178437 \nL 159.017188 225.178437 \n\" style=\"fill:none;stroke:#6495ed;stroke-linecap:square;stroke-width:2;\"/>\n    </g>\n    <g id=\"line2d_28\"/>\n    <g id=\"text_20\">\n     <!-- ROC curve of class 2 (area = 0.93) -->\n     <g transform=\"translate(167.017188 228.678437)scale(0.1 -0.1)\">\n      <use xlink:href=\"#DejaVuSans-82\"/>\n      <use x=\"69.482422\" xlink:href=\"#DejaVuSans-79\"/>\n      <use x=\"148.193359\" xlink:href=\"#DejaVuSans-67\"/>\n      <use x=\"218.017578\" xlink:href=\"#DejaVuSans-32\"/>\n      <use x=\"249.804688\" xlink:href=\"#DejaVuSans-99\"/>\n      <use x=\"304.785156\" xlink:href=\"#DejaVuSans-117\"/>\n      <use x=\"368.164062\" xlink:href=\"#DejaVuSans-114\"/>\n      <use x=\"409.277344\" xlink:href=\"#DejaVuSans-118\"/>\n      <use x=\"468.457031\" xlink:href=\"#DejaVuSans-101\"/>\n      <use x=\"529.980469\" xlink:href=\"#DejaVuSans-32\"/>\n      <use x=\"561.767578\" xlink:href=\"#DejaVuSans-111\"/>\n      <use x=\"622.949219\" xlink:href=\"#DejaVuSans-102\"/>\n      <use x=\"658.154297\" xlink:href=\"#DejaVuSans-32\"/>\n      <use x=\"689.941406\" xlink:href=\"#DejaVuSans-99\"/>\n      <use x=\"744.921875\" xlink:href=\"#DejaVuSans-108\"/>\n      <use x=\"772.705078\" xlink:href=\"#DejaVuSans-97\"/>\n      <use x=\"833.984375\" xlink:href=\"#DejaVuSans-115\"/>\n      <use x=\"886.083984\" xlink:href=\"#DejaVuSans-115\"/>\n      <use x=\"938.183594\" xlink:href=\"#DejaVuSans-32\"/>\n      <use x=\"969.970703\" xlink:href=\"#DejaVuSans-50\"/>\n      <use x=\"1033.59375\" xlink:href=\"#DejaVuSans-32\"/>\n      <use x=\"1065.380859\" xlink:href=\"#DejaVuSans-40\"/>\n      <use x=\"1104.394531\" xlink:href=\"#DejaVuSans-97\"/>\n      <use x=\"1165.673828\" xlink:href=\"#DejaVuSans-114\"/>\n      <use x=\"1204.537109\" xlink:href=\"#DejaVuSans-101\"/>\n      <use x=\"1266.060547\" xlink:href=\"#DejaVuSans-97\"/>\n      <use x=\"1327.339844\" xlink:href=\"#DejaVuSans-32\"/>\n      <use x=\"1359.126953\" xlink:href=\"#DejaVuSans-61\"/>\n      <use x=\"1442.916016\" xlink:href=\"#DejaVuSans-32\"/>\n      <use x=\"1474.703125\" xlink:href=\"#DejaVuSans-48\"/>\n      <use x=\"1538.326172\" xlink:href=\"#DejaVuSans-46\"/>\n      <use x=\"1570.113281\" xlink:href=\"#DejaVuSans-57\"/>\n      <use x=\"1633.736328\" xlink:href=\"#DejaVuSans-51\"/>\n      <use x=\"1697.359375\" xlink:href=\"#DejaVuSans-41\"/>\n     </g>\n    </g>\n   </g>\n  </g>\n </g>\n <defs>\n  <clipPath id=\"pa787e2d3c4\">\n   <rect height=\"217.44\" width=\"334.8\" x=\"43.78125\" y=\"22.318125\"/>\n  </clipPath>\n </defs>\n</svg>\n",
      "text/plain": [
       "<Figure size 432x288 with 1 Axes>"
      ]
     },
     "metadata": {
      "needs_background": "light"
     },
     "output_type": "display_data"
    }
   ],
   "source": [
    "n_classes = len(tags_counts)\n",
    "roc_auc(y_val, y_val_predicted_scores_mybag, n_classes)"
   ]
  },
  {
   "cell_type": "code",
   "execution_count": 86,
   "metadata": {
    "collapsed": true
   },
   "outputs": [
    {
     "data": {
      "image/png": "[encoded data removed]",
      "image/svg+xml": "<?xml version=\"1.0\" encoding=\"utf-8\" standalone=\"no\"?>\n<!DOCTYPE svg PUBLIC \"-//W3C//DTD SVG 1.1//EN\"\n  \"http://www.w3.org/Graphics/SVG/1.1/DTD/svg11.dtd\">\n<!-- Created with matplotlib (https://matplotlib.org/) -->\n<svg height=\"277.314375pt\" version=\"1.1\" viewBox=\"0 0 393.732813 277.314375\" width=\"393.732813pt\" xmlns=\"http://www.w3.org/2000/svg\" xmlns:xlink=\"http://www.w3.org/1999/xlink\">\n <metadata>\n  <rdf:RDF xmlns:cc=\"http://creativecommons.org/ns#\" xmlns:dc=\"http://purl.org/dc/elements/1.1/\" xmlns:rdf=\"http://www.w3.org/1999/02/22-rdf-syntax-ns#\">\n   <cc:Work>\n    <dc:type rdf:resource=\"http://purl.org/dc/dcmitype/StillImage\"/>\n    <dc:date>2021-03-10T15:28:51.676105</dc:date>\n    <dc:format>image/svg+xml</dc:format>\n    <dc:creator>\n     <cc:Agent>\n      <dc:title>Matplotlib v3.3.2, https://matplotlib.org/</dc:title>\n     </cc:Agent>\n    </dc:creator>\n   </cc:Work>\n  </rdf:RDF>\n </metadata>\n <defs>\n  <style type=\"text/css\">*{stroke-linecap:butt;stroke-linejoin:round;}</style>\n </defs>\n <g id=\"figure_1\">\n  <g id=\"patch_1\">\n   <path d=\"M 0 277.314375 \nL 393.732813 277.314375 \nL 393.732813 0 \nL 0 0 \nz\n\" style=\"fill:none;\"/>\n  </g>\n  <g id=\"axes_1\">\n   <g id=\"patch_2\">\n    <path d=\"M 43.78125 239.758125 \nL 378.58125 239.758125 \nL 378.58125 22.318125 \nL 43.78125 22.318125 \nz\n\" style=\"fill:#ffffff;\"/>\n   </g>\n   <g id=\"matplotlib.axis_1\">\n    <g id=\"xtick_1\">\n     <g id=\"line2d_1\">\n      <defs>\n       <path d=\"M 0 0 \nL 0 3.5 \n\" id=\"m79880879f7\" style=\"stroke:#000000;stroke-width:0.8;\"/>\n      </defs>\n      <g>\n       <use style=\"stroke:#000000;stroke-width:0.8;\" x=\"43.78125\" xlink:href=\"#m79880879f7\" y=\"239.758125\"/>\n      </g>\n     </g>\n     <g id=\"text_1\">\n      <!-- 0.0 -->\n      <g transform=\"translate(35.829688 254.356562)scale(0.1 -0.1)\">\n       <defs>\n        <path d=\"M 31.78125 66.40625 \nQ 24.171875 66.40625 20.328125 58.90625 \nQ 16.5 51.421875 16.5 36.375 \nQ 16.5 21.390625 20.328125 13.890625 \nQ 24.171875 6.390625 31.78125 6.390625 \nQ 39.453125 6.390625 43.28125 13.890625 \nQ 47.125 21.390625 47.125 36.375 \nQ 47.125 51.421875 43.28125 58.90625 \nQ 39.453125 66.40625 31.78125 66.40625 \nz\nM 31.78125 74.21875 \nQ 44.046875 74.21875 50.515625 64.515625 \nQ 56.984375 54.828125 56.984375 36.375 \nQ 56.984375 17.96875 50.515625 8.265625 \nQ 44.046875 -1.421875 31.78125 -1.421875 \nQ 19.53125 -1.421875 13.0625 8.265625 \nQ 6.59375 17.96875 6.59375 36.375 \nQ 6.59375 54.828125 13.0625 64.515625 \nQ 19.53125 74.21875 31.78125 74.21875 \nz\n\" id=\"DejaVuSans-48\"/>\n        <path d=\"M 10.6875 12.40625 \nL 21 12.40625 \nL 21 0 \nL 10.6875 0 \nz\n\" id=\"DejaVuSans-46\"/>\n       </defs>\n       <use xlink:href=\"#DejaVuSans-48\"/>\n       <use x=\"63.623047\" xlink:href=\"#DejaVuSans-46\"/>\n       <use x=\"95.410156\" xlink:href=\"#DejaVuSans-48\"/>\n      </g>\n     </g>\n    </g>\n    <g id=\"xtick_2\">\n     <g id=\"line2d_2\">\n      <g>\n       <use style=\"stroke:#000000;stroke-width:0.8;\" x=\"110.74125\" xlink:href=\"#m79880879f7\" y=\"239.758125\"/>\n      </g>\n     </g>\n     <g id=\"text_2\">\n      <!-- 0.2 -->\n      <g transform=\"translate(102.789688 254.356562)scale(0.1 -0.1)\">\n       <defs>\n        <path d=\"M 19.1875 8.296875 \nL 53.609375 8.296875 \nL 53.609375 0 \nL 7.328125 0 \nL 7.328125 8.296875 \nQ 12.9375 14.109375 22.625 23.890625 \nQ 32.328125 33.6875 34.8125 36.53125 \nQ 39.546875 41.84375 41.421875 45.53125 \nQ 43.3125 49.21875 43.3125 52.78125 \nQ 43.3125 58.59375 39.234375 62.25 \nQ 35.15625 65.921875 28.609375 65.921875 \nQ 23.96875 65.921875 18.8125 64.3125 \nQ 13.671875 62.703125 7.8125 59.421875 \nL 7.8125 69.390625 \nQ 13.765625 71.78125 18.9375 73 \nQ 24.125 74.21875 28.421875 74.21875 \nQ 39.75 74.21875 46.484375 68.546875 \nQ 53.21875 62.890625 53.21875 53.421875 \nQ 53.21875 48.921875 51.53125 44.890625 \nQ 49.859375 40.875 45.40625 35.40625 \nQ 44.1875 33.984375 37.640625 27.21875 \nQ 31.109375 20.453125 19.1875 8.296875 \nz\n\" id=\"DejaVuSans-50\"/>\n       </defs>\n       <use xlink:href=\"#DejaVuSans-48\"/>\n       <use x=\"63.623047\" xlink:href=\"#DejaVuSans-46\"/>\n       <use x=\"95.410156\" xlink:href=\"#DejaVuSans-50\"/>\n      </g>\n     </g>\n    </g>\n    <g id=\"xtick_3\">\n     <g id=\"line2d_3\">\n      <g>\n       <use style=\"stroke:#000000;stroke-width:0.8;\" x=\"177.70125\" xlink:href=\"#m79880879f7\" y=\"239.758125\"/>\n      </g>\n     </g>\n     <g id=\"text_3\">\n      <!-- 0.4 -->\n      <g transform=\"translate(169.749688 254.356562)scale(0.1 -0.1)\">\n       <defs>\n        <path d=\"M 37.796875 64.3125 \nL 12.890625 25.390625 \nL 37.796875 25.390625 \nz\nM 35.203125 72.90625 \nL 47.609375 72.90625 \nL 47.609375 25.390625 \nL 58.015625 25.390625 \nL 58.015625 17.1875 \nL 47.609375 17.1875 \nL 47.609375 0 \nL 37.796875 0 \nL 37.796875 17.1875 \nL 4.890625 17.1875 \nL 4.890625 26.703125 \nz\n\" id=\"DejaVuSans-52\"/>\n       </defs>\n       <use xlink:href=\"#DejaVuSans-48\"/>\n       <use x=\"63.623047\" xlink:href=\"#DejaVuSans-46\"/>\n       <use x=\"95.410156\" xlink:href=\"#DejaVuSans-52\"/>\n      </g>\n     </g>\n    </g>\n    <g id=\"xtick_4\">\n     <g id=\"line2d_4\">\n      <g>\n       <use style=\"stroke:#000000;stroke-width:0.8;\" x=\"244.66125\" xlink:href=\"#m79880879f7\" y=\"239.758125\"/>\n      </g>\n     </g>\n     <g id=\"text_4\">\n      <!-- 0.6 -->\n      <g transform=\"translate(236.709688 254.356562)scale(0.1 -0.1)\">\n       <defs>\n        <path d=\"M 33.015625 40.375 \nQ 26.375 40.375 22.484375 35.828125 \nQ 18.609375 31.296875 18.609375 23.390625 \nQ 18.609375 15.53125 22.484375 10.953125 \nQ 26.375 6.390625 33.015625 6.390625 \nQ 39.65625 6.390625 43.53125 10.953125 \nQ 47.40625 15.53125 47.40625 23.390625 \nQ 47.40625 31.296875 43.53125 35.828125 \nQ 39.65625 40.375 33.015625 40.375 \nz\nM 52.59375 71.296875 \nL 52.59375 62.3125 \nQ 48.875 64.0625 45.09375 64.984375 \nQ 41.3125 65.921875 37.59375 65.921875 \nQ 27.828125 65.921875 22.671875 59.328125 \nQ 17.53125 52.734375 16.796875 39.40625 \nQ 19.671875 43.65625 24.015625 45.921875 \nQ 28.375 48.1875 33.59375 48.1875 \nQ 44.578125 48.1875 50.953125 41.515625 \nQ 57.328125 34.859375 57.328125 23.390625 \nQ 57.328125 12.15625 50.6875 5.359375 \nQ 44.046875 -1.421875 33.015625 -1.421875 \nQ 20.359375 -1.421875 13.671875 8.265625 \nQ 6.984375 17.96875 6.984375 36.375 \nQ 6.984375 53.65625 15.1875 63.9375 \nQ 23.390625 74.21875 37.203125 74.21875 \nQ 40.921875 74.21875 44.703125 73.484375 \nQ 48.484375 72.75 52.59375 71.296875 \nz\n\" id=\"DejaVuSans-54\"/>\n       </defs>\n       <use xlink:href=\"#DejaVuSans-48\"/>\n       <use x=\"63.623047\" xlink:href=\"#DejaVuSans-46\"/>\n       <use x=\"95.410156\" xlink:href=\"#DejaVuSans-54\"/>\n      </g>\n     </g>\n    </g>\n    <g id=\"xtick_5\">\n     <g id=\"line2d_5\">\n      <g>\n       <use style=\"stroke:#000000;stroke-width:0.8;\" x=\"311.62125\" xlink:href=\"#m79880879f7\" y=\"239.758125\"/>\n      </g>\n     </g>\n     <g id=\"text_5\">\n      <!-- 0.8 -->\n      <g transform=\"translate(303.669688 254.356562)scale(0.1 -0.1)\">\n       <defs>\n        <path d=\"M 31.78125 34.625 \nQ 24.75 34.625 20.71875 30.859375 \nQ 16.703125 27.09375 16.703125 20.515625 \nQ 16.703125 13.921875 20.71875 10.15625 \nQ 24.75 6.390625 31.78125 6.390625 \nQ 38.8125 6.390625 42.859375 10.171875 \nQ 46.921875 13.96875 46.921875 20.515625 \nQ 46.921875 27.09375 42.890625 30.859375 \nQ 38.875 34.625 31.78125 34.625 \nz\nM 21.921875 38.8125 \nQ 15.578125 40.375 12.03125 44.71875 \nQ 8.5 49.078125 8.5 55.328125 \nQ 8.5 64.0625 14.71875 69.140625 \nQ 20.953125 74.21875 31.78125 74.21875 \nQ 42.671875 74.21875 48.875 69.140625 \nQ 55.078125 64.0625 55.078125 55.328125 \nQ 55.078125 49.078125 51.53125 44.71875 \nQ 48 40.375 41.703125 38.8125 \nQ 48.828125 37.15625 52.796875 32.3125 \nQ 56.78125 27.484375 56.78125 20.515625 \nQ 56.78125 9.90625 50.3125 4.234375 \nQ 43.84375 -1.421875 31.78125 -1.421875 \nQ 19.734375 -1.421875 13.25 4.234375 \nQ 6.78125 9.90625 6.78125 20.515625 \nQ 6.78125 27.484375 10.78125 32.3125 \nQ 14.796875 37.15625 21.921875 38.8125 \nz\nM 18.3125 54.390625 \nQ 18.3125 48.734375 21.84375 45.5625 \nQ 25.390625 42.390625 31.78125 42.390625 \nQ 38.140625 42.390625 41.71875 45.5625 \nQ 45.3125 48.734375 45.3125 54.390625 \nQ 45.3125 60.0625 41.71875 63.234375 \nQ 38.140625 66.40625 31.78125 66.40625 \nQ 25.390625 66.40625 21.84375 63.234375 \nQ 18.3125 60.0625 18.3125 54.390625 \nz\n\" id=\"DejaVuSans-56\"/>\n       </defs>\n       <use xlink:href=\"#DejaVuSans-48\"/>\n       <use x=\"63.623047\" xlink:href=\"#DejaVuSans-46\"/>\n       <use x=\"95.410156\" xlink:href=\"#DejaVuSans-56\"/>\n      </g>\n     </g>\n    </g>\n    <g id=\"xtick_6\">\n     <g id=\"line2d_6\">\n      <g>\n       <use style=\"stroke:#000000;stroke-width:0.8;\" x=\"378.58125\" xlink:href=\"#m79880879f7\" y=\"239.758125\"/>\n      </g>\n     </g>\n     <g id=\"text_6\">\n      <!-- 1.0 -->\n      <g transform=\"translate(370.629687 254.356562)scale(0.1 -0.1)\">\n       <defs>\n        <path d=\"M 12.40625 8.296875 \nL 28.515625 8.296875 \nL 28.515625 63.921875 \nL 10.984375 60.40625 \nL 10.984375 69.390625 \nL 28.421875 72.90625 \nL 38.28125 72.90625 \nL 38.28125 8.296875 \nL 54.390625 8.296875 \nL 54.390625 0 \nL 12.40625 0 \nz\n\" id=\"DejaVuSans-49\"/>\n       </defs>\n       <use xlink:href=\"#DejaVuSans-49\"/>\n       <use x=\"63.623047\" xlink:href=\"#DejaVuSans-46\"/>\n       <use x=\"95.410156\" xlink:href=\"#DejaVuSans-48\"/>\n      </g>\n     </g>\n    </g>\n    <g id=\"text_7\">\n     <!-- False Positive Rate -->\n     <g transform=\"translate(164.714844 268.034687)scale(0.1 -0.1)\">\n      <defs>\n       <path d=\"M 9.8125 72.90625 \nL 51.703125 72.90625 \nL 51.703125 64.59375 \nL 19.671875 64.59375 \nL 19.671875 43.109375 \nL 48.578125 43.109375 \nL 48.578125 34.8125 \nL 19.671875 34.8125 \nL 19.671875 0 \nL 9.8125 0 \nz\n\" id=\"DejaVuSans-70\"/>\n       <path d=\"M 34.28125 27.484375 \nQ 23.390625 27.484375 19.1875 25 \nQ 14.984375 22.515625 14.984375 16.5 \nQ 14.984375 11.71875 18.140625 8.90625 \nQ 21.296875 6.109375 26.703125 6.109375 \nQ 34.1875 6.109375 38.703125 11.40625 \nQ 43.21875 16.703125 43.21875 25.484375 \nL 43.21875 27.484375 \nz\nM 52.203125 31.203125 \nL 52.203125 0 \nL 43.21875 0 \nL 43.21875 8.296875 \nQ 40.140625 3.328125 35.546875 0.953125 \nQ 30.953125 -1.421875 24.3125 -1.421875 \nQ 15.921875 -1.421875 10.953125 3.296875 \nQ 6 8.015625 6 15.921875 \nQ 6 25.140625 12.171875 29.828125 \nQ 18.359375 34.515625 30.609375 34.515625 \nL 43.21875 34.515625 \nL 43.21875 35.40625 \nQ 43.21875 41.609375 39.140625 45 \nQ 35.0625 48.390625 27.6875 48.390625 \nQ 23 48.390625 18.546875 47.265625 \nQ 14.109375 46.140625 10.015625 43.890625 \nL 10.015625 52.203125 \nQ 14.9375 54.109375 19.578125 55.046875 \nQ 24.21875 56 28.609375 56 \nQ 40.484375 56 46.34375 49.84375 \nQ 52.203125 43.703125 52.203125 31.203125 \nz\n\" id=\"DejaVuSans-97\"/>\n       <path d=\"M 9.421875 75.984375 \nL 18.40625 75.984375 \nL 18.40625 0 \nL 9.421875 0 \nz\n\" id=\"DejaVuSans-108\"/>\n       <path d=\"M 44.28125 53.078125 \nL 44.28125 44.578125 \nQ 40.484375 46.53125 36.375 47.5 \nQ 32.28125 48.484375 27.875 48.484375 \nQ 21.1875 48.484375 17.84375 46.4375 \nQ 14.5 44.390625 14.5 40.28125 \nQ 14.5 37.15625 16.890625 35.375 \nQ 19.28125 33.59375 26.515625 31.984375 \nL 29.59375 31.296875 \nQ 39.15625 29.25 43.1875 25.515625 \nQ 47.21875 21.78125 47.21875 15.09375 \nQ 47.21875 7.46875 41.1875 3.015625 \nQ 35.15625 -1.421875 24.609375 -1.421875 \nQ 20.21875 -1.421875 15.453125 -0.5625 \nQ 10.6875 0.296875 5.421875 2 \nL 5.421875 11.28125 \nQ 10.40625 8.6875 15.234375 7.390625 \nQ 20.0625 6.109375 24.8125 6.109375 \nQ 31.15625 6.109375 34.5625 8.28125 \nQ 37.984375 10.453125 37.984375 14.40625 \nQ 37.984375 18.0625 35.515625 20.015625 \nQ 33.0625 21.96875 24.703125 23.78125 \nL 21.578125 24.515625 \nQ 13.234375 26.265625 9.515625 29.90625 \nQ 5.8125 33.546875 5.8125 39.890625 \nQ 5.8125 47.609375 11.28125 51.796875 \nQ 16.75 56 26.8125 56 \nQ 31.78125 56 36.171875 55.265625 \nQ 40.578125 54.546875 44.28125 53.078125 \nz\n\" id=\"DejaVuSans-115\"/>\n       <path d=\"M 56.203125 29.59375 \nL 56.203125 25.203125 \nL 14.890625 25.203125 \nQ 15.484375 15.921875 20.484375 11.0625 \nQ 25.484375 6.203125 34.421875 6.203125 \nQ 39.59375 6.203125 44.453125 7.46875 \nQ 49.3125 8.734375 54.109375 11.28125 \nL 54.109375 2.78125 \nQ 49.265625 0.734375 44.1875 -0.34375 \nQ 39.109375 -1.421875 33.890625 -1.421875 \nQ 20.796875 -1.421875 13.15625 6.1875 \nQ 5.515625 13.8125 5.515625 26.8125 \nQ 5.515625 40.234375 12.765625 48.109375 \nQ 20.015625 56 32.328125 56 \nQ 43.359375 56 49.78125 48.890625 \nQ 56.203125 41.796875 56.203125 29.59375 \nz\nM 47.21875 32.234375 \nQ 47.125 39.59375 43.09375 43.984375 \nQ 39.0625 48.390625 32.421875 48.390625 \nQ 24.90625 48.390625 20.390625 44.140625 \nQ 15.875 39.890625 15.1875 32.171875 \nz\n\" id=\"DejaVuSans-101\"/>\n       <path id=\"DejaVuSans-32\"/>\n       <path d=\"M 19.671875 64.796875 \nL 19.671875 37.40625 \nL 32.078125 37.40625 \nQ 38.96875 37.40625 42.71875 40.96875 \nQ 46.484375 44.53125 46.484375 51.125 \nQ 46.484375 57.671875 42.71875 61.234375 \nQ 38.96875 64.796875 32.078125 64.796875 \nz\nM 9.8125 72.90625 \nL 32.078125 72.90625 \nQ 44.34375 72.90625 50.609375 67.359375 \nQ 56.890625 61.8125 56.890625 51.125 \nQ 56.890625 40.328125 50.609375 34.8125 \nQ 44.34375 29.296875 32.078125 29.296875 \nL 19.671875 29.296875 \nL 19.671875 0 \nL 9.8125 0 \nz\n\" id=\"DejaVuSans-80\"/>\n       <path d=\"M 30.609375 48.390625 \nQ 23.390625 48.390625 19.1875 42.75 \nQ 14.984375 37.109375 14.984375 27.296875 \nQ 14.984375 17.484375 19.15625 11.84375 \nQ 23.34375 6.203125 30.609375 6.203125 \nQ 37.796875 6.203125 41.984375 11.859375 \nQ 46.1875 17.53125 46.1875 27.296875 \nQ 46.1875 37.015625 41.984375 42.703125 \nQ 37.796875 48.390625 30.609375 48.390625 \nz\nM 30.609375 56 \nQ 42.328125 56 49.015625 48.375 \nQ 55.71875 40.765625 55.71875 27.296875 \nQ 55.71875 13.875 49.015625 6.21875 \nQ 42.328125 -1.421875 30.609375 -1.421875 \nQ 18.84375 -1.421875 12.171875 6.21875 \nQ 5.515625 13.875 5.515625 27.296875 \nQ 5.515625 40.765625 12.171875 48.375 \nQ 18.84375 56 30.609375 56 \nz\n\" id=\"DejaVuSans-111\"/>\n       <path d=\"M 9.421875 54.6875 \nL 18.40625 54.6875 \nL 18.40625 0 \nL 9.421875 0 \nz\nM 9.421875 75.984375 \nL 18.40625 75.984375 \nL 18.40625 64.59375 \nL 9.421875 64.59375 \nz\n\" id=\"DejaVuSans-105\"/>\n       <path d=\"M 18.3125 70.21875 \nL 18.3125 54.6875 \nL 36.8125 54.6875 \nL 36.8125 47.703125 \nL 18.3125 47.703125 \nL 18.3125 18.015625 \nQ 18.3125 11.328125 20.140625 9.421875 \nQ 21.96875 7.515625 27.59375 7.515625 \nL 36.8125 7.515625 \nL 36.8125 0 \nL 27.59375 0 \nQ 17.1875 0 13.234375 3.875 \nQ 9.28125 7.765625 9.28125 18.015625 \nL 9.28125 47.703125 \nL 2.6875 47.703125 \nL 2.6875 54.6875 \nL 9.28125 54.6875 \nL 9.28125 70.21875 \nz\n\" id=\"DejaVuSans-116\"/>\n       <path d=\"M 2.984375 54.6875 \nL 12.5 54.6875 \nL 29.59375 8.796875 \nL 46.6875 54.6875 \nL 56.203125 54.6875 \nL 35.6875 0 \nL 23.484375 0 \nz\n\" id=\"DejaVuSans-118\"/>\n       <path d=\"M 44.390625 34.1875 \nQ 47.5625 33.109375 50.5625 29.59375 \nQ 53.5625 26.078125 56.59375 19.921875 \nL 66.609375 0 \nL 56 0 \nL 46.6875 18.703125 \nQ 43.0625 26.03125 39.671875 28.421875 \nQ 36.28125 30.8125 30.421875 30.8125 \nL 19.671875 30.8125 \nL 19.671875 0 \nL 9.8125 0 \nL 9.8125 72.90625 \nL 32.078125 72.90625 \nQ 44.578125 72.90625 50.734375 67.671875 \nQ 56.890625 62.453125 56.890625 51.90625 \nQ 56.890625 45.015625 53.6875 40.46875 \nQ 50.484375 35.9375 44.390625 34.1875 \nz\nM 19.671875 64.796875 \nL 19.671875 38.921875 \nL 32.078125 38.921875 \nQ 39.203125 38.921875 42.84375 42.21875 \nQ 46.484375 45.515625 46.484375 51.90625 \nQ 46.484375 58.296875 42.84375 61.546875 \nQ 39.203125 64.796875 32.078125 64.796875 \nz\n\" id=\"DejaVuSans-82\"/>\n      </defs>\n      <use xlink:href=\"#DejaVuSans-70\"/>\n      <use x=\"48.394531\" xlink:href=\"#DejaVuSans-97\"/>\n      <use x=\"109.673828\" xlink:href=\"#DejaVuSans-108\"/>\n      <use x=\"137.457031\" xlink:href=\"#DejaVuSans-115\"/>\n      <use x=\"189.556641\" xlink:href=\"#DejaVuSans-101\"/>\n      <use x=\"251.080078\" xlink:href=\"#DejaVuSans-32\"/>\n      <use x=\"282.867188\" xlink:href=\"#DejaVuSans-80\"/>\n      <use x=\"339.544922\" xlink:href=\"#DejaVuSans-111\"/>\n      <use x=\"400.726562\" xlink:href=\"#DejaVuSans-115\"/>\n      <use x=\"452.826172\" xlink:href=\"#DejaVuSans-105\"/>\n      <use x=\"480.609375\" xlink:href=\"#DejaVuSans-116\"/>\n      <use x=\"519.818359\" xlink:href=\"#DejaVuSans-105\"/>\n      <use x=\"547.601562\" xlink:href=\"#DejaVuSans-118\"/>\n      <use x=\"606.78125\" xlink:href=\"#DejaVuSans-101\"/>\n      <use x=\"668.304688\" xlink:href=\"#DejaVuSans-32\"/>\n      <use x=\"700.091797\" xlink:href=\"#DejaVuSans-82\"/>\n      <use x=\"767.324219\" xlink:href=\"#DejaVuSans-97\"/>\n      <use x=\"828.603516\" xlink:href=\"#DejaVuSans-116\"/>\n      <use x=\"867.8125\" xlink:href=\"#DejaVuSans-101\"/>\n     </g>\n    </g>\n   </g>\n   <g id=\"matplotlib.axis_2\">\n    <g id=\"ytick_1\">\n     <g id=\"line2d_7\">\n      <defs>\n       <path d=\"M 0 0 \nL -3.5 0 \n\" id=\"m76c0081053\" style=\"stroke:#000000;stroke-width:0.8;\"/>\n      </defs>\n      <g>\n       <use style=\"stroke:#000000;stroke-width:0.8;\" x=\"43.78125\" xlink:href=\"#m76c0081053\" y=\"239.758125\"/>\n      </g>\n     </g>\n     <g id=\"text_8\">\n      <!-- 0.0 -->\n      <g transform=\"translate(20.878125 243.557344)scale(0.1 -0.1)\">\n       <use xlink:href=\"#DejaVuSans-48\"/>\n       <use x=\"63.623047\" xlink:href=\"#DejaVuSans-46\"/>\n       <use x=\"95.410156\" xlink:href=\"#DejaVuSans-48\"/>\n      </g>\n     </g>\n    </g>\n    <g id=\"ytick_2\">\n     <g id=\"line2d_8\">\n      <g>\n       <use style=\"stroke:#000000;stroke-width:0.8;\" x=\"43.78125\" xlink:href=\"#m76c0081053\" y=\"198.340982\"/>\n      </g>\n     </g>\n     <g id=\"text_9\">\n      <!-- 0.2 -->\n      <g transform=\"translate(20.878125 202.140201)scale(0.1 -0.1)\">\n       <use xlink:href=\"#DejaVuSans-48\"/>\n       <use x=\"63.623047\" xlink:href=\"#DejaVuSans-46\"/>\n       <use x=\"95.410156\" xlink:href=\"#DejaVuSans-50\"/>\n      </g>\n     </g>\n    </g>\n    <g id=\"ytick_3\">\n     <g id=\"line2d_9\">\n      <g>\n       <use style=\"stroke:#000000;stroke-width:0.8;\" x=\"43.78125\" xlink:href=\"#m76c0081053\" y=\"156.923839\"/>\n      </g>\n     </g>\n     <g id=\"text_10\">\n      <!-- 0.4 -->\n      <g transform=\"translate(20.878125 160.723058)scale(0.1 -0.1)\">\n       <use xlink:href=\"#DejaVuSans-48\"/>\n       <use x=\"63.623047\" xlink:href=\"#DejaVuSans-46\"/>\n       <use x=\"95.410156\" xlink:href=\"#DejaVuSans-52\"/>\n      </g>\n     </g>\n    </g>\n    <g id=\"ytick_4\">\n     <g id=\"line2d_10\">\n      <g>\n       <use style=\"stroke:#000000;stroke-width:0.8;\" x=\"43.78125\" xlink:href=\"#m76c0081053\" y=\"115.506696\"/>\n      </g>\n     </g>\n     <g id=\"text_11\">\n      <!-- 0.6 -->\n      <g transform=\"translate(20.878125 119.305915)scale(0.1 -0.1)\">\n       <use xlink:href=\"#DejaVuSans-48\"/>\n       <use x=\"63.623047\" xlink:href=\"#DejaVuSans-46\"/>\n       <use x=\"95.410156\" xlink:href=\"#DejaVuSans-54\"/>\n      </g>\n     </g>\n    </g>\n    <g id=\"ytick_5\">\n     <g id=\"line2d_11\">\n      <g>\n       <use style=\"stroke:#000000;stroke-width:0.8;\" x=\"43.78125\" xlink:href=\"#m76c0081053\" y=\"74.089554\"/>\n      </g>\n     </g>\n     <g id=\"text_12\">\n      <!-- 0.8 -->\n      <g transform=\"translate(20.878125 77.888772)scale(0.1 -0.1)\">\n       <use xlink:href=\"#DejaVuSans-48\"/>\n       <use x=\"63.623047\" xlink:href=\"#DejaVuSans-46\"/>\n       <use x=\"95.410156\" xlink:href=\"#DejaVuSans-56\"/>\n      </g>\n     </g>\n    </g>\n    <g id=\"ytick_6\">\n     <g id=\"line2d_12\">\n      <g>\n       <use style=\"stroke:#000000;stroke-width:0.8;\" x=\"43.78125\" xlink:href=\"#m76c0081053\" y=\"32.672411\"/>\n      </g>\n     </g>\n     <g id=\"text_13\">\n      <!-- 1.0 -->\n      <g transform=\"translate(20.878125 36.471629)scale(0.1 -0.1)\">\n       <use xlink:href=\"#DejaVuSans-49\"/>\n       <use x=\"63.623047\" xlink:href=\"#DejaVuSans-46\"/>\n       <use x=\"95.410156\" xlink:href=\"#DejaVuSans-48\"/>\n      </g>\n     </g>\n    </g>\n    <g id=\"text_14\">\n     <!-- True Positive Rate -->\n     <g transform=\"translate(14.798438 175.567812)rotate(-90)scale(0.1 -0.1)\">\n      <defs>\n       <path d=\"M -0.296875 72.90625 \nL 61.375 72.90625 \nL 61.375 64.59375 \nL 35.5 64.59375 \nL 35.5 0 \nL 25.59375 0 \nL 25.59375 64.59375 \nL -0.296875 64.59375 \nz\n\" id=\"DejaVuSans-84\"/>\n       <path d=\"M 41.109375 46.296875 \nQ 39.59375 47.171875 37.8125 47.578125 \nQ 36.03125 48 33.890625 48 \nQ 26.265625 48 22.1875 43.046875 \nQ 18.109375 38.09375 18.109375 28.8125 \nL 18.109375 0 \nL 9.078125 0 \nL 9.078125 54.6875 \nL 18.109375 54.6875 \nL 18.109375 46.1875 \nQ 20.953125 51.171875 25.484375 53.578125 \nQ 30.03125 56 36.53125 56 \nQ 37.453125 56 38.578125 55.875 \nQ 39.703125 55.765625 41.0625 55.515625 \nz\n\" id=\"DejaVuSans-114\"/>\n       <path d=\"M 8.5 21.578125 \nL 8.5 54.6875 \nL 17.484375 54.6875 \nL 17.484375 21.921875 \nQ 17.484375 14.15625 20.5 10.265625 \nQ 23.53125 6.390625 29.59375 6.390625 \nQ 36.859375 6.390625 41.078125 11.03125 \nQ 45.3125 15.671875 45.3125 23.6875 \nL 45.3125 54.6875 \nL 54.296875 54.6875 \nL 54.296875 0 \nL 45.3125 0 \nL 45.3125 8.40625 \nQ 42.046875 3.421875 37.71875 1 \nQ 33.40625 -1.421875 27.6875 -1.421875 \nQ 18.265625 -1.421875 13.375 4.4375 \nQ 8.5 10.296875 8.5 21.578125 \nz\nM 31.109375 56 \nz\n\" id=\"DejaVuSans-117\"/>\n      </defs>\n      <use xlink:href=\"#DejaVuSans-84\"/>\n      <use x=\"46.333984\" xlink:href=\"#DejaVuSans-114\"/>\n      <use x=\"87.447266\" xlink:href=\"#DejaVuSans-117\"/>\n      <use x=\"150.826172\" xlink:href=\"#DejaVuSans-101\"/>\n      <use x=\"212.349609\" xlink:href=\"#DejaVuSans-32\"/>\n      <use x=\"244.136719\" xlink:href=\"#DejaVuSans-80\"/>\n      <use x=\"300.814453\" xlink:href=\"#DejaVuSans-111\"/>\n      <use x=\"361.996094\" xlink:href=\"#DejaVuSans-115\"/>\n      <use x=\"414.095703\" xlink:href=\"#DejaVuSans-105\"/>\n      <use x=\"441.878906\" xlink:href=\"#DejaVuSans-116\"/>\n      <use x=\"481.087891\" xlink:href=\"#DejaVuSans-105\"/>\n      <use x=\"508.871094\" xlink:href=\"#DejaVuSans-118\"/>\n      <use x=\"568.050781\" xlink:href=\"#DejaVuSans-101\"/>\n      <use x=\"629.574219\" xlink:href=\"#DejaVuSans-32\"/>\n      <use x=\"661.361328\" xlink:href=\"#DejaVuSans-82\"/>\n      <use x=\"728.59375\" xlink:href=\"#DejaVuSans-97\"/>\n      <use x=\"789.873047\" xlink:href=\"#DejaVuSans-116\"/>\n      <use x=\"829.082031\" xlink:href=\"#DejaVuSans-101\"/>\n     </g>\n    </g>\n   </g>\n   <g id=\"line2d_13\">\n    <path clip-path=\"url(#p6e13b771f6)\" d=\"M 43.78125 239.758125 \nL 43.892338 169.799892 \nL 43.89268 169.722027 \nL 44.003654 151.49098 \nL 44.005247 151.381261 \nL 44.116336 140.943802 \nL 44.11884 140.837622 \nL 44.229928 133.80499 \nL 44.231294 133.723585 \nL 44.342382 128.389828 \nL 44.347731 128.280109 \nL 44.45882 124.333765 \nL 44.462576 124.224046 \nL 44.57355 120.843994 \nL 44.577192 120.734275 \nL 44.687711 117.99484 \nL 44.693061 117.88866 \nL 44.803922 115.195236 \nL 44.809157 115.099674 \nL 44.920245 113.227373 \nL 44.926733 113.124733 \nL 45.037594 111.10378 \nL 45.046699 110.994061 \nL 45.157218 109.125299 \nL 45.164389 109.01558 \nL 45.27525 107.419346 \nL 45.285038 107.309627 \nL 45.396012 105.762944 \nL 45.402045 105.653225 \nL 45.513019 104.16317 \nL 45.529068 104.056991 \nL 45.639928 102.818228 \nL 45.648237 102.708509 \nL 45.758643 101.565308 \nL 45.768431 101.459128 \nL 45.879519 100.386714 \nL 45.889422 100.276995 \nL 46.000396 99.098401 \nL 46.011664 98.988682 \nL 46.122069 97.965818 \nL 46.133793 97.856099 \nL 46.244881 96.80846 \nL 46.260133 96.698741 \nL 46.37088 95.76436 \nL 46.386587 95.654641 \nL 46.497561 94.82644 \nL 46.51361 94.716721 \nL 46.624243 93.870823 \nL 46.636877 93.764643 \nL 46.747965 93.028464 \nL 46.761851 92.918745 \nL 46.872939 92.210881 \nL 46.890467 92.101162 \nL 47.001555 91.333129 \nL 47.022157 91.22341 \nL 47.133245 90.469535 \nL 47.153505 90.363355 \nL 47.264366 89.726277 \nL 47.283373 89.616558 \nL 47.394462 88.922851 \nL 47.411079 88.813132 \nL 47.522168 88.232683 \nL 47.547436 88.126504 \nL 47.658068 87.510662 \nL 47.679694 87.404482 \nL 47.790327 86.84173 \nL 47.815026 86.732011 \nL 47.924862 86.102012 \nL 47.946374 85.992293 \nL 48.056552 85.525102 \nL 48.084665 85.415383 \nL 48.194615 84.90926 \nL 48.222956 84.799541 \nL 48.333134 84.357126 \nL 48.356012 84.247407 \nL 48.465734 83.794374 \nL 48.48975 83.684655 \nL 48.600838 83.210386 \nL 48.628838 83.100667 \nL 48.739471 82.601622 \nL 48.766674 82.491903 \nL 48.877307 82.03887 \nL 48.903258 81.929151 \nL 49.012297 81.62477 \nL 49.046785 81.515051 \nL 49.157076 81.143422 \nL 49.18906 81.033703 \nL 49.298782 80.584209 \nL 49.337139 80.47449 \nL 49.448114 80.092243 \nL 49.488406 79.982524 \nL 49.598583 79.610895 \nL 49.599266 79.610895 \nL 49.632729 79.501176 \nL 49.742566 79.051683 \nL 49.74359 79.051683 \nL 49.777964 78.941964 \nL 49.887231 78.552638 \nL 49.92832 78.442919 \nL 50.039294 78.046515 \nL 50.075944 77.940336 \nL 50.186577 77.55101 \nL 50.220154 77.441291 \nL 50.328965 77.087359 \nL 50.375518 76.97764 \nL 50.485923 76.669719 \nL 50.523028 76.56 \nL 50.632068 76.30163 \nL 50.661547 76.191911 \nL 50.771725 75.809664 \nL 50.81509 75.699945 \nL 50.925154 75.409721 \nL 50.925609 75.409721 \nL 50.959641 75.300002 \nL 51.069819 74.967305 \nL 51.103396 74.857586 \nL 51.212891 74.489497 \nL 51.255459 74.379778 \nL 51.363588 74.093093 \nL 51.412644 73.983374 \nL 51.513944 73.714385 \nL 51.519294 73.714385 \nL 51.563 73.604666 \nL 51.672723 73.346296 \nL 51.722917 73.236577 \nL 51.832298 72.925117 \nL 51.886932 72.815398 \nL 51.996427 72.560567 \nL 52.05254 72.450848 \nL 52.160782 72.188938 \nL 52.205514 72.079219 \nL 52.316488 71.873938 \nL 52.360081 71.764219 \nL 52.46969 71.544781 \nL 52.525803 71.435062 \nL 52.636208 71.162535 \nL 52.695053 71.052816 \nL 52.799881 70.851074 \nL 52.861458 70.744895 \nL 53.013635 70.422816 \nL 53.074756 70.313097 \nL 53.185844 70.104277 \nL 53.24503 69.994558 \nL 53.389582 69.729109 \nL 53.449337 69.62293 \nL 53.55758 69.438885 \nL 53.629855 69.329166 \nL 53.739805 69.070795 \nL 53.802862 68.961076 \nL 53.913495 68.773492 \nL 53.957315 68.663773 \nL 54.06829 68.416021 \nL 54.128273 68.306302 \nL 54.230824 68.122257 \nL 54.23458 68.122257 \nL 54.540756 67.513494 \nL 54.613145 67.403775 \nL 54.720591 67.223269 \nL 54.799468 67.11355 \nL 54.909532 66.894112 \nL 54.974751 66.784394 \nL 55.081173 66.639281 \nL 55.155725 66.529562 \nL 55.266244 66.317203 \nL 55.341137 66.207484 \nL 55.448469 66.026979 \nL 55.538501 65.91726 \nL 55.648678 65.729676 \nL 55.729035 65.619957 \nL 55.832611 65.481923 \nL 55.93061 65.372204 \nL 56.039422 65.23771 \nL 56.09895 65.127991 \nL 56.209469 64.954564 \nL 56.296655 64.844845 \nL 56.403873 64.71389 \nL 56.481498 64.604171 \nL 56.584961 64.441363 \nL 56.67522 64.331644 \nL 56.785511 64.197149 \nL 56.86325 64.08743 \nL 56.970241 63.921082 \nL 57.053329 63.811363 \nL 57.153605 63.666251 \nL 57.243636 63.556532 \nL 57.352334 63.404341 \nL 57.354155 63.404341 \nL 57.44191 63.294622 \nL 57.549356 63.163667 \nL 57.639046 63.053948 \nL 57.748427 62.873443 \nL 57.837321 62.763724 \nL 57.939417 62.643387 \nL 58.070538 62.533668 \nL 58.181398 62.399174 \nL 58.262893 62.289455 \nL 58.370794 62.112489 \nL 58.372615 62.112489 \nL 58.489395 62.00277 \nL 58.600483 61.875354 \nL 58.701783 61.765635 \nL 58.811733 61.616984 \nL 58.920317 61.507265 \nL 59.03038 61.372771 \nL 59.117339 61.263052 \nL 59.214086 61.142715 \nL 59.226834 61.142715 \nL 59.340995 61.036535 \nL 59.439449 60.923277 \nL 59.445937 60.923277 \nL 59.579448 60.813558 \nL 59.689739 60.700299 \nL 59.79286 60.590581 \nL 59.902468 60.473783 \nL 59.999101 60.364064 \nL 60.10723 60.257884 \nL 60.214449 60.148165 \nL 60.321895 60.041986 \nL 60.4183 59.932267 \nL 60.513112 59.86148 \nL 60.514592 59.86148 \nL 60.621468 59.751761 \nL 60.727435 59.627885 \nL 60.8441 59.518166 \nL 60.952001 59.415526 \nL 61.141739 59.305807 \nL 61.251917 59.192548 \nL 61.345021 59.082829 \nL 61.445069 58.969571 \nL 61.584726 58.859852 \nL 61.693082 58.76783 \nL 61.806447 58.658111 \nL 61.911844 58.555471 \nL 61.917194 58.555471 \nL 62.071875 58.445752 \nL 62.177386 58.336033 \nL 62.318067 58.226314 \nL 62.425969 58.120134 \nL 62.561983 58.010415 \nL 62.663055 57.925471 \nL 62.83481 57.815752 \nL 62.94567 57.737887 \nL 63.093636 57.628168 \nL 63.221228 57.543224 \nL 63.378982 57.433506 \nL 63.48916 57.299011 \nL 63.682198 57.189292 \nL 63.790783 57.136202 \nL 63.945236 57.026484 \nL 64.055072 56.934461 \nL 64.185624 56.824742 \nL 64.282598 56.771652 \nL 64.292956 56.771652 \nL 64.446385 56.661933 \nL 64.556563 56.587608 \nL 64.671065 56.477889 \nL 64.773389 56.389406 \nL 65.063061 56.279687 \nL 65.171873 56.205361 \nL 65.369692 56.095642 \nL 65.469739 56.00362 \nL 65.639445 55.893901 \nL 65.74746 55.780642 \nL 65.893263 55.670923 \nL 66.003555 55.614294 \nL 66.16313 55.504575 \nL 66.274104 55.412553 \nL 66.375063 55.302834 \nL 66.475452 55.267441 \nL 66.660295 55.157722 \nL 66.770701 55.104632 \nL 66.986275 54.994913 \nL 67.088258 54.941823 \nL 67.274581 54.832104 \nL 67.378612 54.740082 \nL 67.507457 54.630363 \nL 67.613423 54.584352 \nL 67.850737 54.474633 \nL 67.960915 54.410925 \nL 68.156002 54.301206 \nL 68.264814 54.212723 \nL 68.408796 54.103004 \nL 68.510665 54.032217 \nL 68.515673 54.032217 \nL 68.75606 53.922498 \nL 68.866693 53.858791 \nL 69.041179 53.749072 \nL 69.146121 53.70306 \nL 69.341891 53.593341 \nL 69.451955 53.529634 \nL 69.743675 53.419915 \nL 69.847821 53.359746 \nL 70.013087 53.253567 \nL 70.122013 53.200477 \nL 70.283295 53.090758 \nL 70.381294 53.037668 \nL 70.612804 52.927949 \nL 70.716608 52.87132 \nL 70.958589 52.761601 \nL 71.05636 52.708511 \nL 71.309609 52.598792 \nL 71.419445 52.531545 \nL 71.681117 52.421826 \nL 71.772856 52.375815 \nL 71.773197 52.375815 \nL 72.02326 52.266096 \nL 72.127063 52.205927 \nL 72.298021 52.096208 \nL 72.360736 52.071433 \nL 72.400573 52.071433 \nL 72.70561 51.961714 \nL 72.807706 51.890928 \nL 73.010647 51.781209 \nL 73.119004 51.713962 \nL 73.121735 51.713962 \nL 73.364172 51.604243 \nL 73.473439 51.56531 \nL 73.678884 51.455591 \nL 73.785191 51.406041 \nL 73.993823 51.296322 \nL 74.091936 51.25031 \nL 74.347348 51.140591 \nL 74.456615 51.080423 \nL 74.779522 50.970704 \nL 74.86261 50.928232 \nL 75.152168 50.818513 \nL 75.259386 50.776041 \nL 75.583431 50.666322 \nL 75.675512 50.630929 \nL 75.69452 50.630929 \nL 75.95198 50.52121 \nL 76.062272 50.446884 \nL 76.341813 50.337165 \nL 76.451308 50.284076 \nL 76.698411 50.174357 \nL 76.80506 50.135424 \nL 77.13491 50.025705 \nL 77.225624 49.965537 \nL 77.550808 49.855818 \nL 77.655067 49.813346 \nL 77.915259 49.703627 \nL 78.022933 49.646998 \nL 78.281873 49.537279 \nL 78.381237 49.494807 \nL 78.389546 49.494807 \nL 78.651673 49.385088 \nL 78.754794 49.346155 \nL 79.143831 49.236436 \nL 79.232496 49.190425 \nL 79.569403 49.080706 \nL 79.676735 49.045313 \nL 79.994976 48.935594 \nL 80.082731 48.914358 \nL 80.102991 48.914358 \nL 80.468011 48.804639 \nL 80.545067 48.762167 \nL 80.563961 48.762167 \nL 80.845893 48.652448 \nL 80.950266 48.606437 \nL 81.225824 48.496718 \nL 81.316652 48.461325 \nL 81.578324 48.351606 \nL 81.6679 48.319752 \nL 81.670859 48.319752 \nL 81.989441 48.210033 \nL 82.099505 48.164022 \nL 82.520752 48.054303 \nL 82.628767 48.01537 \nL 83.076876 47.905651 \nL 83.165086 47.877337 \nL 83.538643 47.767618 \nL 83.649504 47.732225 \nL 84.045028 47.622506 \nL 84.145303 47.587112 \nL 84.639281 47.477394 \nL 84.726923 47.452618 \nL 85.116528 47.342899 \nL 85.224771 47.289809 \nL 85.666506 47.18009 \nL 85.768033 47.127001 \nL 85.953332 47.017282 \nL 86.058501 46.981888 \nL 86.513439 46.872169 \nL 86.616446 46.843855 \nL 86.998995 46.734136 \nL 87.069563 46.709361 \nL 87.103482 46.709361 \nL 87.54772 46.599642 \nL 87.651979 46.564248 \nL 88.004252 46.45453 \nL 88.102478 46.408518 \nL 88.395678 46.298799 \nL 88.492653 46.270485 \nL 88.495612 46.270485 \nL 88.882941 46.160766 \nL 88.992322 46.128912 \nL 89.372594 46.019193 \nL 89.482544 45.994418 \nL 90.019433 45.884699 \nL 90.117659 45.82807 \nL 90.518874 45.718351 \nL 90.6278 45.700654 \nL 91.134526 45.590935 \nL 91.2455 45.555542 \nL 91.734584 45.445823 \nL 91.83338 45.431666 \nL 92.272497 45.321947 \nL 92.359114 45.279475 \nL 92.830897 45.169756 \nL 92.915352 45.14852 \nL 93.437785 45.038801 \nL 93.542044 45.014026 \nL 94.151549 44.904307 \nL 94.255808 44.865374 \nL 94.25706 44.865374 \nL 94.722697 44.755655 \nL 94.826956 44.727341 \nL 95.527631 44.617622 \nL 95.619712 44.592846 \nL 95.627793 44.592846 \nL 96.285672 44.483127 \nL 96.368532 44.458352 \nL 96.991924 44.348633 \nL 97.093679 44.31324 \nL 97.613039 44.203521 \nL 97.71616 44.175206 \nL 98.303015 44.065487 \nL 98.410689 44.019476 \nL 99.047625 43.909757 \nL 99.157005 43.877903 \nL 99.855063 43.768184 \nL 99.965696 43.73633 \nL 100.621526 43.626611 \nL 100.731703 43.612454 \nL 101.370802 43.502735 \nL 101.47654 43.470881 \nL 102.170614 43.361162 \nL 102.274418 43.354084 \nL 102.28045 43.354084 \nL 102.81142 43.244365 \nL 102.922394 43.226668 \nL 103.547151 43.116949 \nL 104.007098 43.017848 \nL 104.431077 42.908129 \nL 104.534653 42.876275 \nL 104.542165 42.876275 \nL 105.121736 42.766556 \nL 105.226108 42.741781 \nL 105.793159 42.635601 \nL 105.858833 42.614365 \nL 105.860768 42.614365 \nL 106.67219 42.504646 \nL 106.780205 42.479871 \nL 107.447303 42.370152 \nL 107.538131 42.345377 \nL 108.282058 42.235658 \nL 108.369016 42.221501 \nL 108.997871 42.111782 \nL 109.089496 42.083467 \nL 109.100992 42.083467 \nL 109.910251 41.973748 \nL 109.963633 41.959591 \nL 109.967047 41.959591 \nL 110.614455 41.849872 \nL 110.703234 41.835715 \nL 111.605029 41.725996 \nL 111.712589 41.708299 \nL 112.61666 41.59858 \nL 112.682106 41.584423 \nL 112.719325 41.584423 \nL 113.668469 41.474704 \nL 113.741086 41.460547 \nL 113.772956 41.460547 \nL 114.568898 41.350828 \nL 114.60589 41.33667 \nL 114.618751 41.33667 \nL 115.60887 41.226951 \nL 115.717227 41.212794 \nL 116.510096 41.103075 \nL 116.611851 41.0783 \nL 117.535385 40.968581 \nL 117.638962 40.943806 \nL 118.201915 40.834087 \nL 118.201915 40.830547 \nL 118.299572 40.830547 \nL 119.230846 40.720828 \nL 119.333056 40.699592 \nL 120.377809 40.589873 \nL 120.478653 40.572177 \nL 121.916881 40.462458 \nL 122.019433 40.434143 \nL 122.99043 40.324424 \nL 123.121551 40.299649 \nL 124.08276 40.18993 \nL 124.173132 40.179312 \nL 125.223007 40.069593 \nL 125.292096 40.062514 \nL 125.322372 40.062514 \nL 126.155078 39.952796 \nL 126.261044 39.93156 \nL 126.264345 39.93156 \nL 127.235001 39.821841 \nL 127.258903 39.814762 \nL 127.331292 39.814762 \nL 128.61814 39.705043 \nL 128.71648 39.673189 \nL 129.596877 39.56347 \nL 129.656405 39.545774 \nL 130.711742 39.436055 \nL 130.818505 39.421897 \nL 130.821692 39.421897 \nL 131.777779 39.312178 \nL 131.877599 39.3051 \nL 133.025928 39.195381 \nL 133.131553 39.170605 \nL 134.045412 39.060886 \nL 134.140566 39.036111 \nL 134.152517 39.036111 \nL 135.309382 38.926392 \nL 135.412958 38.919314 \nL 137.046956 38.809595 \nL 137.081899 38.795437 \nL 137.154516 38.795437 \nL 138.66593 38.685718 \nL 138.72671 38.67864 \nL 138.754368 38.67864 \nL 139.875721 38.568921 \nL 139.970192 38.554763 \nL 141.128992 38.445044 \nL 141.390322 38.406112 \nL 142.936224 38.296393 \nL 142.955118 38.289314 \nL 143.025458 38.289314 \nL 144.633733 38.179595 \nL 144.633733 38.176056 \nL 144.70783 38.176056 \nL 146.238366 38.066337 \nL 146.340804 38.055719 \nL 147.790413 37.946 \nL 147.790413 37.942461 \nL 147.891941 37.942461 \nL 149.538687 37.832742 \nL 149.630198 37.815045 \nL 151.159595 37.705326 \nL 151.159595 37.701787 \nL 151.209676 37.701787 \nL 153.00416 37.592068 \nL 153.098744 37.574371 \nL 155.048592 37.464652 \nL 155.090706 37.457574 \nL 155.157632 37.457574 \nL 156.862198 37.347855 \nL 156.94836 37.330158 \nL 156.953709 37.330158 \nL 158.603187 37.220439 \nL 158.693332 37.206282 \nL 158.700958 37.206282 \nL 160.368647 37.096563 \nL 160.475638 37.085945 \nL 162.435502 36.976226 \nL 162.435502 36.972687 \nL 162.519501 36.972687 \nL 164.821849 36.862968 \nL 164.893897 36.855889 \nL 164.922352 36.855889 \nL 166.787291 36.74617 \nL 166.877322 36.732013 \nL 166.883696 36.732013 \nL 168.91299 36.622294 \nL 168.988567 36.608136 \nL 168.989819 36.608136 \nL 171.273387 36.498418 \nL 171.30059 36.4878 \nL 173.88248 36.378081 \nL 173.956918 36.367463 \nL 176.163316 36.257744 \nL 176.194616 36.243586 \nL 176.250274 36.243586 \nL 178.889074 36.133867 \nL 178.889074 36.130328 \nL 178.919919 36.130328 \nL 182.081266 36.020609 \nL 182.133396 36.006452 \nL 182.19224 36.006452 \nL 184.798829 35.896733 \nL 184.80361 35.889654 \nL 184.889885 35.889654 \nL 187.486913 35.779935 \nL 187.486913 35.776396 \nL 187.571823 35.776396 \nL 190.001991 35.666677 \nL 190.101242 35.659598 \nL 190.11251 35.659598 \nL 193.100395 35.549879 \nL 193.186557 35.539261 \nL 195.523165 35.429542 \nL 195.630725 35.415385 \nL 197.987934 35.305666 \nL 198.042112 35.298587 \nL 198.099022 35.298587 \nL 201.779843 35.188868 \nL 201.798054 35.18179 \nL 201.881939 35.18179 \nL 205.454176 35.072071 \nL 205.505509 35.064992 \nL 205.537606 35.064992 \nL 209.123956 34.955273 \nL 209.180183 34.948195 \nL 209.19976 34.948195 \nL 212.986319 34.838476 \nL 212.986319 34.834936 \nL 219.724569 34.725217 \nL 219.772487 34.718139 \nL 219.819609 34.718139 \nL 222.364962 34.60842 \nL 222.471839 34.601341 \nL 227.416402 34.491622 \nL 227.462385 34.484543 \nL 227.492434 34.484543 \nL 232.29973 34.374824 \nL 232.29973 34.371285 \nL 232.404785 34.371285 \nL 237.29847 34.261566 \nL 237.29847 34.258027 \nL 237.390892 34.258027 \nL 242.300057 34.148308 \nL 242.300057 34.144769 \nL 242.390885 34.144769 \nL 249.51396 34.03505 \nL 249.51396 34.03151 \nL 249.578268 34.03151 \nL 255.478918 33.921791 \nL 255.535372 33.914713 \nL 262.040178 33.804994 \nL 262.120079 33.797915 \nL 262.148193 33.797915 \nL 267.076365 33.688196 \nL 267.076365 33.684657 \nL 267.184153 33.684657 \nL 274.536689 33.574938 \nL 274.536689 33.571398 \nL 274.633322 33.571398 \nL 281.153493 33.461679 \nL 281.153493 33.45814 \nL 281.220874 33.45814 \nL 288.837131 33.348421 \nL 288.851813 33.341343 \nL 288.901894 33.341343 \nL 297.05447 33.231624 \nL 297.05447 33.228084 \nL 297.163737 33.228084 \nL 306.479438 33.118365 \nL 306.57994 33.114826 \nL 319.244791 33.005107 \nL 319.244791 33.001568 \nL 319.279734 33.001568 \nL 331.143861 32.891849 \nL 331.143861 32.888309 \nL 331.205324 32.888309 \nL 354.193864 32.77859 \nL 354.297668 32.771512 \nL 378.58125 32.672411 \nL 378.58125 32.672411 \n\" style=\"fill:none;stroke:#ff1493;stroke-dasharray:4,6.6;stroke-dashoffset:0;stroke-width:4;\"/>\n   </g>\n   <g id=\"line2d_14\">\n    <path clip-path=\"url(#p6e13b771f6)\" d=\"M 43.78125 224.351559 \nL 43.792451 224.227099 \nL 43.901999 185.801779 \nL 43.908138 184.199131 \nL 44.039765 166.740427 \nL 44.168078 157.066885 \nL 44.230074 153.423744 \nL 44.353213 147.414707 \nL 44.608029 139.916144 \nL 44.70201 137.469683 \nL 44.873683 133.398853 \nL 44.88352 133.186396 \nL 45.043243 130.459555 \nL 45.08463 129.832906 \nL 45.409402 125.052824 \nL 45.509502 123.782633 \nL 45.620502 122.176394 \nL 45.797226 119.817441 \nL 45.996532 117.275382 \nL 46.013097 117.083058 \nL 46.172777 115.400421 \nL 46.2215 114.875609 \nL 46.351901 113.60529 \nL 46.527051 112.275404 \nL 46.544743 112.144841 \nL 47.156745 107.47128 \nL 47.27393 106.634011 \nL 47.429042 105.552096 \nL 47.458657 105.430959 \nL 47.698406 103.868653 \nL 47.725895 103.716498 \nL 47.856006 102.877905 \nL 47.89783 102.567374 \nL 48.03467 101.713626 \nL 48.077334 101.522243 \nL 48.23462 100.689963 \nL 48.348517 100.226875 \nL 48.457886 99.683686 \nL 48.522251 99.351803 \nL 48.635406 98.786624 \nL 50.519965 91.556285 \nL 50.57137 91.411362 \nL 50.759064 90.792738 \nL 51.026829 89.861843 \nL 51.086548 89.678981 \nL 51.244577 89.227872 \nL 51.301183 89.11891 \nL 51.418111 88.866637 \nL 51.451598 88.732168 \nL 51.572754 88.446688 \nL 51.620095 88.28756 \nL 51.738953 87.902672 \nL 51.948248 87.486137 \nL 54.414177 81.84312 \nL 54.49593 81.734592 \nL 54.612411 81.506533 \nL 54.68103 81.363059 \nL 54.96366 80.977531 \nL 55.059212 80.839368 \nL 55.181494 80.617329 \nL 55.26546 80.458294 \nL 55.376529 80.291596 \nL 55.663676 79.788662 \nL 55.845402 79.506719 \nL 55.930988 79.387458 \nL 56.050984 79.188106 \nL 56.150564 79.074145 \nL 56.28476 78.881124 \nL 56.417294 78.638763 \nL 58.350321 76.093589 \nL 58.474021 75.960382 \nL 58.671941 75.744912 \nL 58.818097 75.626974 \nL 60.70748 73.02315 \nL 60.970044 72.773288 \nL 61.092092 72.683569 \nL 62.134744 71.611183 \nL 62.369101 71.324318 \nL 62.488273 71.206062 \nL 62.65074 71.008596 \nL 62.73312 70.898268 \nL 62.895774 70.763375 \nL 63.348283 70.210949 \nL 63.493713 70.100226 \nL 63.751873 69.850594 \nL 63.883601 69.723964 \nL 63.990644 69.590289 \nL 64.109429 69.47719 \nL 64.459668 69.279042 \nL 64.600356 69.120597 \nL 64.71908 68.984462 \nL 64.938 68.714492 \nL 65.09781 68.590732 \nL 65.266558 68.485453 \nL 65.830451 68.044731 \nL 65.975638 67.897844 \nL 66.092587 67.794187 \nL 66.209384 67.703779 \nL 66.412713 67.59293 \nL 66.557523 67.468332 \nL 66.968064 67.164123 \nL 67.096625 67.062158 \nL 67.366817 66.93434 \nL 67.48018 66.868253 \nL 67.613487 66.759215 \nL 67.823221 66.518622 \nL 68.213633 66.332393 \nL 68.327494 66.265575 \nL 68.438376 66.185865 \nL 68.640665 66.032901 \nL 68.768729 65.933389 \nL 68.8898 65.7976 \nL 69.120615 65.576709 \nL 69.565757 65.369093 \nL 69.671876 65.292622 \nL 69.868959 65.188144 \nL 69.982305 65.099129 \nL 70.161887 64.988892 \nL 70.390421 64.768167 \nL 70.651565 64.563687 \nL 70.819074 64.449046 \nL 71.150854 64.290698 \nL 71.275736 64.189848 \nL 71.487519 64.069191 \nL 71.599092 63.942942 \nL 71.841424 63.803191 \nL 71.957832 63.694459 \nL 75.192029 61.921385 \nL 75.42654 61.820732 \nL 75.603848 61.67809 \nL 76.314881 61.246787 \nL 76.438911 61.109191 \nL 76.704269 60.983813 \nL 76.830529 60.93735 \nL 77.186045 60.841254 \nL 77.330132 60.750814 \nL 77.70768 60.622697 \nL 77.907521 60.537666 \nL 78.348307 60.281512 \nL 78.792474 60.093258 \nL 78.970169 59.984479 \nL 79.145608 59.908093 \nL 79.377975 59.802602 \nL 80.144556 59.462734 \nL 80.434154 59.354759 \nL 80.782222 59.168043 \nL 81.061181 59.055939 \nL 81.214397 58.943693 \nL 82.293692 58.427641 \nL 82.571542 58.318405 \nL 83.027144 58.104381 \nL 83.213952 57.992392 \nL 83.593067 57.894835 \nL 83.70771 57.836691 \nL 83.829746 57.737879 \nL 83.951732 57.666456 \nL 85.064371 57.209901 \nL 85.175201 57.186829 \nL 92.477683 54.665521 \nL 92.614283 54.623829 \nL 92.976306 54.519554 \nL 93.172259 54.433636 \nL 93.490477 54.324076 \nL 93.594303 54.309968 \nL 93.773636 54.20383 \nL 93.9363 54.165998 \nL 94.524273 53.992661 \nL 94.671928 53.946996 \nL 95.331826 53.744864 \nL 95.64551 53.690889 \nL 96.127486 53.51119 \nL 97.319214 53.065426 \nL 97.883073 52.965151 \nL 97.997071 52.932065 \nL 98.30393 52.811957 \nL 98.532995 52.714709 \nL 99.085298 52.574431 \nL 99.226186 52.529964 \nL 100.678684 52.104326 \nL 101.087686 52.000122 \nL 101.178134 51.961052 \nL 101.747035 51.851487 \nL 102.236367 51.725104 \nL 102.941657 51.613632 \nL 103.135811 51.577126 \nL 103.534569 51.466578 \nL 103.659317 51.419343 \nL 104.154629 51.291497 \nL 105.056033 51.034808 \nL 105.526044 50.912773 \nL 105.878589 50.827576 \nL 106.175586 50.716541 \nL 106.718743 50.602685 \nL 107.810106 50.336305 \nL 109.256932 50.098191 \nL 109.39532 50.054344 \nL 109.917501 49.951368 \nL 110.075049 49.913884 \nL 111.855123 49.449262 \nL 111.962575 49.409919 \nL 112.681331 49.30013 \nL 112.888148 49.258066 \nL 113.361042 49.15228 \nL 113.813393 49.016992 \nL 114.231337 48.906706 \nL 114.420741 48.880619 \nL 114.941718 48.770655 \nL 115.155953 48.737711 \nL 115.669901 48.629512 \nL 115.962529 48.571422 \nL 116.918272 48.461159 \nL 118.456289 48.192496 \nL 118.87773 48.089309 \nL 118.992813 48.039733 \nL 119.476351 47.926093 \nL 121.802158 47.486005 \nL 122.373388 47.374999 \nL 122.579445 47.339539 \nL 123.233939 47.209656 \nL 123.354818 47.176857 \nL 124.264517 47.073946 \nL 124.437461 47.01058 \nL 143.662891 44.088438 \nL 144.645161 43.978367 \nL 144.772813 43.963022 \nL 145.337811 43.839759 \nL 145.448089 43.830129 \nL 146.310375 43.719052 \nL 146.439039 43.705865 \nL 147.101445 43.597082 \nL 147.21108 43.571276 \nL 148.404847 43.444849 \nL 148.524589 43.432739 \nL 149.607806 43.327865 \nL 149.669601 43.295355 \nL 150.702263 43.186569 \nL 150.8188 43.154755 \nL 152.090997 43.050082 \nL 152.201784 43.025132 \nL 153.137187 42.916141 \nL 153.277076 42.868299 \nL 154.251719 42.758532 \nL 154.36378 42.749933 \nL 155.272957 42.640218 \nL 155.377225 42.622309 \nL 156.148406 42.56543 \nL 162.755864 41.902526 \nL 163.83676 41.798271 \nL 163.94745 41.783373 \nL 164.313811 41.75191 \nL 165.577951 41.641017 \nL 166.394334 41.522718 \nL 166.505366 41.504754 \nL 166.625571 41.498629 \nL 167.770846 41.381752 \nL 168.008933 41.334375 \nL 168.903078 41.223332 \nL 172.972208 40.839609 \nL 174.096384 40.7296 \nL 174.530877 40.685507 \nL 175.555402 40.577087 \nL 175.73065 40.571269 \nL 177.261992 40.448037 \nL 177.389516 40.406246 \nL 178.315829 40.303153 \nL 178.424074 40.274533 \nL 179.766914 40.163522 \nL 187.180446 39.480431 \nL 188.313685 39.370116 \nL 190.373749 39.171562 \nL 191.775559 39.031121 \nL 191.876445 39.020902 \nL 193.228499 38.912965 \nL 193.342191 38.890273 \nL 194.769485 38.781096 \nL 195.325967 38.727985 \nL 197.666151 38.61853 \nL 213.894451 37.546444 \nL 214.000752 37.52665 \nL 216.39105 37.416281 \nL 216.512756 37.410532 \nL 218.880017 37.308476 \nL 219.043646 37.285226 \nL 227.033947 36.824493 \nL 227.07876 36.810993 \nL 230.41296 36.630734 \nL 230.528989 36.615728 \nL 232.944044 36.50547 \nL 233.570116 36.474528 \nL 235.22814 36.366056 \nL 235.686328 36.332421 \nL 237.329392 36.221986 \nL 237.788727 36.207994 \nL 240.434723 36.09747 \nL 241.658844 36.058831 \nL 245.101392 35.955388 \nL 245.565145 35.92296 \nL 248.24904 35.819147 \nL 248.898713 35.78668 \nL 251.656201 35.680459 \nL 251.793352 35.673647 \nL 254.07259 35.542006 \nL 255.098854 35.475847 \nL 258.480315 35.369686 \nL 258.868763 35.357087 \nL 262.977512 35.249931 \nL 263.124571 35.234043 \nL 265.400715 35.141223 \nL 265.522573 35.122225 \nL 272.54024 34.868582 \nL 272.738543 34.82708 \nL 275.002783 34.722406 \nL 275.548613 34.706787 \nL 278.953244 34.596777 \nL 279.664852 34.566984 \nL 281.482185 34.535174 \nL 285.940944 34.435528 \nL 286.182416 34.405674 \nL 287.314099 34.353429 \nL 291.292826 34.250172 \nL 291.819465 34.193409 \nL 297.908204 34.082885 \nL 297.96537 34.077821 \nL 301.835122 33.969358 \nL 301.945559 33.953462 \nL 305.257886 33.843808 \nL 306.445121 33.788112 \nL 311.648422 33.678888 \nL 313.495277 33.63714 \nL 320.289521 33.532943 \nL 320.468326 33.50312 \nL 324.147613 33.404347 \nL 324.261807 33.379332 \nL 331.501943 33.2717 \nL 334.473403 33.225523 \nL 340.934048 33.118389 \nL 341.839832 33.108737 \nL 349.374649 32.998289 \nL 349.843053 32.971722 \nL 358.01903 32.861376 \nL 358.180567 32.849998 \nL 373.339631 32.746061 \nL 373.465142 32.728362 \nL 378.58125 32.672411 \nL 378.58125 32.672411 \n\" style=\"fill:none;stroke:#000080;stroke-dasharray:4,6.6;stroke-dashoffset:0;stroke-width:4;\"/>\n   </g>\n   <g id=\"line2d_15\">\n    <path clip-path=\"url(#p6e13b771f6)\" d=\"M 43.78125 239.758125 \nL 43.885676 238.311238 \nL 43.908881 238.311238 \nL 44.013307 233.608855 \nL 44.02491 233.608855 \nL 44.129335 230.895942 \nL 44.152541 230.895942 \nL 44.256967 227.640446 \nL 44.268569 227.640446 \nL 44.349789 226.193559 \nL 44.396201 226.193559 \nL 44.500626 224.565811 \nL 44.523832 224.565811 \nL 44.616655 223.118924 \nL 44.663066 223.118924 \nL 44.767492 221.852897 \nL 44.779094 221.852897 \nL 44.88352 220.40601 \nL 44.895123 220.40601 \nL 44.999548 219.320845 \nL 45.022754 219.320845 \nL 45.150385 218.23568 \nL 45.231605 218.23568 \nL 45.301222 217.331375 \nL 45.347634 217.331375 \nL 45.440456 216.065349 \nL 45.486868 216.065349 \nL 45.556485 215.703627 \nL 45.602896 215.703627 \nL 45.707322 214.075879 \nL 45.730527 214.075879 \nL 45.82335 213.171575 \nL 45.846556 213.171575 \nL 45.846556 212.809853 \nL 45.962584 212.809853 \nL 46.06701 211.905549 \nL 46.125024 211.905549 \nL 46.171435 211.362966 \nL 46.31067 211.362966 \nL 46.391889 210.820383 \nL 46.461506 210.820383 \nL 46.565932 209.373496 \nL 46.577535 209.373496 \nL 46.68196 208.288331 \nL 46.693563 208.288331 \nL 46.728372 207.745748 \nL 46.809592 207.745748 \nL 46.879209 206.841444 \nL 46.995237 206.841444 \nL 47.018443 206.479722 \nL 47.146074 206.479722 \nL 47.146074 206.118 \nL 47.285308 206.118 \nL 47.366528 205.575418 \nL 47.505762 205.575418 \nL 47.575379 205.213696 \nL 47.656599 205.213696 \nL 47.737819 204.490252 \nL 47.78423 204.490252 \nL 47.807436 203.94767 \nL 47.94667 203.94767 \nL 48.051096 203.224226 \nL 48.10911 203.224226 \nL 48.167124 202.681643 \nL 48.225138 202.681643 \nL 48.225138 202.319922 \nL 48.43399 202.319922 \nL 48.445592 201.9582 \nL 48.584827 201.9582 \nL 48.642841 201.415617 \nL 48.735663 201.415617 \nL 48.828486 200.873035 \nL 48.8865 200.873035 \nL 48.96772 200.330452 \nL 49.095352 200.330452 \nL 49.164969 199.426147 \nL 49.21138 199.426147 \nL 49.21138 199.245287 \nL 49.327408 199.245287 \nL 49.420231 198.702704 \nL 49.45504 198.702704 \nL 49.559465 197.255817 \nL 49.629082 197.255817 \nL 49.629082 197.074956 \nL 49.930756 197.074956 \nL 50.011976 196.532373 \nL 50.046785 196.532373 \nL 50.116402 195.628069 \nL 50.209224 195.628069 \nL 50.209224 195.447208 \nL 50.325253 195.447208 \nL 50.429678 195.085486 \nL 50.522501 195.085486 \nL 50.522501 194.904625 \nL 50.661735 194.904625 \nL 50.742955 194.362043 \nL 50.800969 194.362043 \nL 50.835778 193.638599 \nL 50.940203 193.638599 \nL 50.998218 193.096016 \nL 51.067835 193.096016 \nL 51.067835 192.915156 \nL 51.183863 192.915156 \nL 51.288289 192.372573 \nL 51.323097 192.372573 \nL 51.41592 191.82999 \nL 51.543551 191.82999 \nL 51.589963 191.287408 \nL 51.671182 191.287408 \nL 51.717594 190.744825 \nL 51.845225 190.744825 \nL 51.845225 190.563964 \nL 51.984459 190.563964 \nL 51.984459 190.383103 \nL 52.123693 190.383103 \nL 52.158502 189.478799 \nL 52.309339 189.478799 \nL 52.413764 188.755355 \nL 52.448573 188.755355 \nL 52.506587 188.212773 \nL 52.622615 188.212773 \nL 52.715438 187.851051 \nL 52.76185 187.851051 \nL 52.866275 187.127607 \nL 52.959098 187.127607 \nL 52.959098 186.946746 \nL 53.121538 186.946746 \nL 53.121538 186.585025 \nL 53.237566 186.585025 \nL 53.272375 186.223303 \nL 53.411609 186.223303 \nL 53.504431 185.68072 \nL 53.527637 185.68072 \nL 53.608857 184.776416 \nL 53.724885 184.776416 \nL 53.829311 184.233833 \nL 53.840914 184.233833 \nL 53.922134 183.872111 \nL 53.991751 183.872111 \nL 54.026559 183.329529 \nL 54.154191 183.329529 \nL 54.154191 183.148668 \nL 54.305028 183.148668 \nL 54.31663 182.786946 \nL 54.421056 182.786946 \nL 54.502276 182.244363 \nL 54.571893 182.244363 \nL 54.629907 181.882642 \nL 54.687921 181.882642 \nL 54.687921 181.701781 \nL 54.838758 181.701781 \nL 54.908375 181.159198 \nL 55.024404 181.159198 \nL 55.105624 180.254894 \nL 55.291269 180.254894 \nL 55.349283 179.712311 \nL 55.430503 179.712311 \nL 55.430503 179.53145 \nL 55.720574 179.53145 \nL 55.825 179.169728 \nL 55.883014 179.169728 \nL 55.98744 178.627146 \nL 56.033851 178.627146 \nL 56.033851 178.446285 \nL 56.161482 178.446285 \nL 56.219496 177.903702 \nL 56.300716 177.903702 \nL 56.405142 177.180258 \nL 56.43995 177.180258 \nL 56.43995 176.999398 \nL 56.741624 176.999398 \nL 56.822844 175.552511 \nL 56.880858 175.552511 \nL 56.880858 175.37165 \nL 57.333369 175.37165 \nL 57.414589 174.829067 \nL 57.484206 174.829067 \nL 57.484206 174.648206 \nL 57.809086 174.648206 \nL 57.901908 174.105623 \nL 58.551668 174.105623 \nL 58.656093 172.839597 \nL 58.88815 172.839597 \nL 58.88815 172.658736 \nL 59.027384 172.658736 \nL 59.108604 172.297015 \nL 59.329058 172.297015 \nL 59.329058 172.116154 \nL 59.479895 172.116154 \nL 59.584321 171.211849 \nL 59.735157 171.211849 \nL 59.839583 170.488406 \nL 59.862789 170.488406 \nL 59.897597 169.764962 \nL 60.048434 169.764962 \nL 60.129654 169.22238 \nL 60.199271 169.22238 \nL 60.199271 169.041519 \nL 60.350108 169.041519 \nL 60.373314 168.679797 \nL 60.489342 168.679797 \nL 60.582165 168.318075 \nL 60.68659 168.318075 \nL 60.814222 167.775492 \nL 61.01147 167.775492 \nL 61.081087 167.23291 \nL 61.231924 167.23291 \nL 61.278335 166.509466 \nL 61.382761 166.509466 \nL 61.487187 165.966884 \nL 61.591612 165.966884 \nL 61.591612 165.786023 \nL 61.707641 165.786023 \nL 61.754052 164.881718 \nL 61.916492 164.881718 \nL 62.020917 163.977414 \nL 62.380605 163.977414 \nL 62.473428 163.434831 \nL 62.508237 163.434831 \nL 62.554648 163.073109 \nL 62.751896 163.073109 \nL 62.798308 162.530527 \nL 62.960747 162.530527 \nL 63.065173 161.626222 \nL 63.227613 161.626222 \nL 63.227613 161.264501 \nL 63.45967 161.264501 \nL 63.564095 160.179335 \nL 63.575698 160.179335 \nL 63.680124 159.817613 \nL 63.865769 159.817613 \nL 63.970195 159.09417 \nL 63.9934 159.09417 \nL 64.086223 158.551587 \nL 64.109429 158.551587 \nL 64.15584 158.189865 \nL 64.271869 158.189865 \nL 64.271869 158.009005 \nL 64.387897 158.009005 \nL 64.411103 157.466422 \nL 64.527131 157.466422 \nL 64.550337 156.742978 \nL 64.735982 156.742978 \nL 64.828805 156.019535 \nL 64.979642 156.019535 \nL 65.002848 155.657813 \nL 65.200096 155.657813 \nL 65.269713 155.11523 \nL 65.350933 155.11523 \nL 65.443756 154.753509 \nL 65.548181 154.753509 \nL 65.652607 154.391787 \nL 65.675812 154.391787 \nL 65.675812 154.210926 \nL 65.791841 154.210926 \nL 65.826649 153.849204 \nL 65.931075 153.849204 \nL 65.931075 153.668343 \nL 66.105118 153.668343 \nL 66.128323 153.487482 \nL 66.290763 153.487482 \nL 66.290763 153.125761 \nL 66.395189 153.125761 \nL 66.52282 153.125761 \nL 66.534423 152.764039 \nL 66.673657 152.764039 \nL 66.754877 152.402317 \nL 66.870905 152.402317 \nL 66.940522 151.859734 \nL 67.033345 151.859734 \nL 67.137771 151.498013 \nL 67.230593 151.498013 \nL 67.265402 151.136291 \nL 67.369827 151.136291 \nL 67.416239 150.593708 \nL 67.520664 150.593708 \nL 67.613487 149.870265 \nL 67.648296 149.870265 \nL 67.752721 149.327682 \nL 67.949969 149.327682 \nL 67.949969 149.146821 \nL 68.065998 149.146821 \nL 68.065998 148.96596 \nL 68.240041 148.96596 \nL 68.240041 148.785099 \nL 68.425686 148.785099 \nL 68.425686 148.604239 \nL 68.553317 148.604239 \nL 68.553317 148.423378 \nL 68.762168 148.423378 \nL 68.831785 148.061656 \nL 68.8898 148.061656 \nL 68.901402 147.699934 \nL 69.110254 147.699934 \nL 69.110254 147.519073 \nL 69.237885 147.519073 \nL 69.237885 147.338212 \nL 69.377119 147.338212 \nL 69.469942 146.976491 \nL 69.516353 146.976491 \nL 69.516353 146.79563 \nL 69.760013 146.79563 \nL 69.841233 146.253047 \nL 69.957261 146.253047 \nL 69.957261 145.891325 \nL 70.189318 145.891325 \nL 70.247332 145.529603 \nL 70.572212 145.529603 \nL 70.676637 144.987021 \nL 70.699843 144.987021 \nL 70.699843 144.625299 \nL 70.827474 144.625299 \nL 70.827474 144.444438 \nL 71.01312 144.444438 \nL 71.082737 144.082716 \nL 71.210368 144.082716 \nL 71.245177 143.540134 \nL 71.419219 143.540134 \nL 71.488836 143.178412 \nL 71.651276 143.178412 \nL 71.651276 142.997551 \nL 71.825319 142.997551 \nL 71.825319 142.81669 \nL 71.976156 142.81669 \nL 71.976156 142.635829 \nL 72.150198 142.635829 \nL 72.219815 142.093247 \nL 72.312638 142.093247 \nL 72.417064 141.550664 \nL 72.602709 141.550664 \nL 72.660723 141.008081 \nL 72.73034 141.008081 \nL 72.73034 140.82722 \nL 73.066823 140.82722 \nL 73.090028 140.284638 \nL 73.252468 140.284638 \nL 73.345291 139.199472 \nL 73.438114 139.199472 \nL 73.484525 138.837751 \nL 73.612156 138.837751 \nL 73.612156 138.65689 \nL 73.855816 138.65689 \nL 73.855816 138.476029 \nL 73.99505 138.476029 \nL 74.018256 137.933446 \nL 74.15749 137.933446 \nL 74.169093 137.390864 \nL 74.250313 137.390864 \nL 74.308327 137.390864 \nL 74.377944 137.029142 \nL 74.470767 137.029142 \nL 74.540384 136.486559 \nL 74.656412 136.486559 \nL 74.679618 135.943977 \nL 74.77244 135.943977 \nL 74.85366 135.582255 \nL 74.923277 135.582255 \nL 74.981292 135.039672 \nL 75.039306 135.039672 \nL 75.085717 134.67795 \nL 75.155334 134.67795 \nL 75.25976 133.954507 \nL 75.410597 133.954507 \nL 75.480214 133.592785 \nL 75.538228 133.592785 \nL 75.607845 132.688481 \nL 75.723873 132.688481 \nL 75.793491 132.326759 \nL 75.967533 132.326759 \nL 76.071959 131.784176 \nL 76.083562 131.784176 \nL 76.164781 131.241593 \nL 76.19959 131.241593 \nL 76.19959 131.060733 \nL 76.454852 131.060733 \nL 76.489661 130.699011 \nL 76.942172 130.699011 \nL 77.000186 129.975567 \nL 77.0582 129.975567 \nL 77.104612 129.794706 \nL 77.243846 129.794706 \nL 77.348271 129.252124 \nL 77.429491 129.252124 \nL 77.533917 128.52868 \nL 77.568725 128.52868 \nL 77.638342 128.166958 \nL 77.731165 128.166958 \nL 77.812385 127.624376 \nL 78.032839 127.624376 \nL 78.07925 127.262654 \nL 78.253293 127.262654 \nL 78.253293 127.081793 \nL 78.380924 127.081793 \nL 78.48535 126.53921 \nL 78.520158 126.53921 \nL 78.520158 126.35835 \nL 78.659392 126.35835 \nL 78.717407 125.996628 \nL 78.903052 125.996628 \nL 78.995875 125.454045 \nL 79.019081 125.454045 \nL 79.019081 125.273184 \nL 79.193123 125.273184 \nL 79.193123 125.092323 \nL 79.66884 125.092323 \nL 79.66884 124.911462 \nL 79.854485 124.911462 \nL 79.958911 124.188019 \nL 80.028528 124.188019 \nL 80.028528 124.007158 \nL 80.144556 124.007158 \nL 80.237379 123.645436 \nL 80.539053 123.645436 \nL 80.585464 123.102854 \nL 80.68989 123.102854 \nL 80.724698 122.560271 \nL 80.829124 122.560271 \nL 80.933549 121.836827 \nL 80.979961 121.836827 \nL 81.061181 120.932523 \nL 81.095989 120.932523 \nL 81.095989 120.751662 \nL 81.212018 120.751662 \nL 81.281635 120.38994 \nL 81.328046 120.38994 \nL 81.432472 119.847358 \nL 81.513692 119.847358 \nL 81.618117 119.304775 \nL 81.641323 119.304775 \nL 81.641323 119.123914 \nL 81.768954 119.123914 \nL 81.850174 118.762192 \nL 82.105436 118.762192 \nL 82.209862 118.21961 \nL 82.302685 118.21961 \nL 82.40711 117.677027 \nL 82.48833 117.677027 \nL 82.48833 117.496166 \nL 82.929238 117.496166 \nL 82.998855 117.134444 \nL 83.161295 117.134444 \nL 83.242515 116.591862 \nL 83.335338 116.591862 \nL 83.416558 116.23014 \nL 83.903877 116.23014 \nL 84.008303 115.687557 \nL 84.135934 115.687557 \nL 84.135934 115.506696 \nL 84.507225 115.506696 \nL 84.565239 114.964114 \nL 84.600047 114.964114 \nL 84.669664 114.964114 \nL 84.669664 114.783253 \nL 84.832104 114.783253 \nL 84.890118 114.24067 \nL 85.052558 114.24067 \nL 85.087367 113.878948 \nL 85.191792 113.878948 \nL 85.191792 113.698088 \nL 85.307821 113.698088 \nL 85.377438 113.155505 \nL 85.447055 113.155505 \nL 85.447055 112.974644 \nL 85.853154 112.974644 \nL 85.853154 112.793783 \nL 86.050403 112.793783 \nL 86.050403 112.612922 \nL 86.178034 112.612922 \nL 86.212842 112.2512 \nL 86.317268 112.2512 \nL 86.317268 112.07034 \nL 86.456502 112.07034 \nL 86.514516 111.708618 \nL 86.642148 111.708618 \nL 86.688559 111.166035 \nL 86.769779 111.166035 \nL 86.792985 110.804313 \nL 86.909013 110.804313 \nL 86.990233 110.261731 \nL 87.129467 110.261731 \nL 87.129467 110.08087 \nL 87.315112 110.08087 \nL 87.396332 109.719148 \nL 87.558772 109.719148 \nL 87.570375 109.357426 \nL 87.709609 109.357426 \nL 87.732815 109.176565 \nL 87.930063 109.176565 \nL 88.034489 108.814844 \nL 88.046091 108.814844 \nL 88.046091 108.633983 \nL 88.359368 108.633983 \nL 88.359368 108.272261 \nL 88.498602 108.272261 \nL 88.498602 108.0914 \nL 88.753865 108.0914 \nL 88.753865 107.910539 \nL 89.043936 107.910539 \nL 89.043936 107.729678 \nL 89.42683 107.729678 \nL 89.450035 107.187096 \nL 89.554461 107.187096 \nL 89.624078 106.644513 \nL 89.87934 106.644513 \nL 89.890943 106.282791 \nL 90.088192 106.282791 \nL 90.088192 106.10193 \nL 90.215823 106.10193 \nL 90.215823 105.921069 \nL 90.331851 105.921069 \nL 90.401468 105.378487 \nL 90.98161 105.378487 \nL 91.074433 104.655043 \nL 91.236873 104.655043 \nL 91.236873 104.474182 \nL 91.399313 104.474182 \nL 91.399313 104.293322 \nL 91.596561 104.293322 \nL 91.596561 104.112461 \nL 91.921441 104.112461 \nL 91.921441 103.9316 \nL 92.037469 103.9316 \nL 92.141895 103.569878 \nL 92.269526 103.569878 \nL 92.339143 103.027295 \nL 92.385554 103.027295 \nL 92.431966 102.846434 \nL 92.629214 102.846434 \nL 92.640817 102.484713 \nL 92.756845 102.484713 \nL 92.756845 102.303852 \nL 93.10493 102.303852 \nL 93.139739 101.94213 \nL 93.824307 101.94213 \nL 93.824307 101.761269 \nL 94.149186 101.761269 \nL 94.230406 101.218686 \nL 94.520477 101.218686 \nL 94.578491 100.676104 \nL 94.752534 100.676104 \nL 94.798945 100.314382 \nL 95.100619 100.314382 \nL 95.100619 100.133521 \nL 95.228251 100.133521 \nL 95.286265 99.771799 \nL 95.936024 99.771799 \nL 95.970832 99.229217 \nL 96.295712 99.229217 \nL 96.295712 99.048356 \nL 96.458152 99.048356 \nL 96.550974 98.505773 \nL 96.759826 98.505773 \nL 96.759826 98.324912 \nL 96.887457 98.324912 \nL 96.910663 97.963191 \nL 97.189131 97.963191 \nL 97.189131 97.78233 \nL 97.316762 97.78233 \nL 97.421188 97.420608 \nL 97.467599 97.420608 \nL 97.467599 97.239747 \nL 97.769273 97.239747 \nL 97.769273 97.058886 \nL 98.059344 97.058886 \nL 98.059344 96.878025 \nL 98.477046 96.878025 \nL 98.523458 96.335443 \nL 98.627883 96.335443 \nL 98.639486 95.973721 \nL 98.743912 95.973721 \nL 98.743912 95.79286 \nL 98.85994 95.79286 \nL 98.85994 95.611999 \nL 99.1036 95.611999 \nL 99.173217 95.069416 \nL 99.196422 95.069416 \nL 99.741756 95.069416 \nL 99.753359 94.707695 \nL 99.997018 94.707695 \nL 100.078238 93.80339 \nL 100.113047 93.80339 \nL 100.20587 93.441668 \nL 100.321898 93.441668 \nL 100.345104 92.718225 \nL 100.449529 92.718225 \nL 100.449529 92.537364 \nL 100.7396 92.537364 \nL 100.7396 92.356503 \nL 100.867232 92.356503 \nL 100.867232 92.175642 \nL 101.006466 92.175642 \nL 101.087686 91.81392 \nL 101.1457 91.81392 \nL 101.22692 91.452199 \nL 101.261728 91.452199 \nL 101.30814 90.909616 \nL 101.783856 90.909616 \nL 101.783856 90.728755 \nL 102.015913 90.728755 \nL 102.015913 90.547894 \nL 102.213161 90.547894 \nL 102.236367 90.186172 \nL 102.32919 90.186172 \nL 102.32919 90.005312 \nL 102.596055 90.005312 \nL 102.596055 89.824451 \nL 102.770098 89.824451 \nL 102.770098 89.64359 \nL 103.048566 89.64359 \nL 103.118183 89.281868 \nL 103.280623 89.281868 \nL 103.280623 89.101007 \nL 103.373445 89.101007 \nL 103.698325 89.101007 \nL 103.698325 88.920146 \nL 104.058013 88.920146 \nL 104.104424 88.558424 \nL 104.197247 88.558424 \nL 104.243659 88.196703 \nL 104.417701 88.196703 \nL 104.417701 88.015842 \nL 104.742581 88.015842 \nL 104.823801 87.65412 \nL 104.881815 87.65412 \nL 104.881815 87.473259 \nL 105.044255 87.473259 \nL 105.102269 86.930676 \nL 105.183489 86.930676 \nL 105.183489 86.749816 \nL 105.403943 86.749816 \nL 105.427148 86.388094 \nL 105.612794 86.388094 \nL 105.612794 86.207233 \nL 105.868056 86.207233 \nL 105.868056 86.026372 \nL 106.018893 86.026372 \nL 106.018893 85.845511 \nL 106.134922 85.845511 \nL 106.134922 85.66465 \nL 106.483007 85.66465 \nL 106.483007 85.483789 \nL 106.599035 85.483789 \nL 106.599035 85.122068 \nL 106.807887 85.122068 \nL 106.807887 84.941207 \nL 107.005135 84.941207 \nL 107.109561 84.579485 \nL 107.121163 84.579485 \nL 107.213986 84.036902 \nL 107.306809 84.036902 \nL 107.318412 83.675181 \nL 107.492454 83.675181 \nL 107.492454 83.49432 \nL 107.701305 83.49432 \nL 107.747717 83.132598 \nL 107.886951 83.132598 \nL 107.886951 82.770876 \nL 108.095802 82.770876 \nL 108.095802 82.409154 \nL 108.269845 82.409154 \nL 108.29305 82.047433 \nL 108.69915 82.047433 \nL 108.69915 81.866572 \nL 109.63898 81.866572 \nL 109.731803 81.50485 \nL 109.755008 81.50485 \nL 109.755008 81.323989 \nL 109.905845 81.323989 \nL 109.998668 80.962267 \nL 110.149505 80.962267 \nL 110.149505 80.781406 \nL 110.311945 80.781406 \nL 110.311945 80.600545 \nL 110.567207 80.600545 \nL 110.625222 80.057963 \nL 110.706441 80.057963 \nL 110.706441 79.877102 \nL 111.251775 79.877102 \nL 111.251775 79.696241 \nL 111.379406 79.696241 \nL 111.402612 79.334519 \nL 111.715889 79.334519 \nL 111.820314 78.791937 \nL 111.855123 78.791937 \nL 111.855123 78.611076 \nL 111.936343 78.611076 \nL 112.261222 78.611076 \nL 112.261222 78.430215 \nL 112.667322 78.430215 \nL 112.667322 78.249354 \nL 112.910981 78.249354 \nL 112.980598 77.887632 \nL 113.328684 77.887632 \nL 113.386698 77.52591 \nL 113.757989 77.52591 \nL 113.757989 77.34505 \nL 114.488968 77.34505 \nL 114.488968 77.164189 \nL 115.115521 77.164189 \nL 115.115521 76.983328 \nL 115.23155 76.983328 \nL 115.277961 76.621606 \nL 115.486812 76.621606 \nL 115.486812 76.440745 \nL 115.869706 76.440745 \nL 115.92772 76.079023 \nL 115.962529 76.079023 \nL 116.49626 76.079023 \nL 116.49626 75.898162 \nL 116.693508 75.898162 \nL 116.763125 75.536441 \nL 116.925565 75.536441 \nL 116.94877 75.174719 \nL 117.122813 75.174719 \nL 117.19243 74.812997 \nL 117.59853 74.812997 \nL 117.59853 74.632136 \nL 117.714558 74.632136 \nL 117.772572 74.270414 \nL 117.888601 74.270414 \nL 117.935012 73.908693 \nL 118.422331 73.908693 \nL 118.526757 73.546971 \nL 119.060488 73.546971 \nL 119.130105 73.004388 \nL 119.39697 73.004388 \nL 119.39697 72.823527 \nL 119.988715 72.823527 \nL 120.000318 72.461806 \nL 121.19541 72.461806 \nL 121.19541 72.280945 \nL 121.497084 72.280945 \nL 121.497084 72.100084 \nL 121.717538 72.100084 \nL 121.717538 71.919223 \nL 122.123638 71.919223 \nL 122.123638 71.738362 \nL 122.3789 71.738362 \nL 122.3789 71.557501 \nL 122.808205 71.557501 \nL 122.889425 71.195779 \nL 123.249113 71.195779 \nL 123.249113 71.014919 \nL 124.525426 71.014919 \nL 124.560235 70.653197 \nL 124.606646 70.653197 \nL 125.349228 70.653197 \nL 125.349228 70.472336 \nL 125.68571 70.472336 \nL 125.68571 70.291475 \nL 125.987384 70.291475 \nL 125.987384 70.110614 \nL 126.486306 70.110614 \nL 126.544321 69.748892 \nL 126.602335 69.748892 \nL 126.602335 69.568031 \nL 126.776377 69.568031 \nL 126.776377 69.387171 \nL 126.95042 69.387171 \nL 126.95042 69.20631 \nL 127.124463 69.20631 \nL 127.124463 69.025449 \nL 127.64659 69.025449 \nL 127.64659 68.663727 \nL 128.099101 68.663727 \nL 128.13391 68.302005 \nL 128.563215 68.302005 \nL 128.563215 68.121144 \nL 129.004123 68.121144 \nL 129.004123 67.940283 \nL 129.375414 67.940283 \nL 129.445031 67.578562 \nL 129.584265 67.578562 \nL 129.584265 67.397701 \nL 130.361655 67.397701 \nL 130.466081 67.035979 \nL 131.092635 67.035979 \nL 131.092635 66.855118 \nL 131.928039 66.855118 \nL 131.928039 66.674257 \nL 132.148493 66.674257 \nL 132.148493 66.493396 \nL 132.21811 66.493396 \nL 133.668465 66.493396 \nL 133.668465 66.312535 \nL 133.772891 66.312535 \nL 133.900522 65.769953 \nL 134.271813 65.769953 \nL 134.271813 65.589092 \nL 134.445856 65.589092 \nL 134.445856 65.408231 \nL 135.072409 65.408231 \nL 135.072409 65.22737 \nL 135.455303 65.22737 \nL 135.501714 64.684788 \nL 135.582934 64.684788 \nL 135.594537 64.323066 \nL 135.861402 64.323066 \nL 135.861402 64.142205 \nL 136.395133 64.142205 \nL 136.395133 63.961344 \nL 136.650396 63.961344 \nL 136.650396 63.780483 \nL 137.021687 63.780483 \nL 137.126112 63.2379 \nL 137.242141 63.2379 \nL 137.311758 62.695318 \nL 137.369772 62.695318 \nL 137.474197 62.333596 \nL 137.578623 62.333596 \nL 137.578623 62.152735 \nL 138.019531 62.152735 \nL 138.019531 61.971874 \nL 138.599673 61.971874 \nL 138.599673 61.791013 \nL 138.692496 61.791013 \nL 139.817972 61.791013 \nL 139.817972 61.610152 \nL 140.166057 61.610152 \nL 140.247277 61.248431 \nL 140.340099 61.248431 \nL 140.363305 60.886709 \nL 140.537348 60.886709 \nL 140.537348 60.705848 \nL 140.87383 60.705848 \nL 140.87383 60.524987 \nL 141.349547 60.524987 \nL 141.349547 60.344126 \nL 142.417008 60.344126 \nL 143.147987 59.801544 \nL 144.528725 59.801544 \nL 144.528725 59.620683 \nL 144.667959 59.620683 \nL 144.667959 59.439822 \nL 144.969633 59.439822 \nL 144.969633 59.258961 \nL 145.236499 59.258961 \nL 145.236499 59.0781 \nL 145.52657 59.0781 \nL 145.52657 58.897239 \nL 145.886258 58.897239 \nL 145.886258 58.716378 \nL 146.245946 58.716378 \nL 146.245946 58.535517 \nL 146.30396 58.535517 \nL 146.512811 58.535517 \nL 146.617237 58.173796 \nL 146.652045 58.173796 \nL 146.652045 57.992935 \nL 147.533861 57.992935 \nL 147.533861 57.812074 \nL 147.789124 57.812074 \nL 147.789124 57.631213 \nL 148.160415 57.631213 \nL 148.160415 57.450352 \nL 148.357663 57.450352 \nL 148.357663 57.269491 \nL 148.775365 57.269491 \nL 148.775365 57.08863 \nL 149.541153 57.08863 \nL 149.575961 56.726909 \nL 150.562203 56.726909 \nL 150.562203 56.546048 \nL 151.049522 56.546048 \nL 151.049522 56.365187 \nL 151.676076 56.365187 \nL 151.676076 56.184326 \nL 152.465069 56.184326 \nL 152.465069 56.003465 \nL 152.859566 56.003465 \nL 152.859566 55.822604 \nL 153.022006 55.822604 \nL 153.022006 55.641743 \nL 153.393296 55.641743 \nL 153.497722 55.280021 \nL 154.251907 55.280021 \nL 154.286715 54.9183 \nL 155.226545 54.9183 \nL 155.226545 54.737439 \nL 155.272957 54.737439 \nL 157.00178 54.737439 \nL 157.106206 54.375717 \nL 157.419483 54.375717 \nL 157.419483 54.194856 \nL 157.547114 54.194856 \nL 157.558717 53.833134 \nL 158.02283 53.833134 \nL 158.057639 53.471413 \nL 158.800221 53.471413 \nL 158.800221 53.290552 \nL 159.658831 53.290552 \nL 159.728448 52.92883 \nL 159.960505 52.92883 \nL 159.960505 52.747969 \nL 160.238973 52.747969 \nL 160.238973 52.567108 \nL 160.575456 52.567108 \nL 160.575456 52.386247 \nL 160.807512 52.386247 \nL 160.807512 52.205386 \nL 161.062775 52.205386 \nL 161.109186 51.843665 \nL 161.294832 51.843665 \nL 161.294832 51.662804 \nL 161.793754 51.662804 \nL 161.793754 51.481943 \nL 162.861215 51.481943 \nL 162.954038 50.93936 \nL 163.174492 50.93936 \nL 163.174492 50.758499 \nL 163.951882 50.758499 \nL 163.975088 50.396778 \nL 164.462408 50.396778 \nL 164.462408 50.215917 \nL 164.845301 50.215917 \nL 164.845301 50.035056 \nL 165.796734 50.035056 \nL 165.796734 49.854195 \nL 165.924366 49.854195 \nL 165.924366 49.673334 \nL 166.017188 49.673334 \nL 168.476991 49.673334 \nL 168.476991 49.492473 \nL 168.604622 49.492473 \nL 168.604622 49.311612 \nL 169.521247 49.311612 \nL 169.521247 49.130751 \nL 170.275431 49.130751 \nL 170.275431 48.94989 \nL 170.658325 48.94989 \nL 170.658325 48.76903 \nL 171.447318 48.76903 \nL 171.447318 48.588169 \nL 171.644567 48.588169 \nL 171.644567 48.407308 \nL 172.363943 48.407308 \nL 172.363943 48.226447 \nL 173.245759 48.226447 \nL 173.338581 47.864725 \nL 173.547433 47.864725 \nL 173.547433 47.683864 \nL 175.531519 47.683864 \nL 175.531519 47.503003 \nL 175.891207 47.503003 \nL 175.891207 47.322142 \nL 176.35532 47.322142 \nL 176.378526 46.960421 \nL 178.095747 46.960421 \nL 178.095747 46.77956 \nL 178.629477 46.77956 \nL 178.629477 46.598699 \nL 180.346698 46.598699 \nL 180.346698 46.417838 \nL 180.659975 46.417838 \nL 180.659975 46.236977 \nL 180.717989 46.236977 \nL 180.776003 46.236977 \nL 180.776003 46.056116 \nL 181.623011 46.056116 \nL 181.623011 45.875255 \nL 182.02911 45.875255 \nL 182.02911 45.694394 \nL 182.145138 45.694394 \nL 182.145138 45.513534 \nL 183.37504 45.513534 \nL 183.386642 45.332673 \nL 184.245253 45.332673 \nL 184.245253 45.151812 \nL 186.008885 45.151812 \nL 186.008885 44.970951 \nL 186.554218 44.970951 \nL 186.554218 44.79009 \nL 188.225028 44.79009 \nL 188.225028 44.609229 \nL 188.364262 44.609229 \nL 188.364262 44.428368 \nL 188.654333 44.428368 \nL 188.712347 44.066647 \nL 189.304092 44.066647 \nL 189.304092 43.885786 \nL 189.652177 43.885786 \nL 189.652177 43.704925 \nL 190.185908 43.704925 \nL 190.185908 43.524064 \nL 191.94954 43.524064 \nL 191.94954 43.343203 \nL 195.325967 43.343203 \nL 195.325967 43.162342 \nL 198.435528 43.162342 \nL 198.435528 42.981481 \nL 199.398564 42.981481 \nL 199.398564 42.80062 \nL 199.642224 42.80062 \nL 199.642224 42.619759 \nL 200.11794 42.619759 \nL 200.11794 42.438899 \nL 200.268777 42.438899 \nL 200.268777 42.258038 \nL 202.856211 42.258038 \nL 202.856211 42.077177 \nL 203.320325 42.077177 \nL 203.378339 41.715455 \nL 203.83085 41.715455 \nL 203.854055 41.353733 \nL 204.875105 41.353733 \nL 204.875105 41.172872 \nL 205.640893 41.172872 \nL 205.640893 40.992011 \nL 206.835986 40.992011 \nL 206.835986 40.811151 \nL 208.019476 40.811151 \nL 208.019476 40.63029 \nL 209.26098 40.63029 \nL 209.307391 40.268568 \nL 210.664924 40.268568 \nL 210.664924 40.087707 \nL 211.477122 40.087707 \nL 211.477122 39.906846 \nL 211.755591 39.906846 \nL 211.755591 39.725985 \nL 212.649009 39.725985 \nL 212.649009 39.545124 \nL 212.939081 39.545124 \nL 212.939081 39.364263 \nL 213.704868 39.364263 \nL 213.704868 39.183403 \nL 214.969578 39.183403 \nL 214.969578 39.002542 \nL 216.791224 39.002542 \nL 216.791224 38.821681 \nL 217.185721 38.821681 \nL 217.185721 38.64082 \nL 217.974714 38.64082 \nL 217.974714 38.459959 \nL 221.618006 38.459959 \nL 221.618006 38.279098 \nL 222.430205 38.279098 \nL 222.430205 38.098237 \nL 223.010347 38.098237 \nL 223.010347 37.917376 \nL 224.321468 37.917376 \nL 224.321468 37.736516 \nL 227.152562 37.736516 \nL 227.152562 37.555655 \nL 227.407824 37.555655 \nL 227.407824 37.374794 \nL 229.39191 37.374794 \nL 229.39191 37.193933 \nL 229.449924 37.193933 \nL 229.821215 37.193933 \nL 229.821215 37.013072 \nL 230.273726 37.013072 \nL 230.273726 36.832211 \nL 230.41296 36.832211 \nL 230.41296 36.65135 \nL 231.503627 36.65135 \nL 231.503627 36.470489 \nL 232.629103 36.470489 \nL 232.629103 36.289628 \nL 233.139628 36.289628 \nL 233.139628 36.108768 \nL 233.255657 36.108768 \nL 233.255657 35.927907 \nL 235.22814 35.927907 \nL 235.22814 35.747046 \nL 238.21007 35.747046 \nL 238.21007 35.566185 \nL 241.818554 35.566185 \nL 241.818554 35.385324 \nL 242.653958 35.385324 \nL 242.653958 35.204463 \nL 243.55898 35.204463 \nL 243.55898 35.023602 \nL 246.645336 35.023602 \nL 246.645336 34.842741 \nL 247.155861 34.842741 \nL 247.155861 34.66188 \nL 249.441621 34.66188 \nL 249.441621 34.48102 \nL 260.673172 34.48102 \nL 260.673172 34.300159 \nL 267.48404 34.300159 \nL 267.48404 34.119298 \nL 268.226622 34.119298 \nL 268.226622 33.938437 \nL 273.77278 33.938437 \nL 273.77278 33.757576 \nL 289.483028 33.757576 \nL 289.483028 33.576715 \nL 299.531089 33.576715 \nL 299.531089 33.395854 \nL 301.921274 33.395854 \nL 301.921274 33.214993 \nL 341.498568 33.214993 \nL 341.498568 33.034132 \nL 348.657521 33.034132 \nL 348.657521 32.853272 \nL 361.722321 32.853272 \nL 361.722321 32.672411 \nL 378.58125 32.672411 \nL 378.58125 32.672411 \n\" style=\"fill:none;stroke:#00ffff;stroke-linecap:square;stroke-width:2;\"/>\n   </g>\n   <g id=\"line2d_16\">\n    <path clip-path=\"url(#p6e13b771f6)\" d=\"M 43.78125 239.758125 \nL 43.804005 239.396719 \nL 43.9064 218.073757 \nL 43.917778 218.073757 \nL 44.020173 195.666577 \nL 44.031551 195.666577 \nL 44.133947 177.234864 \nL 44.156701 177.234864 \nL 44.259097 156.634714 \nL 44.270474 156.634714 \nL 44.37287 148.683779 \nL 44.384247 148.683779 \nL 44.475266 137.480189 \nL 44.49802 137.480189 \nL 44.600416 130.613473 \nL 44.611793 130.613473 \nL 44.714189 125.915193 \nL 44.725566 125.915193 \nL 44.816585 123.38535 \nL 44.941735 123.38535 \nL 45.044131 121.939726 \nL 45.078263 121.939726 \nL 45.078263 121.578319 \nL 45.192036 121.578319 \nL 45.294432 120.494101 \nL 45.374073 120.494101 \nL 45.419582 119.409883 \nL 45.658506 119.409883 \nL 45.738147 117.964258 \nL 45.97707 117.964258 \nL 45.999825 116.518634 \nL 46.102221 116.518634 \nL 46.102221 116.157227 \nL 46.250126 116.157227 \nL 46.284257 115.073009 \nL 46.682463 115.073009 \nL 46.750727 114.350197 \nL 46.910009 114.350197 \nL 47.001028 112.904572 \nL 47.03516 112.904572 \nL 47.03516 112.543166 \nL 47.217197 112.543166 \nL 47.274083 111.820354 \nL 47.478875 111.820354 \nL 47.513007 111.097542 \nL 47.87708 111.097542 \nL 47.968099 110.013323 \nL 48.480078 110.013323 \nL 48.480078 109.651917 \nL 48.673492 109.651917 \nL 48.741756 108.567699 \nL 48.889661 108.567699 \nL 48.889661 107.844886 \nL 49.117207 107.844886 \nL 49.117207 107.122074 \nL 49.219603 107.122074 \nL 49.242357 107.122074 \nL 49.321998 106.037856 \nL 49.435771 106.037856 \nL 49.458526 105.315043 \nL 49.595054 105.315043 \nL 49.697449 104.592231 \nL 49.754336 104.592231 \nL 49.754336 104.230825 \nL 49.924996 104.230825 \nL 49.924996 103.508013 \nL 50.357333 103.508013 \nL 50.357333 103.146607 \nL 50.903444 103.146607 \nL 50.903444 102.785201 \nL 51.404045 102.785201 \nL 51.404045 102.423794 \nL 51.449555 102.423794 \nL 51.529196 102.423794 \nL 51.608837 101.339576 \nL 51.677101 101.339576 \nL 51.677101 100.97817 \nL 51.802251 100.97817 \nL 51.802251 100.616764 \nL 52.120816 100.616764 \nL 52.120816 100.255358 \nL 52.393871 100.255358 \nL 52.416626 99.171139 \nL 52.553153 99.171139 \nL 52.553153 98.809733 \nL 53.031 98.809733 \nL 53.031 98.448327 \nL 53.304056 98.448327 \nL 53.304056 98.086921 \nL 53.520224 98.086921 \nL 53.520224 97.725515 \nL 53.747771 97.725515 \nL 53.747771 97.364109 \nL 54.225617 97.364109 \nL 54.225617 97.002702 \nL 54.350768 97.002702 \nL 54.350768 96.641296 \nL 54.487295 96.641296 \nL 54.487295 96.27989 \nL 54.669332 96.27989 \nL 54.760351 95.557078 \nL 54.839992 95.557078 \nL 54.874124 94.834266 \nL 55.192688 94.834266 \nL 55.192688 94.472859 \nL 55.329216 94.472859 \nL 55.340593 93.750047 \nL 55.829818 93.750047 \nL 55.829818 93.388641 \nL 56.000477 93.388641 \nL 56.000477 93.027235 \nL 56.535211 93.027235 \nL 56.535211 92.665829 \nL 56.70587 92.665829 \nL 56.70587 92.304423 \nL 57.104076 92.304423 \nL 57.104076 91.943017 \nL 57.5933 91.943017 \nL 57.672941 91.220204 \nL 58.037015 91.220204 \nL 58.116656 90.497392 \nL 58.287316 90.497392 \nL 58.287316 90.135986 \nL 58.935822 90.135986 \nL 58.935822 89.77458 \nL 59.390915 89.77458 \nL 59.390915 89.413174 \nL 60.346608 89.413174 \nL 60.38074 88.690361 \nL 61.086133 88.690361 \nL 61.108888 87.967549 \nL 61.26817 87.967549 \nL 61.26817 87.606143 \nL 61.381943 87.606143 \nL 61.381943 87.244737 \nL 61.507094 87.244737 \nL 61.507094 86.883331 \nL 61.643621 86.883331 \nL 61.643621 86.521925 \nL 61.700508 86.521925 \nL 62.132845 86.521925 \nL 62.132845 86.160518 \nL 62.32626 86.160518 \nL 62.32626 85.799112 \nL 62.360392 85.799112 \nL 62.553806 85.799112 \nL 62.553806 85.437706 \nL 63.555009 85.437706 \nL 63.555009 85.0763 \nL 63.975969 85.0763 \nL 63.975969 84.714894 \nL 64.123874 84.714894 \nL 64.123874 84.353488 \nL 64.749626 84.353488 \nL 64.749626 83.992082 \nL 65.272982 83.992082 \nL 65.272982 83.630675 \nL 65.546037 83.630675 \nL 65.614301 82.907863 \nL 65.910111 82.907863 \nL 66.00113 81.823645 \nL 66.023884 81.823645 \nL 66.023884 81.462239 \nL 67.48018 81.462239 \nL 67.48018 81.100833 \nL 67.787367 81.100833 \nL 67.787367 80.739426 \nL 67.946649 80.739426 \nL 67.946649 80.37802 \nL 68.299346 80.37802 \nL 68.299346 80.016614 \nL 68.413119 80.016614 \nL 68.413119 79.655208 \nL 68.640665 79.655208 \nL 68.708929 78.932396 \nL 70.131092 78.932396 \nL 70.131092 78.57099 \nL 70.381393 78.57099 \nL 70.381393 78.209583 \nL 70.927503 78.209583 \nL 70.995767 77.486771 \nL 71.10954 77.486771 \nL 71.10954 77.125365 \nL 71.40535 77.125365 \nL 71.40535 76.763959 \nL 72.531704 76.763959 \nL 72.531704 76.402553 \nL 72.998173 76.402553 \nL 72.998173 76.041147 \nL 73.328115 76.041147 \nL 73.328115 75.679741 \nL 73.385002 75.679741 \nL 74.056263 75.679741 \nL 74.056263 75.318334 \nL 74.215545 75.318334 \nL 74.215545 74.956928 \nL 74.65926 74.956928 \nL 74.65926 74.595522 \nL 75.205371 74.595522 \nL 75.205371 74.234116 \nL 75.694595 74.234116 \nL 75.694595 73.87271 \nL 76.661666 73.87271 \nL 76.661666 73.511304 \nL 77.469455 73.511304 \nL 77.469455 73.149898 \nL 77.526341 73.149898 \nL 77.788019 73.149898 \nL 77.833529 72.427085 \nL 79.278446 72.427085 \nL 79.289824 71.704273 \nL 79.688029 71.704273 \nL 79.688029 71.342867 \nL 79.881444 71.342867 \nL 79.881444 70.981461 \nL 80.416177 70.981461 \nL 80.416177 70.620055 \nL 80.632346 70.620055 \nL 80.632346 70.258649 \nL 81.007797 70.258649 \nL 81.053306 69.535836 \nL 81.235343 69.535836 \nL 81.235343 69.17443 \nL 81.576662 69.17443 \nL 81.576662 68.813024 \nL 82.065887 68.813024 \nL 82.077264 68.090212 \nL 83.738351 68.090212 \nL 83.738351 67.728806 \nL 84.739554 67.728806 \nL 84.739554 67.367399 \nL 85.535965 67.367399 \nL 85.535965 67.005993 \nL 85.68387 67.005993 \nL 85.740757 66.283181 \nL 86.173094 66.283181 \nL 86.207226 65.921775 \nL 86.343754 65.921775 \nL 86.343754 65.560369 \nL 87.28807 65.560369 \nL 87.367711 64.47615 \nL 88.232387 64.47615 \nL 88.232387 64.114744 \nL 89.301854 64.114744 \nL 89.313231 63.391932 \nL 89.404249 63.391932 \nL 89.916228 63.391932 \nL 89.916228 63.030526 \nL 90.223415 63.030526 \nL 90.223415 62.66912 \nL 91.00845 62.66912 \nL 91.00845 62.307714 \nL 91.998275 62.307714 \nL 91.998275 61.946307 \nL 92.350972 61.946307 \nL 92.350972 61.584901 \nL 93.62523 61.584901 \nL 93.62523 61.223495 \nL 94.296491 61.223495 \nL 94.296491 60.862089 \nL 95.331826 60.862089 \nL 95.331826 60.500683 \nL 95.479731 60.500683 \nL 95.479731 60.139277 \nL 95.627636 60.139277 \nL 95.627636 59.777871 \nL 96.037219 59.777871 \nL 96.037219 59.416465 \nL 96.276142 59.416465 \nL 96.367161 58.693652 \nL 99.882749 58.693652 \nL 99.882749 58.332246 \nL 100.201313 58.332246 \nL 100.235445 57.609434 \nL 100.531255 57.609434 \nL 100.531255 57.248028 \nL 100.701915 57.248028 \nL 100.701915 56.886622 \nL 100.986347 56.886622 \nL 100.986347 56.525216 \nL 104.581576 56.525216 \nL 104.581576 56.163809 \nL 105.696552 56.163809 \nL 105.696552 55.802403 \nL 106.743264 55.802403 \nL 106.788774 55.079591 \nL 108.552256 55.079591 \nL 108.552256 54.718185 \nL 109.451063 54.718185 \nL 109.451063 54.356779 \nL 111.043886 54.356779 \nL 111.043886 53.995373 \nL 111.624129 53.995373 \nL 111.624129 53.633966 \nL 112.306767 53.633966 \nL 112.306767 53.27256 \nL 113.30797 53.27256 \nL 113.30797 52.911154 \nL 116.664276 52.911154 \nL 116.664276 52.549748 \nL 117.858893 52.549748 \nL 117.858893 52.188342 \nL 118.712191 52.188342 \nL 118.712191 51.826936 \nL 119.64513 51.826936 \nL 119.64513 51.46553 \nL 119.793035 51.46553 \nL 119.793035 51.104124 \nL 120.794238 51.104124 \nL 120.794238 50.742717 \nL 120.95352 50.742717 \nL 120.95352 50.381311 \nL 121.237953 50.381311 \nL 121.237953 50.019905 \nL 121.738555 50.019905 \nL 121.84095 49.297093 \nL 122.239156 49.297093 \nL 122.239156 48.935687 \nL 122.887662 48.935687 \nL 122.910417 48.212874 \nL 126.016422 48.212874 \nL 126.164327 47.851468 \nL 127.870923 47.851468 \nL 127.870923 47.490062 \nL 128.667334 47.490062 \nL 128.667334 47.128656 \nL 131.488906 47.128656 \nL 131.488906 46.76725 \nL 135.23204 46.76725 \nL 135.254795 46.044438 \nL 139.817095 46.044438 \nL 139.817095 45.683032 \nL 144.026698 45.683032 \nL 144.026698 45.321625 \nL 149.487805 45.321625 \nL 149.487805 44.960219 \nL 149.533314 44.960219 \nL 154.129746 44.960219 \nL 154.129746 44.598813 \nL 156.780659 44.598813 \nL 156.780659 44.237407 \nL 157.702221 44.237407 \nL 157.702221 43.876001 \nL 158.487255 43.876001 \nL 158.487255 43.514595 \nL 163.231592 43.514595 \nL 163.231592 43.153189 \nL 163.481892 43.153189 \nL 163.481892 42.791782 \nL 169.511865 42.791782 \nL 169.511865 42.430376 \nL 170.410672 42.430376 \nL 170.410672 42.06897 \nL 172.515474 42.06897 \nL 172.515474 41.707564 \nL 175.1095 41.707564 \nL 175.1095 41.346158 \nL 175.143631 41.346158 \nL 176.440644 41.346158 \nL 176.440644 40.984752 \nL 176.690945 40.984752 \nL 176.690945 40.623346 \nL 178.454428 40.623346 \nL 178.454428 40.26194 \nL 179.467008 40.26194 \nL 179.467008 39.900533 \nL 179.9221 39.900533 \nL 179.9221 39.539127 \nL 180.707134 39.539127 \nL 180.707134 39.177721 \nL 192.050309 39.177721 \nL 192.050309 38.816315 \nL 193.950319 38.816315 \nL 193.950319 38.454909 \nL 196.407817 38.454909 \nL 196.407817 38.093503 \nL 199.274899 38.093503 \nL 199.274899 37.732097 \nL 213.701323 37.732097 \nL 213.701323 37.37069 \nL 217.808531 37.37069 \nL 217.808531 37.009284 \nL 230.175663 37.009284 \nL 230.175663 36.647878 \nL 232.439747 36.647878 \nL 232.439747 36.286472 \nL 244.420051 36.286472 \nL 244.420051 35.925066 \nL 245.694309 35.925066 \nL 245.694309 35.56366 \nL 258.402761 35.56366 \nL 258.402761 35.202254 \nL 275.81004 35.202254 \nL 275.81004 34.840848 \nL 307.495839 34.840848 \nL 307.495839 34.479441 \nL 310.78388 34.479441 \nL 310.78388 34.118035 \nL 327.076183 34.118035 \nL 327.076183 33.756629 \nL 327.576785 33.756629 \nL 327.576785 33.395223 \nL 331.570219 33.395223 \nL 331.570219 33.033817 \nL 352.515841 33.033817 \nL 352.515841 32.672411 \nL 378.58125 32.672411 \nL 378.58125 32.672411 \n\" style=\"fill:none;stroke:#ff8c00;stroke-linecap:square;stroke-width:2;\"/>\n   </g>\n   <g id=\"line2d_17\">\n    <path clip-path=\"url(#p6e13b771f6)\" d=\"M 43.78125 239.758125 \nL 43.870967 209.971824 \nL 43.893396 209.971824 \nL 43.983112 191.532685 \nL 44.027971 191.532685 \nL 44.128902 180.185522 \nL 44.151331 180.185522 \nL 44.196189 174.511941 \nL 44.297121 174.511941 \nL 44.398052 170.256755 \nL 44.543841 170.256755 \nL 44.555056 167.419965 \nL 44.655987 167.419965 \nL 44.689631 163.164779 \nL 44.779347 163.164779 \nL 44.779347 161.746383 \nL 45.037283 161.746383 \nL 45.037283 160.327988 \nL 45.272789 160.327988 \nL 45.306433 154.654407 \nL 45.384935 154.654407 \nL 45.384935 153.236011 \nL 45.76623 153.236011 \nL 45.76623 151.817616 \nL 45.979307 151.817616 \nL 45.979307 150.399221 \nL 46.091453 150.399221 \nL 46.091453 147.56243 \nL 46.57368 147.56243 \nL 46.57368 146.144035 \nL 46.910117 146.144035 \nL 46.910117 144.72564 \nL 47.224125 144.72564 \nL 47.313842 141.888849 \nL 47.392344 141.888849 \nL 47.392344 139.052058 \nL 47.571777 139.052058 \nL 47.571777 137.633663 \nL 47.874571 137.633663 \nL 47.953073 134.796873 \nL 48.211008 134.796873 \nL 48.211008 133.378477 \nL 48.55866 133.378477 \nL 48.55866 131.960082 \nL 48.592304 131.960082 \nL 48.917527 131.960082 \nL 49.018458 129.123291 \nL 49.119389 129.123291 \nL 49.119389 127.704896 \nL 49.34368 127.704896 \nL 49.433397 124.868105 \nL 49.567972 124.868105 \nL 49.63526 120.61292 \nL 49.825907 120.61292 \nL 49.825907 119.194524 \nL 50.106272 119.194524 \nL 50.106272 117.776129 \nL 50.409065 117.776129 \nL 50.409065 116.357734 \nL 50.554855 116.357734 \nL 50.554855 114.939338 \nL 51.093155 114.939338 \nL 51.126798 112.102548 \nL 51.552952 112.102548 \nL 51.597811 109.265757 \nL 51.721171 109.265757 \nL 51.721171 107.847362 \nL 51.956677 107.847362 \nL 51.956677 106.428966 \nL 52.461333 106.428966 \nL 52.461333 105.010571 \nL 52.786556 105.010571 \nL 52.786556 103.592176 \nL 53.122993 103.592176 \nL 53.122993 102.173781 \nL 53.594005 102.173781 \nL 53.594005 100.755385 \nL 53.762224 100.755385 \nL 53.762224 99.33699 \nL 54.558459 99.33699 \nL 54.558459 97.918595 \nL 55.478054 97.918595 \nL 55.478054 96.500199 \nL 58.831213 96.500199 \nL 58.831213 95.081804 \nL 58.977003 95.081804 \nL 58.977003 93.663409 \nL 59.134007 93.663409 \nL 59.16765 90.826618 \nL 59.728379 90.826618 \nL 59.728379 89.408223 \nL 60.311537 89.408223 \nL 60.311537 87.989828 \nL 60.659189 87.989828 \nL 60.659189 86.571432 \nL 61.130202 86.571432 \nL 61.130202 85.153037 \nL 62.184372 85.153037 \nL 62.251659 82.316246 \nL 62.700242 82.316246 \nL 62.700242 80.897851 \nL 62.89089 80.897851 \nL 62.89089 79.479456 \nL 63.574979 79.479456 \nL 63.574979 78.06106 \nL 64.864656 78.06106 \nL 64.864656 76.642665 \nL 68.08324 76.642665 \nL 68.172956 73.805875 \nL 68.520608 73.805875 \nL 68.520608 72.387479 \nL 68.913118 72.387479 \nL 68.913118 70.969084 \nL 69.698139 70.969084 \nL 69.698139 69.550689 \nL 70.46073 69.550689 \nL 70.46073 68.132293 \nL 74.071824 68.132293 \nL 74.094253 65.295503 \nL 74.139112 65.295503 \nL 78.142716 65.295503 \nL 78.142716 63.877107 \nL 82.381826 63.877107 \nL 82.381826 62.458712 \nL 83.088345 62.458712 \nL 83.088345 61.040317 \nL 83.716361 61.040317 \nL 83.716361 59.621921 \nL 84.781746 59.621921 \nL 84.781746 58.203526 \nL 90.243245 58.203526 \nL 90.243245 56.785131 \nL 102.108268 56.785131 \nL 102.108268 55.366736 \nL 104.553046 55.366736 \nL 104.553046 53.94834 \nL 104.822196 53.94834 \nL 104.822196 52.529945 \nL 110.664991 52.529945 \nL 110.664991 51.11155 \nL 117.86475 51.11155 \nL 117.86475 49.693154 \nL 118.930135 49.693154 \nL 118.930135 48.274759 \nL 122.137504 48.274759 \nL 122.137504 46.856364 \nL 122.866451 46.856364 \nL 122.866451 45.437968 \nL 126.61212 45.437968 \nL 126.61212 44.019573 \nL 127.172849 44.019573 \nL 127.172849 42.601178 \nL 133.39694 42.601178 \nL 133.39694 41.182783 \nL 134.417466 41.182783 \nL 134.417466 39.764387 \nL 139.76682 39.764387 \nL 139.76682 38.345992 \nL 180.442093 38.345992 \nL 180.442093 36.927597 \nL 194.84161 36.927597 \nL 194.84161 35.509201 \nL 225.412549 35.509201 \nL 225.412549 34.090806 \nL 301.761393 34.090806 \nL 301.761393 32.672411 \nL 378.58125 32.672411 \nL 378.58125 32.672411 \n\" style=\"fill:none;stroke:#6495ed;stroke-linecap:square;stroke-width:2;\"/>\n   </g>\n   <g id=\"line2d_18\">\n    <path clip-path=\"url(#p6e13b771f6)\" d=\"M 43.78125 239.758125 \nL 378.58125 32.672411 \n\" style=\"fill:none;stroke:#000000;stroke-dasharray:7.4,3.2;stroke-dashoffset:0;stroke-width:2;\"/>\n   </g>\n   <g id=\"patch_3\">\n    <path d=\"M 43.78125 239.758125 \nL 43.78125 22.318125 \n\" style=\"fill:none;stroke:#000000;stroke-linecap:square;stroke-linejoin:miter;stroke-width:0.8;\"/>\n   </g>\n   <g id=\"patch_4\">\n    <path d=\"M 378.58125 239.758125 \nL 378.58125 22.318125 \n\" style=\"fill:none;stroke:#000000;stroke-linecap:square;stroke-linejoin:miter;stroke-width:0.8;\"/>\n   </g>\n   <g id=\"patch_5\">\n    <path d=\"M 43.78125 239.758125 \nL 378.58125 239.758125 \n\" style=\"fill:none;stroke:#000000;stroke-linecap:square;stroke-linejoin:miter;stroke-width:0.8;\"/>\n   </g>\n   <g id=\"patch_6\">\n    <path d=\"M 43.78125 22.318125 \nL 378.58125 22.318125 \n\" style=\"fill:none;stroke:#000000;stroke-linecap:square;stroke-linejoin:miter;stroke-width:0.8;\"/>\n   </g>\n   <g id=\"text_15\">\n    <!-- Some extension of ROC to multi-class -->\n    <g transform=\"translate(98.099063 16.318125)scale(0.12 -0.12)\">\n     <defs>\n      <path d=\"M 53.515625 70.515625 \nL 53.515625 60.890625 \nQ 47.90625 63.578125 42.921875 64.890625 \nQ 37.9375 66.21875 33.296875 66.21875 \nQ 25.25 66.21875 20.875 63.09375 \nQ 16.5 59.96875 16.5 54.203125 \nQ 16.5 49.359375 19.40625 46.890625 \nQ 22.3125 44.4375 30.421875 42.921875 \nL 36.375 41.703125 \nQ 47.40625 39.59375 52.65625 34.296875 \nQ 57.90625 29 57.90625 20.125 \nQ 57.90625 9.515625 50.796875 4.046875 \nQ 43.703125 -1.421875 29.984375 -1.421875 \nQ 24.8125 -1.421875 18.96875 -0.25 \nQ 13.140625 0.921875 6.890625 3.21875 \nL 6.890625 13.375 \nQ 12.890625 10.015625 18.65625 8.296875 \nQ 24.421875 6.59375 29.984375 6.59375 \nQ 38.421875 6.59375 43.015625 9.90625 \nQ 47.609375 13.234375 47.609375 19.390625 \nQ 47.609375 24.75 44.3125 27.78125 \nQ 41.015625 30.8125 33.5 32.328125 \nL 27.484375 33.5 \nQ 16.453125 35.6875 11.515625 40.375 \nQ 6.59375 45.0625 6.59375 53.421875 \nQ 6.59375 63.09375 13.40625 68.65625 \nQ 20.21875 74.21875 32.171875 74.21875 \nQ 37.3125 74.21875 42.625 73.28125 \nQ 47.953125 72.359375 53.515625 70.515625 \nz\n\" id=\"DejaVuSans-83\"/>\n      <path d=\"M 52 44.1875 \nQ 55.375 50.25 60.0625 53.125 \nQ 64.75 56 71.09375 56 \nQ 79.640625 56 84.28125 50.015625 \nQ 88.921875 44.046875 88.921875 33.015625 \nL 88.921875 0 \nL 79.890625 0 \nL 79.890625 32.71875 \nQ 79.890625 40.578125 77.09375 44.375 \nQ 74.3125 48.1875 68.609375 48.1875 \nQ 61.625 48.1875 57.5625 43.546875 \nQ 53.515625 38.921875 53.515625 30.90625 \nL 53.515625 0 \nL 44.484375 0 \nL 44.484375 32.71875 \nQ 44.484375 40.625 41.703125 44.40625 \nQ 38.921875 48.1875 33.109375 48.1875 \nQ 26.21875 48.1875 22.15625 43.53125 \nQ 18.109375 38.875 18.109375 30.90625 \nL 18.109375 0 \nL 9.078125 0 \nL 9.078125 54.6875 \nL 18.109375 54.6875 \nL 18.109375 46.1875 \nQ 21.1875 51.21875 25.484375 53.609375 \nQ 29.78125 56 35.6875 56 \nQ 41.65625 56 45.828125 52.96875 \nQ 50 49.953125 52 44.1875 \nz\n\" id=\"DejaVuSans-109\"/>\n      <path d=\"M 54.890625 54.6875 \nL 35.109375 28.078125 \nL 55.90625 0 \nL 45.3125 0 \nL 29.390625 21.484375 \nL 13.484375 0 \nL 2.875 0 \nL 24.125 28.609375 \nL 4.6875 54.6875 \nL 15.28125 54.6875 \nL 29.78125 35.203125 \nL 44.28125 54.6875 \nz\n\" id=\"DejaVuSans-120\"/>\n      <path d=\"M 54.890625 33.015625 \nL 54.890625 0 \nL 45.90625 0 \nL 45.90625 32.71875 \nQ 45.90625 40.484375 42.875 44.328125 \nQ 39.84375 48.1875 33.796875 48.1875 \nQ 26.515625 48.1875 22.3125 43.546875 \nQ 18.109375 38.921875 18.109375 30.90625 \nL 18.109375 0 \nL 9.078125 0 \nL 9.078125 54.6875 \nL 18.109375 54.6875 \nL 18.109375 46.1875 \nQ 21.34375 51.125 25.703125 53.5625 \nQ 30.078125 56 35.796875 56 \nQ 45.21875 56 50.046875 50.171875 \nQ 54.890625 44.34375 54.890625 33.015625 \nz\n\" id=\"DejaVuSans-110\"/>\n      <path d=\"M 37.109375 75.984375 \nL 37.109375 68.5 \nL 28.515625 68.5 \nQ 23.6875 68.5 21.796875 66.546875 \nQ 19.921875 64.59375 19.921875 59.515625 \nL 19.921875 54.6875 \nL 34.71875 54.6875 \nL 34.71875 47.703125 \nL 19.921875 47.703125 \nL 19.921875 0 \nL 10.890625 0 \nL 10.890625 47.703125 \nL 2.296875 47.703125 \nL 2.296875 54.6875 \nL 10.890625 54.6875 \nL 10.890625 58.5 \nQ 10.890625 67.625 15.140625 71.796875 \nQ 19.390625 75.984375 28.609375 75.984375 \nz\n\" id=\"DejaVuSans-102\"/>\n      <path d=\"M 39.40625 66.21875 \nQ 28.65625 66.21875 22.328125 58.203125 \nQ 16.015625 50.203125 16.015625 36.375 \nQ 16.015625 22.609375 22.328125 14.59375 \nQ 28.65625 6.59375 39.40625 6.59375 \nQ 50.140625 6.59375 56.421875 14.59375 \nQ 62.703125 22.609375 62.703125 36.375 \nQ 62.703125 50.203125 56.421875 58.203125 \nQ 50.140625 66.21875 39.40625 66.21875 \nz\nM 39.40625 74.21875 \nQ 54.734375 74.21875 63.90625 63.9375 \nQ 73.09375 53.65625 73.09375 36.375 \nQ 73.09375 19.140625 63.90625 8.859375 \nQ 54.734375 -1.421875 39.40625 -1.421875 \nQ 24.03125 -1.421875 14.8125 8.828125 \nQ 5.609375 19.09375 5.609375 36.375 \nQ 5.609375 53.65625 14.8125 63.9375 \nQ 24.03125 74.21875 39.40625 74.21875 \nz\n\" id=\"DejaVuSans-79\"/>\n      <path d=\"M 64.40625 67.28125 \nL 64.40625 56.890625 \nQ 59.421875 61.53125 53.78125 63.8125 \nQ 48.140625 66.109375 41.796875 66.109375 \nQ 29.296875 66.109375 22.65625 58.46875 \nQ 16.015625 50.828125 16.015625 36.375 \nQ 16.015625 21.96875 22.65625 14.328125 \nQ 29.296875 6.6875 41.796875 6.6875 \nQ 48.140625 6.6875 53.78125 8.984375 \nQ 59.421875 11.28125 64.40625 15.921875 \nL 64.40625 5.609375 \nQ 59.234375 2.09375 53.4375 0.328125 \nQ 47.65625 -1.421875 41.21875 -1.421875 \nQ 24.65625 -1.421875 15.125 8.703125 \nQ 5.609375 18.84375 5.609375 36.375 \nQ 5.609375 53.953125 15.125 64.078125 \nQ 24.65625 74.21875 41.21875 74.21875 \nQ 47.75 74.21875 53.53125 72.484375 \nQ 59.328125 70.75 64.40625 67.28125 \nz\n\" id=\"DejaVuSans-67\"/>\n      <path d=\"M 4.890625 31.390625 \nL 31.203125 31.390625 \nL 31.203125 23.390625 \nL 4.890625 23.390625 \nz\n\" id=\"DejaVuSans-45\"/>\n      <path d=\"M 48.78125 52.59375 \nL 48.78125 44.1875 \nQ 44.96875 46.296875 41.140625 47.34375 \nQ 37.3125 48.390625 33.40625 48.390625 \nQ 24.65625 48.390625 19.8125 42.84375 \nQ 14.984375 37.3125 14.984375 27.296875 \nQ 14.984375 17.28125 19.8125 11.734375 \nQ 24.65625 6.203125 33.40625 6.203125 \nQ 37.3125 6.203125 41.140625 7.25 \nQ 44.96875 8.296875 48.78125 10.40625 \nL 48.78125 2.09375 \nQ 45.015625 0.34375 40.984375 -0.53125 \nQ 36.96875 -1.421875 32.421875 -1.421875 \nQ 20.0625 -1.421875 12.78125 6.34375 \nQ 5.515625 14.109375 5.515625 27.296875 \nQ 5.515625 40.671875 12.859375 48.328125 \nQ 20.21875 56 33.015625 56 \nQ 37.15625 56 41.109375 55.140625 \nQ 45.0625 54.296875 48.78125 52.59375 \nz\n\" id=\"DejaVuSans-99\"/>\n     </defs>\n     <use xlink:href=\"#DejaVuSans-83\"/>\n     <use x=\"63.476562\" xlink:href=\"#DejaVuSans-111\"/>\n     <use x=\"124.658203\" xlink:href=\"#DejaVuSans-109\"/>\n     <use x=\"222.070312\" xlink:href=\"#DejaVuSans-101\"/>\n     <use x=\"283.59375\" xlink:href=\"#DejaVuSans-32\"/>\n     <use x=\"315.380859\" xlink:href=\"#DejaVuSans-101\"/>\n     <use x=\"375.154297\" xlink:href=\"#DejaVuSans-120\"/>\n     <use x=\"434.333984\" xlink:href=\"#DejaVuSans-116\"/>\n     <use x=\"473.542969\" xlink:href=\"#DejaVuSans-101\"/>\n     <use x=\"535.066406\" xlink:href=\"#DejaVuSans-110\"/>\n     <use x=\"598.445312\" xlink:href=\"#DejaVuSans-115\"/>\n     <use x=\"650.544922\" xlink:href=\"#DejaVuSans-105\"/>\n     <use x=\"678.328125\" xlink:href=\"#DejaVuSans-111\"/>\n     <use x=\"739.509766\" xlink:href=\"#DejaVuSans-110\"/>\n     <use x=\"802.888672\" xlink:href=\"#DejaVuSans-32\"/>\n     <use x=\"834.675781\" xlink:href=\"#DejaVuSans-111\"/>\n     <use x=\"895.857422\" xlink:href=\"#DejaVuSans-102\"/>\n     <use x=\"931.0625\" xlink:href=\"#DejaVuSans-32\"/>\n     <use x=\"962.849609\" xlink:href=\"#DejaVuSans-82\"/>\n     <use x=\"1032.332031\" xlink:href=\"#DejaVuSans-79\"/>\n     <use x=\"1111.042969\" xlink:href=\"#DejaVuSans-67\"/>\n     <use x=\"1180.867188\" xlink:href=\"#DejaVuSans-32\"/>\n     <use x=\"1212.654297\" xlink:href=\"#DejaVuSans-116\"/>\n     <use x=\"1251.863281\" xlink:href=\"#DejaVuSans-111\"/>\n     <use x=\"1313.044922\" xlink:href=\"#DejaVuSans-32\"/>\n     <use x=\"1344.832031\" xlink:href=\"#DejaVuSans-109\"/>\n     <use x=\"1442.244141\" xlink:href=\"#DejaVuSans-117\"/>\n     <use x=\"1505.623047\" xlink:href=\"#DejaVuSans-108\"/>\n     <use x=\"1533.40625\" xlink:href=\"#DejaVuSans-116\"/>\n     <use x=\"1572.615234\" xlink:href=\"#DejaVuSans-105\"/>\n     <use x=\"1600.398438\" xlink:href=\"#DejaVuSans-45\"/>\n     <use x=\"1636.482422\" xlink:href=\"#DejaVuSans-99\"/>\n     <use x=\"1691.462891\" xlink:href=\"#DejaVuSans-108\"/>\n     <use x=\"1719.246094\" xlink:href=\"#DejaVuSans-97\"/>\n     <use x=\"1780.525391\" xlink:href=\"#DejaVuSans-115\"/>\n     <use x=\"1832.625\" xlink:href=\"#DejaVuSans-115\"/>\n    </g>\n   </g>\n   <g id=\"legend_1\">\n    <g id=\"patch_7\">\n     <path d=\"M 137.017188 234.758125 \nL 371.58125 234.758125 \nQ 373.58125 234.758125 373.58125 232.758125 \nL 373.58125 160.3675 \nQ 373.58125 158.3675 371.58125 158.3675 \nL 137.017188 158.3675 \nQ 135.017188 158.3675 135.017188 160.3675 \nL 135.017188 232.758125 \nQ 135.017188 234.758125 137.017188 234.758125 \nz\n\" style=\"fill:#ffffff;opacity:0.8;stroke:#cccccc;stroke-linejoin:miter;\"/>\n    </g>\n    <g id=\"line2d_19\">\n     <path d=\"M 139.017188 166.465937 \nL 159.017188 166.465937 \n\" style=\"fill:none;stroke:#ff1493;stroke-dasharray:4,6.6;stroke-dashoffset:0;stroke-width:4;\"/>\n    </g>\n    <g id=\"line2d_20\"/>\n    <g id=\"text_16\">\n     <!-- micro-average ROC curve (area = 0.97) -->\n     <g transform=\"translate(167.017188 169.965937)scale(0.1 -0.1)\">\n      <defs>\n       <path d=\"M 45.40625 27.984375 \nQ 45.40625 37.75 41.375 43.109375 \nQ 37.359375 48.484375 30.078125 48.484375 \nQ 22.859375 48.484375 18.828125 43.109375 \nQ 14.796875 37.75 14.796875 27.984375 \nQ 14.796875 18.265625 18.828125 12.890625 \nQ 22.859375 7.515625 30.078125 7.515625 \nQ 37.359375 7.515625 41.375 12.890625 \nQ 45.40625 18.265625 45.40625 27.984375 \nz\nM 54.390625 6.78125 \nQ 54.390625 -7.171875 48.1875 -13.984375 \nQ 42 -20.796875 29.203125 -20.796875 \nQ 24.46875 -20.796875 20.265625 -20.09375 \nQ 16.0625 -19.390625 12.109375 -17.921875 \nL 12.109375 -9.1875 \nQ 16.0625 -11.328125 19.921875 -12.34375 \nQ 23.78125 -13.375 27.78125 -13.375 \nQ 36.625 -13.375 41.015625 -8.765625 \nQ 45.40625 -4.15625 45.40625 5.171875 \nL 45.40625 9.625 \nQ 42.625 4.78125 38.28125 2.390625 \nQ 33.9375 0 27.875 0 \nQ 17.828125 0 11.671875 7.65625 \nQ 5.515625 15.328125 5.515625 27.984375 \nQ 5.515625 40.671875 11.671875 48.328125 \nQ 17.828125 56 27.875 56 \nQ 33.9375 56 38.28125 53.609375 \nQ 42.625 51.21875 45.40625 46.390625 \nL 45.40625 54.6875 \nL 54.390625 54.6875 \nz\n\" id=\"DejaVuSans-103\"/>\n       <path d=\"M 31 75.875 \nQ 24.46875 64.65625 21.28125 53.65625 \nQ 18.109375 42.671875 18.109375 31.390625 \nQ 18.109375 20.125 21.3125 9.0625 \nQ 24.515625 -2 31 -13.1875 \nL 23.1875 -13.1875 \nQ 15.875 -1.703125 12.234375 9.375 \nQ 8.59375 20.453125 8.59375 31.390625 \nQ 8.59375 42.28125 12.203125 53.3125 \nQ 15.828125 64.359375 23.1875 75.875 \nz\n\" id=\"DejaVuSans-40\"/>\n       <path d=\"M 10.59375 45.40625 \nL 73.1875 45.40625 \nL 73.1875 37.203125 \nL 10.59375 37.203125 \nz\nM 10.59375 25.484375 \nL 73.1875 25.484375 \nL 73.1875 17.1875 \nL 10.59375 17.1875 \nz\n\" id=\"DejaVuSans-61\"/>\n       <path d=\"M 10.984375 1.515625 \nL 10.984375 10.5 \nQ 14.703125 8.734375 18.5 7.8125 \nQ 22.3125 6.890625 25.984375 6.890625 \nQ 35.75 6.890625 40.890625 13.453125 \nQ 46.046875 20.015625 46.78125 33.40625 \nQ 43.953125 29.203125 39.59375 26.953125 \nQ 35.25 24.703125 29.984375 24.703125 \nQ 19.046875 24.703125 12.671875 31.3125 \nQ 6.296875 37.9375 6.296875 49.421875 \nQ 6.296875 60.640625 12.9375 67.421875 \nQ 19.578125 74.21875 30.609375 74.21875 \nQ 43.265625 74.21875 49.921875 64.515625 \nQ 56.59375 54.828125 56.59375 36.375 \nQ 56.59375 19.140625 48.40625 8.859375 \nQ 40.234375 -1.421875 26.421875 -1.421875 \nQ 22.703125 -1.421875 18.890625 -0.6875 \nQ 15.09375 0.046875 10.984375 1.515625 \nz\nM 30.609375 32.421875 \nQ 37.25 32.421875 41.125 36.953125 \nQ 45.015625 41.5 45.015625 49.421875 \nQ 45.015625 57.28125 41.125 61.84375 \nQ 37.25 66.40625 30.609375 66.40625 \nQ 23.96875 66.40625 20.09375 61.84375 \nQ 16.21875 57.28125 16.21875 49.421875 \nQ 16.21875 41.5 20.09375 36.953125 \nQ 23.96875 32.421875 30.609375 32.421875 \nz\n\" id=\"DejaVuSans-57\"/>\n       <path d=\"M 8.203125 72.90625 \nL 55.078125 72.90625 \nL 55.078125 68.703125 \nL 28.609375 0 \nL 18.3125 0 \nL 43.21875 64.59375 \nL 8.203125 64.59375 \nz\n\" id=\"DejaVuSans-55\"/>\n       <path d=\"M 8.015625 75.875 \nL 15.828125 75.875 \nQ 23.140625 64.359375 26.78125 53.3125 \nQ 30.421875 42.28125 30.421875 31.390625 \nQ 30.421875 20.453125 26.78125 9.375 \nQ 23.140625 -1.703125 15.828125 -13.1875 \nL 8.015625 -13.1875 \nQ 14.5 -2 17.703125 9.0625 \nQ 20.90625 20.125 20.90625 31.390625 \nQ 20.90625 42.671875 17.703125 53.65625 \nQ 14.5 64.65625 8.015625 75.875 \nz\n\" id=\"DejaVuSans-41\"/>\n      </defs>\n      <use xlink:href=\"#DejaVuSans-109\"/>\n      <use x=\"97.412109\" xlink:href=\"#DejaVuSans-105\"/>\n      <use x=\"125.195312\" xlink:href=\"#DejaVuSans-99\"/>\n      <use x=\"180.175781\" xlink:href=\"#DejaVuSans-114\"/>\n      <use x=\"219.039062\" xlink:href=\"#DejaVuSans-111\"/>\n      <use x=\"282.095703\" xlink:href=\"#DejaVuSans-45\"/>\n      <use x=\"318.179688\" xlink:href=\"#DejaVuSans-97\"/>\n      <use x=\"379.458984\" xlink:href=\"#DejaVuSans-118\"/>\n      <use x=\"438.638672\" xlink:href=\"#DejaVuSans-101\"/>\n      <use x=\"500.162109\" xlink:href=\"#DejaVuSans-114\"/>\n      <use x=\"541.275391\" xlink:href=\"#DejaVuSans-97\"/>\n      <use x=\"602.554688\" xlink:href=\"#DejaVuSans-103\"/>\n      <use x=\"666.03125\" xlink:href=\"#DejaVuSans-101\"/>\n      <use x=\"727.554688\" xlink:href=\"#DejaVuSans-32\"/>\n      <use x=\"759.341797\" xlink:href=\"#DejaVuSans-82\"/>\n      <use x=\"828.824219\" xlink:href=\"#DejaVuSans-79\"/>\n      <use x=\"907.535156\" xlink:href=\"#DejaVuSans-67\"/>\n      <use x=\"977.359375\" xlink:href=\"#DejaVuSans-32\"/>\n      <use x=\"1009.146484\" xlink:href=\"#DejaVuSans-99\"/>\n      <use x=\"1064.126953\" xlink:href=\"#DejaVuSans-117\"/>\n      <use x=\"1127.505859\" xlink:href=\"#DejaVuSans-114\"/>\n      <use x=\"1168.619141\" xlink:href=\"#DejaVuSans-118\"/>\n      <use x=\"1227.798828\" xlink:href=\"#DejaVuSans-101\"/>\n      <use x=\"1289.322266\" xlink:href=\"#DejaVuSans-32\"/>\n      <use x=\"1321.109375\" xlink:href=\"#DejaVuSans-40\"/>\n      <use x=\"1360.123047\" xlink:href=\"#DejaVuSans-97\"/>\n      <use x=\"1421.402344\" xlink:href=\"#DejaVuSans-114\"/>\n      <use x=\"1460.265625\" xlink:href=\"#DejaVuSans-101\"/>\n      <use x=\"1521.789062\" xlink:href=\"#DejaVuSans-97\"/>\n      <use x=\"1583.068359\" xlink:href=\"#DejaVuSans-32\"/>\n      <use x=\"1614.855469\" xlink:href=\"#DejaVuSans-61\"/>\n      <use x=\"1698.644531\" xlink:href=\"#DejaVuSans-32\"/>\n      <use x=\"1730.431641\" xlink:href=\"#DejaVuSans-48\"/>\n      <use x=\"1794.054688\" xlink:href=\"#DejaVuSans-46\"/>\n      <use x=\"1825.841797\" xlink:href=\"#DejaVuSans-57\"/>\n      <use x=\"1889.464844\" xlink:href=\"#DejaVuSans-55\"/>\n      <use x=\"1953.087891\" xlink:href=\"#DejaVuSans-41\"/>\n     </g>\n    </g>\n    <g id=\"line2d_21\">\n     <path d=\"M 139.017188 181.144062 \nL 159.017188 181.144062 \n\" style=\"fill:none;stroke:#000080;stroke-dasharray:4,6.6;stroke-dashoffset:0;stroke-width:4;\"/>\n    </g>\n    <g id=\"line2d_22\"/>\n    <g id=\"text_17\">\n     <!-- macro-average ROC curve (area = 0.95) -->\n     <g transform=\"translate(167.017188 184.644062)scale(0.1 -0.1)\">\n      <defs>\n       <path d=\"M 10.796875 72.90625 \nL 49.515625 72.90625 \nL 49.515625 64.59375 \nL 19.828125 64.59375 \nL 19.828125 46.734375 \nQ 21.96875 47.46875 24.109375 47.828125 \nQ 26.265625 48.1875 28.421875 48.1875 \nQ 40.625 48.1875 47.75 41.5 \nQ 54.890625 34.8125 54.890625 23.390625 \nQ 54.890625 11.625 47.5625 5.09375 \nQ 40.234375 -1.421875 26.90625 -1.421875 \nQ 22.3125 -1.421875 17.546875 -0.640625 \nQ 12.796875 0.140625 7.71875 1.703125 \nL 7.71875 11.625 \nQ 12.109375 9.234375 16.796875 8.0625 \nQ 21.484375 6.890625 26.703125 6.890625 \nQ 35.15625 6.890625 40.078125 11.328125 \nQ 45.015625 15.765625 45.015625 23.390625 \nQ 45.015625 31 40.078125 35.4375 \nQ 35.15625 39.890625 26.703125 39.890625 \nQ 22.75 39.890625 18.8125 39.015625 \nQ 14.890625 38.140625 10.796875 36.28125 \nz\n\" id=\"DejaVuSans-53\"/>\n      </defs>\n      <use xlink:href=\"#DejaVuSans-109\"/>\n      <use x=\"97.412109\" xlink:href=\"#DejaVuSans-97\"/>\n      <use x=\"158.691406\" xlink:href=\"#DejaVuSans-99\"/>\n      <use x=\"213.671875\" xlink:href=\"#DejaVuSans-114\"/>\n      <use x=\"252.535156\" xlink:href=\"#DejaVuSans-111\"/>\n      <use x=\"315.591797\" xlink:href=\"#DejaVuSans-45\"/>\n      <use x=\"351.675781\" xlink:href=\"#DejaVuSans-97\"/>\n      <use x=\"412.955078\" xlink:href=\"#DejaVuSans-118\"/>\n      <use x=\"472.134766\" xlink:href=\"#DejaVuSans-101\"/>\n      <use x=\"533.658203\" xlink:href=\"#DejaVuSans-114\"/>\n      <use x=\"574.771484\" xlink:href=\"#DejaVuSans-97\"/>\n      <use x=\"636.050781\" xlink:href=\"#DejaVuSans-103\"/>\n      <use x=\"699.527344\" xlink:href=\"#DejaVuSans-101\"/>\n      <use x=\"761.050781\" xlink:href=\"#DejaVuSans-32\"/>\n      <use x=\"792.837891\" xlink:href=\"#DejaVuSans-82\"/>\n      <use x=\"862.320312\" xlink:href=\"#DejaVuSans-79\"/>\n      <use x=\"941.03125\" xlink:href=\"#DejaVuSans-67\"/>\n      <use x=\"1010.855469\" xlink:href=\"#DejaVuSans-32\"/>\n      <use x=\"1042.642578\" xlink:href=\"#DejaVuSans-99\"/>\n      <use x=\"1097.623047\" xlink:href=\"#DejaVuSans-117\"/>\n      <use x=\"1161.001953\" xlink:href=\"#DejaVuSans-114\"/>\n      <use x=\"1202.115234\" xlink:href=\"#DejaVuSans-118\"/>\n      <use x=\"1261.294922\" xlink:href=\"#DejaVuSans-101\"/>\n      <use x=\"1322.818359\" xlink:href=\"#DejaVuSans-32\"/>\n      <use x=\"1354.605469\" xlink:href=\"#DejaVuSans-40\"/>\n      <use x=\"1393.619141\" xlink:href=\"#DejaVuSans-97\"/>\n      <use x=\"1454.898438\" xlink:href=\"#DejaVuSans-114\"/>\n      <use x=\"1493.761719\" xlink:href=\"#DejaVuSans-101\"/>\n      <use x=\"1555.285156\" xlink:href=\"#DejaVuSans-97\"/>\n      <use x=\"1616.564453\" xlink:href=\"#DejaVuSans-32\"/>\n      <use x=\"1648.351562\" xlink:href=\"#DejaVuSans-61\"/>\n      <use x=\"1732.140625\" xlink:href=\"#DejaVuSans-32\"/>\n      <use x=\"1763.927734\" xlink:href=\"#DejaVuSans-48\"/>\n      <use x=\"1827.550781\" xlink:href=\"#DejaVuSans-46\"/>\n      <use x=\"1859.337891\" xlink:href=\"#DejaVuSans-57\"/>\n      <use x=\"1922.960938\" xlink:href=\"#DejaVuSans-53\"/>\n      <use x=\"1986.583984\" xlink:href=\"#DejaVuSans-41\"/>\n     </g>\n    </g>\n    <g id=\"line2d_23\">\n     <path d=\"M 139.017188 195.822187 \nL 159.017188 195.822187 \n\" style=\"fill:none;stroke:#00ffff;stroke-linecap:square;stroke-width:2;\"/>\n    </g>\n    <g id=\"line2d_24\"/>\n    <g id=\"text_18\">\n     <!-- ROC curve of class 0 (area = 0.86) -->\n     <g transform=\"translate(167.017188 199.322187)scale(0.1 -0.1)\">\n      <use xlink:href=\"#DejaVuSans-82\"/>\n      <use x=\"69.482422\" xlink:href=\"#DejaVuSans-79\"/>\n      <use x=\"148.193359\" xlink:href=\"#DejaVuSans-67\"/>\n      <use x=\"218.017578\" xlink:href=\"#DejaVuSans-32\"/>\n      <use x=\"249.804688\" xlink:href=\"#DejaVuSans-99\"/>\n      <use x=\"304.785156\" xlink:href=\"#DejaVuSans-117\"/>\n      <use x=\"368.164062\" xlink:href=\"#DejaVuSans-114\"/>\n      <use x=\"409.277344\" xlink:href=\"#DejaVuSans-118\"/>\n      <use x=\"468.457031\" xlink:href=\"#DejaVuSans-101\"/>\n      <use x=\"529.980469\" xlink:href=\"#DejaVuSans-32\"/>\n      <use x=\"561.767578\" xlink:href=\"#DejaVuSans-111\"/>\n      <use x=\"622.949219\" xlink:href=\"#DejaVuSans-102\"/>\n      <use x=\"658.154297\" xlink:href=\"#DejaVuSans-32\"/>\n      <use x=\"689.941406\" xlink:href=\"#DejaVuSans-99\"/>\n      <use x=\"744.921875\" xlink:href=\"#DejaVuSans-108\"/>\n      <use x=\"772.705078\" xlink:href=\"#DejaVuSans-97\"/>\n      <use x=\"833.984375\" xlink:href=\"#DejaVuSans-115\"/>\n      <use x=\"886.083984\" xlink:href=\"#DejaVuSans-115\"/>\n      <use x=\"938.183594\" xlink:href=\"#DejaVuSans-32\"/>\n      <use x=\"969.970703\" xlink:href=\"#DejaVuSans-48\"/>\n      <use x=\"1033.59375\" xlink:href=\"#DejaVuSans-32\"/>\n      <use x=\"1065.380859\" xlink:href=\"#DejaVuSans-40\"/>\n      <use x=\"1104.394531\" xlink:href=\"#DejaVuSans-97\"/>\n      <use x=\"1165.673828\" xlink:href=\"#DejaVuSans-114\"/>\n      <use x=\"1204.537109\" xlink:href=\"#DejaVuSans-101\"/>\n      <use x=\"1266.060547\" xlink:href=\"#DejaVuSans-97\"/>\n      <use x=\"1327.339844\" xlink:href=\"#DejaVuSans-32\"/>\n      <use x=\"1359.126953\" xlink:href=\"#DejaVuSans-61\"/>\n      <use x=\"1442.916016\" xlink:href=\"#DejaVuSans-32\"/>\n      <use x=\"1474.703125\" xlink:href=\"#DejaVuSans-48\"/>\n      <use x=\"1538.326172\" xlink:href=\"#DejaVuSans-46\"/>\n      <use x=\"1570.113281\" xlink:href=\"#DejaVuSans-56\"/>\n      <use x=\"1633.736328\" xlink:href=\"#DejaVuSans-54\"/>\n      <use x=\"1697.359375\" xlink:href=\"#DejaVuSans-41\"/>\n     </g>\n    </g>\n    <g id=\"line2d_25\">\n     <path d=\"M 139.017188 210.500312 \nL 159.017188 210.500312 \n\" style=\"fill:none;stroke:#ff8c00;stroke-linecap:square;stroke-width:2;\"/>\n    </g>\n    <g id=\"line2d_26\"/>\n    <g id=\"text_19\">\n     <!-- ROC curve of class 1 (area = 0.94) -->\n     <g transform=\"translate(167.017188 214.000312)scale(0.1 -0.1)\">\n      <use xlink:href=\"#DejaVuSans-82\"/>\n      <use x=\"69.482422\" xlink:href=\"#DejaVuSans-79\"/>\n      <use x=\"148.193359\" xlink:href=\"#DejaVuSans-67\"/>\n      <use x=\"218.017578\" xlink:href=\"#DejaVuSans-32\"/>\n      <use x=\"249.804688\" xlink:href=\"#DejaVuSans-99\"/>\n      <use x=\"304.785156\" xlink:href=\"#DejaVuSans-117\"/>\n      <use x=\"368.164062\" xlink:href=\"#DejaVuSans-114\"/>\n      <use x=\"409.277344\" xlink:href=\"#DejaVuSans-118\"/>\n      <use x=\"468.457031\" xlink:href=\"#DejaVuSans-101\"/>\n      <use x=\"529.980469\" xlink:href=\"#DejaVuSans-32\"/>\n      <use x=\"561.767578\" xlink:href=\"#DejaVuSans-111\"/>\n      <use x=\"622.949219\" xlink:href=\"#DejaVuSans-102\"/>\n      <use x=\"658.154297\" xlink:href=\"#DejaVuSans-32\"/>\n      <use x=\"689.941406\" xlink:href=\"#DejaVuSans-99\"/>\n      <use x=\"744.921875\" xlink:href=\"#DejaVuSans-108\"/>\n      <use x=\"772.705078\" xlink:href=\"#DejaVuSans-97\"/>\n      <use x=\"833.984375\" xlink:href=\"#DejaVuSans-115\"/>\n      <use x=\"886.083984\" xlink:href=\"#DejaVuSans-115\"/>\n      <use x=\"938.183594\" xlink:href=\"#DejaVuSans-32\"/>\n      <use x=\"969.970703\" xlink:href=\"#DejaVuSans-49\"/>\n      <use x=\"1033.59375\" xlink:href=\"#DejaVuSans-32\"/>\n      <use x=\"1065.380859\" xlink:href=\"#DejaVuSans-40\"/>\n      <use x=\"1104.394531\" xlink:href=\"#DejaVuSans-97\"/>\n      <use x=\"1165.673828\" xlink:href=\"#DejaVuSans-114\"/>\n      <use x=\"1204.537109\" xlink:href=\"#DejaVuSans-101\"/>\n      <use x=\"1266.060547\" xlink:href=\"#DejaVuSans-97\"/>\n      <use x=\"1327.339844\" xlink:href=\"#DejaVuSans-32\"/>\n      <use x=\"1359.126953\" xlink:href=\"#DejaVuSans-61\"/>\n      <use x=\"1442.916016\" xlink:href=\"#DejaVuSans-32\"/>\n      <use x=\"1474.703125\" xlink:href=\"#DejaVuSans-48\"/>\n      <use x=\"1538.326172\" xlink:href=\"#DejaVuSans-46\"/>\n      <use x=\"1570.113281\" xlink:href=\"#DejaVuSans-57\"/>\n      <use x=\"1633.736328\" xlink:href=\"#DejaVuSans-52\"/>\n      <use x=\"1697.359375\" xlink:href=\"#DejaVuSans-41\"/>\n     </g>\n    </g>\n    <g id=\"line2d_27\">\n     <path d=\"M 139.017188 225.178437 \nL 159.017188 225.178437 \n\" style=\"fill:none;stroke:#6495ed;stroke-linecap:square;stroke-width:2;\"/>\n    </g>\n    <g id=\"line2d_28\"/>\n    <g id=\"text_20\">\n     <!-- ROC curve of class 2 (area = 0.95) -->\n     <g transform=\"translate(167.017188 228.678437)scale(0.1 -0.1)\">\n      <use xlink:href=\"#DejaVuSans-82\"/>\n      <use x=\"69.482422\" xlink:href=\"#DejaVuSans-79\"/>\n      <use x=\"148.193359\" xlink:href=\"#DejaVuSans-67\"/>\n      <use x=\"218.017578\" xlink:href=\"#DejaVuSans-32\"/>\n      <use x=\"249.804688\" xlink:href=\"#DejaVuSans-99\"/>\n      <use x=\"304.785156\" xlink:href=\"#DejaVuSans-117\"/>\n      <use x=\"368.164062\" xlink:href=\"#DejaVuSans-114\"/>\n      <use x=\"409.277344\" xlink:href=\"#DejaVuSans-118\"/>\n      <use x=\"468.457031\" xlink:href=\"#DejaVuSans-101\"/>\n      <use x=\"529.980469\" xlink:href=\"#DejaVuSans-32\"/>\n      <use x=\"561.767578\" xlink:href=\"#DejaVuSans-111\"/>\n      <use x=\"622.949219\" xlink:href=\"#DejaVuSans-102\"/>\n      <use x=\"658.154297\" xlink:href=\"#DejaVuSans-32\"/>\n      <use x=\"689.941406\" xlink:href=\"#DejaVuSans-99\"/>\n      <use x=\"744.921875\" xlink:href=\"#DejaVuSans-108\"/>\n      <use x=\"772.705078\" xlink:href=\"#DejaVuSans-97\"/>\n      <use x=\"833.984375\" xlink:href=\"#DejaVuSans-115\"/>\n      <use x=\"886.083984\" xlink:href=\"#DejaVuSans-115\"/>\n      <use x=\"938.183594\" xlink:href=\"#DejaVuSans-32\"/>\n      <use x=\"969.970703\" xlink:href=\"#DejaVuSans-50\"/>\n      <use x=\"1033.59375\" xlink:href=\"#DejaVuSans-32\"/>\n      <use x=\"1065.380859\" xlink:href=\"#DejaVuSans-40\"/>\n      <use x=\"1104.394531\" xlink:href=\"#DejaVuSans-97\"/>\n      <use x=\"1165.673828\" xlink:href=\"#DejaVuSans-114\"/>\n      <use x=\"1204.537109\" xlink:href=\"#DejaVuSans-101\"/>\n      <use x=\"1266.060547\" xlink:href=\"#DejaVuSans-97\"/>\n      <use x=\"1327.339844\" xlink:href=\"#DejaVuSans-32\"/>\n      <use x=\"1359.126953\" xlink:href=\"#DejaVuSans-61\"/>\n      <use x=\"1442.916016\" xlink:href=\"#DejaVuSans-32\"/>\n      <use x=\"1474.703125\" xlink:href=\"#DejaVuSans-48\"/>\n      <use x=\"1538.326172\" xlink:href=\"#DejaVuSans-46\"/>\n      <use x=\"1570.113281\" xlink:href=\"#DejaVuSans-57\"/>\n      <use x=\"1633.736328\" xlink:href=\"#DejaVuSans-53\"/>\n      <use x=\"1697.359375\" xlink:href=\"#DejaVuSans-41\"/>\n     </g>\n    </g>\n   </g>\n  </g>\n </g>\n <defs>\n  <clipPath id=\"p6e13b771f6\">\n   <rect height=\"217.44\" width=\"334.8\" x=\"43.78125\" y=\"22.318125\"/>\n  </clipPath>\n </defs>\n</svg>\n",
      "text/plain": [
       "<Figure size 432x288 with 1 Axes>"
      ]
     },
     "metadata": {
      "needs_background": "light"
     },
     "output_type": "display_data"
    }
   ],
   "source": [
    "n_classes = len(tags_counts)\n",
    "roc_auc(y_val, y_val_predicted_scores_tfidf, n_classes)"
   ]
  },
  {
   "cell_type": "markdown",
   "metadata": {},
   "source": [
    "**Task 4 (MultilabelClassification).** Once we have the evaluation set up, we suggest that you experiment a bit with training your classifiers. We will use *F1-score weighted* as an evaluation metric. Our recommendation:\n",
    "- compare the quality of the bag-of-words and TF-IDF approaches and chose one of them.\n",
    "- for the chosen one, try *L1* and *L2*-regularization techniques in Logistic Regression with different coefficients (e.g. C equal to 0.1, 1, 10, 100).\n",
    "\n",
    "You also could try other improvements of the preprocessing / model, if you want. "
   ]
  },
  {
   "cell_type": "code",
   "execution_count": 105,
   "metadata": {
    "collapsed": true,
    "tags": [
     "outputPrepend"
    ]
   },
   "outputs": [
    {
     "name": "stderr",
     "output_type": "stream",
     "text": [
      "_model/_sag.py:330: ConvergenceWarning: The max_iter was reached which means the coef_ did not converge\n",
      "  \"the coef_ did not converge\", ConvergenceWarning)\n",
      "/Users/toshimakento/anaconda3/envs/practice/lib/python3.6/site-packages/sklearn/linear_model/_sag.py:330: ConvergenceWarning: The max_iter was reached which means the coef_ did not converge\n",
      "  \"the coef_ did not converge\", ConvergenceWarning)\n",
      "/Users/toshimakento/anaconda3/envs/practice/lib/python3.6/site-packages/sklearn/linear_model/_sag.py:330: ConvergenceWarning: The max_iter was reached which means the coef_ did not converge\n",
      "  \"the coef_ did not converge\", ConvergenceWarning)\n",
      "/Users/toshimakento/anaconda3/envs/practice/lib/python3.6/site-packages/sklearn/linear_model/_sag.py:330: ConvergenceWarning: The max_iter was reached which means the coef_ did not converge\n",
      "  \"the coef_ did not converge\", ConvergenceWarning)\n",
      "/Users/toshimakento/anaconda3/envs/practice/lib/python3.6/site-packages/sklearn/linear_model/_sag.py:330: ConvergenceWarning: The max_iter was reached which means the coef_ did not converge\n",
      "  \"the coef_ did not converge\", ConvergenceWarning)\n",
      "/Users/toshimakento/anaconda3/envs/practice/lib/python3.6/site-packages/sklearn/linear_model/_sag.py:330: ConvergenceWarning: The max_iter was reached which means the coef_ did not converge\n",
      "  \"the coef_ did not converge\", ConvergenceWarning)\n",
      "/Users/toshimakento/anaconda3/envs/practice/lib/python3.6/site-packages/sklearn/linear_model/_sag.py:330: ConvergenceWarning: The max_iter was reached which means the coef_ did not converge\n",
      "  \"the coef_ did not converge\", ConvergenceWarning)\n",
      "/Users/toshimakento/anaconda3/envs/practice/lib/python3.6/site-packages/sklearn/linear_model/_sag.py:330: ConvergenceWarning: The max_iter was reached which means the coef_ did not converge\n",
      "  \"the coef_ did not converge\", ConvergenceWarning)\n",
      "/Users/toshimakento/anaconda3/envs/practice/lib/python3.6/site-packages/sklearn/linear_model/_sag.py:330: ConvergenceWarning: The max_iter was reached which means the coef_ did not converge\n",
      "  \"the coef_ did not converge\", ConvergenceWarning)\n",
      "/Users/toshimakento/anaconda3/envs/practice/lib/python3.6/site-packages/sklearn/linear_model/_sag.py:330: ConvergenceWarning: The max_iter was reached which means the coef_ did not converge\n",
      "  \"the coef_ did not converge\", ConvergenceWarning)\n",
      "/Users/toshimakento/anaconda3/envs/practice/lib/python3.6/site-packages/sklearn/linear_model/_sag.py:330: ConvergenceWarning: The max_iter was reached which means the coef_ did not converge\n",
      "  \"the coef_ did not converge\", ConvergenceWarning)\n",
      "/Users/toshimakento/anaconda3/envs/practice/lib/python3.6/site-packages/sklearn/linear_model/_sag.py:330: ConvergenceWarning: The max_iter was reached which means the coef_ did not converge\n",
      "  \"the coef_ did not converge\", ConvergenceWarning)\n",
      "/Users/toshimakento/anaconda3/envs/practice/lib/python3.6/site-packages/sklearn/linear_model/_sag.py:330: ConvergenceWarning: The max_iter was reached which means the coef_ did not converge\n",
      "  \"the coef_ did not converge\", ConvergenceWarning)\n",
      "/Users/toshimakento/anaconda3/envs/practice/lib/python3.6/site-packages/sklearn/linear_model/_sag.py:330: ConvergenceWarning: The max_iter was reached which means the coef_ did not converge\n",
      "  \"the coef_ did not converge\", ConvergenceWarning)\n",
      "/Users/toshimakento/anaconda3/envs/practice/lib/python3.6/site-packages/sklearn/linear_model/_sag.py:330: ConvergenceWarning: The max_iter was reached which means the coef_ did not converge\n",
      "  \"the coef_ did not converge\", ConvergenceWarning)\n",
      "/Users/toshimakento/anaconda3/envs/practice/lib/python3.6/site-packages/sklearn/linear_model/_sag.py:330: ConvergenceWarning: The max_iter was reached which means the coef_ did not converge\n",
      "  \"the coef_ did not converge\", ConvergenceWarning)\n",
      "/Users/toshimakento/anaconda3/envs/practice/lib/python3.6/site-packages/sklearn/linear_model/_sag.py:330: ConvergenceWarning: The max_iter was reached which means the coef_ did not converge\n",
      "  \"the coef_ did not converge\", ConvergenceWarning)\n",
      "/Users/toshimakento/anaconda3/envs/practice/lib/python3.6/site-packages/sklearn/linear_model/_sag.py:330: ConvergenceWarning: The max_iter was reached which means the coef_ did not converge\n",
      "  \"the coef_ did not converge\", ConvergenceWarning)\n",
      "/Users/toshimakento/anaconda3/envs/practice/lib/python3.6/site-packages/sklearn/linear_model/_sag.py:330: ConvergenceWarning: The max_iter was reached which means the coef_ did not converge\n",
      "  \"the coef_ did not converge\", ConvergenceWarning)\n",
      "/Users/toshimakento/anaconda3/envs/practice/lib/python3.6/site-packages/sklearn/linear_model/_sag.py:330: ConvergenceWarning: The max_iter was reached which means the coef_ did not converge\n",
      "  \"the coef_ did not converge\", ConvergenceWarning)\n",
      "/Users/toshimakento/anaconda3/envs/practice/lib/python3.6/site-packages/sklearn/linear_model/_sag.py:330: ConvergenceWarning: The max_iter was reached which means the coef_ did not converge\n",
      "  \"the coef_ did not converge\", ConvergenceWarning)\n",
      "/Users/toshimakento/anaconda3/envs/practice/lib/python3.6/site-packages/sklearn/linear_model/_sag.py:330: ConvergenceWarning: The max_iter was reached which means the coef_ did not converge\n",
      "  \"the coef_ did not converge\", ConvergenceWarning)\n",
      "/Users/toshimakento/anaconda3/envs/practice/lib/python3.6/site-packages/sklearn/linear_model/_sag.py:330: ConvergenceWarning: The max_iter was reached which means the coef_ did not converge\n",
      "  \"the coef_ did not converge\", ConvergenceWarning)\n",
      "/Users/toshimakento/anaconda3/envs/practice/lib/python3.6/site-packages/sklearn/linear_model/_sag.py:330: ConvergenceWarning: The max_iter was reached which means the coef_ did not converge\n",
      "  \"the coef_ did not converge\", ConvergenceWarning)\n",
      "/Users/toshimakento/anaconda3/envs/practice/lib/python3.6/site-packages/sklearn/linear_model/_sag.py:330: ConvergenceWarning: The max_iter was reached which means the coef_ did not converge\n",
      "  \"the coef_ did not converge\", ConvergenceWarning)\n",
      "/Users/toshimakento/anaconda3/envs/practice/lib/python3.6/site-packages/sklearn/linear_model/_sag.py:330: ConvergenceWarning: The max_iter was reached which means the coef_ did not converge\n",
      "  \"the coef_ did not converge\", ConvergenceWarning)\n",
      "/Users/toshimakento/anaconda3/envs/practice/lib/python3.6/site-packages/sklearn/linear_model/_sag.py:330: ConvergenceWarning: The max_iter was reached which means the coef_ did not converge\n",
      "  \"the coef_ did not converge\", ConvergenceWarning)\n",
      "/Users/toshimakento/anaconda3/envs/practice/lib/python3.6/site-packages/sklearn/linear_model/_sag.py:330: ConvergenceWarning: The max_iter was reached which means the coef_ did not converge\n",
      "  \"the coef_ did not converge\", ConvergenceWarning)\n",
      "/Users/toshimakento/anaconda3/envs/practice/lib/python3.6/site-packages/sklearn/linear_model/_sag.py:330: ConvergenceWarning: The max_iter was reached which means the coef_ did not converge\n",
      "  \"the coef_ did not converge\", ConvergenceWarning)\n",
      "/Users/toshimakento/anaconda3/envs/practice/lib/python3.6/site-packages/sklearn/linear_model/_sag.py:330: ConvergenceWarning: The max_iter was reached which means the coef_ did not converge\n",
      "  \"the coef_ did not converge\", ConvergenceWarning)\n",
      "/Users/toshimakento/anaconda3/envs/practice/lib/python3.6/site-packages/sklearn/linear_model/_sag.py:330: ConvergenceWarning: The max_iter was reached which means the coef_ did not converge\n",
      "  \"the coef_ did not converge\", ConvergenceWarning)\n",
      "/Users/toshimakento/anaconda3/envs/practice/lib/python3.6/site-packages/sklearn/linear_model/_sag.py:330: ConvergenceWarning: The max_iter was reached which means the coef_ did not converge\n",
      "  \"the coef_ did not converge\", ConvergenceWarning)\n",
      "/Users/toshimakento/anaconda3/envs/practice/lib/python3.6/site-packages/sklearn/linear_model/_sag.py:330: ConvergenceWarning: The max_iter was reached which means the coef_ did not converge\n",
      "  \"the coef_ did not converge\", ConvergenceWarning)\n",
      "/Users/toshimakento/anaconda3/envs/practice/lib/python3.6/site-packages/sklearn/linear_model/_sag.py:330: ConvergenceWarning: The max_iter was reached which means the coef_ did not converge\n",
      "  \"the coef_ did not converge\", ConvergenceWarning)\n",
      "/Users/toshimakento/anaconda3/envs/practice/lib/python3.6/site-packages/sklearn/linear_model/_sag.py:330: ConvergenceWarning: The max_iter was reached which means the coef_ did not converge\n",
      "  \"the coef_ did not converge\", ConvergenceWarning)\n",
      "/Users/toshimakento/anaconda3/envs/practice/lib/python3.6/site-packages/sklearn/linear_model/_sag.py:330: ConvergenceWarning: The max_iter was reached which means the coef_ did not converge\n",
      "  \"the coef_ did not converge\", ConvergenceWarning)\n",
      "/Users/toshimakento/anaconda3/envs/practice/lib/python3.6/site-packages/sklearn/linear_model/_sag.py:330: ConvergenceWarning: The max_iter was reached which means the coef_ did not converge\n",
      "  \"the coef_ did not converge\", ConvergenceWarning)\n",
      "/Users/toshimakento/anaconda3/envs/practice/lib/python3.6/site-packages/sklearn/linear_model/_sag.py:330: ConvergenceWarning: The max_iter was reached which means the coef_ did not converge\n",
      "  \"the coef_ did not converge\", ConvergenceWarning)\n",
      "/Users/toshimakento/anaconda3/envs/practice/lib/python3.6/site-packages/sklearn/linear_model/_sag.py:330: ConvergenceWarning: The max_iter was reached which means the coef_ did not converge\n",
      "  \"the coef_ did not converge\", ConvergenceWarning)\n",
      "/Users/toshimakento/anaconda3/envs/practice/lib/python3.6/site-packages/sklearn/linear_model/_sag.py:330: ConvergenceWarning: The max_iter was reached which means the coef_ did not converge\n",
      "  \"the coef_ did not converge\", ConvergenceWarning)\n",
      "/Users/toshimakento/anaconda3/envs/practice/lib/python3.6/site-packages/sklearn/linear_model/_sag.py:330: ConvergenceWarning: The max_iter was reached which means the coef_ did not converge\n",
      "  \"the coef_ did not converge\", ConvergenceWarning)\n",
      "/Users/toshimakento/anaconda3/envs/practice/lib/python3.6/site-packages/sklearn/linear_model/_sag.py:330: ConvergenceWarning: The max_iter was reached which means the coef_ did not converge\n",
      "  \"the coef_ did not converge\", ConvergenceWarning)\n",
      "/Users/toshimakento/anaconda3/envs/practice/lib/python3.6/site-packages/sklearn/linear_model/_sag.py:330: ConvergenceWarning: The max_iter was reached which means the coef_ did not converge\n",
      "  \"the coef_ did not converge\", ConvergenceWarning)\n",
      "/Users/toshimakento/anaconda3/envs/practice/lib/python3.6/site-packages/sklearn/linear_model/_sag.py:330: ConvergenceWarning: The max_iter was reached which means the coef_ did not converge\n",
      "  \"the coef_ did not converge\", ConvergenceWarning)\n",
      "/Users/toshimakento/anaconda3/envs/practice/lib/python3.6/site-packages/sklearn/linear_model/_sag.py:330: ConvergenceWarning: The max_iter was reached which means the coef_ did not converge\n",
      "  \"the coef_ did not converge\", ConvergenceWarning)\n",
      "/Users/toshimakento/anaconda3/envs/practice/lib/python3.6/site-packages/sklearn/linear_model/_sag.py:330: ConvergenceWarning: The max_iter was reached which means the coef_ did not converge\n",
      "  \"the coef_ did not converge\", ConvergenceWarning)\n",
      "/Users/toshimakento/anaconda3/envs/practice/lib/python3.6/site-packages/sklearn/linear_model/_sag.py:330: ConvergenceWarning: The max_iter was reached which means the coef_ did not converge\n",
      "  \"the coef_ did not converge\", ConvergenceWarning)\n",
      "/Users/toshimakento/anaconda3/envs/practice/lib/python3.6/site-packages/sklearn/linear_model/_sag.py:330: ConvergenceWarning: The max_iter was reached which means the coef_ did not converge\n",
      "  \"the coef_ did not converge\", ConvergenceWarning)\n",
      "/Users/toshimakento/anaconda3/envs/practice/lib/python3.6/site-packages/sklearn/linear_model/_sag.py:330: ConvergenceWarning: The max_iter was reached which means the coef_ did not converge\n",
      "  \"the coef_ did not converge\", ConvergenceWarning)\n",
      "/Users/toshimakento/anaconda3/envs/practice/lib/python3.6/site-packages/sklearn/linear_model/_sag.py:330: ConvergenceWarning: The max_iter was reached which means the coef_ did not converge\n",
      "  \"the coef_ did not converge\", ConvergenceWarning)\n",
      "/Users/toshimakento/anaconda3/envs/practice/lib/python3.6/site-packages/sklearn/linear_model/_sag.py:330: ConvergenceWarning: The max_iter was reached which means the coef_ did not converge\n",
      "  \"the coef_ did not converge\", ConvergenceWarning)\n",
      "/Users/toshimakento/anaconda3/envs/practice/lib/python3.6/site-packages/sklearn/linear_model/_sag.py:330: ConvergenceWarning: The max_iter was reached which means the coef_ did not converge\n",
      "  \"the coef_ did not converge\", ConvergenceWarning)\n",
      "/Users/toshimakento/anaconda3/envs/practice/lib/python3.6/site-packages/sklearn/linear_model/_sag.py:330: ConvergenceWarning: The max_iter was reached which means the coef_ did not converge\n",
      "  \"the coef_ did not converge\", ConvergenceWarning)\n",
      "/Users/toshimakento/anaconda3/envs/practice/lib/python3.6/site-packages/sklearn/linear_model/_sag.py:330: ConvergenceWarning: The max_iter was reached which means the coef_ did not converge\n",
      "  \"the coef_ did not converge\", ConvergenceWarning)\n",
      "/Users/toshimakento/anaconda3/envs/practice/lib/python3.6/site-packages/sklearn/linear_model/_sag.py:330: ConvergenceWarning: The max_iter was reached which means the coef_ did not converge\n",
      "  \"the coef_ did not converge\", ConvergenceWarning)\n",
      "/Users/toshimakento/anaconda3/envs/practice/lib/python3.6/site-packages/sklearn/linear_model/_sag.py:330: ConvergenceWarning: The max_iter was reached which means the coef_ did not converge\n",
      "  \"the coef_ did not converge\", ConvergenceWarning)\n",
      "/Users/toshimakento/anaconda3/envs/practice/lib/python3.6/site-packages/sklearn/linear_model/_sag.py:330: ConvergenceWarning: The max_iter was reached which means the coef_ did not converge\n",
      "  \"the coef_ did not converge\", ConvergenceWarning)\n",
      "/Users/toshimakento/anaconda3/envs/practice/lib/python3.6/site-packages/sklearn/linear_model/_sag.py:330: ConvergenceWarning: The max_iter was reached which means the coef_ did not converge\n",
      "  \"the coef_ did not converge\", ConvergenceWarning)\n",
      "/Users/toshimakento/anaconda3/envs/practice/lib/python3.6/site-packages/sklearn/linear_model/_sag.py:330: ConvergenceWarning: The max_iter was reached which means the coef_ did not converge\n",
      "  \"the coef_ did not converge\", ConvergenceWarning)\n",
      "/Users/toshimakento/anaconda3/envs/practice/lib/python3.6/site-packages/sklearn/linear_model/_sag.py:330: ConvergenceWarning: The max_iter was reached which means the coef_ did not converge\n",
      "  \"the coef_ did not converge\", ConvergenceWarning)\n",
      "/Users/toshimakento/anaconda3/envs/practice/lib/python3.6/site-packages/sklearn/linear_model/_sag.py:330: ConvergenceWarning: The max_iter was reached which means the coef_ did not converge\n",
      "  \"the coef_ did not converge\", ConvergenceWarning)\n",
      "/Users/toshimakento/anaconda3/envs/practice/lib/python3.6/site-packages/sklearn/linear_model/_sag.py:330: ConvergenceWarning: The max_iter was reached which means the coef_ did not converge\n",
      "  \"the coef_ did not converge\", ConvergenceWarning)\n",
      "/Users/toshimakento/anaconda3/envs/practice/lib/python3.6/site-packages/sklearn/linear_model/_sag.py:330: ConvergenceWarning: The max_iter was reached which means the coef_ did not converge\n",
      "  \"the coef_ did not converge\", ConvergenceWarning)\n",
      "/Users/toshimakento/anaconda3/envs/practice/lib/python3.6/site-packages/sklearn/linear_model/_sag.py:330: ConvergenceWarning: The max_iter was reached which means the coef_ did not converge\n",
      "  \"the coef_ did not converge\", ConvergenceWarning)\n",
      "/Users/toshimakento/anaconda3/envs/practice/lib/python3.6/site-packages/sklearn/linear_model/_sag.py:330: ConvergenceWarning: The max_iter was reached which means the coef_ did not converge\n",
      "  \"the coef_ did not converge\", ConvergenceWarning)\n",
      "/Users/toshimakento/anaconda3/envs/practice/lib/python3.6/site-packages/sklearn/linear_model/_sag.py:330: ConvergenceWarning: The max_iter was reached which means the coef_ did not converge\n",
      "  \"the coef_ did not converge\", ConvergenceWarning)\n",
      "/Users/toshimakento/anaconda3/envs/practice/lib/python3.6/site-packages/sklearn/linear_model/_sag.py:330: ConvergenceWarning: The max_iter was reached which means the coef_ did not converge\n",
      "  \"the coef_ did not converge\", ConvergenceWarning)\n",
      "/Users/toshimakento/anaconda3/envs/practice/lib/python3.6/site-packages/sklearn/linear_model/_sag.py:330: ConvergenceWarning: The max_iter was reached which means the coef_ did not converge\n",
      "  \"the coef_ did not converge\", ConvergenceWarning)\n",
      "/Users/toshimakento/anaconda3/envs/practice/lib/python3.6/site-packages/sklearn/linear_model/_sag.py:330: ConvergenceWarning: The max_iter was reached which means the coef_ did not converge\n",
      "  \"the coef_ did not converge\", ConvergenceWarning)\n",
      "/Users/toshimakento/anaconda3/envs/practice/lib/python3.6/site-packages/sklearn/linear_model/_sag.py:330: ConvergenceWarning: The max_iter was reached which means the coef_ did not converge\n",
      "  \"the coef_ did not converge\", ConvergenceWarning)\n",
      "/Users/toshimakento/anaconda3/envs/practice/lib/python3.6/site-packages/sklearn/linear_model/_sag.py:330: ConvergenceWarning: The max_iter was reached which means the coef_ did not converge\n",
      "  \"the coef_ did not converge\", ConvergenceWarning)\n",
      "/Users/toshimakento/anaconda3/envs/practice/lib/python3.6/site-packages/sklearn/linear_model/_sag.py:330: ConvergenceWarning: The max_iter was reached which means the coef_ did not converge\n",
      "  \"the coef_ did not converge\", ConvergenceWarning)\n",
      "/Users/toshimakento/anaconda3/envs/practice/lib/python3.6/site-packages/sklearn/linear_model/_sag.py:330: ConvergenceWarning: The max_iter was reached which means the coef_ did not converge\n",
      "  \"the coef_ did not converge\", ConvergenceWarning)\n",
      "/Users/toshimakento/anaconda3/envs/practice/lib/python3.6/site-packages/sklearn/linear_model/_sag.py:330: ConvergenceWarning: The max_iter was reached which means the coef_ did not converge\n",
      "  \"the coef_ did not converge\", ConvergenceWarning)\n",
      "/Users/toshimakento/anaconda3/envs/practice/lib/python3.6/site-packages/sklearn/linear_model/_sag.py:330: ConvergenceWarning: The max_iter was reached which means the coef_ did not converge\n",
      "  \"the coef_ did not converge\", ConvergenceWarning)\n",
      "/Users/toshimakento/anaconda3/envs/practice/lib/python3.6/site-packages/sklearn/linear_model/_sag.py:330: ConvergenceWarning: The max_iter was reached which means the coef_ did not converge\n",
      "  \"the coef_ did not converge\", ConvergenceWarning)\n",
      "/Users/toshimakento/anaconda3/envs/practice/lib/python3.6/site-packages/sklearn/linear_model/_sag.py:330: ConvergenceWarning: The max_iter was reached which means the coef_ did not converge\n",
      "  \"the coef_ did not converge\", ConvergenceWarning)\n",
      "/Users/toshimakento/anaconda3/envs/practice/lib/python3.6/site-packages/sklearn/linear_model/_sag.py:330: ConvergenceWarning: The max_iter was reached which means the coef_ did not converge\n",
      "  \"the coef_ did not converge\", ConvergenceWarning)\n",
      "/Users/toshimakento/anaconda3/envs/practice/lib/python3.6/site-packages/sklearn/linear_model/_sag.py:330: ConvergenceWarning: The max_iter was reached which means the coef_ did not converge\n",
      "  \"the coef_ did not converge\", ConvergenceWarning)\n",
      "/Users/toshimakento/anaconda3/envs/practice/lib/python3.6/site-packages/sklearn/linear_model/_sag.py:330: ConvergenceWarning: The max_iter was reached which means the coef_ did not converge\n",
      "  \"the coef_ did not converge\", ConvergenceWarning)\n",
      "/Users/toshimakento/anaconda3/envs/practice/lib/python3.6/site-packages/sklearn/linear_model/_sag.py:330: ConvergenceWarning: The max_iter was reached which means the coef_ did not converge\n",
      "  \"the coef_ did not converge\", ConvergenceWarning)\n",
      "/Users/toshimakento/anaconda3/envs/practice/lib/python3.6/site-packages/sklearn/linear_model/_sag.py:330: ConvergenceWarning: The max_iter was reached which means the coef_ did not converge\n",
      "  \"the coef_ did not converge\", ConvergenceWarning)\n",
      "/Users/toshimakento/anaconda3/envs/practice/lib/python3.6/site-packages/sklearn/linear_model/_sag.py:330: ConvergenceWarning: The max_iter was reached which means the coef_ did not converge\n",
      "  \"the coef_ did not converge\", ConvergenceWarning)\n"
     ]
    }
   ],
   "source": [
    "######################################\n",
    "######### YOUR CODE HERE #############\n",
    "######################################\n",
    "def train_classifier(X_train, y_train):\n",
    "    \"\"\"\n",
    "      X_train, y_train — training data\n",
    "      \n",
    "      return: trained classifier\n",
    "    \"\"\"\n",
    "    \n",
    "    # Create and fit LogisticRegression wraped into OneVsRestClassifier.\n",
    "    clf = OneVsRestClassifier(LogisticRegression(C = 10, penalty=\"l1\", solver=\"saga\", max_iter=100)).fit(X_train, y_train)\n",
    "\n",
    "    return clf\n",
    "\n",
    "classifier_mybag = train_classifier(X_train_mybag, y_train)\n"
   ]
  },
  {
   "cell_type": "code",
   "execution_count": 109,
   "metadata": {},
   "outputs": [
    {
     "name": "stdout",
     "output_type": "stream",
     "text": [
      "0.3658\n",
      "0.5163744292689301\n",
      "0.6778062172315568\n",
      "0.655557257316043\n",
      "0.3550545371565574\n",
      "0.4886991686655572\n",
      "0.5179604003556685\n"
     ]
    }
   ],
   "source": [
    "y_val_predicted_labels_mybag = classifier_mybag.predict(X_val_mybag)\n",
    "y_val_predicted_scores_mybag = classifier_mybag.decision_function(X_val_mybag)\n",
    "\n",
    "print_evaluation_scores(y_val, y_val_predicted_labels_mybag)"
   ]
  },
  {
   "cell_type": "code",
   "execution_count": 176,
   "metadata": {},
   "outputs": [
    {
     "data": {
      "text/plain": [
       "(array([ 398, 4393, 4990, 4994, 4998]),)"
      ]
     },
     "execution_count": 176,
     "metadata": {},
     "output_type": "execute_result"
    }
   ],
   "source": [
    "test_class = classifier_mybag.estimators_[9]\n",
    "ranking = np.argsort(-test_class.coef_)[0]\n",
    "np.where(ranking < 5)"
   ]
  },
  {
   "cell_type": "markdown",
   "metadata": {},
   "source": [
    "When you are happy with the quality, create predictions for *test* set, which you will submit to Coursera."
   ]
  },
  {
   "cell_type": "code",
   "execution_count": 110,
   "metadata": {
    "collapsed": true
   },
   "outputs": [
    {
     "name": "stdout",
     "output_type": "stream",
     "text": [
      "Current answer for task MultilabelClassification is:\n",
      " 0\tmysql,php\n",
      "1\tjavascript\n",
      "2\t\n",
      "3\tjavascript,jquery\n",
      "4\tandroid,java\n",
      "5\tphp,xml\n",
      "6\tjson,web-services\n",
      "7\tjava,...\n"
     ]
    }
   ],
   "source": [
    "#YOUR CODE HERE\n",
    "test_predictions = classifier_mybag.predict(X_test_mybag)\n",
    "test_pred_inversed = mlb.inverse_transform(test_predictions)\n",
    "\n",
    "test_predictions_for_submission = '\\n'.join('%i\\t%s' % (i, ','.join(row)) for i, row in enumerate(test_pred_inversed))\n",
    "grader.submit_tag('MultilabelClassification', test_predictions_for_submission)"
   ]
  },
  {
   "cell_type": "markdown",
   "metadata": {},
   "source": [
    "### Analysis of the most important features"
   ]
  },
  {
   "cell_type": "markdown",
   "metadata": {},
   "source": [
    "Finally, it is usually a good idea to look at the features (words or n-grams) that are used with the largest weigths in your logistic regression model."
   ]
  },
  {
   "cell_type": "markdown",
   "metadata": {},
   "source": [
    "Implement the function *print_words_for_tag* to find them. Get back to sklearn documentation on [OneVsRestClassifier](http://scikit-learn.org/stable/modules/generated/sklearn.multiclass.OneVsRestClassifier.html) and [LogisticRegression](http://scikit-learn.org/stable/modules/generated/sklearn.linear_model.LogisticRegression.html) if needed."
   ]
  },
  {
   "cell_type": "code",
   "execution_count": 186,
   "metadata": {
    "collapsed": true
   },
   "outputs": [],
   "source": [
    "def print_words_for_tag(classifier, tag, tags_classes, index_to_words, all_words):\n",
    "    \"\"\"\n",
    "        classifier: trained classifier\n",
    "        tag: particular tag\n",
    "        tags_classes: a list of classes names from MultiLabelBinarizer\n",
    "        index_to_words: index_to_words transformation\n",
    "        all_words: all words in the dictionary\n",
    "        \n",
    "        return nothing, just print top 5 positive and top 5 negative words for current tag\n",
    "    \"\"\"\n",
    "    print('Tag:\\t{}'.format(tag))\n",
    "    \n",
    "    # Extract an estimator from the classifier for the given tag.\n",
    "    # Extract feature coefficients from the estimator. \n",
    "    \n",
    "    ######################################\n",
    "    ######### YOUR CODE HERE #############\n",
    "    ######################################\n",
    "    estimator_index = mlb.classes.index(tag)\n",
    "    selected_estimator = classifier.estimators_[estimator_index]\n",
    "    f_coef = selected_estimator.coef_\n",
    "    #ranking = np.argsort(-f_coef)[0]\n",
    "    top_positive_index = np.where(np.argsort(-f_coef)[0] < 5)\n",
    "    top_negative_index = np.where(np.argsort(f_coef)[0] < 5)\n",
    "    top_positive_words = []# top-5 words sorted by the coefficiens.\n",
    "    for index in top_positive_index[0]:\n",
    "        top_positive_words.append(index_to_words[index])\n",
    "    top_negative_words = []# bottom-5 words  sorted by the coefficients.\n",
    "    for index in top_negative_index[0]:\n",
    "        top_negative_words.append(index_to_words[index])\n",
    "    print('Top positive words:\\t{}'.format(', '.join(top_positive_words)))\n",
    "    print('Top negative words:\\t{}\\n'.format(', '.join(top_negative_words)))"
   ]
  },
  {
   "cell_type": "code",
   "execution_count": 188,
   "metadata": {
    "collapsed": true
   },
   "outputs": [
    {
     "name": "stdout",
     "output_type": "stream",
     "text": [
      "Tag:\tc\n",
      "Top positive words:\ta separate, decimal precision, dotted, double float, double string\n",
      "Top negative words:\t#1, #include, +, add custom, devexpress gridview\n",
      "\n",
      "Tag:\tc++\n",
      "Top positive words:\tact, cucumber, dots, double int, double value\n",
      "Top negative words:\t#, #ifdef, + ajax, api get, defined using\n",
      "\n",
      "Tag:\tlinux\n",
      "Top positive words:\t2d arrays, different thread, directory c#, divs content, double string\n",
      "Top negative words:\t#1, 2d, a c#, a dll, division\n",
      "\n"
     ]
    }
   ],
   "source": [
    "print_words_for_tag(classifier_mybag, 'c', mlb.classes, tfidf_reversed_vocab, ALL_WORDS)\n",
    "print_words_for_tag(classifier_mybag, 'c++', mlb.classes, tfidf_reversed_vocab, ALL_WORDS)\n",
    "print_words_for_tag(classifier_mybag, 'linux', mlb.classes, tfidf_reversed_vocab, ALL_WORDS)"
   ]
  },
  {
   "cell_type": "markdown",
   "metadata": {},
   "source": [
    "### Authorization & Submission\n",
    "To submit the assignmnent to Cousera platform, please, enter your e-mail and token into variables below. You can generate the token on this programming assignment page. <b>Note:</b> The token expires 30 minutes after generation.\n",
    "\n",
    "Please, submit your solutions for the assignments **only** to Coursera platform, **do not create a Pull request on Github**."
   ]
  },
  {
   "cell_type": "code",
   "execution_count": 111,
   "metadata": {
    "collapsed": true
   },
   "outputs": [
    {
     "name": "stdout",
     "output_type": "stream",
     "text": [
      "You want to submit these parts:\n",
      "Task TextPrepare:\n",
      " sqlite php readonly\n",
      "creating multiple textboxes dynamically\n",
      "self one prefer javascript\n",
      "save php date...\n",
      "Task WordsTagsCount:\n",
      " ----------...\n",
      "Task BagOfWords:\n",
      " ----------...\n",
      "Task MultilabelClassification:\n",
      " 0\tmysql,php\n",
      "1\tjavascript\n",
      "2\t\n",
      "3\tjavascript,jquery\n",
      "4\tandroid,java\n",
      "5\tphp,xml\n",
      "6\tjson,web-services\n",
      "7\tjava,...\n"
     ]
    }
   ],
   "source": [
    "grader.status()"
   ]
  },
  {
   "cell_type": "code",
   "execution_count": 116,
   "metadata": {
    "collapsed": true
   },
   "outputs": [
    {
     "name": "stdout",
     "output_type": "stream",
     "text": [
      "You want to submit these parts:\n",
      "Task TextPrepare:\n",
      " sqlite php readonly\n",
      "creating multiple textboxes dynamically\n",
      "self one prefer javascript\n",
      "save php date...\n",
      "Task WordsTagsCount:\n",
      " ----------...\n",
      "Task BagOfWords:\n",
      " 6...\n",
      "Task MultilabelClassification:\n",
      " 0\tmysql,php\n",
      "1\tjavascript\n",
      "2\t\n",
      "3\tjavascript,jquery\n",
      "4\tandroid,java\n",
      "5\tphp,xml\n",
      "6\tjson,web-services\n",
      "7\tjava,...\n"
     ]
    }
   ],
   "source": [
    "STUDENT_EMAIL = \"\"\n",
    "STUDENT_TOKEN = \"GMzIl0KBwRfJmdFG\"\n",
    "grader.status()"
   ]
  },
  {
   "cell_type": "markdown",
   "metadata": {},
   "source": [
    "If you want to submit these answers, run cell below"
   ]
  },
  {
   "cell_type": "code",
   "execution_count": 134,
   "metadata": {
    "collapsed": true
   },
   "outputs": [
    {
     "name": "stdout",
     "output_type": "stream",
     "text": [
      "Submitted to Coursera platform. See results on assignment page!\n"
     ]
    }
   ],
   "source": [
    "grader.submit(STUDENT_EMAIL, STUDENT_TOKEN)"
   ]
  },
  {
   "cell_type": "code",
   "execution_count": null,
   "metadata": {},
   "outputs": [],
   "source": []
  }
 ],
 "metadata": {
  "kernelspec": {
   "display_name": "practice",
   "language": "python",
   "name": "practice"
  },
  "language_info": {
   "name": "python",
   "version": ""
  }
 },
 "nbformat": 4,
 "nbformat_minor": 2
}